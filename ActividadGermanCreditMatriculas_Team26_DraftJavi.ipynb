{
  "cells": [
    {
      "cell_type": "markdown",
      "metadata": {
        "id": "dBbWMn9ebmi8"
      },
      "source": [
        "# **Maestría en Inteligencia Artificial Aplicada**\n",
        "\n",
        "## **Curso: Inteligencia Artificial y Aprendizaje Automático**\n",
        "\n",
        "### Tecnológico de Monterrey\n",
        "\n",
        "### Prof Luis Eduardo Falcón Morales\n",
        "\n",
        "## **Actividad de las Semanas 5 y 6**\n",
        "### **Problema de asignación de créditos: South German Dataset.**\n"
      ]
    },
    {
      "cell_type": "markdown",
      "metadata": {
        "id": "YiwEw8XsZG2W"
      },
      "source": [
        "## **Nombres y matrículas:**\n",
        "\n",
        "\n",
        "\n",
        "🔹 Jossie Paola Jiménez Rivera   ➡️ A01795961\n",
        "\n",
        "🔹 Javier Augusto Rebull Saucedo ➡️ A01795838\n",
        "\n",
        "🔹 Nancy Teresa Zapién García    ➡️ A01795907\n",
        "\n",
        "\n"
      ]
    },
    {
      "cell_type": "markdown",
      "metadata": {
        "id": "AUxxkjE6shkH"
      },
      "source": [
        "# **Parte I: Partición, análisis y pre-procesamiento de los datos.**"
      ]
    },
    {
      "cell_type": "markdown",
      "metadata": {
        "id": "a08Di3GjkL1Y"
      },
      "source": [
        "## **Ejercicio 1**"
      ]
    },
    {
      "cell_type": "code",
      "execution_count": 31,
      "metadata": {
        "id": "6VGEpE4SblfD"
      },
      "outputs": [],
      "source": [
        "# Aquí deberás incluir todas las librerías que requieras durante esta actividad:\n",
        "\n",
        "import numpy as np\n",
        "import pandas as pd\n",
        "from IPython.display import display, HTML\n",
        "\n",
        "from sklearn.model_selection import train_test_split, cross_validate, RepeatedStratifiedKFold\n",
        "from sklearn.pipeline import Pipeline\n",
        "from sklearn.compose import ColumnTransformer\n",
        "from sklearn.preprocessing import StandardScaler, OneHotEncoder, OrdinalEncoder\n",
        "from sklearn.metrics import make_scorer\n",
        "\n",
        "from sklearn.linear_model import LogisticRegression\n",
        "from sklearn.neighbors import KNeighborsClassifier\n",
        "from sklearn.tree import DecisionTreeClassifier\n",
        "from sklearn.ensemble import RandomForestClassifier\n",
        "from sklearn.neural_network import MLPClassifier\n",
        "from sklearn.svm import SVC\n",
        "\n",
        "from xgboost import XGBClassifier\n",
        "\n",
        "from imblearn.over_sampling import SMOTE\n",
        "from imblearn.metrics import geometric_mean_score"
      ]
    },
    {
      "cell_type": "code",
      "execution_count": 33,
      "metadata": {
        "id": "K3gUzoM3iRkt"
      },
      "outputs": [],
      "source": [
        "# Si se desean comentar algunos de los Warnings.\n",
        "\n",
        "import warnings\n",
        "from sklearn.exceptions import ConvergenceWarning\n",
        "\n",
        "# Suprimir los UserWarning de XGBoost relacionados con 'use_label_encoder'\n",
        "warnings.filterwarnings('ignore', category=UserWarning, module='xgboost')\n",
        "\n",
        "# Suprimir los ConvergenceWarning del MLPClassifier\n",
        "warnings.filterwarnings('ignore', category=ConvergenceWarning)\n"
      ]
    },
    {
      "cell_type": "code",
      "execution_count": 16,
      "metadata": {
        "id": "ppyf8TTgb9zq",
        "colab": {
          "base_uri": "https://localhost:8080/",
          "height": 1000
        },
        "outputId": "d98ff275-e310-4639-c640-fcce90eb235f"
      },
      "outputs": [
        {
          "output_type": "stream",
          "name": "stdout",
          "text": [
            "Nombres originales de las columnas:\n",
            "['laufkont', 'laufzeit', 'moral', 'verw', 'hoehe', 'sparkont', 'beszeit', 'rate', 'famges', 'buerge', 'wohnzeit', 'verm', 'alter', 'weitkred', 'wohn', 'bishkred', 'beruf', 'pers', 'telef', 'gastarb', 'kredit']\n"
          ]
        },
        {
          "output_type": "display_data",
          "data": {
            "text/plain": [
              "<IPython.core.display.HTML object>"
            ],
            "text/html": [
              "<span style=\"color:green\"><strong>Archivo cargado con éxito</strong></span>"
            ]
          },
          "metadata": {}
        },
        {
          "output_type": "display_data",
          "data": {
            "text/plain": [
              "<IPython.core.display.HTML object>"
            ],
            "text/html": [
              "<span style=\"color:green\"><strong>Columnas renombradas con éxito</strong></span>"
            ]
          },
          "metadata": {}
        },
        {
          "output_type": "stream",
          "name": "stdout",
          "text": [
            "\n",
            "Correspondencia entre nombres originales y nuevos:\n",
            "\n",
            "laufkont ---> Status\n",
            "laufzeit ---> Duration\n",
            "moral ---> Credit history\n",
            "verw ---> Purpose\n",
            "hoehe ---> Amount\n",
            "sparkont ---> Savings\n",
            "beszeit ---> Employment duration\n",
            "rate ---> Installment rate\n",
            "famges ---> Personal status sex\n",
            "buerge ---> Other debtors\n",
            "wohnzeit ---> Present residence\n",
            "verm ---> Property\n",
            "alter ---> Age\n",
            "weitkred ---> Other installment plans\n",
            "wohn ---> Housing\n",
            "bishkred ---> Number credits\n",
            "beruf ---> Job\n",
            "pers ---> People liable\n",
            "telef ---> Telephone\n",
            "gastarb ---> Foreign worker\n",
            "kredit ---> Credit risk\n",
            "\n",
            "\n"
          ]
        },
        {
          "output_type": "execute_result",
          "data": {
            "text/plain": [
              "                            0     1    2     3     4\n",
              "Status                      1     1    2     1     1\n",
              "Duration                   18     9   12    12    12\n",
              "Credit history              4     4    2     4     4\n",
              "Purpose                     2     0    9     0     0\n",
              "Amount                   1049  2799  841  2122  2171\n",
              "Savings                     1     1    2     1     1\n",
              "Employment duration         2     3    4     3     3\n",
              "Installment rate            4     2    2     3     4\n",
              "Personal status sex         2     3    2     3     3\n",
              "Other debtors               1     1    1     1     1\n",
              "Present residence           4     2    4     2     4\n",
              "Property                    2     1    1     1     2\n",
              "Age                        21    36   23    39    38\n",
              "Other installment plans     3     3    3     3     1\n",
              "Housing                     1     1    1     1     2\n",
              "Number credits              1     2    1     2     2\n",
              "Job                         3     3    2     2     2\n",
              "People liable               2     1    2     1     2\n",
              "Telephone                   1     1    1     1     1\n",
              "Foreign worker              2     2    2     1     1\n",
              "Credit risk                 1     1    1     1     1"
            ],
            "text/html": [
              "\n",
              "  <div id=\"df-4edc2485-91d0-44f7-b4a4-c7646e7dab85\" class=\"colab-df-container\">\n",
              "    <div>\n",
              "<style scoped>\n",
              "    .dataframe tbody tr th:only-of-type {\n",
              "        vertical-align: middle;\n",
              "    }\n",
              "\n",
              "    .dataframe tbody tr th {\n",
              "        vertical-align: top;\n",
              "    }\n",
              "\n",
              "    .dataframe thead th {\n",
              "        text-align: right;\n",
              "    }\n",
              "</style>\n",
              "<table border=\"1\" class=\"dataframe\">\n",
              "  <thead>\n",
              "    <tr style=\"text-align: right;\">\n",
              "      <th></th>\n",
              "      <th>0</th>\n",
              "      <th>1</th>\n",
              "      <th>2</th>\n",
              "      <th>3</th>\n",
              "      <th>4</th>\n",
              "    </tr>\n",
              "  </thead>\n",
              "  <tbody>\n",
              "    <tr>\n",
              "      <th>Status</th>\n",
              "      <td>1</td>\n",
              "      <td>1</td>\n",
              "      <td>2</td>\n",
              "      <td>1</td>\n",
              "      <td>1</td>\n",
              "    </tr>\n",
              "    <tr>\n",
              "      <th>Duration</th>\n",
              "      <td>18</td>\n",
              "      <td>9</td>\n",
              "      <td>12</td>\n",
              "      <td>12</td>\n",
              "      <td>12</td>\n",
              "    </tr>\n",
              "    <tr>\n",
              "      <th>Credit history</th>\n",
              "      <td>4</td>\n",
              "      <td>4</td>\n",
              "      <td>2</td>\n",
              "      <td>4</td>\n",
              "      <td>4</td>\n",
              "    </tr>\n",
              "    <tr>\n",
              "      <th>Purpose</th>\n",
              "      <td>2</td>\n",
              "      <td>0</td>\n",
              "      <td>9</td>\n",
              "      <td>0</td>\n",
              "      <td>0</td>\n",
              "    </tr>\n",
              "    <tr>\n",
              "      <th>Amount</th>\n",
              "      <td>1049</td>\n",
              "      <td>2799</td>\n",
              "      <td>841</td>\n",
              "      <td>2122</td>\n",
              "      <td>2171</td>\n",
              "    </tr>\n",
              "    <tr>\n",
              "      <th>Savings</th>\n",
              "      <td>1</td>\n",
              "      <td>1</td>\n",
              "      <td>2</td>\n",
              "      <td>1</td>\n",
              "      <td>1</td>\n",
              "    </tr>\n",
              "    <tr>\n",
              "      <th>Employment duration</th>\n",
              "      <td>2</td>\n",
              "      <td>3</td>\n",
              "      <td>4</td>\n",
              "      <td>3</td>\n",
              "      <td>3</td>\n",
              "    </tr>\n",
              "    <tr>\n",
              "      <th>Installment rate</th>\n",
              "      <td>4</td>\n",
              "      <td>2</td>\n",
              "      <td>2</td>\n",
              "      <td>3</td>\n",
              "      <td>4</td>\n",
              "    </tr>\n",
              "    <tr>\n",
              "      <th>Personal status sex</th>\n",
              "      <td>2</td>\n",
              "      <td>3</td>\n",
              "      <td>2</td>\n",
              "      <td>3</td>\n",
              "      <td>3</td>\n",
              "    </tr>\n",
              "    <tr>\n",
              "      <th>Other debtors</th>\n",
              "      <td>1</td>\n",
              "      <td>1</td>\n",
              "      <td>1</td>\n",
              "      <td>1</td>\n",
              "      <td>1</td>\n",
              "    </tr>\n",
              "    <tr>\n",
              "      <th>Present residence</th>\n",
              "      <td>4</td>\n",
              "      <td>2</td>\n",
              "      <td>4</td>\n",
              "      <td>2</td>\n",
              "      <td>4</td>\n",
              "    </tr>\n",
              "    <tr>\n",
              "      <th>Property</th>\n",
              "      <td>2</td>\n",
              "      <td>1</td>\n",
              "      <td>1</td>\n",
              "      <td>1</td>\n",
              "      <td>2</td>\n",
              "    </tr>\n",
              "    <tr>\n",
              "      <th>Age</th>\n",
              "      <td>21</td>\n",
              "      <td>36</td>\n",
              "      <td>23</td>\n",
              "      <td>39</td>\n",
              "      <td>38</td>\n",
              "    </tr>\n",
              "    <tr>\n",
              "      <th>Other installment plans</th>\n",
              "      <td>3</td>\n",
              "      <td>3</td>\n",
              "      <td>3</td>\n",
              "      <td>3</td>\n",
              "      <td>1</td>\n",
              "    </tr>\n",
              "    <tr>\n",
              "      <th>Housing</th>\n",
              "      <td>1</td>\n",
              "      <td>1</td>\n",
              "      <td>1</td>\n",
              "      <td>1</td>\n",
              "      <td>2</td>\n",
              "    </tr>\n",
              "    <tr>\n",
              "      <th>Number credits</th>\n",
              "      <td>1</td>\n",
              "      <td>2</td>\n",
              "      <td>1</td>\n",
              "      <td>2</td>\n",
              "      <td>2</td>\n",
              "    </tr>\n",
              "    <tr>\n",
              "      <th>Job</th>\n",
              "      <td>3</td>\n",
              "      <td>3</td>\n",
              "      <td>2</td>\n",
              "      <td>2</td>\n",
              "      <td>2</td>\n",
              "    </tr>\n",
              "    <tr>\n",
              "      <th>People liable</th>\n",
              "      <td>2</td>\n",
              "      <td>1</td>\n",
              "      <td>2</td>\n",
              "      <td>1</td>\n",
              "      <td>2</td>\n",
              "    </tr>\n",
              "    <tr>\n",
              "      <th>Telephone</th>\n",
              "      <td>1</td>\n",
              "      <td>1</td>\n",
              "      <td>1</td>\n",
              "      <td>1</td>\n",
              "      <td>1</td>\n",
              "    </tr>\n",
              "    <tr>\n",
              "      <th>Foreign worker</th>\n",
              "      <td>2</td>\n",
              "      <td>2</td>\n",
              "      <td>2</td>\n",
              "      <td>1</td>\n",
              "      <td>1</td>\n",
              "    </tr>\n",
              "    <tr>\n",
              "      <th>Credit risk</th>\n",
              "      <td>1</td>\n",
              "      <td>1</td>\n",
              "      <td>1</td>\n",
              "      <td>1</td>\n",
              "      <td>1</td>\n",
              "    </tr>\n",
              "  </tbody>\n",
              "</table>\n",
              "</div>\n",
              "    <div class=\"colab-df-buttons\">\n",
              "\n",
              "  <div class=\"colab-df-container\">\n",
              "    <button class=\"colab-df-convert\" onclick=\"convertToInteractive('df-4edc2485-91d0-44f7-b4a4-c7646e7dab85')\"\n",
              "            title=\"Convert this dataframe to an interactive table.\"\n",
              "            style=\"display:none;\">\n",
              "\n",
              "  <svg xmlns=\"http://www.w3.org/2000/svg\" height=\"24px\" viewBox=\"0 -960 960 960\">\n",
              "    <path d=\"M120-120v-720h720v720H120Zm60-500h600v-160H180v160Zm220 220h160v-160H400v160Zm0 220h160v-160H400v160ZM180-400h160v-160H180v160Zm440 0h160v-160H620v160ZM180-180h160v-160H180v160Zm440 0h160v-160H620v160Z\"/>\n",
              "  </svg>\n",
              "    </button>\n",
              "\n",
              "  <style>\n",
              "    .colab-df-container {\n",
              "      display:flex;\n",
              "      gap: 12px;\n",
              "    }\n",
              "\n",
              "    .colab-df-convert {\n",
              "      background-color: #E8F0FE;\n",
              "      border: none;\n",
              "      border-radius: 50%;\n",
              "      cursor: pointer;\n",
              "      display: none;\n",
              "      fill: #1967D2;\n",
              "      height: 32px;\n",
              "      padding: 0 0 0 0;\n",
              "      width: 32px;\n",
              "    }\n",
              "\n",
              "    .colab-df-convert:hover {\n",
              "      background-color: #E2EBFA;\n",
              "      box-shadow: 0px 1px 2px rgba(60, 64, 67, 0.3), 0px 1px 3px 1px rgba(60, 64, 67, 0.15);\n",
              "      fill: #174EA6;\n",
              "    }\n",
              "\n",
              "    .colab-df-buttons div {\n",
              "      margin-bottom: 4px;\n",
              "    }\n",
              "\n",
              "    [theme=dark] .colab-df-convert {\n",
              "      background-color: #3B4455;\n",
              "      fill: #D2E3FC;\n",
              "    }\n",
              "\n",
              "    [theme=dark] .colab-df-convert:hover {\n",
              "      background-color: #434B5C;\n",
              "      box-shadow: 0px 1px 3px 1px rgba(0, 0, 0, 0.15);\n",
              "      filter: drop-shadow(0px 1px 2px rgba(0, 0, 0, 0.3));\n",
              "      fill: #FFFFFF;\n",
              "    }\n",
              "  </style>\n",
              "\n",
              "    <script>\n",
              "      const buttonEl =\n",
              "        document.querySelector('#df-4edc2485-91d0-44f7-b4a4-c7646e7dab85 button.colab-df-convert');\n",
              "      buttonEl.style.display =\n",
              "        google.colab.kernel.accessAllowed ? 'block' : 'none';\n",
              "\n",
              "      async function convertToInteractive(key) {\n",
              "        const element = document.querySelector('#df-4edc2485-91d0-44f7-b4a4-c7646e7dab85');\n",
              "        const dataTable =\n",
              "          await google.colab.kernel.invokeFunction('convertToInteractive',\n",
              "                                                    [key], {});\n",
              "        if (!dataTable) return;\n",
              "\n",
              "        const docLinkHtml = 'Like what you see? Visit the ' +\n",
              "          '<a target=\"_blank\" href=https://colab.research.google.com/notebooks/data_table.ipynb>data table notebook</a>'\n",
              "          + ' to learn more about interactive tables.';\n",
              "        element.innerHTML = '';\n",
              "        dataTable['output_type'] = 'display_data';\n",
              "        await google.colab.output.renderOutput(dataTable, element);\n",
              "        const docLink = document.createElement('div');\n",
              "        docLink.innerHTML = docLinkHtml;\n",
              "        element.appendChild(docLink);\n",
              "      }\n",
              "    </script>\n",
              "  </div>\n",
              "\n",
              "\n",
              "<div id=\"df-f93a38ea-06ca-4f42-bb4d-404916d72fa1\">\n",
              "  <button class=\"colab-df-quickchart\" onclick=\"quickchart('df-f93a38ea-06ca-4f42-bb4d-404916d72fa1')\"\n",
              "            title=\"Suggest charts\"\n",
              "            style=\"display:none;\">\n",
              "\n",
              "<svg xmlns=\"http://www.w3.org/2000/svg\" height=\"24px\"viewBox=\"0 0 24 24\"\n",
              "     width=\"24px\">\n",
              "    <g>\n",
              "        <path d=\"M19 3H5c-1.1 0-2 .9-2 2v14c0 1.1.9 2 2 2h14c1.1 0 2-.9 2-2V5c0-1.1-.9-2-2-2zM9 17H7v-7h2v7zm4 0h-2V7h2v10zm4 0h-2v-4h2v4z\"/>\n",
              "    </g>\n",
              "</svg>\n",
              "  </button>\n",
              "\n",
              "<style>\n",
              "  .colab-df-quickchart {\n",
              "      --bg-color: #E8F0FE;\n",
              "      --fill-color: #1967D2;\n",
              "      --hover-bg-color: #E2EBFA;\n",
              "      --hover-fill-color: #174EA6;\n",
              "      --disabled-fill-color: #AAA;\n",
              "      --disabled-bg-color: #DDD;\n",
              "  }\n",
              "\n",
              "  [theme=dark] .colab-df-quickchart {\n",
              "      --bg-color: #3B4455;\n",
              "      --fill-color: #D2E3FC;\n",
              "      --hover-bg-color: #434B5C;\n",
              "      --hover-fill-color: #FFFFFF;\n",
              "      --disabled-bg-color: #3B4455;\n",
              "      --disabled-fill-color: #666;\n",
              "  }\n",
              "\n",
              "  .colab-df-quickchart {\n",
              "    background-color: var(--bg-color);\n",
              "    border: none;\n",
              "    border-radius: 50%;\n",
              "    cursor: pointer;\n",
              "    display: none;\n",
              "    fill: var(--fill-color);\n",
              "    height: 32px;\n",
              "    padding: 0;\n",
              "    width: 32px;\n",
              "  }\n",
              "\n",
              "  .colab-df-quickchart:hover {\n",
              "    background-color: var(--hover-bg-color);\n",
              "    box-shadow: 0 1px 2px rgba(60, 64, 67, 0.3), 0 1px 3px 1px rgba(60, 64, 67, 0.15);\n",
              "    fill: var(--button-hover-fill-color);\n",
              "  }\n",
              "\n",
              "  .colab-df-quickchart-complete:disabled,\n",
              "  .colab-df-quickchart-complete:disabled:hover {\n",
              "    background-color: var(--disabled-bg-color);\n",
              "    fill: var(--disabled-fill-color);\n",
              "    box-shadow: none;\n",
              "  }\n",
              "\n",
              "  .colab-df-spinner {\n",
              "    border: 2px solid var(--fill-color);\n",
              "    border-color: transparent;\n",
              "    border-bottom-color: var(--fill-color);\n",
              "    animation:\n",
              "      spin 1s steps(1) infinite;\n",
              "  }\n",
              "\n",
              "  @keyframes spin {\n",
              "    0% {\n",
              "      border-color: transparent;\n",
              "      border-bottom-color: var(--fill-color);\n",
              "      border-left-color: var(--fill-color);\n",
              "    }\n",
              "    20% {\n",
              "      border-color: transparent;\n",
              "      border-left-color: var(--fill-color);\n",
              "      border-top-color: var(--fill-color);\n",
              "    }\n",
              "    30% {\n",
              "      border-color: transparent;\n",
              "      border-left-color: var(--fill-color);\n",
              "      border-top-color: var(--fill-color);\n",
              "      border-right-color: var(--fill-color);\n",
              "    }\n",
              "    40% {\n",
              "      border-color: transparent;\n",
              "      border-right-color: var(--fill-color);\n",
              "      border-top-color: var(--fill-color);\n",
              "    }\n",
              "    60% {\n",
              "      border-color: transparent;\n",
              "      border-right-color: var(--fill-color);\n",
              "    }\n",
              "    80% {\n",
              "      border-color: transparent;\n",
              "      border-right-color: var(--fill-color);\n",
              "      border-bottom-color: var(--fill-color);\n",
              "    }\n",
              "    90% {\n",
              "      border-color: transparent;\n",
              "      border-bottom-color: var(--fill-color);\n",
              "    }\n",
              "  }\n",
              "</style>\n",
              "\n",
              "  <script>\n",
              "    async function quickchart(key) {\n",
              "      const quickchartButtonEl =\n",
              "        document.querySelector('#' + key + ' button');\n",
              "      quickchartButtonEl.disabled = true;  // To prevent multiple clicks.\n",
              "      quickchartButtonEl.classList.add('colab-df-spinner');\n",
              "      try {\n",
              "        const charts = await google.colab.kernel.invokeFunction(\n",
              "            'suggestCharts', [key], {});\n",
              "      } catch (error) {\n",
              "        console.error('Error during call to suggestCharts:', error);\n",
              "      }\n",
              "      quickchartButtonEl.classList.remove('colab-df-spinner');\n",
              "      quickchartButtonEl.classList.add('colab-df-quickchart-complete');\n",
              "    }\n",
              "    (() => {\n",
              "      let quickchartButtonEl =\n",
              "        document.querySelector('#df-f93a38ea-06ca-4f42-bb4d-404916d72fa1 button');\n",
              "      quickchartButtonEl.style.display =\n",
              "        google.colab.kernel.accessAllowed ? 'block' : 'none';\n",
              "    })();\n",
              "  </script>\n",
              "</div>\n",
              "\n",
              "    </div>\n",
              "  </div>\n"
            ],
            "application/vnd.google.colaboratory.intrinsic+json": {
              "type": "dataframe",
              "variable_name": "df"
            }
          },
          "metadata": {},
          "execution_count": 16
        }
      ],
      "source": [
        "# ************* Incluye aquí tu código: *****************************\n",
        "\n",
        "# Cargar los datos desde el archivo especificado\n",
        "df = pd.read_csv('/content/sample_data/SouthGermanCredit.asc', delimiter=' ')\n",
        "\n",
        "# Mostrar los nombres originales de las columnas\n",
        "original_columns = df.columns.tolist()\n",
        "print(\"Nombres originales de las columnas:\")\n",
        "print(original_columns)\n",
        "\n",
        "# Mostrar mensaje de éxito en color verde\n",
        "display(HTML('<span style=\"color:green\"><strong>Archivo cargado con éxito</strong></span>'))\n",
        "\n",
        "# Lista de nombres de columnas según los nombres de variables en la Tabla 3\n",
        "variable_names = [\n",
        "    'Status',                  # laufkont\n",
        "    'Duration',                # laufzeit\n",
        "    'Credit history',          # moral\n",
        "    'Purpose',                 # verw\n",
        "    'Amount',                  # hoehe\n",
        "    'Savings',                 # sparkont\n",
        "    'Employment duration',     # beszeit\n",
        "    'Installment rate',        # rate\n",
        "    'Personal status sex',     # famges\n",
        "    'Other debtors',           # buerge\n",
        "    'Present residence',       # wohnzeit\n",
        "    'Property',                # verm\n",
        "    'Age',                     # alter\n",
        "    'Other installment plans', # weitkred\n",
        "    'Housing',                 # wohn\n",
        "    'Number credits',          # bishkred\n",
        "    'Job',                     # beruf\n",
        "    'People liable',           # pers\n",
        "    'Telephone',               # telef\n",
        "    'Foreign worker',          # gastarb\n",
        "    'Credit risk'              # kredit\n",
        "]\n",
        "\n",
        "# Renombrar las columnas del DataFrame\n",
        "df.columns = variable_names\n",
        "\n",
        "# Mostrar mensaje de éxito en color verde\n",
        "display(HTML('<span style=\"color:green\"><strong>Columnas renombradas con éxito</strong></span>'))\n",
        "\n",
        "# Mostrar la correspondencia entre los nombres originales y los nuevos\n",
        "print(\"\\nCorrespondencia entre nombres originales y nuevos:\\n\")\n",
        "for original, new in zip(original_columns, variable_names):\n",
        "    print(f\"{original} ---> {new}\")\n",
        "print(\"\\n\")\n",
        "\n",
        "# *********** Aquí termina la sección de agregar código *************\n",
        "\n",
        "# Mostrar las primeras filas del DataFrame transpuesto con los nuevos nombres de columnas\n",
        "df.head().T"
      ]
    },
    {
      "cell_type": "markdown",
      "metadata": {
        "id": "LckYCS8SlnFo"
      },
      "source": [
        "## **Ejercicio 2**"
      ]
    },
    {
      "cell_type": "code",
      "execution_count": 19,
      "metadata": {
        "id": "Tlg8jYbnlqNA",
        "colab": {
          "base_uri": "https://localhost:8080/"
        },
        "outputId": "7e7c77e0-6b2e-4e86-d4ca-c3c396fdb5d1"
      },
      "outputs": [
        {
          "output_type": "stream",
          "name": "stdout",
          "text": [
            "Credit risk\n",
            "0    700\n",
            "1    300\n",
            "Name: count, dtype: int64\n"
          ]
        }
      ],
      "source": [
        "# Realiza a continuación una transformación para que la clase negativa (buen cliente)\n",
        "# quede con el valor de 0 y la clase positiva (mal cliente) quede con el valor de 1.\n",
        "\n",
        "# ************* Inlcuye aquí tu código:*****************************\n",
        "\n",
        "# Transformar la columna 'credit_risk' para que los buenos clientes (1) sean 0 y los malos clientes (0) sean 1\n",
        "df['Credit risk'] = df['Credit risk'].map({1: 0, 0: 1})\n",
        "\n",
        "# *********** Aquí termina la sección de agregar código *************\n",
        "\n",
        "print(df['Credit risk'].value_counts())"
      ]
    },
    {
      "cell_type": "markdown",
      "metadata": {
        "id": "qQx2lbzTkEsQ"
      },
      "source": [
        "## **Ejercicio 3**"
      ]
    },
    {
      "cell_type": "code",
      "execution_count": 20,
      "metadata": {
        "id": "TP5-zdWVczhy",
        "colab": {
          "base_uri": "https://localhost:8080/"
        },
        "outputId": "63380190-e28f-4e7e-c4f0-1f58658813f9"
      },
      "outputs": [
        {
          "output_type": "stream",
          "name": "stdout",
          "text": [
            "Dimensiones:\n",
            "Entrenamiento: (700, 20) (700,)\n",
            "Prueba: (300, 20) (300,)\n",
            "\n",
            "Porcentaje clases Positiva:70.00%, y Negativa:30.00%\n"
          ]
        }
      ],
      "source": [
        "# Realiza una partición solicitada de entrenamiento y prueba.\n",
        "# Los nombres de los conjuntos deberán ser como se indican en los print de abajo:\n",
        "\n",
        "# ************* Inlcuye aquí tu código:*****************************\n",
        "\n",
        "# Separar las características y la variable objetivo\n",
        "X = df.drop('Credit risk', axis=1)\n",
        "y = df['Credit risk']\n",
        "\n",
        "# Realizar la partición en entrenamiento y prueba con los mismos porcentajes que se utilizaron en el artículo\n",
        "# Supongamos que el artículo utilizó un 70% para entrenamiento y 30% para prueba\n",
        "\n",
        "Xtrain, Xtest, ytrain, ytest = train_test_split(\n",
        "    X, y, test_size=0.3, random_state=42, stratify=y\n",
        ")\n",
        "\n",
        "# *********** Aquí termina la sección de agregar código *************\n",
        "\n",
        "\n",
        "# Mostremos las dimensiones de la partición generada:\n",
        "print(\"Dimensiones:\")\n",
        "print(\"Entrenamiento:\", Xtrain.shape, ytrain.shape)\n",
        "print(\"Prueba:\", Xtest.shape, ytest.shape)\n",
        "\n",
        "# Y el porcentaje de cada clase de la variable de salida:\n",
        "tmp = ytrain.sum()/ytrain.shape[0]\n",
        "print(\"\\nPorcentaje clases Positiva:%.2f%%, y Negativa:%.2f%%\" % (100*(1-tmp),tmp*100))\n"
      ]
    },
    {
      "cell_type": "markdown",
      "source": [
        "### **Con base al porcentaje de los niveles de la variable de salida ¿podemos decir que tenemos un problema de datos desbalanceado? ¿Por qué?**\n",
        "\n",
        "\n",
        "\n",
        "### ++++++++ Inicia la sección de agregar texto: +++++++++++\n",
        "\n",
        "### Desbalance de Datos en el Conjunto de Entrenamiento\n",
        "\n",
        "Sí, podemos decir que tenemos un problema de datos desbalanceados. La clase negativa (buenos clientes) representa el 70% de los datos en el conjunto de entrenamiento, mientras que la clase positiva (malos clientes) representa el 30%. Esta diferencia significativa en la proporción de clases indica un desbalance, lo cual puede afectar el rendimiento de los modelos de aprendizaje automático, especialmente aquellos que asumen que las clases están balanceadas.\n",
        "\n",
        "Es importante abordar este desbalance utilizando técnicas de submuestreo, sobremuestreo o algoritmos que sean robustos ante datos desbalanceados. De esta manera, podemos mejorar la capacidad del modelo para identificar correctamente a los clientes de la clase minoritaria sin comprometer la precisión general.\n",
        "\n",
        "\n",
        "### ++++++++ Termina la sección de agregar texto: +++++++++++\n",
        "\n"
      ],
      "metadata": {
        "id": "ptwAm_mOjVWH"
      }
    },
    {
      "cell_type": "markdown",
      "metadata": {
        "id": "ocmGcSC2j_2x"
      },
      "source": [
        "## **Ejercicio 4**"
      ]
    },
    {
      "cell_type": "code",
      "source": [
        "# De acuerdo a la información de la Tabla 3 del artículo de la IEEE\n",
        "# define las variables correspondientes que se indican a continuación:\n",
        "\n",
        "# ************* Inlcuye aquí tu código:*****************************\n",
        "\n",
        "# Variables numéricas:\n",
        "lista_paper_num = [\n",
        "    'Duration',         # Duración del crédito en meses\n",
        "    'Amount',           # Monto total del crédito\n",
        "    'Age',              # Edad del deudor\n",
        "    'People liable'     # Número total de personas dependientes\n",
        "]\n",
        "\n",
        "# Variables ordinales:\n",
        "lista_paper_ord = [\n",
        "    'Employment duration',     # Duración del empleo actual\n",
        "    'Installment rate',        # Cuotas en función del ingreso disponible\n",
        "    'Present residence',       # Duración de la residencia actual\n",
        "    'Property',                # Clasificación de la propiedad\n",
        "    'Number credits',          # Número de créditos existentes\n",
        "    'Job'                      # Nivel de trabajo del deudor\n",
        "]\n",
        "\n",
        "# Variables nominales:\n",
        "lista_paper_cat = [\n",
        "    'Status',                  # Estado de la cuenta corriente\n",
        "    'Credit history',          # Historial de crédito\n",
        "    'Purpose',                 # Razón del crédito\n",
        "    'Savings',                 # Ahorros totales del deudor\n",
        "    'Personal status sex',     # Estado civil y sexo\n",
        "    'Other debtors',           # Otros deudores o garantes\n",
        "    'Other installment plans', # Otros planes de cuotas\n",
        "    'Housing',                 # Situación de vivienda\n",
        "    'Telephone',               # Disponibilidad de línea telefónica\n",
        "    'Foreign worker'           # Si es trabajador extranjero\n",
        "]\n",
        "\n",
        "# Mostrar mensaje de éxito en color verde\n",
        "display(HTML('<span style=\"color:green\"><strong>Listas creadas OK</strong></span>'))\n",
        "\n",
        "# *********** Aquí termina la sección de agregar código *************\n"
      ],
      "metadata": {
        "id": "5J2kIzLYHPZP",
        "colab": {
          "base_uri": "https://localhost:8080/",
          "height": 54
        },
        "outputId": "a60f0ccd-0da8-42ac-c6d5-5e7e40900473"
      },
      "execution_count": 22,
      "outputs": [
        {
          "output_type": "display_data",
          "data": {
            "text/plain": [
              "<IPython.core.display.HTML object>"
            ],
            "text/html": [
              "<span style=\"color:green\"><strong>Listas creadas OK</strong></span>"
            ]
          },
          "metadata": {}
        }
      ]
    },
    {
      "cell_type": "markdown",
      "metadata": {
        "id": "zb5bE4WJj8Rw"
      },
      "source": [
        "## **Ejercicio 5**"
      ]
    },
    {
      "cell_type": "code",
      "execution_count": 28,
      "metadata": {
        "id": "NvNYiIp9weCm",
        "colab": {
          "base_uri": "https://localhost:8080/",
          "height": 373
        },
        "outputId": "bede2b1a-a1f8-4c39-9e57-c4c279001d5f"
      },
      "outputs": [
        {
          "output_type": "display_data",
          "data": {
            "text/plain": [
              "<IPython.core.display.HTML object>"
            ],
            "text/html": [
              "<span style=\"color:green\"><strong>Creando pipeline para variables numéricas...</strong></span>"
            ]
          },
          "metadata": {}
        },
        {
          "output_type": "stream",
          "name": "stdout",
          "text": [
            "Pipeline para variables numéricas creado con variables: ['Duration', 'Amount', 'Age', 'People liable']\n",
            "\n",
            "\n"
          ]
        },
        {
          "output_type": "display_data",
          "data": {
            "text/plain": [
              "<IPython.core.display.HTML object>"
            ],
            "text/html": [
              "<span style=\"color:green\"><strong>Creando pipeline para variables categóricas nominales...</strong></span>"
            ]
          },
          "metadata": {}
        },
        {
          "output_type": "stream",
          "name": "stdout",
          "text": [
            "\n",
            "\n",
            "Pipeline para variables categóricas nominales creado con variables: ['Status', 'Credit history', 'Purpose', 'Savings', 'Personal status sex', 'Other debtors', 'Other installment plans', 'Housing', 'Telephone', 'Foreign worker']\n",
            "\n",
            "\n"
          ]
        },
        {
          "output_type": "display_data",
          "data": {
            "text/plain": [
              "<IPython.core.display.HTML object>"
            ],
            "text/html": [
              "<span style=\"color:green\"><strong>Creando pipeline para variables categóricas ordinales...</strong></span>"
            ]
          },
          "metadata": {}
        },
        {
          "output_type": "stream",
          "name": "stdout",
          "text": [
            "\n",
            "\n",
            "Pipeline para variables categóricas ordinales creado con variables: ['Employment duration', 'Installment rate', 'Present residence', 'Property', 'Number credits', 'Job']\n",
            "\n",
            "\n"
          ]
        },
        {
          "output_type": "display_data",
          "data": {
            "text/plain": [
              "<IPython.core.display.HTML object>"
            ],
            "text/html": [
              "<span style=\"color:green\"><strong>Creando ColumnTransformer para aplicar las transformaciones a las variables correspondientes...</strong></span>"
            ]
          },
          "metadata": {}
        },
        {
          "output_type": "stream",
          "name": "stdout",
          "text": [
            "\n",
            "\n"
          ]
        },
        {
          "output_type": "display_data",
          "data": {
            "text/plain": [
              "<IPython.core.display.HTML object>"
            ],
            "text/html": [
              "<span style=\"color:blue\"><strong>ColumnTransformer creado y listo para transformar los datos.</strong></span>"
            ]
          },
          "metadata": {}
        }
      ],
      "source": [
        "# ************* Incluye aquí tu código:*****************************\n",
        "\n",
        "# Variables numéricas:\n",
        "display(HTML('<span style=\"color:green\"><strong>Creando pipeline para variables numéricas...</strong></span>'))\n",
        "\n",
        "numericas_pipe = Pipeline(steps=[\n",
        "    ('scaler', StandardScaler())  # Normalización como se comenta en el artículo\n",
        "])\n",
        "numericas_pipe_nombres = lista_paper_num  # Lista de variables numéricas\n",
        "print(f\"Pipeline para variables numéricas creado con variables: {numericas_pipe_nombres}\")\n",
        "print(\"\\n\")\n",
        "\n",
        "# Variables categóricas nominales:\n",
        "display(HTML('<span style=\"color:green\"><strong>Creando pipeline para variables categóricas nominales...</strong></span>'))\n",
        "print(\"\\n\")\n",
        "nominales_pipe = Pipeline(steps=[\n",
        "    ('onehot', OneHotEncoder(drop='first', handle_unknown='ignore'))  # One-Hot-Encoding con k-1 niveles\n",
        "])\n",
        "nominales_pipe_nombres = lista_paper_cat  # Lista de variables nominales\n",
        "print(f\"Pipeline para variables categóricas nominales creado con variables: {nominales_pipe_nombres}\")\n",
        "print(\"\\n\")\n",
        "\n",
        "# Variables categóricas ordinales:\n",
        "display(HTML('<span style=\"color:green\"><strong>Creando pipeline para variables categóricas ordinales...</strong></span>'))\n",
        "print(\"\\n\")\n",
        "ordinales_pipe = Pipeline(steps=[\n",
        "    ('ordinal', OrdinalEncoder())  # Transformación OrdinalEncoder\n",
        "])\n",
        "ordinales_pipe_nombres = lista_paper_ord  # Lista de variables ordinales\n",
        "print(f\"Pipeline para variables categóricas ordinales creado con variables: {ordinales_pipe_nombres}\")\n",
        "print(\"\\n\")\n",
        "\n",
        "# Conjuntar las transformaciones de todo tipo de variable:\n",
        "display(HTML('<span style=\"color:green\"><strong>Creando ColumnTransformer para aplicar las transformaciones a las variables correspondientes...</strong></span>'))\n",
        "print(\"\\n\")\n",
        "columnasTransformer = ColumnTransformer(transformers=[\n",
        "    ('num', numericas_pipe, numericas_pipe_nombres),\n",
        "    ('nom', nominales_pipe, nominales_pipe_nombres),\n",
        "    ('ord', ordinales_pipe, ordinales_pipe_nombres)\n",
        "])\n",
        "display(HTML('<span style=\"color:blue\"><strong>ColumnTransformer creado y listo para transformar los datos.</strong></span>'))\n",
        "\n",
        "# *********** Aquí termina la sección de agregar código *************"
      ]
    },
    {
      "cell_type": "markdown",
      "metadata": {
        "id": "UJokj9Diyeu0"
      },
      "source": [
        "## **Ejercicio 6**"
      ]
    },
    {
      "cell_type": "code",
      "execution_count": 30,
      "metadata": {
        "id": "d3lqBiH5wd1e",
        "colab": {
          "base_uri": "https://localhost:8080/",
          "height": 172
        },
        "outputId": "9524a6ca-d93e-45cb-f436-6412576d4f34"
      },
      "outputs": [
        {
          "output_type": "display_data",
          "data": {
            "text/plain": [
              "<IPython.core.display.HTML object>"
            ],
            "text/html": [
              "<span style=\"color:green\"><strong>Concatenando Xtrain y Xtest para formar Xtraintest...</strong></span>"
            ]
          },
          "metadata": {}
        },
        {
          "output_type": "stream",
          "name": "stdout",
          "text": [
            "\n",
            "\n"
          ]
        },
        {
          "output_type": "display_data",
          "data": {
            "text/plain": [
              "<IPython.core.display.HTML object>"
            ],
            "text/html": [
              "<span style=\"color:green\"><strong>Concatenando ytrain y ytest para formar ytraintest...</strong></span>"
            ]
          },
          "metadata": {}
        },
        {
          "output_type": "stream",
          "name": "stdout",
          "text": [
            "\n",
            "\n",
            "Dimensión de las variables de entrada ANTES de las transformaciones: (1000, 20)\n",
            "Dimensión de las variables de entrada DESPUÉS de las transformaciones: (1000, 41)\n"
          ]
        }
      ],
      "source": [
        "# Como se va a utilizar Validación-Cruzada, concatena los conjuntos de entrenamiento y prueba\n",
        "# en uno nuevo conjunto aumentado que llamaremos trainval para utilizar como entrenamiento:\n",
        "\n",
        "\n",
        "# ************* Inlcuye aquí tu código:**************************\n",
        "\n",
        "# Concatenar Xtrain y Xtest en Xtraintest\n",
        "display(HTML('<span style=\"color:green\"><strong>Concatenando Xtrain y Xtest para formar Xtraintest...</strong></span>'))\n",
        "print(\"\\n\")\n",
        "Xtraintest = pd.concat([Xtrain, Xtest], ignore_index=True)\n",
        "\n",
        "# Concatenar ytrain y ytest en ytraintest\n",
        "display(HTML('<span style=\"color:green\"><strong>Concatenando ytrain y ytest para formar ytraintest...</strong></span>'))\n",
        "print(\"\\n\")\n",
        "ytraintest = pd.concat([ytrain, ytest], ignore_index=True)\n",
        "\n",
        "# *********** Aquí termina la sección de agregar código *************\n",
        "\n",
        "\n",
        "# Veamos cuántas variables nuevas se introducen con las transformaciones One-Hot-Encoding:\n",
        "Xtmp = Xtraintest.copy()\n",
        "tmp = columnasTransformer.fit_transform(Xtmp)\n",
        "print(\"Dimensión de las variables de entrada ANTES de las transformaciones:\", Xtmp.shape)\n",
        "print(\"Dimensión de las variables de entrada DESPUÉS de las transformaciones:\", tmp.shape)"
      ]
    },
    {
      "cell_type": "markdown",
      "metadata": {
        "id": "hZxyRbHL0gNF"
      },
      "source": [
        "## **Ejercicio 7**"
      ]
    },
    {
      "cell_type": "code",
      "execution_count": 34,
      "metadata": {
        "id": "0hdi7AAtwd5G",
        "scrolled": true,
        "colab": {
          "base_uri": "https://localhost:8080/"
        },
        "outputId": "c8b0baa6-6330-4463-b56c-b0a6f4242ff0"
      },
      "outputs": [
        {
          "output_type": "stream",
          "name": "stdout",
          "text": [
            ">> LR\n",
            "\t test_miaccuracy 0.797 (0.019)\n",
            "\t train_miaccuracy 0.817 (0.006)\n",
            "\t test_miprecision 0.788 (0.018)\n",
            "\t train_miprecision 0.810 (0.005)\n",
            "\t test_mirecall 0.813 (0.041)\n",
            "\t train_mirecall 0.829 (0.009)\n",
            "\t test_mifi 0.800 (0.022)\n",
            "\t train_mifi 0.819 (0.007)\n",
            "\t test_miauc 0.874 (0.017)\n",
            "\t train_miauc 0.894 (0.004)\n",
            "\t test_migmean 0.796 (0.019)\n",
            "\t train_migmean 0.817 (0.006)\n",
            ">> kNN\n",
            "\t test_miaccuracy 0.774 (0.019)\n",
            "\t train_miaccuracy 0.855 (0.008)\n",
            "\t test_miprecision 0.746 (0.018)\n",
            "\t train_miprecision 0.828 (0.009)\n",
            "\t test_mirecall 0.831 (0.027)\n",
            "\t train_mirecall 0.895 (0.009)\n",
            "\t test_mifi 0.786 (0.019)\n",
            "\t train_mifi 0.860 (0.007)\n",
            "\t test_miauc 0.845 (0.016)\n",
            "\t train_miauc 0.934 (0.004)\n",
            "\t test_migmean 0.772 (0.019)\n",
            "\t train_migmean 0.854 (0.008)\n",
            ">> DTree\n",
            "\t test_miaccuracy 0.766 (0.021)\n",
            "\t train_miaccuracy 0.814 (0.005)\n",
            "\t test_miprecision 0.725 (0.018)\n",
            "\t train_miprecision 0.763 (0.008)\n",
            "\t test_mirecall 0.860 (0.035)\n",
            "\t train_mirecall 0.912 (0.014)\n",
            "\t test_mifi 0.786 (0.021)\n",
            "\t train_mifi 0.831 (0.005)\n",
            "\t test_miauc 0.783 (0.024)\n",
            "\t train_miauc 0.861 (0.007)\n",
            "\t test_migmean 0.760 (0.020)\n",
            "\t train_migmean 0.808 (0.006)\n",
            ">> RF\n",
            "\t test_miaccuracy 0.787 (0.020)\n",
            "\t train_miaccuracy 0.833 (0.007)\n",
            "\t test_miprecision 0.759 (0.020)\n",
            "\t train_miprecision 0.798 (0.008)\n",
            "\t test_mirecall 0.844 (0.038)\n",
            "\t train_mirecall 0.891 (0.007)\n",
            "\t test_mifi 0.799 (0.021)\n",
            "\t train_mifi 0.842 (0.007)\n",
            "\t test_miauc 0.871 (0.018)\n",
            "\t train_miauc 0.926 (0.003)\n",
            "\t test_migmean 0.785 (0.020)\n",
            "\t train_migmean 0.831 (0.007)\n",
            ">> XGBoost\n",
            "\t test_miaccuracy 0.824 (0.022)\n",
            "\t train_miaccuracy 0.966 (0.005)\n",
            "\t test_miprecision 0.811 (0.023)\n",
            "\t train_miprecision 0.961 (0.007)\n",
            "\t test_mirecall 0.847 (0.040)\n",
            "\t train_mirecall 0.973 (0.005)\n",
            "\t test_mifi 0.828 (0.023)\n",
            "\t train_mifi 0.966 (0.005)\n",
            "\t test_miauc 0.894 (0.015)\n",
            "\t train_miauc 0.995 (0.001)\n",
            "\t test_migmean 0.823 (0.022)\n",
            "\t train_migmean 0.966 (0.005)\n",
            ">> MLP\n",
            "\t test_miaccuracy 0.779 (0.022)\n",
            "\t train_miaccuracy 0.985 (0.003)\n",
            "\t test_miprecision 0.771 (0.027)\n",
            "\t train_miprecision 0.986 (0.004)\n",
            "\t test_mirecall 0.795 (0.043)\n",
            "\t train_mirecall 0.984 (0.005)\n",
            "\t test_mifi 0.782 (0.025)\n",
            "\t train_mifi 0.985 (0.003)\n",
            "\t test_miauc 0.856 (0.017)\n",
            "\t train_miauc 0.999 (0.000)\n",
            "\t test_migmean 0.778 (0.023)\n",
            "\t train_migmean 0.985 (0.003)\n",
            ">> SVM\n",
            "\t test_miaccuracy 0.804 (0.021)\n",
            "\t train_miaccuracy 0.856 (0.005)\n",
            "\t test_miprecision 0.786 (0.023)\n",
            "\t train_miprecision 0.838 (0.007)\n",
            "\t test_mirecall 0.837 (0.038)\n",
            "\t train_mirecall 0.882 (0.006)\n",
            "\t test_mifi 0.810 (0.022)\n",
            "\t train_mifi 0.860 (0.005)\n",
            "\t test_miauc 0.888 (0.016)\n",
            "\t train_miauc 0.933 (0.003)\n",
            "\t test_migmean 0.803 (0.021)\n",
            "\t train_migmean 0.855 (0.005)\n"
          ]
        }
      ],
      "source": [
        "# Definimos a continuación la función que llamamos \"mis_modelos\" que incluye\n",
        "# todos los modelos que deseamos comparar en el ejercicio.\n",
        "\n",
        "def mis_modelos():\n",
        "  modelos, nombres = list(), list()\n",
        "\n",
        "  # ************* Incluye aquí tu código:**************************\n",
        "  #\n",
        "  # Deberás incluir en cada modelo los argumentos que consideres\n",
        "  # adecuados para que cada uno converja y no esté sobreentrenado\n",
        "  # con respecto a la métrica de la exactitud (accuracy).\n",
        "\n",
        "  # Regresión Logística - Logistic Regression-LR:\n",
        "  # https://scikit-learn.org/stable/modules/generated/sklearn.linear_model.LogisticRegression.html\n",
        "\n",
        "  modelos.append(LogisticRegression(\n",
        "      solver='liblinear',\n",
        "      class_weight='balanced',\n",
        "      max_iter=1000,\n",
        "      random_state=42\n",
        "  ))\n",
        "  nombres.append('LR')\n",
        "\n",
        "  # k-Vecinos más Cercanos : k-Nearest-Neighbors-kNN:\n",
        "  # https://scikit-learn.org/stable/modules/generated/sklearn.neighbors.KNeighborsClassifier.html\n",
        "\n",
        "  modelos.append(KNeighborsClassifier(\n",
        "      n_neighbors=5,\n",
        "      weights='uniform',\n",
        "      algorithm='auto'\n",
        "  ))\n",
        "  nombres.append('kNN')\n",
        "\n",
        "  # Árbol de decisiones-DecisionTree-DT:\n",
        "  # https://scikit-learn.org/stable/modules/generated/sklearn.tree.DecisionTreeClassifier.html\n",
        "\n",
        "  modelos.append(DecisionTreeClassifier(\n",
        "      max_depth=5,\n",
        "      class_weight='balanced',\n",
        "      random_state=42\n",
        "  ))\n",
        "  nombres.append('DTree')\n",
        "\n",
        "  # Bosque Aleatorio-RandomForest-RF:\n",
        "  # https://scikit-learn.org/stable/modules/generated/sklearn.ensemble.RandomForestClassifier.html\n",
        "\n",
        "  modelos.append(RandomForestClassifier(\n",
        "      n_estimators=100,\n",
        "      max_depth=5,\n",
        "      class_weight='balanced',\n",
        "      random_state=42\n",
        "  ))\n",
        "  nombres.append('RF')\n",
        "\n",
        "\n",
        "  # XGBoosting:\n",
        "  # https://xgboost.readthedocs.io/en/latest/python/python_api.html#xgboost.XGBClassifier\n",
        "  # https://xgboost.readthedocs.io/en/stable/parameter.html\n",
        "\n",
        "  modelos.append(XGBClassifier(\n",
        "      use_label_encoder=False,\n",
        "      eval_metric='logloss',\n",
        "      n_estimators=100,\n",
        "      max_depth=5,\n",
        "      learning_rate=0.1,\n",
        "      random_state=42\n",
        "  ))\n",
        "  nombres.append('XGBoost')\n",
        "\n",
        "\n",
        "  # Red neuronal de Perceptrón Multicapa-MLP:\n",
        "  # https://scikit-learn.org/stable/modules/generated/sklearn.neural_network.MLPClassifier.html\n",
        "\n",
        "  modelos.append(MLPClassifier(\n",
        "      hidden_layer_sizes=(50,),\n",
        "      activation='relu',\n",
        "      solver='adam',\n",
        "      max_iter=500,\n",
        "      random_state=42\n",
        "  ))\n",
        "  nombres.append('MLP')\n",
        "\n",
        "\n",
        "  # Máquina de Vectores de Soporte-SVM:\n",
        "  # https://scikit-learn.org/stable/modules/generated/sklearn.svm.SVC.html\n",
        "\n",
        "  modelos.append(SVC(\n",
        "      kernel='rbf',\n",
        "      class_weight='balanced',\n",
        "      probability=True,\n",
        "      random_state=42\n",
        "  ))\n",
        "  nombres.append('SVM')\n",
        "\n",
        "  return modelos, nombres\n",
        "\n",
        "\n",
        "# Técnica de submuestreo (undersampling) y/o sobremuestreo (versampling) utilizada:\n",
        "mi_uoSampling = SMOTE(random_state=42)\n",
        "\n",
        "Xtv_uo, ytv_uo = mi_uoSampling.fit_resample(Xtraintest, ytraintest)\n",
        "\n",
        "# *********** Aquí termina la sección de agregar código *******************\n",
        "\n",
        "# Entrenamos cada uno de los modelos y desplegamos la métricas de Train y Val.\n",
        "\n",
        "# NOTA: Observa que el método de Validación-Cruzada llama  a los resultados\n",
        "#       de \"validation\" como \"test\":\n",
        "\n",
        "modelos, nombres = mis_modelos()\n",
        "resultados = list()\n",
        "\n",
        "for i in range(len(modelos)):\n",
        "\n",
        "  # Definimos nuestro pipeline con las transformaciones y los modelos:\n",
        "  pipeline = Pipeline(steps=[('ct',columnasTransformer),('m',modelos[i])])\n",
        "\n",
        "  # Aplicaremos validación-cruzada:\n",
        "  micv = RepeatedStratifiedKFold(n_splits=5,\n",
        "                                 n_repeats=3,\n",
        "                                 random_state=5     # agreguemos una semilla para estabilizar resultados.\n",
        "                                 )\n",
        "\n",
        "\n",
        "  # Definimos las métricas que desamos recuperar:\n",
        "  mismetricas = {'miaccuracy':'accuracy','miprecision':'precision','mirecall':'recall',\n",
        "                 'mifi':'f1','miauc':'roc_auc','migmean':make_scorer(geometric_mean_score)}\n",
        "\n",
        "  # Llevamos a cabo el entrenamiento:\n",
        "  scores = cross_validate(pipeline,\n",
        "                          Xtv_uo,\n",
        "                          ytv_uo,\n",
        "                          scoring=mismetricas,\n",
        "                          cv=micv,\n",
        "                          return_train_score=True,\n",
        "                          )\n",
        "\n",
        "  # Guardemos el resultado de cada modelo para análisis posteriores.\n",
        "  resultados.append(scores)\n",
        "\n",
        "  # Desplegamos los valores de las métricas para verificar si no hay\n",
        "  # subentrenamiento o sobreentrenamiento:\n",
        "  print('>> %s' % nombres[i])\n",
        "  for j,k in enumerate(list(scores.keys())):\n",
        "    if j>1:\n",
        "      print('\\t %s %.3f (%.3f)' % (k, np.mean(scores[k]),np.std(scores[k])))"
      ]
    },
    {
      "cell_type": "markdown",
      "metadata": {
        "id": "4JkGo57zMXqn"
      },
      "source": [
        "## **Ejercicio 8**"
      ]
    },
    {
      "cell_type": "markdown",
      "metadata": {
        "id": "n04HnK-ZX4vl"
      },
      "source": [
        "### **Escribe tus conclusiones finales de la actividad.**"
      ]
    },
    {
      "cell_type": "markdown",
      "metadata": {
        "id": "R7s7iDgKYEn9"
      },
      "source": [
        "### ++++++++ Inicia la sección de agregar texto: +++++++++++\n",
        "\n",
        "### **Conclusiones Finales de la Actividad** :\n",
        "\n",
        "En esta actividad, se evaluaron diversos modelos de aprendizaje automático para predecir el riesgo crediticio utilizando el conjunto de datos “South German Credit”. Los modelos implementados fueron:\n",
        "\n",
        "- Regresión Logística (LR)\n",
        "- k-Vecinos más Cercanos (kNN)\n",
        "- Árbol de Decisión (DTree)\n",
        "- Bosque Aleatorio (RF)\n",
        "- XGBoost\n",
        "- Perceptrón Multicapa (MLP)\n",
        "- Máquina de Vectores de Soporte (SVM)\n",
        "\n",
        "Se aplicó la técnica de sobremuestreo SMOTE para abordar el problema de desbalance de clases, donde **la clase negativa (buenos clientes) representaba el 70% y la clase positiva (malos clientes) el 30%.**\n",
        "\n",
        "### **Análisis de Resultados**\n",
        "\n",
        "A continuación, se presentan las métricas clave obtenidas para cada modelo en los conjuntos de prueba y entrenamiento:\n",
        "\n",
        "1. **Regresión Logística (LR)**:\n",
        "   - G-mean Test: 0.796 (0.019)\n",
        "   - G-mean Train: 0.817 (0.006)\n",
        "   - El modelo muestra un buen equilibrio entre las métricas de entrenamiento y prueba, lo que indica una buena generalización y ausencia de sobreajuste significativo.\n",
        "\n",
        "2. **k-Vecinos más Cercanos (kNN)**:\n",
        "   - G-mean Test: 0.772 (0.019)\n",
        "   - G-mean Train: 0.854 (0.008)\n",
        "   - Existe una diferencia notable entre las métricas de entrenamiento y prueba, sugiriendo un posible sobreajuste y menor capacidad de generalización.\n",
        "\n",
        "3. **Árbol de Decisión (DTree)**:\n",
        "   - G-mean Test: 0.760 (0.020)\n",
        "   - G-mean Train: 0.808 (0.006)\n",
        "   - El modelo podría estar subajustado debido a las bajas métricas tanto en entrenamiento como en prueba.\n",
        "\n",
        "4. **Bosque Aleatorio (RF)**:\n",
        "   - G-mean Test: 0.785 (0.020)\n",
        "   - G-mean Train: 0.831 (0.007)\n",
        "   - Las métricas son ligeramente superiores a las del Árbol de Decisión, indicando que el ensamble mejora el desempeño, pero aún hay espacio para optimización.\n",
        "\n",
        "5. **XGBoost**:\n",
        "   - G-mean Test: 0.823 (0.022)\n",
        "   - G-mean Train: 0.966 (0.005)\n",
        "   - Aunque presenta el mejor desempeño en prueba, la gran diferencia con el entrenamiento sugiere un sobreajuste significativo.\n",
        "\n",
        "6. **Perceptrón Multicapa (MLP)**:\n",
        "   - G-mean Test: 0.778 (0.023)\n",
        "   - G-mean Train: 0.985 (0.003)\n",
        "   - El modelo está sobreajustado, reflejado en las altas métricas de entrenamiento y menor desempeño en prueba.\n",
        "\n",
        "7. **Máquina de Vectores de Soporte (SVM)**:\n",
        "   - G-mean Test: 0.803 (0.021)\n",
        "   - G-mean Train: 0.855 (0.005)\n",
        "   - Muestra un buen balance entre las métricas de entrenamiento y prueba, indicando buena capacidad de generalización.\n",
        "\n",
        "### **Observaciones Importantes**\n",
        "\n",
        "- **Mejor Modelo**: El XGBoost alcanzó el mejor desempeño en el conjunto de prueba según la métrica G-mean. Sin embargo, el alto grado de sobreajuste es preocupante. Por otro lado, SVM y Regresión Logística ofrecen un buen equilibrio entre desempeño y generalización.\n",
        "- **Sobreajuste**: Modelos como XGBoost y MLP muestran diferencias significativas entre las métricas de entrenamiento y prueba, indicando sobreajuste. Es necesario ajustar los hiperparámetros o considerar técnicas de regularización para estos modelos.\n",
        "- **Desbalance de Clases**: La aplicación de SMOTE ayudó a mitigar el desbalance de clases, mejorando el desempeño de los modelos en la detección de la clase minoritaria.\n",
        "- **Importancia de la Validación Cruzada**: El uso de validación cruzada estratificada con múltiples repeticiones proporcionó una evaluación más robusta del desempeño de los modelos, reduciendo la varianza asociada a una sola partición de datos.\n",
        "\n",
        "### **Conclusión General**\n",
        "\n",
        "La actividad permitió comparar múltiples modelos y técnicas para abordar un problema de clasificación con datos desbalanceados en el contexto del riesgo crediticio. Aunque XGBoost mostró el mejor desempeño en términos de métricas en el conjunto de prueba, su tendencia al sobreajuste sugiere que no es la opción más confiable sin ajustes adicionales.\n",
        "\n",
        "La Máquina de Vectores de Soporte (SVM) y la Regresión Logística emergen como los modelos más balanceados, ofreciendo un buen desempeño y capacidad de generalización. Esto resalta la importancia de considerar no solo las métricas de desempeño sino también la estabilidad y robustez del modelo al momento de seleccionar la mejor opción para implementación.\n",
        "\n",
        "Finalmente, la experiencia destaca la relevancia de manejar adecuadamente el desbalance de clases y de utilizar técnicas de validación apropiadas para obtener modelos confiables y aplicables en contextos reales.\n",
        "\n",
        "\n",
        "\n",
        "### ++++++++ Termina la sección de agregar texto. +++++++++++\n"
      ]
    },
    {
      "cell_type": "markdown",
      "source": [
        "### **Referencias**\n",
        "\n",
        "1. **Alam, T. M., Shaukat, K., Hameed, I. A., Luo, S., Sarwar, M. U., Shabbir, S., Li, J., & Khushi, M.** (2020). An investigation of credit card default prediction in the imbalanced datasets. *IEEE Access*, 8, 201173–201198. Disponible en: [https://ieeexplore.ieee.org/document/9239944](https://ieeexplore.ieee.org/document/9239944)\n",
        "\n",
        "2. **Anzai, Y.** (2012). *Pattern Recognition and Machine Learning*. Morgan Kaufmann. Disponible en: [https://biblioteca.tec.mx/oreilly](https://biblioteca.tec.mx/oreilly)\n",
        "\n",
        "3. **Hu, Y., Yang, L., Chen, L., & Zhu, S.** (2020). Research on a customer churn combination prediction model based on decision tree and neural network. En *2020 IEEE 5th International Conference on Cloud Computing and Big Data Analytics (ICCCBDA)* (pp. 129–132). IEEE. [https://doi.org/10.1109/ICCCBDA49378.2020.9095611](https://doi.org/10.1109/ICCCBDA49378.2020.9095611)\n",
        "\n",
        "4. **Tecnológico de Monterrey.** (2024). *MNA_IAyAA_semana_5_y_6_Actividad_sept_2024.pdf*. [Material de clase]. Curso Inteligencia Artificial y Aprendizaje Automático (Grupo 10), impartido por el Dr. Luis Eduardo Falcón Morales.\n",
        "\n",
        "5. **Tecnológico de Monterrey.** (2024). *MNA_IAyAA_Titanic_semanas_5y6.ipynb*. [Material complementario]. Curso Inteligencia Artificial y Aprendizaje Automático (Grupo 10), impartido por el Dr. Luis Eduardo Falcón Morales.\n",
        "\n",
        "6. **Tecnológico de Monterrey.** (2024). *MNA_IAyAA_semana_6_Arboles_de_decision_y_BosqueAleatorio_teoria-1.pdf*. [Material de clase]. Curso Inteligencia Artificial y Aprendizaje Automático (Grupo 10), impartido por el Dr. Luis Eduardo Falcón Morales.\n",
        "\n",
        "7. **Universidad de California, Irvine.** (s.f.). *South German Credit Data Set*. Recuperado en octubre de 2024 de [https://archive.ics.uci.edu/dataset/522/south+german+credit](https://archive.ics.uci.edu/dataset/522/south+german+credit)\n",
        "\n",
        "\n",
        "\n"
      ],
      "metadata": {
        "id": "5QveHyU4hNbp"
      }
    },
    {
      "cell_type": "markdown",
      "metadata": {
        "id": "v-tW_CdUYMdl"
      },
      "source": [
        ">> ### **Fin de la Actividad de las Semanas 5 y 6.**"
      ]
    }
  ],
  "metadata": {
    "colab": {
      "provenance": []
    },
    "kernelspec": {
      "display_name": "Python 3 (ipykernel)",
      "language": "python",
      "name": "python3"
    },
    "language_info": {
      "codemirror_mode": {
        "name": "ipython",
        "version": 3
      },
      "file_extension": ".py",
      "mimetype": "text/x-python",
      "name": "python",
      "nbconvert_exporter": "python",
      "pygments_lexer": "ipython3",
      "version": "3.9.13"
    }
  },
  "nbformat": 4,
  "nbformat_minor": 0
}