{
  "cells": [
    {
      "cell_type": "markdown",
      "source": [
        "# 🎓 **Applied Artificial Intelligence Master**\n",
        "\n",
        "## 🤖 **Course: Advanced Machine Learning Methods (Gpo 10)**\n",
        "\n",
        "### 🏛️ Tecnológico de Monterrey\n",
        "\n",
        "#### 👨‍🏫 **Lead Professor:** Dr. José Antonio Cantoral Ceballos\n",
        "#### 👩‍🏫 **Assistant Professor:** Dra. Yetnalezi Quintas Ruiz\n",
        "\n",
        "### 📊 **Activity 3b: Text Classification using RNNs and AG_NEWS dataset in PyTorch**\n",
        "\n",
        "#### 📅 **March 4th, 2025**\n",
        "\n",
        "### 👥 Team 3\n",
        "\n",
        "#### **Students:**\n",
        "* 🧑‍💻 Luis Gerardo Sanchez Salazar (A01232963)\n",
        "* 🧑‍💻 Javier Augusto Rebull Saucedo (A01795838)\n",
        "* 🧑‍💻 José Manuel Toral Cruz (A01122243)\n",
        "* 🧑‍💻 Juan Carlos Pérez Nava (A01795941)\n",
        "* 🧑‍💻 Oscar Enrique García García (A01016093)"
      ],
      "metadata": {
        "id": "RYF8gXPX6EPQ"
      },
      "id": "RYF8gXPX6EPQ"
    },
    {
      "cell_type": "markdown",
      "id": "940c6dbc",
      "metadata": {
        "id": "940c6dbc"
      },
      "source": [
        "## TC 5033\n",
        "### Word Embeddings\n",
        "\n",
        "<br>\n",
        "\n",
        "#### Activity 3b: Text Classification using RNNs and AG_NEWS dataset in PyTorch\n",
        "<br>\n",
        "\n",
        "- Objective:\n",
        "    - Understand the basics of Recurrent Neural Networks (RNNs) and their application in text classification.\n",
        "    - Learn how to handle a real-world text dataset, AG_NEWS, in PyTorch.\n",
        "    - Gain hands-on experience in defining, training, and evaluating a text classification model in PyTorch.\n",
        "    \n",
        "<br>\n",
        "\n",
        "- Instructions:\n",
        "    - Data Preparation: Starter code will be provided that loads the AG_NEWS dataset and prepares it for training. Do not modify this part. However, you should be sure to understand it, and comment it, the use of markdown cells is suggested.\n",
        "\n",
        "    - Model Setup: A skeleton code for the RNN model class will be provided. Complete this class and use it to instantiate your model.\n",
        "\n",
        "    - Implementing Accuracy Function: Write a function that takes model predictions and ground truth labels as input and returns the model's accuracy.\n",
        "\n",
        "    - Training Function: Implement a function that performs training on the given model using the AG_NEWS dataset. Your model should achieve an accuracy of at least 80% to get full marks for this part.\n",
        "\n",
        "    - Text Sampling: Write a function that takes a sample text as input and classifies it using your trained model.\n",
        "\n",
        "    - Confusion Matrix: Implement a function to display the confusion matrix for your model on the test data.\n",
        "\n",
        "    - Submission: Submit your completed Jupyter Notebook. Make sure to include a markdown cell at the beginning of the notebook that lists the names of all team members. Teams should consist of 3 to 4 members.\n",
        "    \n",
        "<br>\n",
        "\n",
        "- Evaluation Criteria:\n",
        "\n",
        "    - Correct setup of all the required libraries and modules (10%)\n",
        "    - Code Quality (30%): Your code should be well-organized, clearly commented, and easy to follow. Use also markdown cells for clarity. Comments should be given for all the provided code, this will help you understand its functionality.\n",
        "    \n",
        "   - Functionality (60%):\n",
        "        - All the functions should execute without errors and provide the expected outputs.\n",
        "        - RNN model class (20%)\n",
        "        - Accuracy fucntion (10%)\n",
        "        - Training function (10%)\n",
        "        - Sampling function (10%)\n",
        "        - Confucion matrix (10%)\n",
        "\n",
        "        - The model should achieve at least an 80% accuracy on the AG_NEWS test set for full marks in this criterion.\n"
      ]
    },
    {
      "cell_type": "markdown",
      "id": "4de318da",
      "metadata": {
        "id": "4de318da"
      },
      "source": [
        "Dataset\n",
        "\n",
        "https://pytorch.org/text/stable/datasets.html#text-classification\n",
        "\n",
        "https://paperswithcode.com/dataset/ag-news\n"
      ]
    },
    {
      "cell_type": "markdown",
      "source": [
        "Here's a well-structured Markdown introduction for Google Colab, formatted with emojis to enhance readability. This will provide a theoretical foundation for Activity 3b: Text Classification using RNNs and the AG_NEWS dataset.\n",
        "\n",
        "# Activity 3b: Text Classification using RNNs and the AG_NEWS Dataset\n",
        "\n",
        "## What is Text Classification? 📚\n",
        "Text classification is the task of automatically assigning a label or class to a given tex ([What is Text Classification? - Hugging Face](https://huggingface.co/tasks/text-classification#:~:text=Text%20Classification))】In other words, we train a model to read some text and decide which category it belongs to. For example, an email might be classified as **spam** or **not spam**, and a news article could be categorized into topics like politics, sports, tech, etc. This is a fundamental task in Natural Language Processing (NLP) that helps organize and make sense of large collections of text data.\n",
        "\n",
        "## Introduction to Recurrent Neural Networks (RNNs) 🔁\n",
        "Recurrent Neural Networks (RNNs) are a type of neural network designed to handle sequential data (like text, where word order matter ([Recurrent neural network - Wikipedia](https://en.wikipedia.org/wiki/Recurrent_neural_network#:~:text=Recurrent%20neural%20networks%20,dependencies%20and%20patterns%20within%20sequences))】Unlike a traditional feed-forward neural network that processes all inputs at once, an RNN processes one element of the sequence at a time *and* maintains an internal memory (hidden state) of what it has seen so far. This means as an RNN reads through a sentence word by word, it can **remember** important information from earlier words and use it to inform later ones. In essence, an RNN has a loop that feeds the output from the previous step back into the network, allowing it to capture context and temporal patterns in the data.\n",
        "\n",
        "## Types of RNNs (Simple RNN, GRU, LSTM) and their use cases 🧠\n",
        "Not all RNNs are the same - over time, researchers developed improved RNN variants to address certain limitations. Here are a few common types of RNNs and where you might use them:\n",
        "\n",
        "- **Simple RNN (Vanilla RNN):** This is the basic form of an RNN with a simple recurrent loop. It's easy to understand and implement, but it often struggles with long sequences due to the “**vanishing gradient**” problem (meaning it has difficulty learning from information that is many steps back in the sequence).\n",
        "- **LSTM (Long Short-Term Memory):** An advanced RNN variant introduced to overcome those long-term dependency problems ([Recurrent neural network - Wikipedia](https://en.wikipedia.org/wiki/Recurrent_neural_network#:~:text=However%2C%20traditional%20RNNs%20suffer%20from,a%20more%20computationally%20efficient%20alternative))】LSTMs have special components called *gates* that learn what to keep, write, or forget in the cell's memory. They can remember information over longer sequences, which makes them great for tasks like text classification, language translation, or time-series prediction where context from far earlier in the sequence can be important.\n",
        "- **GRU (Gated Recurrent Unit):** A more recent variant similar to LSTM but with a simpler architecture (fewer gates). GRUs also help preserve long-term context while being computationally efficient. They often perform on par with LSTMs and are used when we want many of the benefits of LSTMs but with a bit less computational cost (for example, in real-time systems or when training speed is a concern).\n",
        "\n",
        "## Why use RNNs for Text Classification? 🔍\n",
        "Text is inherently sequential – the meaning of a sentence depends on the *order* of the words. RNNs are designed to leverage this sequential nature. Unlike models that treat each word independently, an RNN can consider the surrounding context of each word. For example, in the phrase \"**not good**,\" a traditional model might see the word \"good\" and be positive, but an RNN can learn that the word \"not\" before it changes the meaning. By maintaining a memory of previous words, RNNs capture the nuance and context in language. This often leads to more accurate classification of text, because the model understands the text more like a human would – in order, with context, not just as jumbled words.\n",
        "\n",
        "## Overview of the AG_NEWS Dataset 📰\n",
        "**AG_NEWS** is a popular dataset of news articles commonly used for text classification benchmarks. It includes news content categorized into four topics: **World**, **Sports**, **Business**, and **Sci/Tech**. Each category has 30,000 training examples and 1,900 test examples (for a total of 120,000 training and 7,600 testing points ([AG News Dataset | Papers With Code](https://paperswithcode.com/dataset/ag-news#:~:text=,https%3A%2F%2Farxiv.org%2Fpdf%2F1509.01626.pdf%5D%28https%3A%2F%2Farxiv.org%2Fpdf%2F1509.01626.pdf))】The texts themselves are typically short news headlines or brief descriptions. In this activity, we'll use the AG_NEWS dataset to train and evaluate an RNN-based model, seeing how well it can learn to predict the topic of a news piece from the text.\n",
        "\n",
        "## Goals of this Activity 🎯\n",
        "\n",
        "- **Understand** the basics of text classification and why it’s an important task in NLP.\n",
        "- **Explain** what RNNs are and identify the differences between a simple RNN, an LSTM, and a GRU (and know when one might be preferred over the others).\n",
        "- **Apply** an RNN model (such as an LSTM) to the AG_NEWS dataset to classify news headlines into the correct category.\n",
        "- **Evaluate** the performance of your text classification model and interpret the results.\n",
        "\n"
      ],
      "metadata": {
        "id": "ZflJP--wYAS-"
      },
      "id": "ZflJP--wYAS-"
    },
    {
      "cell_type": "markdown",
      "id": "4a9801f9",
      "metadata": {
        "id": "4a9801f9"
      },
      "source": [
        "## Install libraries"
      ]
    },
    {
      "cell_type": "code",
      "source": [
        "# === Environment Check ===\n",
        "# List all conda environments (optional).\n",
        "!conda env list\n",
        "\n",
        "# === PyTorch Libraries ===\n",
        "# Install PyTorch and related libraries with specific versions to ensure compatibility.\n",
        "!pip install torch==2.0.1 torchvision==0.15.2 torchaudio==2.0.2 torchtext==0.15.2\n",
        "\n",
        "# === Scientific Computing and Plotting Libraries ===\n",
        "# Install SciPy for scientific computations and scikit-plot for easy plotting of evaluation metrics.\n",
        "!pip install scipy==1.9.3\n",
        "!pip install scikit-plot\n",
        "\n",
        "# === Additional Utilities ===\n",
        "# Install Portalocker for file locking mechanisms, which may be required by some libraries.\n",
        "!pip install portalocker\n",
        "\n",
        "# Note: After installing these libraries, please restart your session (Runtime -> Restart Session)\n",
        "# before proceeding to import and use them.\n"
      ],
      "metadata": {
        "colab": {
          "base_uri": "https://localhost:8080/",
          "height": 1000
        },
        "collapsed": true,
        "id": "O4ixB0xta-sx",
        "outputId": "79780cf4-da80-432b-ebfd-3adb78e191bf"
      },
      "id": "O4ixB0xta-sx",
      "execution_count": null,
      "outputs": [
        {
          "output_type": "stream",
          "name": "stdout",
          "text": [
            "/bin/bash: line 1: conda: command not found\n",
            "Collecting torch==2.0.1\n",
            "  Downloading torch-2.0.1-cp311-cp311-manylinux1_x86_64.whl.metadata (24 kB)\n",
            "Collecting torchvision==0.15.2\n",
            "  Downloading torchvision-0.15.2-cp311-cp311-manylinux1_x86_64.whl.metadata (11 kB)\n",
            "Collecting torchaudio==2.0.2\n",
            "  Downloading torchaudio-2.0.2-cp311-cp311-manylinux1_x86_64.whl.metadata (1.2 kB)\n",
            "Collecting torchtext==0.15.2\n",
            "  Downloading torchtext-0.15.2-cp311-cp311-manylinux1_x86_64.whl.metadata (7.4 kB)\n",
            "Requirement already satisfied: filelock in /usr/local/lib/python3.11/dist-packages (from torch==2.0.1) (3.17.0)\n",
            "Requirement already satisfied: typing-extensions in /usr/local/lib/python3.11/dist-packages (from torch==2.0.1) (4.12.2)\n",
            "Requirement already satisfied: sympy in /usr/local/lib/python3.11/dist-packages (from torch==2.0.1) (1.13.1)\n",
            "Requirement already satisfied: networkx in /usr/local/lib/python3.11/dist-packages (from torch==2.0.1) (3.4.2)\n",
            "Requirement already satisfied: jinja2 in /usr/local/lib/python3.11/dist-packages (from torch==2.0.1) (3.1.5)\n",
            "Collecting nvidia-cuda-nvrtc-cu11==11.7.99 (from torch==2.0.1)\n",
            "  Downloading nvidia_cuda_nvrtc_cu11-11.7.99-2-py3-none-manylinux1_x86_64.whl.metadata (1.5 kB)\n",
            "Collecting nvidia-cuda-runtime-cu11==11.7.99 (from torch==2.0.1)\n",
            "  Downloading nvidia_cuda_runtime_cu11-11.7.99-py3-none-manylinux1_x86_64.whl.metadata (1.6 kB)\n",
            "Collecting nvidia-cuda-cupti-cu11==11.7.101 (from torch==2.0.1)\n",
            "  Downloading nvidia_cuda_cupti_cu11-11.7.101-py3-none-manylinux1_x86_64.whl.metadata (1.6 kB)\n",
            "Collecting nvidia-cudnn-cu11==8.5.0.96 (from torch==2.0.1)\n",
            "  Downloading nvidia_cudnn_cu11-8.5.0.96-2-py3-none-manylinux1_x86_64.whl.metadata (1.6 kB)\n",
            "Collecting nvidia-cublas-cu11==11.10.3.66 (from torch==2.0.1)\n",
            "  Downloading nvidia_cublas_cu11-11.10.3.66-py3-none-manylinux1_x86_64.whl.metadata (1.6 kB)\n",
            "Collecting nvidia-cufft-cu11==10.9.0.58 (from torch==2.0.1)\n",
            "  Downloading nvidia_cufft_cu11-10.9.0.58-py3-none-manylinux2014_x86_64.whl.metadata (1.5 kB)\n",
            "Collecting nvidia-curand-cu11==10.2.10.91 (from torch==2.0.1)\n",
            "  Downloading nvidia_curand_cu11-10.2.10.91-py3-none-manylinux1_x86_64.whl.metadata (1.6 kB)\n",
            "Collecting nvidia-cusolver-cu11==11.4.0.1 (from torch==2.0.1)\n",
            "  Downloading nvidia_cusolver_cu11-11.4.0.1-2-py3-none-manylinux1_x86_64.whl.metadata (1.6 kB)\n",
            "Collecting nvidia-cusparse-cu11==11.7.4.91 (from torch==2.0.1)\n",
            "  Downloading nvidia_cusparse_cu11-11.7.4.91-py3-none-manylinux1_x86_64.whl.metadata (1.6 kB)\n",
            "Collecting nvidia-nccl-cu11==2.14.3 (from torch==2.0.1)\n",
            "  Downloading nvidia_nccl_cu11-2.14.3-py3-none-manylinux1_x86_64.whl.metadata (1.8 kB)\n",
            "Collecting nvidia-nvtx-cu11==11.7.91 (from torch==2.0.1)\n",
            "  Downloading nvidia_nvtx_cu11-11.7.91-py3-none-manylinux1_x86_64.whl.metadata (1.7 kB)\n",
            "Collecting triton==2.0.0 (from torch==2.0.1)\n",
            "  Downloading triton-2.0.0-1-cp311-cp311-manylinux2014_x86_64.manylinux_2_17_x86_64.whl.metadata (1.0 kB)\n",
            "Requirement already satisfied: numpy in /usr/local/lib/python3.11/dist-packages (from torchvision==0.15.2) (1.26.4)\n",
            "Requirement already satisfied: requests in /usr/local/lib/python3.11/dist-packages (from torchvision==0.15.2) (2.32.3)\n",
            "Requirement already satisfied: pillow!=8.3.*,>=5.3.0 in /usr/local/lib/python3.11/dist-packages (from torchvision==0.15.2) (11.1.0)\n",
            "Requirement already satisfied: tqdm in /usr/local/lib/python3.11/dist-packages (from torchtext==0.15.2) (4.67.1)\n",
            "Collecting torchdata==0.6.1 (from torchtext==0.15.2)\n",
            "  Downloading torchdata-0.6.1-cp311-cp311-manylinux_2_17_x86_64.manylinux2014_x86_64.whl.metadata (13 kB)\n",
            "Requirement already satisfied: setuptools in /usr/local/lib/python3.11/dist-packages (from nvidia-cublas-cu11==11.10.3.66->torch==2.0.1) (75.1.0)\n",
            "Requirement already satisfied: wheel in /usr/local/lib/python3.11/dist-packages (from nvidia-cublas-cu11==11.10.3.66->torch==2.0.1) (0.45.1)\n",
            "Requirement already satisfied: urllib3>=1.25 in /usr/local/lib/python3.11/dist-packages (from torchdata==0.6.1->torchtext==0.15.2) (2.3.0)\n",
            "Requirement already satisfied: cmake in /usr/local/lib/python3.11/dist-packages (from triton==2.0.0->torch==2.0.1) (3.31.4)\n",
            "Collecting lit (from triton==2.0.0->torch==2.0.1)\n",
            "  Downloading lit-18.1.8-py3-none-any.whl.metadata (2.5 kB)\n",
            "Requirement already satisfied: MarkupSafe>=2.0 in /usr/local/lib/python3.11/dist-packages (from jinja2->torch==2.0.1) (3.0.2)\n",
            "Requirement already satisfied: charset-normalizer<4,>=2 in /usr/local/lib/python3.11/dist-packages (from requests->torchvision==0.15.2) (3.4.1)\n",
            "Requirement already satisfied: idna<4,>=2.5 in /usr/local/lib/python3.11/dist-packages (from requests->torchvision==0.15.2) (3.10)\n",
            "Requirement already satisfied: certifi>=2017.4.17 in /usr/local/lib/python3.11/dist-packages (from requests->torchvision==0.15.2) (2025.1.31)\n",
            "Requirement already satisfied: mpmath<1.4,>=1.1.0 in /usr/local/lib/python3.11/dist-packages (from sympy->torch==2.0.1) (1.3.0)\n",
            "Downloading torch-2.0.1-cp311-cp311-manylinux1_x86_64.whl (619.9 MB)\n",
            "\u001b[2K   \u001b[90m━━━━━━━━━━━━━━━━━━━━━━━━━━━━━━━━━━━━━━━━\u001b[0m \u001b[32m619.9/619.9 MB\u001b[0m \u001b[31m1.9 MB/s\u001b[0m eta \u001b[36m0:00:00\u001b[0m\n",
            "\u001b[?25hDownloading torchvision-0.15.2-cp311-cp311-manylinux1_x86_64.whl (6.0 MB)\n",
            "\u001b[2K   \u001b[90m━━━━━━━━━━━━━━━━━━━━━━━━━━━━━━━━━━━━━━━━\u001b[0m \u001b[32m6.0/6.0 MB\u001b[0m \u001b[31m100.5 MB/s\u001b[0m eta \u001b[36m0:00:00\u001b[0m\n",
            "\u001b[?25hDownloading torchaudio-2.0.2-cp311-cp311-manylinux1_x86_64.whl (4.4 MB)\n",
            "\u001b[2K   \u001b[90m━━━━━━━━━━━━━━━━━━━━━━━━━━━━━━━━━━━━━━━━\u001b[0m \u001b[32m4.4/4.4 MB\u001b[0m \u001b[31m100.0 MB/s\u001b[0m eta \u001b[36m0:00:00\u001b[0m\n",
            "\u001b[?25hDownloading torchtext-0.15.2-cp311-cp311-manylinux1_x86_64.whl (2.0 MB)\n",
            "\u001b[2K   \u001b[90m━━━━━━━━━━━━━━━━━━━━━━━━━━━━━━━━━━━━━━━━\u001b[0m \u001b[32m2.0/2.0 MB\u001b[0m \u001b[31m82.1 MB/s\u001b[0m eta \u001b[36m0:00:00\u001b[0m\n",
            "\u001b[?25hDownloading nvidia_cublas_cu11-11.10.3.66-py3-none-manylinux1_x86_64.whl (317.1 MB)\n",
            "\u001b[2K   \u001b[90m━━━━━━━━━━━━━━━━━━━━━━━━━━━━━━━━━━━━━━━━\u001b[0m \u001b[32m317.1/317.1 MB\u001b[0m \u001b[31m3.1 MB/s\u001b[0m eta \u001b[36m0:00:00\u001b[0m\n",
            "\u001b[?25hDownloading nvidia_cuda_cupti_cu11-11.7.101-py3-none-manylinux1_x86_64.whl (11.8 MB)\n",
            "\u001b[2K   \u001b[90m━━━━━━━━━━━━━━━━━━━━━━━━━━━━━━━━━━━━━━━━\u001b[0m \u001b[32m11.8/11.8 MB\u001b[0m \u001b[31m121.1 MB/s\u001b[0m eta \u001b[36m0:00:00\u001b[0m\n",
            "\u001b[?25hDownloading nvidia_cuda_nvrtc_cu11-11.7.99-2-py3-none-manylinux1_x86_64.whl (21.0 MB)\n",
            "\u001b[2K   \u001b[90m━━━━━━━━━━━━━━━━━━━━━━━━━━━━━━━━━━━━━━━━\u001b[0m \u001b[32m21.0/21.0 MB\u001b[0m \u001b[31m95.6 MB/s\u001b[0m eta \u001b[36m0:00:00\u001b[0m\n",
            "\u001b[?25hDownloading nvidia_cuda_runtime_cu11-11.7.99-py3-none-manylinux1_x86_64.whl (849 kB)\n",
            "\u001b[2K   \u001b[90m━━━━━━━━━━━━━━━━━━━━━━━━━━━━━━━━━━━━━━━━\u001b[0m \u001b[32m849.3/849.3 kB\u001b[0m \u001b[31m56.2 MB/s\u001b[0m eta \u001b[36m0:00:00\u001b[0m\n",
            "\u001b[?25hDownloading nvidia_cudnn_cu11-8.5.0.96-2-py3-none-manylinux1_x86_64.whl (557.1 MB)\n",
            "\u001b[2K   \u001b[90m━━━━━━━━━━━━━━━━━━━━━━━━━━━━━━━━━━━━━━━━\u001b[0m \u001b[32m557.1/557.1 MB\u001b[0m \u001b[31m2.3 MB/s\u001b[0m eta \u001b[36m0:00:00\u001b[0m\n",
            "\u001b[?25hDownloading nvidia_cufft_cu11-10.9.0.58-py3-none-manylinux2014_x86_64.whl (168.4 MB)\n",
            "\u001b[2K   \u001b[90m━━━━━━━━━━━━━━━━━━━━━━━━━━━━━━━━━━━━━━━━\u001b[0m \u001b[32m168.4/168.4 MB\u001b[0m \u001b[31m5.4 MB/s\u001b[0m eta \u001b[36m0:00:00\u001b[0m\n",
            "\u001b[?25hDownloading nvidia_curand_cu11-10.2.10.91-py3-none-manylinux1_x86_64.whl (54.6 MB)\n",
            "\u001b[2K   \u001b[90m━━━━━━━━━━━━━━━━━━━━━━━━━━━━━━━━━━━━━━━━\u001b[0m \u001b[32m54.6/54.6 MB\u001b[0m \u001b[31m34.0 MB/s\u001b[0m eta \u001b[36m0:00:00\u001b[0m\n",
            "\u001b[?25hDownloading nvidia_cusolver_cu11-11.4.0.1-2-py3-none-manylinux1_x86_64.whl (102.6 MB)\n",
            "\u001b[2K   \u001b[90m━━━━━━━━━━━━━━━━━━━━━━━━━━━━━━━━━━━━━━━━\u001b[0m \u001b[32m102.6/102.6 MB\u001b[0m \u001b[31m19.7 MB/s\u001b[0m eta \u001b[36m0:00:00\u001b[0m\n",
            "\u001b[?25hDownloading nvidia_cusparse_cu11-11.7.4.91-py3-none-manylinux1_x86_64.whl (173.2 MB)\n",
            "\u001b[2K   \u001b[90m━━━━━━━━━━━━━━━━━━━━━━━━━━━━━━━━━━━━━━━━\u001b[0m \u001b[32m173.2/173.2 MB\u001b[0m \u001b[31m3.9 MB/s\u001b[0m eta \u001b[36m0:00:00\u001b[0m\n",
            "\u001b[?25hDownloading nvidia_nccl_cu11-2.14.3-py3-none-manylinux1_x86_64.whl (177.1 MB)\n",
            "\u001b[2K   \u001b[90m━━━━━━━━━━━━━━━━━━━━━━━━━━━━━━━━━━━━━━━━\u001b[0m \u001b[32m177.1/177.1 MB\u001b[0m \u001b[31m6.7 MB/s\u001b[0m eta \u001b[36m0:00:00\u001b[0m\n",
            "\u001b[?25hDownloading nvidia_nvtx_cu11-11.7.91-py3-none-manylinux1_x86_64.whl (98 kB)\n",
            "\u001b[2K   \u001b[90m━━━━━━━━━━━━━━━━━━━━━━━━━━━━━━━━━━━━━━━━\u001b[0m \u001b[32m98.6/98.6 kB\u001b[0m \u001b[31m9.5 MB/s\u001b[0m eta \u001b[36m0:00:00\u001b[0m\n",
            "\u001b[?25hDownloading torchdata-0.6.1-cp311-cp311-manylinux_2_17_x86_64.manylinux2014_x86_64.whl (4.6 MB)\n",
            "\u001b[2K   \u001b[90m━━━━━━━━━━━━━━━━━━━━━━━━━━━━━━━━━━━━━━━━\u001b[0m \u001b[32m4.6/4.6 MB\u001b[0m \u001b[31m114.3 MB/s\u001b[0m eta \u001b[36m0:00:00\u001b[0m\n",
            "\u001b[?25hDownloading triton-2.0.0-1-cp311-cp311-manylinux2014_x86_64.manylinux_2_17_x86_64.whl (63.3 MB)\n",
            "\u001b[2K   \u001b[90m━━━━━━━━━━━━━━━━━━━━━━━━━━━━━━━━━━━━━━━━\u001b[0m \u001b[32m63.3/63.3 MB\u001b[0m \u001b[31m38.3 MB/s\u001b[0m eta \u001b[36m0:00:00\u001b[0m\n",
            "\u001b[?25hDownloading lit-18.1.8-py3-none-any.whl (96 kB)\n",
            "\u001b[2K   \u001b[90m━━━━━━━━━━━━━━━━━━━━━━━━━━━━━━━━━━━━━━━━\u001b[0m \u001b[32m96.4/96.4 kB\u001b[0m \u001b[31m10.0 MB/s\u001b[0m eta \u001b[36m0:00:00\u001b[0m\n",
            "\u001b[?25hInstalling collected packages: lit, nvidia-nvtx-cu11, nvidia-nccl-cu11, nvidia-cusparse-cu11, nvidia-curand-cu11, nvidia-cufft-cu11, nvidia-cuda-runtime-cu11, nvidia-cuda-nvrtc-cu11, nvidia-cuda-cupti-cu11, nvidia-cublas-cu11, nvidia-cusolver-cu11, nvidia-cudnn-cu11, triton, torch, torchdata, torchvision, torchtext, torchaudio\n",
            "  Attempting uninstall: triton\n",
            "    Found existing installation: triton 3.1.0\n",
            "    Uninstalling triton-3.1.0:\n",
            "      Successfully uninstalled triton-3.1.0\n",
            "  Attempting uninstall: torch\n",
            "    Found existing installation: torch 2.5.1+cu124\n",
            "    Uninstalling torch-2.5.1+cu124:\n",
            "      Successfully uninstalled torch-2.5.1+cu124\n",
            "  Attempting uninstall: torchvision\n",
            "    Found existing installation: torchvision 0.20.1+cu124\n",
            "    Uninstalling torchvision-0.20.1+cu124:\n",
            "      Successfully uninstalled torchvision-0.20.1+cu124\n",
            "  Attempting uninstall: torchaudio\n",
            "    Found existing installation: torchaudio 2.5.1+cu124\n",
            "    Uninstalling torchaudio-2.5.1+cu124:\n",
            "      Successfully uninstalled torchaudio-2.5.1+cu124\n",
            "Successfully installed lit-18.1.8 nvidia-cublas-cu11-11.10.3.66 nvidia-cuda-cupti-cu11-11.7.101 nvidia-cuda-nvrtc-cu11-11.7.99 nvidia-cuda-runtime-cu11-11.7.99 nvidia-cudnn-cu11-8.5.0.96 nvidia-cufft-cu11-10.9.0.58 nvidia-curand-cu11-10.2.10.91 nvidia-cusolver-cu11-11.4.0.1 nvidia-cusparse-cu11-11.7.4.91 nvidia-nccl-cu11-2.14.3 nvidia-nvtx-cu11-11.7.91 torch-2.0.1 torchaudio-2.0.2 torchdata-0.6.1 torchtext-0.15.2 torchvision-0.15.2 triton-2.0.0\n",
            "Collecting scipy==1.9.3\n",
            "  Downloading scipy-1.9.3-cp311-cp311-manylinux_2_17_x86_64.manylinux2014_x86_64.whl.metadata (58 kB)\n",
            "\u001b[2K     \u001b[90m━━━━━━━━━━━━━━━━━━━━━━━━━━━━━━━━━━━━━━━━\u001b[0m \u001b[32m58.4/58.4 kB\u001b[0m \u001b[31m4.4 MB/s\u001b[0m eta \u001b[36m0:00:00\u001b[0m\n",
            "\u001b[?25hCollecting numpy<1.26.0,>=1.18.5 (from scipy==1.9.3)\n",
            "  Downloading numpy-1.25.2-cp311-cp311-manylinux_2_17_x86_64.manylinux2014_x86_64.whl.metadata (5.6 kB)\n",
            "Downloading scipy-1.9.3-cp311-cp311-manylinux_2_17_x86_64.manylinux2014_x86_64.whl (33.4 MB)\n",
            "\u001b[2K   \u001b[90m━━━━━━━━━━━━━━━━━━━━━━━━━━━━━━━━━━━━━━━━\u001b[0m \u001b[32m33.4/33.4 MB\u001b[0m \u001b[31m14.1 MB/s\u001b[0m eta \u001b[36m0:00:00\u001b[0m\n",
            "\u001b[?25hDownloading numpy-1.25.2-cp311-cp311-manylinux_2_17_x86_64.manylinux2014_x86_64.whl (18.2 MB)\n",
            "\u001b[2K   \u001b[90m━━━━━━━━━━━━━━━━━━━━━━━━━━━━━━━━━━━━━━━━\u001b[0m \u001b[32m18.2/18.2 MB\u001b[0m \u001b[31m111.3 MB/s\u001b[0m eta \u001b[36m0:00:00\u001b[0m\n",
            "\u001b[?25hInstalling collected packages: numpy, scipy\n",
            "  Attempting uninstall: numpy\n",
            "    Found existing installation: numpy 1.26.4\n",
            "    Uninstalling numpy-1.26.4:\n",
            "      Successfully uninstalled numpy-1.26.4\n",
            "  Attempting uninstall: scipy\n",
            "    Found existing installation: scipy 1.13.1\n",
            "    Uninstalling scipy-1.13.1:\n",
            "      Successfully uninstalled scipy-1.13.1\n",
            "\u001b[31mERROR: pip's dependency resolver does not currently take into account all the packages that are installed. This behaviour is the source of the following dependency conflicts.\n",
            "jax 0.4.33 requires scipy>=1.10, but you have scipy 1.9.3 which is incompatible.\n",
            "cvxpy 1.6.2 requires scipy>=1.11.0, but you have scipy 1.9.3 which is incompatible.\n",
            "scikit-image 0.25.2 requires scipy>=1.11.4, but you have scipy 1.9.3 which is incompatible.\n",
            "tensorflow 2.18.0 requires numpy<2.1.0,>=1.26.0, but you have numpy 1.25.2 which is incompatible.\n",
            "langchain 0.3.19 requires numpy<2,>=1.26.4; python_version < \"3.12\", but you have numpy 1.25.2 which is incompatible.\n",
            "jaxlib 0.4.33 requires scipy>=1.10, but you have scipy 1.9.3 which is incompatible.\n",
            "imbalanced-learn 0.13.0 requires scipy<2,>=1.10.1, but you have scipy 1.9.3 which is incompatible.\n",
            "albumentations 2.0.4 requires scipy>=1.10.0, but you have scipy 1.9.3 which is incompatible.\u001b[0m\u001b[31m\n",
            "\u001b[0mSuccessfully installed numpy-1.25.2 scipy-1.9.3\n"
          ]
        },
        {
          "output_type": "display_data",
          "data": {
            "application/vnd.colab-display-data+json": {
              "pip_warning": {
                "packages": [
                  "numpy"
                ]
              },
              "id": "d5210db2e6c9430283f65e92fd654531"
            }
          },
          "metadata": {}
        },
        {
          "output_type": "stream",
          "name": "stdout",
          "text": [
            "Collecting scikit-plot\n",
            "  Downloading scikit_plot-0.3.7-py3-none-any.whl.metadata (7.1 kB)\n",
            "Requirement already satisfied: matplotlib>=1.4.0 in /usr/local/lib/python3.11/dist-packages (from scikit-plot) (3.10.0)\n",
            "Requirement already satisfied: scikit-learn>=0.18 in /usr/local/lib/python3.11/dist-packages (from scikit-plot) (1.6.1)\n",
            "Requirement already satisfied: scipy>=0.9 in /usr/local/lib/python3.11/dist-packages (from scikit-plot) (1.9.3)\n",
            "Requirement already satisfied: joblib>=0.10 in /usr/local/lib/python3.11/dist-packages (from scikit-plot) (1.4.2)\n",
            "Requirement already satisfied: contourpy>=1.0.1 in /usr/local/lib/python3.11/dist-packages (from matplotlib>=1.4.0->scikit-plot) (1.3.1)\n",
            "Requirement already satisfied: cycler>=0.10 in /usr/local/lib/python3.11/dist-packages (from matplotlib>=1.4.0->scikit-plot) (0.12.1)\n",
            "Requirement already satisfied: fonttools>=4.22.0 in /usr/local/lib/python3.11/dist-packages (from matplotlib>=1.4.0->scikit-plot) (4.56.0)\n",
            "Requirement already satisfied: kiwisolver>=1.3.1 in /usr/local/lib/python3.11/dist-packages (from matplotlib>=1.4.0->scikit-plot) (1.4.8)\n",
            "Requirement already satisfied: numpy>=1.23 in /usr/local/lib/python3.11/dist-packages (from matplotlib>=1.4.0->scikit-plot) (1.25.2)\n",
            "Requirement already satisfied: packaging>=20.0 in /usr/local/lib/python3.11/dist-packages (from matplotlib>=1.4.0->scikit-plot) (24.2)\n",
            "Requirement already satisfied: pillow>=8 in /usr/local/lib/python3.11/dist-packages (from matplotlib>=1.4.0->scikit-plot) (11.1.0)\n",
            "Requirement already satisfied: pyparsing>=2.3.1 in /usr/local/lib/python3.11/dist-packages (from matplotlib>=1.4.0->scikit-plot) (3.2.1)\n",
            "Requirement already satisfied: python-dateutil>=2.7 in /usr/local/lib/python3.11/dist-packages (from matplotlib>=1.4.0->scikit-plot) (2.8.2)\n",
            "Requirement already satisfied: threadpoolctl>=3.1.0 in /usr/local/lib/python3.11/dist-packages (from scikit-learn>=0.18->scikit-plot) (3.5.0)\n",
            "Requirement already satisfied: six>=1.5 in /usr/local/lib/python3.11/dist-packages (from python-dateutil>=2.7->matplotlib>=1.4.0->scikit-plot) (1.17.0)\n",
            "Downloading scikit_plot-0.3.7-py3-none-any.whl (33 kB)\n",
            "Installing collected packages: scikit-plot\n",
            "Successfully installed scikit-plot-0.3.7\n",
            "Collecting portalocker\n",
            "  Downloading portalocker-3.1.1-py3-none-any.whl.metadata (8.6 kB)\n",
            "Downloading portalocker-3.1.1-py3-none-any.whl (19 kB)\n",
            "Installing collected packages: portalocker\n",
            "Successfully installed portalocker-3.1.1\n"
          ]
        }
      ]
    },
    {
      "cell_type": "markdown",
      "id": "9IUa6uRqQtGu",
      "metadata": {
        "id": "9IUa6uRqQtGu"
      },
      "source": [
        "## Import libraries"
      ]
    },
    {
      "cell_type": "code",
      "execution_count": null,
      "id": "878b524f",
      "metadata": {
        "id": "878b524f"
      },
      "outputs": [],
      "source": [
        "# === System and Utility Libraries ===\n",
        "import platform   # Provides information about the system/platform\n",
        "import time       # Allows tracking time for operations\n",
        "import random     # Random number generation for reproducibility\n",
        "\n",
        "# === Data Processing and Numerical Computation ===\n",
        "import numpy as np  # Numerical operations and array manipulation\n",
        "\n",
        "# === Visualization Libraries ===\n",
        "import matplotlib.pyplot as plt  # Plotting and data visualization\n",
        "import seaborn as sns             # Enhanced statistical data visualization\n",
        "import scikitplot as skplt         # Convenient plotting of machine learning metrics (e.g., confusion matrix)\n",
        "\n",
        "# === PyTorch and TorchText Libraries ===\n",
        "# PyTorch core library and neural network modules\n",
        "import torch\n",
        "from torch import nn                      # Neural network layers and modules\n",
        "from torch.nn import functional as F        # Functional interface for neural network operations\n",
        "\n",
        "# PyTorch Text and Dataloader utilities\n",
        "from torchtext.datasets import AG_NEWS    # AG_NEWS text classification dataset\n",
        "from torchtext.data.utils import get_tokenizer            # Tokenizer for text processing\n",
        "from torchtext.vocab import build_vocab_from_iterator       # Build vocabulary from text data\n",
        "from torchtext.data.functional import to_map_style_dataset  # Convert dataset to a map-style dataset\n",
        "\n",
        "# Data Loading and Splitting\n",
        "from torch.utils.data import DataLoader      # Data loader for batching and shuffling data\n",
        "from torch.utils.data.dataset import random_split  # Splitting dataset into training/validation sets\n",
        "\n",
        "# === Additional Utilities ===\n",
        "import gc  # Garbage collector interface for cleaning up memory"
      ]
    },
    {
      "cell_type": "markdown",
      "source": [
        "## Device Selection and Visual Indicator with Color Coding"
      ],
      "metadata": {
        "id": "_3UexlOMmGEh"
      },
      "id": "_3UexlOMmGEh"
    },
    {
      "cell_type": "code",
      "execution_count": null,
      "id": "3bab55f3",
      "metadata": {
        "id": "3bab55f3",
        "colab": {
          "base_uri": "https://localhost:8080/"
        },
        "outputId": "e9f90808-88fc-4410-eb3a-fe797a41ad68"
      },
      "outputs": [
        {
          "output_type": "stream",
          "name": "stdout",
          "text": [
            "Using device: \u001b[32m\u001b[1mCUDA (GPU)\u001b[0m 🟢 identified as: Tesla T4\n"
          ]
        }
      ],
      "source": [
        "def get_device_info():\n",
        "    \"\"\"\n",
        "    Determines the available computation device (GPU or CPU) and prints a visually appealing\n",
        "    message with colored output. Returns the device.\n",
        "    \"\"\"\n",
        "    device = \"cuda\" if torch.cuda.is_available() else \"cpu\"\n",
        "\n",
        "    if device == \"cuda\":\n",
        "        device_name = torch.cuda.get_device_name(0)\n",
        "        device_indicator = \"\\033[32m\\033[1mCUDA (GPU)\\033[0m 🟢\"\n",
        "        print(f\"Using device: {device_indicator} identified as: {device_name}\")\n",
        "    else:\n",
        "        processor_info = platform.processor() or \"CPU\"\n",
        "        device_indicator = \"\\033[31m\\033[1mCPU\\033[0m 🔴\"\n",
        "        print(f\"Using device: {device_indicator} identified as: {processor_info}\")\n",
        "\n",
        "    return device\n",
        "\n",
        "# Get device and assign to a global variable.\n",
        "device = get_device_info()"
      ]
    },
    {
      "cell_type": "markdown",
      "id": "3d38956d",
      "metadata": {
        "id": "3d38956d"
      },
      "source": [
        "## Get the train and the test datasets and dataloaders"
      ]
    },
    {
      "cell_type": "markdown",
      "source": [
        "## AG News Dataset 📰🗞️📈\n",
        "\n",
        "The **AG News Dataset** is a widely-used collection in the field of Natural Language Processing (NLP), particularly for text classification tasks. It is included in the Torchtext library and has been instrumental in many research projects and applications.\n",
        "\n",
        "### Dataset Overview\n",
        "- **Training Samples:** Over 1 million news articles\n",
        "- **Test Samples:** 50,000 news articles\n",
        "\n",
        "### Categories\n",
        "The dataset originally categorizes news into 4 classes:\n",
        "1. **World**\n",
        "2. **Sports**\n",
        "3. **Business**\n",
        "4. **Sci/Tech**\n",
        "\n",
        "For this exercise, the labels have been reindexed to follow a 0-based numbering system:\n",
        "- **0 - World** 🌎\n",
        "- **1 - Sports** 🏈\n",
        "- **2 - Business** 📁\n",
        "- **3 - Sci/Tech** 📡\n"
      ],
      "metadata": {
        "id": "8omLjmWYNQR1"
      },
      "id": "8omLjmWYNQR1"
    },
    {
      "cell_type": "markdown",
      "source": [
        "## Data Loading and Preparation\n",
        "\n",
        "1. **Loading the Dataset**  \n",
        "   We begin by loading the AG News dataset using the `AG_NEWS()` function. The dataset is split into:\n",
        "   - `train_dataset`: Used for training the model.\n",
        "   - `test_dataset`: Used for evaluating the model's performance.\n",
        "\n",
        "2. **Converting to a Map-Style Dataset**  \n",
        "   Next, we apply the `to_map_style_dataset()` function. This function converts the dataset into a format that allows direct item access via indices. This capability is crucial for random data access, which helps in shuffling the training data to avoid any biases during model training.\n"
      ],
      "metadata": {
        "id": "aZwIqflwPL4U"
      },
      "id": "aZwIqflwPL4U"
    },
    {
      "cell_type": "code",
      "execution_count": null,
      "id": "49fbed19",
      "metadata": {
        "id": "49fbed19"
      },
      "outputs": [],
      "source": [
        "#Loading the dataset\n",
        "train_dataset, test_dataset = AG_NEWS()\n",
        "\n",
        "#Applying map style\n",
        "train_dataset, test_dataset = to_map_style_dataset(train_dataset), to_map_style_dataset(test_dataset)"
      ]
    },
    {
      "cell_type": "markdown",
      "source": [
        "## Key Terminology and Implementation Details\n",
        "\n",
        "Before proceeding, let's define some important terms to enhance our understanding of the upcoming steps.\n",
        "\n",
        "### Tokenization in NLP\n",
        "**Tokenization** is the process of breaking down text into smaller units called **tokens** (usually words or characters). This process is fundamental in Natural Language Processing (NLP) as it converts raw text into manageable pieces for further analysis.\n",
        "\n",
        "#### How Tokenization Works\n",
        "- **Normalization:**  \n",
        "  The text is typically normalized by converting it to lowercase and removing or handling punctuation. This ensures consistency in token representation.\n",
        "  \n",
        "- **Splitting:**  \n",
        "  After normalization, the text is split into individual words (tokens), generally using spaces as the delimiter.\n",
        "\n",
        "### Implementation Details\n",
        "\n",
        "- **Tokenizer Setup:**  \n",
        "  The function `get_tokenizer('basic_english')` retrieves a simple tokenizer that:\n",
        "  - Splits the text into tokens based on spaces.\n",
        "  - Handles basic normalization (e.g., converting text to lowercase).\n",
        "\n",
        "- **Yielding Tokens:**  \n",
        "  The function `yield_tokens()` applies the `basic_english` tokenizer to the provided data. For example, if the input is `¡Viva México!`, it returns:\n",
        "  ```python\n",
        "  ['viva', 'mexico']\n"
      ],
      "metadata": {
        "id": "eio2SVungdXR"
      },
      "id": "eio2SVungdXR"
    },
    {
      "cell_type": "code",
      "execution_count": null,
      "id": "9c372eb9",
      "metadata": {
        "id": "9c372eb9"
      },
      "outputs": [],
      "source": [
        "# Define the tokenizer using basic English tokenization rules.\n",
        "tokeniser = get_tokenizer('basic_english')\n",
        "\n",
        "def yield_tokens(data):\n",
        "    \"\"\"\n",
        "    Generator function that yields tokenized text from the input dataset.\n",
        "\n",
        "    Parameters:\n",
        "    - data: An iterable of tuples, where each tuple contains a label and a text.\n",
        "\n",
        "    Yields:\n",
        "    - A list of tokens produced by applying the tokenizer to each text entry.\n",
        "    \"\"\"\n",
        "    # Iterate over each tuple in the dataset.\n",
        "    # The underscore (_) is used to ignore the label since it's not needed for tokenization.\n",
        "    for _, text in data:\n",
        "        # Apply the tokenizer to the text and yield the resulting list of tokens.\n",
        "        yield tokeniser(text)"
      ]
    },
    {
      "cell_type": "markdown",
      "source": [
        "## Vocabulary Creation from Tokens\n",
        "\n",
        "After tokenizing the dataset, the next step is to create a **vocabulary**.\n",
        "\n",
        "### What is a Vocabulary?\n",
        "\n",
        "A vocabulary is a collection of all the unique tokens found in the dataset. This means it contains each token only once, even if a token appears multiple times. For example, if your dataset includes sentences like:\n",
        "\n",
        "- \"Machine Learning is the future\"\n",
        "- \"The future is now, old man!\"\n",
        "\n",
        "The resulting vocabulary might look like this:\n",
        "\n",
        "```python\n",
        "[\"machine\", \"learning\", \"is\", \"the\", \"future\", \"now\", \",\", \"old\", \"man\", \"!\"]\n"
      ],
      "metadata": {
        "id": "poBPnzqQVRXR"
      },
      "id": "poBPnzqQVRXR"
    },
    {
      "cell_type": "code",
      "execution_count": null,
      "id": "794d0375",
      "metadata": {
        "id": "794d0375"
      },
      "outputs": [],
      "source": [
        "# Build the vocabulary from the training dataset tokens.\n",
        "# This function creates a mapping from tokens to unique indices.\n",
        "# The 'specials' argument reserves the token \"<unk>\" for any unknown words.\n",
        "vocab = build_vocab_from_iterator(yield_tokens(train_dataset), specials=[\"<unk>\"])\n",
        "\n",
        "# Set the default index to the index of the \"<unk>\" token.\n",
        "# This ensures that any word not found in the vocabulary is replaced with \"<unk>\".\n",
        "vocab.set_default_index(vocab[\"<unk>\"])"
      ]
    },
    {
      "cell_type": "markdown",
      "source": [
        "### Testing the Tokenizer and Vocabulary\n",
        "\n",
        "Now that the tokenizer and vocabulary are defined, we can verify their functionality. Below is a simple test to demonstrate how a sample text is tokenized and converted to vocabulary indices.\n"
      ],
      "metadata": {
        "id": "yv7-wE6STBLz"
      },
      "id": "yv7-wE6STBLz"
    },
    {
      "cell_type": "code",
      "execution_count": null,
      "id": "b48268d4",
      "metadata": {
        "id": "b48268d4",
        "colab": {
          "base_uri": "https://localhost:8080/"
        },
        "outputId": "3b9af739-0c87-4f7a-d48c-c1bf4e61d6d4"
      },
      "outputs": [
        {
          "output_type": "stream",
          "name": "stdout",
          "text": [
            "\u001b[1;33mInput Text:         \u001b[0m Welcome to TC5033 😊\n",
            "\u001b[1;34mTokens:             \u001b[0m ['welcome', 'to', 'tc5033'] 🔠\n",
            "\u001b[38;5;208mVocabulary Indices: \u001b[0m [3314, 4, 0] 🔢\n",
            "\u001b[1;32m------------------------------------------------------------\u001b[0m\n",
            "\u001b[1;33mInput Text:         \u001b[0m ¡Viva México! 😊\n",
            "\u001b[1;34mTokens:             \u001b[0m ['¡viva', 'méxico', '!'] 🔠\n",
            "\u001b[38;5;208mVocabulary Indices: \u001b[0m [0, 0, 764] 🔢\n",
            "\u001b[1;32m------------------------------------------------------------\u001b[0m\n",
            "\u001b[1;33mInput Text:         \u001b[0m Lets Make America Great Again 😊\n",
            "\u001b[1;34mTokens:             \u001b[0m ['lets', 'make', 'america', 'great', 'again'] 🔠\n",
            "\u001b[38;5;208mVocabulary Indices: \u001b[0m [2972, 203, 403, 810, 325] 🔢\n",
            "\u001b[1;32m------------------------------------------------------------\u001b[0m\n",
            "\u001b[1;33mInput Text:         \u001b[0m Impossible is Nothing 😊\n",
            "\u001b[1;34mTokens:             \u001b[0m ['impossible', 'is', 'nothing'] 🔠\n",
            "\u001b[38;5;208mVocabulary Indices: \u001b[0m [5220, 21, 1803] 🔢\n",
            "\u001b[1;32m------------------------------------------------------------\u001b[0m\n"
          ]
        }
      ],
      "source": [
        "def test_tokenization(text):\n",
        "    \"\"\"\n",
        "    Tokenizes the input text and converts tokens to their corresponding vocabulary indices.\n",
        "\n",
        "    Parameters:\n",
        "    - text (str): The input string to be tokenized.\n",
        "\n",
        "    This function prints:\n",
        "    - The original text.\n",
        "    - The list of tokens produced by the tokenizer.\n",
        "    - The corresponding vocabulary indices for these tokens.\n",
        "\n",
        "    The indices are numerical representations based on the vocabulary mapping,\n",
        "    which helps the model understand the text in a format it can process.\n",
        "    \"\"\"\n",
        "    tokens = tokeniser(text)   # Tokenize the input text.\n",
        "    indices = vocab(tokens)    # Convert tokens to vocabulary indices.\n",
        "\n",
        "    # ANSI escape codes add color to the output:\n",
        "    # - Bold Yellow for Input Text\n",
        "    # - Bold Blue for Tokens\n",
        "    # - Orange for Vocabulary Indices (using extended color code)\n",
        "    # - Bold Green for the separator line\n",
        "    print(f\"\\033[1;33mInput Text:         \\033[0m {text} 😊\")\n",
        "    print(f\"\\033[1;34mTokens:             \\033[0m {tokens} 🔠\")\n",
        "    print(f\"\\033[38;5;208mVocabulary Indices: \\033[0m {indices} 🔢\")\n",
        "    print(\"\\033[1;32m\" + \"-\" * 60 + \"\\033[0m\")  # Green separator for clarity.\n",
        "\n",
        "# Test the tokenizer and vocabulary with various sample texts.\n",
        "test_tokenization('Welcome to TC5033')\n",
        "test_tokenization('¡Viva México!')\n",
        "test_tokenization('Lets Make America Great Again')\n",
        "test_tokenization('Impossible is Nothing')\n"
      ]
    },
    {
      "cell_type": "markdown",
      "source": [
        "## Vocabulary Behavior Verification\n",
        "\n",
        "This test confirms that our vocabulary is working as intended. When processing sample texts, tokens that are not present in the vocabulary are replaced with the default index (`0`), which corresponds to the `<unk>` token for unknown words.\n",
        "\n",
        "For example:\n",
        "- **`TC5033`** is not in the vocabulary → replaced with index `0`\n",
        "- **`viva`** is not in the vocabulary → replaced with index `0`\n",
        "- **`méxico`** is not in the vocabulary → replaced with index `0`\n",
        "\n",
        "This mechanism ensures that any out-of-vocabulary words are handled consistently, enabling our model to process all inputs smoothly.\n"
      ],
      "metadata": {
        "id": "XGZO7L5EYCus"
      },
      "id": "XGZO7L5EYCus"
    },
    {
      "cell_type": "markdown",
      "source": [
        "## Defining training and validation datasets"
      ],
      "metadata": {
        "id": "Y-_uah6TYnmV"
      },
      "id": "Y-_uah6TYnmV"
    },
    {
      "cell_type": "markdown",
      "source": [
        "In this exercise, we allocate **90%** of the data for training and the remaining **10%** for validation. This split is essential for evaluating the model's performance on unseen data during training.\n",
        "\n",
        "### How It Works:\n",
        "- **Defining the Split:**  \n",
        "  We define two variables, `NUM_TRAIN` and `NUM_VAL`, to represent the number of samples for training and validation, respectively.\n",
        "  \n",
        "- **Random Splitting:**  \n",
        "  The `random_split()` function is used to randomly divide the dataset into two subsets. This ensures that both subsets are representative of the overall data, which helps in reducing any bias during training.\n",
        "  \n",
        "By using a random split, we guarantee that the training and validation sets are well-distributed, enhancing the robustness of our model evaluation.\n"
      ],
      "metadata": {
        "id": "omax5EtAYtOc"
      },
      "id": "omax5EtAYtOc"
    },
    {
      "cell_type": "code",
      "execution_count": null,
      "id": "c8c8f6a6",
      "metadata": {
        "id": "c8c8f6a6",
        "colab": {
          "base_uri": "https://localhost:8080/"
        },
        "outputId": "e52aa7c3-6e94-499b-ac86-2a2b6514d64d"
      },
      "outputs": [
        {
          "output_type": "stream",
          "name": "stdout",
          "text": [
            "\u001b[1;33mTotal samples:\u001b[0m 120,000 📊\n",
            "\u001b[1;32mTraining samples:\u001b[0m 108,000 🏋️\n",
            "\u001b[1;31mValidation samples:\u001b[0m 12,000 ✅\n"
          ]
        }
      ],
      "source": [
        "# Calculate the number of samples for training and validation.\n",
        "# We allocate 90% of the training dataset for training and the remaining 10% for validation.\n",
        "\n",
        "total_samples = len(train_dataset)           # Total number of samples in the training dataset\n",
        "NUM_TRAIN = int(total_samples * 0.9)           # 90% of the samples for training\n",
        "NUM_VAL = total_samples - NUM_TRAIN            # Remaining 10% of the samples for validation\n",
        "\n",
        "# Print the sample distribution with formatted numbers and colors.\n",
        "# ANSI escape codes are used to add color:\n",
        "# - Bold Yellow for total samples\n",
        "# - Bold Green for training samples\n",
        "# - Bold Red for validation samples\n",
        "print(f\"\\033[1;33mTotal samples:\\033[0m {total_samples:,} 📊\")\n",
        "print(f\"\\033[1;32mTraining samples:\\033[0m {NUM_TRAIN:,} 🏋️\")\n",
        "print(f\"\\033[1;31mValidation samples:\\033[0m {NUM_VAL:,} ✅\")"
      ]
    },
    {
      "cell_type": "code",
      "execution_count": null,
      "id": "8290895e",
      "metadata": {
        "id": "8290895e"
      },
      "outputs": [],
      "source": [
        "# Randomly split the original training dataset into a new training set and a validation set.\n",
        "# The 'random_split()' function takes the dataset and a list specifying the number of samples for each subset.\n",
        "# Here:\n",
        "#   - 'train_dataset' gets NUM_TRAIN samples (90% of the original data)\n",
        "#   - 'val_dataset' gets NUM_VAL samples (10% of the original data)\n",
        "train_dataset, val_dataset = random_split(train_dataset, [NUM_TRAIN, NUM_VAL])"
      ]
    },
    {
      "cell_type": "markdown",
      "source": [
        "# Exploring the data"
      ],
      "metadata": {
        "id": "1JU2Rp50OMEl"
      },
      "id": "1JU2Rp50OMEl"
    },
    {
      "cell_type": "markdown",
      "source": [
        "Before diving into model training, it's important to understand the data and parameters we'll be using. Below are some key definitions:\n",
        "\n",
        "### Key Definitions\n",
        "\n",
        "- **Labels**  \n",
        "  A list of class names that map the model's numeric outputs (typically integers) to human-readable text. This helps in interpreting the predictions made by the model.\n",
        "\n",
        "- **max_tokens**  \n",
        "  The maximum number of tokens allowed per text sequence. This parameter ensures consistency by either truncating longer sequences or padding shorter ones with a special token (usually `<pad>`). For example, if `max_tokens` is set to 50, any sequence shorter than 50 tokens will be padded accordingly.\n",
        "\n",
        "- **BATCH_SIZE**  \n",
        "  The number of text sequences processed simultaneously during training. A batch size of 256 means that 256 sequences will be processed at once, which can help optimize memory usage and improve training efficiency."
      ],
      "metadata": {
        "id": "IMLjYvr0Zq41"
      },
      "id": "IMLjYvr0Zq41"
    },
    {
      "cell_type": "code",
      "execution_count": null,
      "id": "5eb459c7",
      "metadata": {
        "id": "5eb459c7"
      },
      "outputs": [],
      "source": [
        "# Define key configuration parameters for the text classification model.\n",
        "\n",
        "# A list of class labels corresponding to the AG News categories.\n",
        "labels = [\"World\", \"Sports\", \"Business\", \"Sci/Tech\"]\n",
        "\n",
        "# The maximum number of tokens allowed per text sequence.\n",
        "# Any sequence longer than this will be truncated, while shorter sequences will be padded (typically with a <pad> token).\n",
        "max_tokens = 50\n",
        "\n",
        "# Batch size for training.\n",
        "# This value determines how many text sequences are processed simultaneously during each training iteration.\n",
        "BATCH_SIZE = 256"
      ]
    },
    {
      "cell_type": "markdown",
      "source": [
        "## Data Preview\n",
        "\n",
        "To better understand our dataset, we display random samples from both the vocabulary and the training dataset. This preview provides valuable context about our data:\n",
        "\n",
        "- **Vocabulary Sample:** A snapshot of unique tokens extracted from the dataset.\n",
        "- **Training Data Sample:** Randomly selected text entries paired with their corresponding labels.\n",
        "\n",
        "These examples help verify that our data preprocessing steps are functioning as expected and offer insight into the structure and content of our dataset.\n"
      ],
      "metadata": {
        "id": "0kWvBXI6acjs"
      },
      "id": "0kWvBXI6acjs"
    },
    {
      "cell_type": "code",
      "source": [
        "# -----------------------------------------------------------------------------\n",
        "# Display Vocabulary Information\n",
        "# -----------------------------------------------------------------------------\n",
        "\n",
        "# Print the vocabulary size.\n",
        "print(f\"\\033[1;34mVocabulary size:\\033[0m {len(vocab):,} 📚\")\n",
        "\n",
        "# -----------------------------------------------------------------------------\n",
        "# Display Random Vocabulary Items\n",
        "# -----------------------------------------------------------------------------\n",
        "\n",
        "# Select random indices from the vocabulary.\n",
        "vocab_indices = random.sample(range(len(vocab)), 20)\n",
        "print(f\"\\n\\033[1;32mExamples of Vocabulary Items:\\033[0m\")\n",
        "\n",
        "# Convert the vocabulary's string-to-index mapping into a list of (token, index) pairs.\n",
        "vocab_items = list(vocab.get_stoi().items())\n",
        "for idx in vocab_indices:\n",
        "    token, index = vocab_items[idx]\n",
        "    # Print each vocabulary index (in cyan) and its corresponding token (in white).\n",
        "    print(f\"\\033[1;36m{index:3}\\033[0m: \\033[1;37m{token}\\033[0m\")\n",
        "\n",
        "# -----------------------------------------------------------------------------\n",
        "# Display Random Training Dataset Samples\n",
        "# -----------------------------------------------------------------------------\n",
        "\n",
        "# Select random indices from the training dataset.\n",
        "train_indices = random.sample(range(len(train_dataset)), 20)\n",
        "# Use an extended ANSI escape code for orange to print the header for training dataset samples.\n",
        "print(f\"\\n\\033[1;38;5;208mExamples of Training Dataset Contents:\\033[0m\")\n",
        "\n",
        "for idx in train_indices:\n",
        "    label, text = train_dataset[idx]\n",
        "    # Print the label and the corresponding text.\n",
        "    print(f\"\\033[1;33mLabel:\\033[0m [{label}] | \\033[1;37mText:\\033[0m {text}\")"
      ],
      "metadata": {
        "colab": {
          "base_uri": "https://localhost:8080/"
        },
        "id": "scqepAYsaZH6",
        "outputId": "86d13ff7-3297-4f60-ccf5-c625e9a9703a"
      },
      "id": "scqepAYsaZH6",
      "execution_count": null,
      "outputs": [
        {
          "output_type": "stream",
          "name": "stdout",
          "text": [
            "\u001b[1;34mVocabulary size:\u001b[0m 95,811 📚\n",
            "\n",
            "\u001b[1;32mExamples of Vocabulary Items:\u001b[0m\n",
            "\u001b[1;36m80681\u001b[0m: \u001b[1;37mof\\anti-french\u001b[0m\n",
            "\u001b[1;36m20179\u001b[0m: \u001b[1;37mmemorandum\u001b[0m\n",
            "\u001b[1;36m84675\u001b[0m: \u001b[1;37mrebooting\u001b[0m\n",
            "\u001b[1;36m7717\u001b[0m: \u001b[1;37mlankan\u001b[0m\n",
            "\u001b[1;36m65014\u001b[0m: \u001b[1;37mconfirming\\weak\u001b[0m\n",
            "\u001b[1;36m12168\u001b[0m: \u001b[1;37mbollywood\u001b[0m\n",
            "\u001b[1;36m29610\u001b[0m: \u001b[1;37mrituals\u001b[0m\n",
            "\u001b[1;36m66105\u001b[0m: \u001b[1;37mdays\\before\u001b[0m\n",
            "\u001b[1;36m2913\u001b[0m: \u001b[1;37msoutheast\u001b[0m\n",
            "\u001b[1;36m25431\u001b[0m: \u001b[1;37mbbdsvb\u001b[0m\n",
            "\u001b[1;36m41419\u001b[0m: \u001b[1;37m50-million-year\u001b[0m\n",
            "\u001b[1;36m95094\u001b[0m: \u001b[1;37mwoking\u001b[0m\n",
            "\u001b[1;36m87675\u001b[0m: \u001b[1;37msios\u001b[0m\n",
            "\u001b[1;36m12878\u001b[0m: \u001b[1;37mhistorically\u001b[0m\n",
            "\u001b[1;36m61864\u001b[0m: \u001b[1;37mbetter\\job\u001b[0m\n",
            "\u001b[1;36m1614\u001b[0m: \u001b[1;37mvictims\u001b[0m\n",
            "\u001b[1;36m75300\u001b[0m: \u001b[1;37mkarvan\u001b[0m\n",
            "\u001b[1;36m63952\u001b[0m: \u001b[1;37mchaudhri\u001b[0m\n",
            "\u001b[1;36m34797\u001b[0m: \u001b[1;37m410\u001b[0m\n",
            "\u001b[1;36m94994\u001b[0m: \u001b[1;37mwitasick\u001b[0m\n",
            "\n",
            "\u001b[1;38;5;208mExamples of Training Dataset Contents:\u001b[0m\n",
            "\u001b[1;33mLabel:\u001b[0m [4] | \u001b[1;37mText:\u001b[0m Microsoft Offering Early Security Warnings Microsoft Corp. has quietly begun giving some of its largest customers early warning of security problems with its products. Under the free program, some customers get three business \n",
            "\u001b[1;33mLabel:\u001b[0m [2] | \u001b[1;37mText:\u001b[0m American Aphrodite Brooklyn-native Yvette Jarvis is an 'every woman' in Greece: professional basketball player, model, TV and talk show star and Athens councilwoman.\n",
            "\u001b[1;33mLabel:\u001b[0m [3] | \u001b[1;37mText:\u001b[0m Irish pubs ban and German tax take toll of Gallaher Gallaher Group, which makes Silk Cut and Benson  amp; Hedges cigarettes, yesterday announced a small rise in profits for the first half of the year but said it was facing tough trading outside Britain, especially in Germany and Ireland.\n",
            "\u001b[1;33mLabel:\u001b[0m [1] | \u001b[1;37mText:\u001b[0m Iranian program not an  #39;imminent threat #39; IRAN #39;S nuclear program does not present an  quot;imminent threat, #39; quot; but Tehran must take measures to reassure the international community about its intentions, UN nuclear watchdog chief Mohamed ElBaradei said Sunday.\n",
            "\u001b[1;33mLabel:\u001b[0m [2] | \u001b[1;37mText:\u001b[0m Porto Wins European/South American Cup Porto FC of Portugal won the European/South American Cup, beating Once Caldas, from Colombia, 8-7 on penalty kicks after the game, including the additional time, ended in a 0-0 draw.\n",
            "\u001b[1;33mLabel:\u001b[0m [3] | \u001b[1;37mText:\u001b[0m US Warns China It May Impose Limits on Apparel Imports A senior American trade official said here today that the United States would limit apparel imports from China if American manufacturers provided evidence that such limits were needed.\n",
            "\u001b[1;33mLabel:\u001b[0m [3] | \u001b[1;37mText:\u001b[0m Dollar Falls to 6-Month Low Vs Yen  LONDON (Reuters) - The dollar hit a six-month low against  the yen and drifted near recent eight-month lows versus the  euro on Friday as investors considered the effect of China's  interest rate hike on currencies and the U.S economic outlook.\n",
            "\u001b[1;33mLabel:\u001b[0m [1] | \u001b[1;37mText:\u001b[0m Nigerian Police Say Dozens Killed in Oil Pipeline Explosion Police in Nigeria say dozens of people were killed in an explosion at an oil pipeline on the outskirts of the commercial capital, Lagos.\n",
            "\u001b[1;33mLabel:\u001b[0m [3] | \u001b[1;37mText:\u001b[0m Old age a 'burden' to employers Old age is \"an illness for which there is no cure\" for many employers, according to new research.\n",
            "\u001b[1;33mLabel:\u001b[0m [2] | \u001b[1;37mText:\u001b[0m Spanish coach facing action in race row MADRID (AFP) - Spanish national team coach Luis Aragones faces a formal investigation after Spain #39;s Football Federation decided to open disciplinary proceedings over racist comments about Thierry Henry of France and Arsenal.\n",
            "\u001b[1;33mLabel:\u001b[0m [2] | \u001b[1;37mText:\u001b[0m South Africa 230/4, Andrew Hall unbeaten on 78 South Africa finished day 1 of the first test match against India in Kanpur at 230 for the loss of 4 wickets. The proteas were in comfortable position at one stage with the loss of 2 wickets and Jacques Kallis playing alongside Andrew Hall.\n",
            "\u001b[1;33mLabel:\u001b[0m [2] | \u001b[1;37mText:\u001b[0m Angels Nip A's 5-3, Stay in AL West Race (AP) AP - Garret Anderson hit a tiebreaking double in the eighth inning, Darin Erstad had a three-run homer and the Anaheim Angels beat Oakland 5-3 Saturday to move back within two games of the AL West-leading Athletics.\n",
            "\u001b[1;33mLabel:\u001b[0m [3] | \u001b[1;37mText:\u001b[0m Merck moves to retain key staff Merck  amp; Co. has adopted a severance plan that offers some executives one-time payments of up to triple their salary plus other perks if the troubled pharmaceutical giant is acquired and they lose their jobs.\n",
            "\u001b[1;33mLabel:\u001b[0m [2] | \u001b[1;37mText:\u001b[0m The first to go THE wheels of the managerial merry-go-around have been well and truly greased with the swift sacking of Paul Sturrock at Southampton.\n",
            "\u001b[1;33mLabel:\u001b[0m [3] | \u001b[1;37mText:\u001b[0m Australia fund buys gas stake in Britain Challenger Financial Services Group, an Australian fund manager, said Monday that it bought a 5.8 percent stake in a British natural gas distribution network for 85 million Australian dollars, or \\$65 million, to diversify its portfolio of investments.\n",
            "\u001b[1;33mLabel:\u001b[0m [1] | \u001b[1;37mText:\u001b[0m Chirac Says Iraq War Created More Dangerous World Last year #39;s US-led invasion of Iraq and ousting of President Saddam Hussein has made the world more dangerous, French President Jacques Chirac said on the eve of a state visit to key US ally Britain.\n",
            "\u001b[1;33mLabel:\u001b[0m [2] | \u001b[1;37mText:\u001b[0m Ravens Plow Bengals After two subpar efforts, Jamal Lewis finds his stride Sunday, running for 186 yards, including a 75-yard touchdown that clinches a 23-9 victory over the Bengals.\n",
            "\u001b[1;33mLabel:\u001b[0m [4] | \u001b[1;37mText:\u001b[0m Simpsons swallowed whole by DVD of the future A new technology capable of storing the equivalent of 100 DVDs on a single DVD-sized disc has been unveiled by researchers from London #39;s Imperial College.\n",
            "\u001b[1;33mLabel:\u001b[0m [1] | \u001b[1;37mText:\u001b[0m More people dead in Gaza fighting Three Palestinian fighters have been killed by the Israel army after they entered a Jewish town in southern Gaza. Israeli tanks also shelled the north Gaza town of Beit Lahiya early on Wednesday, killing three Palestinians and injuring ten children.\n",
            "\u001b[1;33mLabel:\u001b[0m [2] | \u001b[1;37mText:\u001b[0m Knowles, Nestor Win Open Men's Doubles (AP) AP - Mark Knowles and Daniel Nestor won their first U.S. Open doubles title by beating Leander Paes and David Rikl 6-3, 6-3 Friday.\n"
          ]
        }
      ]
    },
    {
      "cell_type": "markdown",
      "source": [
        "## Classes Distribution\n",
        "\n",
        "To understand the distribution of samples across different classes in our training dataset, we create a function to visualize the class counts.\n",
        "\n",
        "**Process Overview:**\n",
        "\n",
        "- **Adjusting Class Labels:**  \n",
        "  The training dataset originally labels classes as `[1, 2, 3, 4]`. We subtract 1 from each label to convert them to a zero-based index (`[0, 1, 2, 3]`). This adjustment aligns the labels with common programming practices, where list indices start at 0.\n",
        "\n",
        "- **Mapping to Descriptive Labels:**  \n",
        "  After adjusting, the numeric labels are mapped to human-readable class names using the `labels` list (which contains `[\"World\", \"Sports\", \"Business\", \"Sci/Tech\"]`).\n",
        "\n",
        "- **Visualizing the Distribution:**  \n",
        "  Finally, we create a counter plot to display the number of samples per class. This visualization helps identify if the dataset is balanced or if any classes have significantly more or fewer samples.\n",
        "\n",
        "This method provides clarity on the dataset's structure, ensuring that our subsequent analysis and model training are built on well-understood and correctly formatted data."
      ],
      "metadata": {
        "id": "PGKmqqvIaKXU"
      },
      "id": "PGKmqqvIaKXU"
    },
    {
      "cell_type": "code",
      "source": [
        "# -----------------------------------------------------------------------------\n",
        "# Plot: Class Distribution in the Training Dataset\n",
        "# -----------------------------------------------------------------------------\n",
        "\n",
        "# Adjust class labels from [1, 2, 3, 4] to [0, 1, 2, 3] for compatibility with our 'labels' list.\n",
        "indexes = [label - 1 for label, text in train_dataset]\n",
        "\n",
        "# Map numeric indexes to human-readable class names.\n",
        "text_labels = [labels[i] for i in indexes]\n",
        "\n",
        "# Set up the figure for the count plot.\n",
        "plt.figure(figsize=(12, 7))\n",
        "\n",
        "# Create a count plot using Seaborn.\n",
        "# - 'palette=\"pastel\"' applies soft colors.\n",
        "# - 'edgecolor=\"black\"' adds a border around the bars for clarity.\n",
        "ax = sns.countplot(x=text_labels, hue=text_labels, palette=\"pastel\", edgecolor=\"black\", legend=True)\n",
        "\n",
        "# Set plot title and axis labels with enhanced formatting.\n",
        "plt.title('Classes Distribution in Training Dataset', fontsize=16, fontweight='bold')\n",
        "plt.xlabel('Classes', fontsize=12, fontweight='bold')\n",
        "plt.ylabel('Number of Samples', fontsize=12, fontweight='bold')\n",
        "\n",
        "# Remove the top and right borders to achieve a cleaner look.\n",
        "ax.spines['top'].set_visible(False)\n",
        "ax.spines['right'].set_visible(False)\n",
        "\n",
        "# Position the legend outside the plot area.\n",
        "plt.legend(title='Classes', bbox_to_anchor=(1.05, 1), loc='upper left')\n",
        "\n",
        "# Annotate each bar with the count and percentage of the total.\n",
        "total_count = len(text_labels)\n",
        "for p in ax.patches:\n",
        "    count = int(p.get_height())\n",
        "    if count == 0:\n",
        "        continue\n",
        "    percentage = (count / total_count) * 100\n",
        "    ax.annotate(\n",
        "        f'{count}\\n({percentage:.2f}%)',\n",
        "        (p.get_x() + p.get_width() / 2, p.get_height()),\n",
        "        ha='center', va='center',\n",
        "        xytext=(0, 10), textcoords='offset points',\n",
        "        fontsize=10, color='black'\n",
        "    )\n",
        "\n",
        "# Adjust layout to prevent clipping of labels and annotations.\n",
        "plt.tight_layout()\n",
        "\n",
        "# Display the final plot.\n",
        "plt.show()\n"
      ],
      "metadata": {
        "colab": {
          "base_uri": "https://localhost:8080/",
          "height": 707
        },
        "id": "tiCn6Qxo6BCX",
        "outputId": "3998ffec-f1f1-4901-bc0f-d2c6832c7a94"
      },
      "id": "tiCn6Qxo6BCX",
      "execution_count": null,
      "outputs": [
        {
          "output_type": "display_data",
          "data": {
            "text/plain": [
              "<Figure size 1200x700 with 1 Axes>"
            ],
            "image/png": "[encoded data removed]"
          },
          "metadata": {}
        }
      ]
    },
    {
      "cell_type": "markdown",
      "source": [
        "## Collate Batches\n",
        "\n",
        "The function `collate_batch()` prepares and formats batches of data before they are fed into the neural network model for training. Here’s a detailed breakdown of its components:\n",
        "\n",
        "- **Input Parameter: `batch`**  \n",
        "  The function receives a list of tuples, where each tuple contains:\n",
        "  - **Input Text (`x`)**: A string representing the text data.\n",
        "  - **Label (`y`)**: The corresponding class label for the text input.\n",
        "\n",
        "- **Separating Inputs and Labels:**  \n",
        "  - **Code:** `y, x = list(zip(*batch))`  \n",
        "    This line separates the batch into two lists:\n",
        "    - `y` contains all the labels.\n",
        "    - `x` holds all the text inputs.\n",
        "\n",
        "- **Tokenization:**  \n",
        "  - **Code:** `x = [vocab(tokeniser(text)) for text in x]`  \n",
        "    For each text in `x`:\n",
        "    - The `tokeniser` splits the text into tokens.\n",
        "    - The `vocab` converts these tokens into their corresponding numerical indices.\n",
        "\n",
        "- **Padding and Truncation:**  \n",
        "  - **Code:**  \n",
        "    ```python\n",
        "    x = [\n",
        "        t + ([0] * (max_tokens - len(t))) if len(t) < max_tokens else t[:max_tokens]\n",
        "        for t in x\n",
        "    ]\n",
        "    ```  \n",
        "    This ensures that all sequences in `x` have the same length (`max_tokens`):\n",
        "    - **Padding:** If a sequence is shorter than `max_tokens`, it is padded with zeros.\n",
        "    - **Truncation:** If a sequence exceeds `max_tokens`, it is truncated to the first `max_tokens` tokens.\n",
        "\n",
        "- **Output:**  \n",
        "  The function returns the modified `x` and `y` as tensors. Additionally, the labels (`y`) are decremented by 1 to convert them from a 1-based system `[1, 2, 3, 4]` to a 0-based system `[0, 1, 2, 3]`, matching the indexing of our `labels` list.\n",
        "\n",
        "This preprocessing function is crucial for ensuring that the input data is uniformly formatted and ready for efficient training of the neural network model.\n"
      ],
      "metadata": {
        "id": "vFHzDTdOkMJ2"
      },
      "id": "vFHzDTdOkMJ2"
    },
    {
      "cell_type": "code",
      "execution_count": null,
      "id": "ffdbf077",
      "metadata": {
        "id": "ffdbf077"
      },
      "outputs": [],
      "source": [
        "def collate_batch(batch):\n",
        "    \"\"\"\n",
        "    Processes a batch of data for the DataLoader.\n",
        "\n",
        "    Parameters:\n",
        "    - batch: A list of tuples, where each tuple contains:\n",
        "        (label, text)\n",
        "\n",
        "    Returns:\n",
        "    - A tuple containing:\n",
        "        - A tensor of tokenized and padded text sequences.\n",
        "        - A tensor of labels (converted to a 0-based index).\n",
        "    \"\"\"\n",
        "    # Separate the labels and text entries from the batch.\n",
        "    # 'y' contains all the labels; 'x' contains all the text data.\n",
        "    y, x = list(zip(*batch))\n",
        "\n",
        "    # Tokenize each text entry and convert tokens to their corresponding vocabulary indices.\n",
        "    # For each text in 'x', apply the tokenizer and vocabulary conversion.\n",
        "    x = [vocab(tokeniser(text)) for text in x]\n",
        "\n",
        "    # Ensure each sequence in 'x' has a fixed length defined by 'max_tokens'.\n",
        "    # If a sequence is shorter than 'max_tokens', pad it with 0s.\n",
        "    # If it's longer, truncate it to 'max_tokens' tokens.\n",
        "    x = [\n",
        "        tokens + ([0] * (max_tokens - len(tokens))) if len(tokens) < max_tokens else tokens[:max_tokens]\n",
        "        for tokens in x\n",
        "    ]\n",
        "\n",
        "    # Convert the processed lists to tensors.\n",
        "    # Subtract 1 from labels to change them from 1-based indexing [1,2,3,4] to 0-based indexing [0,1,2,3].\n",
        "    return torch.tensor(x, dtype=torch.int32), torch.tensor(y, dtype=torch.int32) - 1"
      ]
    },
    {
      "cell_type": "markdown",
      "source": [
        "## DataLoaders\n",
        "\n",
        "In this exercise, we create DataLoaders for our training, validation, and test datasets. DataLoaders streamline the process of batching and shuffling data, which is essential for efficient model training and evaluation.\n",
        "\n",
        "### Key DataLoader Arguments\n",
        "\n",
        "- **`dataset`**  \n",
        "  The dataset to be loaded. In our case, this is the AG News dataset that was loaded and preprocessed earlier in the notebook.\n",
        "\n",
        "- **`batch_size`**  \n",
        "  Specifies the number of samples per batch. Using a batch size that is a power of 2 is common practice as it can help optimize computational performance.\n",
        "\n",
        "- **`collate_fn`**  \n",
        "  A custom function (in our case, `collate_batch()`) that processes each batch. This function tokenizes the text, pads or truncates sequences to a fixed length (`max_tokens`), and adjusts the labels from a 1-based index to a 0-based index.\n",
        "\n",
        "- **`shuffle`**  \n",
        "  When set to `True`, the DataLoader shuffles the data each epoch to prevent the model from learning any order-related biases."
      ],
      "metadata": {
        "id": "eURGnqS4mxmQ"
      },
      "id": "eURGnqS4mxmQ"
    },
    {
      "cell_type": "code",
      "execution_count": null,
      "id": "0a55e6ee",
      "metadata": {
        "id": "0a55e6ee"
      },
      "outputs": [],
      "source": [
        "# -----------------------------------------------------------------------------\n",
        "# Create DataLoaders for Each Dataset\n",
        "# -----------------------------------------------------------------------------\n",
        "# The DataLoader is responsible for:\n",
        "# - Dividing the dataset into batches of size 'BATCH_SIZE'.\n",
        "# - Shuffling the data to avoid any order-related biases during training.\n",
        "# - Applying the 'collate_batch' function to preprocess each batch (tokenization, padding, label adjustment).\n",
        "\n",
        "# DataLoader for the training dataset.\n",
        "train_loader = DataLoader(\n",
        "    train_dataset,\n",
        "    batch_size=BATCH_SIZE,\n",
        "    collate_fn=collate_batch,\n",
        "    shuffle=True  # Shuffle the training data each epoch.\n",
        ")\n",
        "\n",
        "# DataLoader for the validation dataset.\n",
        "val_loader = DataLoader(\n",
        "    val_dataset,\n",
        "    batch_size=BATCH_SIZE,\n",
        "    collate_fn=collate_batch,\n",
        "    shuffle=True  # Shuffle the validation data for consistency.\n",
        ")\n",
        "\n",
        "# DataLoader for the test dataset.\n",
        "test_loader = DataLoader(\n",
        "    test_dataset,\n",
        "    batch_size=BATCH_SIZE,\n",
        "    collate_fn=collate_batch,\n",
        "    shuffle=True  # Shuffle the test data (optional, depends on evaluation requirements).\n",
        ")"
      ]
    },
    {
      "cell_type": "markdown",
      "source": [
        "## Print Summary of Statistics\n",
        "\n",
        "In this section, we display key statistics about our data to provide context and verify our preprocessing steps. The summary includes:\n",
        "\n",
        "- **Total Samples:** The number of samples in each dataset (training, validation, and test).\n",
        "- **Batch Size:** The number of samples processed at once during training.\n",
        "- **Number of Classes:** The distinct classes in the dataset.\n",
        "\n",
        "This information helps ensure that the data is loaded correctly and that our configurations (like batch size and class mapping) are set as expected.\n"
      ],
      "metadata": {
        "id": "5xCxynHYo36_"
      },
      "id": "5xCxynHYo36_"
    },
    {
      "cell_type": "code",
      "execution_count": null,
      "id": "cbc75b54",
      "metadata": {
        "id": "cbc75b54",
        "colab": {
          "base_uri": "https://localhost:8080/"
        },
        "outputId": "13560f45-812a-4bab-b198-aa8318ee6cc4"
      },
      "outputs": [
        {
          "output_type": "stream",
          "name": "stdout",
          "text": [
            "\n",
            "\u001b[1;32m📈 Dataset Split Statistics\u001b[0m\n",
            "\u001b[1;33m==================================================\u001b[0m\n",
            "\u001b[1;34m🔸 Training samples:\u001b[0m 108,000\n",
            "\u001b[1;34m🔸 Validation samples:\u001b[0m 12,000\n",
            "\u001b[1;34m🔸 Test samples:\u001b[0m 7,600\n",
            "\u001b[1;34m🔸 Batch size:\u001b[0m 256\n",
            "\u001b[1;34m🔸 Number of classes:\u001b[0m 4\n"
          ]
        }
      ],
      "source": [
        "# -----------------------------------------------------------------------------\n",
        "# Print Summary of Dataset Statistics in a Colorful Format\n",
        "# -----------------------------------------------------------------------------\n",
        "# This block displays key information about the dataset split and configurations,\n",
        "# using ANSI escape sequences to add colors and emojis for visual appeal.\n",
        "\n",
        "print(\"\\n\\033[1;32m📈 Dataset Split Statistics\\033[0m\")  # Bold green header\n",
        "print(\"\\033[1;33m\" + \"=\" * 50 + \"\\033[0m\")             # Bold yellow separator\n",
        "\n",
        "# Print the number of training samples, formatted with commas for readability.\n",
        "print(f\"\\033[1;34m🔸 Training samples:\\033[0m {len(train_dataset):,}\")\n",
        "\n",
        "# Print the number of validation samples.\n",
        "print(f\"\\033[1;34m🔸 Validation samples:\\033[0m {len(val_dataset):,}\")\n",
        "\n",
        "# Print the number of test samples.\n",
        "print(f\"\\033[1;34m🔸 Test samples:\\033[0m {len(test_dataset):,}\")\n",
        "\n",
        "# Print the batch size used in the DataLoader.\n",
        "print(f\"\\033[1;34m🔸 Batch size:\\033[0m {train_loader.batch_size}\")\n",
        "\n",
        "# Print the total number of classes.\n",
        "print(f\"\\033[1;34m🔸 Number of classes:\\033[0m {len(labels)}\")"
      ]
    },
    {
      "cell_type": "markdown",
      "id": "47b98898",
      "metadata": {
        "id": "47b98898"
      },
      "source": [
        "# Let us build our RNN model"
      ]
    },
    {
      "cell_type": "markdown",
      "source": [
        "## Embedding Layer\n",
        "\n",
        "Embeddings allow each token to be represented in a continuous vector space, capturing semantic relationships and enabling the network to learn language patterns. This layer converts word indices (tokens) into dense vectors of a fixed dimension, specified by `embed_size`.\n",
        "\n",
        "---\n",
        "\n",
        "## GRU (Gated Recurrent Unit) Layer\n",
        "\n",
        "The GRU is a variant of recurrent neural networks specifically designed to mitigate the vanishing gradient problem by using gating mechanisms. It efficiently handles sequential data by retaining relevant information and discarding what is unnecessary.\n",
        "\n",
        "**Key Parameters:**\n",
        "- **`input_size`**: The size of each input vector (i.e., the output dimension from the embedding layer).\n",
        "- **`hidden_size`**: The number of units in the hidden state, defining the capacity of the GRU to capture temporal dependencies.\n",
        "- **`num_layers`**: The number of GRU layers stacked on top of each other.\n",
        "- **`batch_first`**: A boolean flag indicating that the first dimension of the input tensor represents the batch size.\n",
        "- **`dropout`**: Dropout probability applied between layers (set to `0.2` when `num_layers > 1`, otherwise `0`).\n",
        "\n",
        "---\n",
        "\n",
        "## Fully Connected Layer\n",
        "\n",
        "The Fully Connected (or Linear) Layer transforms the output of the GRU into logits for each class. In this context:\n",
        "- The GRU produces a vector of size `hidden_size`.\n",
        "- The Fully Connected Layer maps this vector to a new vector with `num_classes` elements.\n",
        "\n",
        "**Logits** are raw scores that indicate the model's confidence in each class. They are subsequently passed to a loss function (e.g., Cross-Entropy Loss) to compute the error during training.\n"
      ],
      "metadata": {
        "id": "5QPnjW-sUt8Z"
      },
      "id": "5QPnjW-sUt8Z"
    },
    {
      "cell_type": "code",
      "execution_count": null,
      "id": "0f7f5621",
      "metadata": {
        "id": "0f7f5621"
      },
      "outputs": [],
      "source": [
        "class RNN_Model_1(nn.Module):\n",
        "    def __init__(self, embed_size, hidden, layers, num_classes):\n",
        "        super().__init__()\n",
        "\n",
        "        # ---------------------------------------------------------------------\n",
        "        # Embedding Layer:\n",
        "        # Transforms input token indices into dense vector representations.\n",
        "        # 'num_embeddings' is the size of the vocabulary.\n",
        "        # 'embedding_dim' is the dimension of each embedding vector.\n",
        "        # ---------------------------------------------------------------------\n",
        "        self.embedding_layer = nn.Embedding(num_embeddings=len(vocab),\n",
        "                                            embedding_dim=embed_size)\n",
        "\n",
        "        # ---------------------------------------------------------------------\n",
        "        # GRU (Gated Recurrent Unit) Layer:\n",
        "        # Processes the sequence of embeddings.\n",
        "        # Parameters:\n",
        "        #   - input_size: Dimension of the input (equal to embed_size).\n",
        "        #   - hidden_size: Number of features in the GRU's hidden state.\n",
        "        #   - num_layers: Number of stacked GRU layers.\n",
        "        #   - batch_first: Indicates that the input tensor's first dimension is the batch size.\n",
        "        #   - dropout: Applies dropout between GRU layers if there is more than one layer.\n",
        "        # ---------------------------------------------------------------------\n",
        "        self.rnn = nn.GRU(input_size=embed_size,\n",
        "                          hidden_size=hidden,\n",
        "                          num_layers=layers,\n",
        "                          batch_first=True,\n",
        "                          dropout=0.2 if layers > 1 else 0)\n",
        "\n",
        "        # ---------------------------------------------------------------------\n",
        "        # Fully Connected (Linear) Layer:\n",
        "        # Maps the GRU output to the final logits for each class.\n",
        "        # The GRU output (from the last time step) has a dimension of 'hidden'.\n",
        "        # This layer converts it into a vector of size 'num_classes'.\n",
        "        # ---------------------------------------------------------------------\n",
        "        self.fc = nn.Linear(hidden, num_classes)\n",
        "\n",
        "    def forward(self, x):\n",
        "        # ---------------------------------------------------------------------\n",
        "        # Step 1: Embedding\n",
        "        # Convert input token indices to dense embedding vectors.\n",
        "        # ---------------------------------------------------------------------\n",
        "        embedded = self.embedding_layer(x)\n",
        "\n",
        "        # ---------------------------------------------------------------------\n",
        "        # Step 2: GRU Processing\n",
        "        # Pass the embeddings through the GRU layer.\n",
        "        # rnn_out contains the output features for each time step.\n",
        "        # The second output (hidden state) is not used here.\n",
        "        # ---------------------------------------------------------------------\n",
        "        rnn_out, _ = self.rnn(embedded)\n",
        "\n",
        "        # ---------------------------------------------------------------------\n",
        "        # Step 3: Sequence Representation\n",
        "        # Select the output from the last time step as the representation of the entire sequence.\n",
        "        # ---------------------------------------------------------------------\n",
        "        last_output = rnn_out[:, -1, :]\n",
        "\n",
        "        # ---------------------------------------------------------------------\n",
        "        # Step 4: Fully Connected Layer\n",
        "        # Map the sequence representation to logits for each class.\n",
        "        # ---------------------------------------------------------------------\n",
        "        logits = self.fc(last_output)\n",
        "\n",
        "        # Return the logits (raw scores for each class) which will be used for loss calculation.\n",
        "        return logits"
      ]
    },
    {
      "cell_type": "markdown",
      "source": [
        "## Accuracy Function\n",
        "\n",
        "The accuracy function measures the performance of our model by comparing its predictions with the true labels. Here's how it works:\n",
        "\n",
        "- **Prediction Evaluation:**  \n",
        "  It counts the number of correct predictions made by the model and divides that number by the total predictions. The result is then multiplied by 100 to express accuracy as a percentage.\n",
        "\n",
        "- **Inputs:**  \n",
        "  The function accepts:\n",
        "  - A trained model.\n",
        "  - A DataLoader containing the dataset to evaluate.\n",
        "\n",
        "- **Evaluation Mode & Device Handling:**  \n",
        "  The model is set to evaluation mode during this process to disable training-specific operations (like dropout). Additionally, if a GPU is available, the data is sent to the GPU for faster computation.\n",
        "\n",
        "This function is essential for tracking the model's performance during validation and testing."
      ],
      "metadata": {
        "id": "zY4avR7upa15"
      },
      "id": "zY4avR7upa15"
    },
    {
      "cell_type": "code",
      "execution_count": null,
      "id": "2a42613f",
      "metadata": {
        "code_folding": [],
        "id": "2a42613f"
      },
      "outputs": [],
      "source": [
        "def accuracy(model, loader):\n",
        "    \"\"\"\n",
        "    Calculate the accuracy of the model on a given dataset.\n",
        "\n",
        "    Parameters:\n",
        "    - model: The trained model to evaluate.\n",
        "    - loader: DataLoader containing the dataset for evaluation.\n",
        "\n",
        "    Returns:\n",
        "    - Accuracy as a percentage.\n",
        "    \"\"\"\n",
        "    # Set the model to evaluation mode to disable dropout and other training-specific behaviors.\n",
        "    model.eval()\n",
        "\n",
        "    # Initialize counters for correct predictions and total samples.\n",
        "    correct = 0\n",
        "    total = 0\n",
        "\n",
        "    # Disable gradient computation for efficiency during evaluation.\n",
        "    with torch.no_grad():\n",
        "        # Iterate through the DataLoader.\n",
        "        for x, y in loader:\n",
        "            # Move input data and labels to the appropriate device (GPU if available, else CPU).\n",
        "            x, y = x.to(device), y.to(device)\n",
        "\n",
        "            # Obtain the model's output predictions for the current batch.\n",
        "            outputs = model(x)\n",
        "\n",
        "            # Determine the predicted class by taking the index with the highest score.\n",
        "            _, predicted = torch.max(outputs.data, 1)\n",
        "\n",
        "            # Update the total number of samples.\n",
        "            total += y.size(0)\n",
        "\n",
        "            # Increment the count of correct predictions.\n",
        "            correct += (predicted == y).sum().item()\n",
        "\n",
        "    # Calculate and return the accuracy as a percentage.\n",
        "    return correct / total * 100"
      ]
    },
    {
      "cell_type": "markdown",
      "source": [],
      "metadata": {
        "id": "3MRDS0D99MzA"
      },
      "id": "3MRDS0D99MzA"
    },
    {
      "cell_type": "markdown",
      "source": [
        "# Train Function\n",
        "\n",
        "This code defines a `train()` function that trains a machine learning model over a specified number of epochs. It tracks key performance metrics (loss and accuracy), saves the best model based on validation accuracy, and monitors execution time to provide feedback for estimating total training duration.\n",
        "\n",
        "## Key Features\n",
        "- **Inputs**: The `train()` function accepts the model, optimizer, and number of epochs as parameters.\n",
        "- **Device Handling**: `model = model.to(device)` moves the model to the active device (GPU or CPU) for efficient computation.\n",
        "- **Loss Function**: `criterion = nn.CrossEntropyLoss` is used as the loss function. This is ideal for multi-classification tasks, as it measures the difference between the model's predicted class probabilities and the true labels, penalizing incorrect predictions.\n",
        "\n",
        "## Training Process\n",
        "1. **Training Loop**:\n",
        "   - Iterates through the specified number of epochs.\n",
        "   - Sets the model to training mode (`model.train()`).\n",
        "   - For each mini-batch:\n",
        "     - Clears previous gradients.\n",
        "     - Generates predictions with `output = model(x)`.\n",
        "     - Computes the loss using the defined loss function.\n",
        "     - Calculates gradients via backpropagation.\n",
        "     - Updates model parameters using the optimizer.\n",
        "\n",
        "2. **Validation Phase**:\n",
        "   - Switches the model to evaluation mode (`model.eval()`).\n",
        "   - Computes validation accuracy and loss.\n",
        "   - Tracks execution time for each epoch.\n",
        "   - Prints performance metrics (loss, accuracy, and time) for user feedback.\n",
        "\n",
        "## Outputs\n",
        "- **Returns**: `return(model, epoch_results)`\n",
        "  - The best-performing model (based on validation accuracy) after training completes.\n",
        "  - A history of performance metrics (`epoch_results`), including loss, accuracy, and execution time per epoch."
      ],
      "metadata": {
        "id": "vulOc9i1qawZ"
      },
      "id": "vulOc9i1qawZ"
    },
    {
      "cell_type": "code",
      "execution_count": null,
      "id": "5e843e1f",
      "metadata": {
        "code_folding": [],
        "id": "5e843e1f"
      },
      "outputs": [],
      "source": [
        "def train(model, optimiser, epochs=100):\n",
        "    \"\"\"\n",
        "    Train the model over a specified number of epochs, tracking performance metrics\n",
        "    such as loss, accuracy, and execution time. The best model (based on validation\n",
        "    accuracy) is retained and returned along with historical training data.\n",
        "\n",
        "    Parameters:\n",
        "    - model: The neural network to be trained.\n",
        "    - optimiser: The optimization algorithm to update the model weights.\n",
        "    - epochs: Number of training epochs (default is 100).\n",
        "\n",
        "    Returns:\n",
        "    - model: The best-performing model based on validation accuracy.\n",
        "    - epoch_results: A dictionary containing historical loss, accuracy, and execution time per epoch.\n",
        "    \"\"\"\n",
        "    # Move the model to the appropriate device (GPU if available, else CPU).\n",
        "    model = model.to(device)\n",
        "\n",
        "    # Define the loss function for multi-class classification.\n",
        "    criterion = nn.CrossEntropyLoss()\n",
        "\n",
        "    # Initialize the best validation accuracy tracker and the results dictionary.\n",
        "    best_val_acc = 0\n",
        "    epoch_results = {'epoch': [], 'loss': [], 'accuracy': [], 'exec_time': []}\n",
        "\n",
        "    # Begin training loop over the specified number of epochs.\n",
        "    for epoch in range(epochs):\n",
        "        start_time = time.time()  # Record the start time of the epoch.\n",
        "        model.train()             # Set the model to training mode.\n",
        "        total_loss = 0            # Initialize total loss for this epoch.\n",
        "\n",
        "        # Iterate over each batch in the training data.\n",
        "        for batch_idx, (x, y) in enumerate(train_loader):\n",
        "            # Move batch data to the current device.\n",
        "            x, y = x.to(device), y.to(device)\n",
        "\n",
        "            # Zero out gradients from the previous iteration.\n",
        "            optimiser.zero_grad()\n",
        "\n",
        "            # Forward pass: compute the model's output.\n",
        "            output = model(x)\n",
        "\n",
        "            # Compute the loss. Ensure target labels are of type int64.\n",
        "            loss = criterion(output, y.type(torch.int64))\n",
        "\n",
        "            # Backward pass: compute gradients.\n",
        "            loss.backward()\n",
        "\n",
        "            # Update the model's weights.\n",
        "            optimiser.step()\n",
        "\n",
        "            # Accumulate loss for monitoring (using loss from the last batch for simplicity).\n",
        "            total_loss += loss.item()\n",
        "\n",
        "        # Validation phase: evaluate the model on the validation set.\n",
        "        val_acc = accuracy(model, val_loader)\n",
        "        end_time = time.time()      # Record the end time of the epoch.\n",
        "        epoch_time = end_time - start_time\n",
        "\n",
        "        # Store epoch metrics.\n",
        "        epoch_results['epoch'].append(epoch + 1)\n",
        "        epoch_results['loss'].append(loss.item())\n",
        "        epoch_results['accuracy'].append(val_acc)\n",
        "        epoch_results['exec_time'].append(epoch_time)\n",
        "\n",
        "        # If the current validation accuracy is the best so far, save the model's state.\n",
        "        if val_acc > best_val_acc:\n",
        "            best_val_acc = val_acc\n",
        "            best_state = model.state_dict()\n",
        "\n",
        "        # Print a summary for the current epoch.\n",
        "        print(f'Epoch: {epoch+1:3d}/{epochs} | Loss: {loss:.6f} | Accuracy: {val_acc:.2f}% >> {epoch_time:.2f} seconds')\n",
        "\n",
        "    # Restore the best-performing model based on validation accuracy.\n",
        "    model.load_state_dict(best_state)\n",
        "\n",
        "    # Return the best model along with the training history.\n",
        "    return model, epoch_results"
      ]
    },
    {
      "cell_type": "markdown",
      "source": [
        "# Plot Function\n",
        "\n",
        "This section defines a `plot()` function that visualizes the model's training progress by graphing both loss and accuracy over time. It provides a clear, visual representation to assess whether the model is improving throughout the training process. Additionally, it displays key statistics to summarize performance.\n",
        "\n",
        "## Functionality\n",
        "- **Visualization**: Plots two metrics:\n",
        "  - **Loss**: Tracks the model's error across epochs.\n",
        "  - **Accuracy**: Shows the model's correctness over time.\n",
        "- **Purpose**: Helps users evaluate the model's learning behavior and identify trends (e.g., convergence or overfitting).\n",
        "\n",
        "## Displayed Statistics\n",
        "The function also outputs the following metrics for a concise summary of training results:\n",
        "- **Final Loss**: The loss value achieved in the last epoch.\n",
        "- **Final Accuracy**: The accuracy recorded in the final epoch.\n",
        "- **Best Accuracy**: The highest accuracy observed during training.\n"
      ],
      "metadata": {
        "id": "j0Ww1YkYvd9g"
      },
      "id": "j0Ww1YkYvd9g"
    },
    {
      "cell_type": "code",
      "source": [
        "def plot_training(history):\n",
        "    \"\"\"\n",
        "    Plots the training progress over epochs including Training Loss and Validation Accuracy.\n",
        "    Also prints summary statistics in a formatted and colorful manner.\n",
        "\n",
        "    Parameters:\n",
        "    - history: A dictionary containing lists of metrics over epochs,\n",
        "               with keys 'loss' and 'accuracy'.\n",
        "    \"\"\"\n",
        "    # Set up the figure with specified dimensions and resolution.\n",
        "    plt.figure(figsize=(15, 6), dpi=120)\n",
        "\n",
        "    # Calculate mean metrics to add reference lines on the plots.\n",
        "    mean_loss = np.mean(history['loss'])\n",
        "    mean_acc = np.mean(history['accuracy'])\n",
        "\n",
        "    # Add a main title for the entire figure.\n",
        "    plt.suptitle('Training Progress Over Epochs', fontsize=18, fontweight='bold', y=1.02)\n",
        "\n",
        "    # -------------------------\n",
        "    # First subplot: Training Loss\n",
        "    # -------------------------\n",
        "    plt.subplot(1, 2, 1)\n",
        "    plt.plot(history['loss'],\n",
        "             linewidth=2.5,\n",
        "             label='Training Loss',\n",
        "             color='#2ecc71',        # Green color for the loss curve\n",
        "             marker='o',             # Add circle markers for each epoch\n",
        "             markersize=6,\n",
        "             markeredgecolor='black',\n",
        "             markeredgewidth=0.5)\n",
        "    # Draw a horizontal line representing the mean loss.\n",
        "    plt.axhline(y=mean_loss,\n",
        "                color='#e74c3c',        # Red color for the reference line\n",
        "                linestyle='--',\n",
        "                alpha=0.8,\n",
        "                linewidth=2,\n",
        "                label=f'Mean Loss: {mean_loss:.4f}')\n",
        "    plt.title('Training Loss Over Time', fontsize=16, pad=20, fontweight='bold')\n",
        "    plt.xlabel('Epoch', fontsize=14, labelpad=10)\n",
        "    plt.ylabel('Loss', fontsize=14, labelpad=10)\n",
        "    plt.grid(True, alpha=0.3, linestyle='--')\n",
        "    plt.legend(fontsize=12, loc='upper right', frameon=True, fancybox=True, shadow=True)\n",
        "    plt.xticks(fontsize=12)\n",
        "    plt.yticks(fontsize=12)\n",
        "\n",
        "    # -------------------------\n",
        "    # Second subplot: Validation Accuracy\n",
        "    # -------------------------\n",
        "    plt.subplot(1, 2, 2)\n",
        "    plt.plot(history['accuracy'],\n",
        "             linewidth=2.5,\n",
        "             label='Validation Accuracy',\n",
        "             color='#3498db',        # Blue color for the accuracy curve\n",
        "             marker='o',             # Add circle markers for each epoch\n",
        "             markersize=6,\n",
        "             markeredgecolor='black',\n",
        "             markeredgewidth=0.5)\n",
        "    # Draw a horizontal line representing the mean accuracy.\n",
        "    plt.axhline(y=mean_acc,\n",
        "                color='#e74c3c',        # Red color for the reference line\n",
        "                linestyle='--',\n",
        "                alpha=0.8,\n",
        "                linewidth=2,\n",
        "                label=f'Mean Accuracy: {mean_acc:.2f}%')\n",
        "    plt.title('Validation Accuracy Over Time', fontsize=16, pad=20, fontweight='bold')\n",
        "    plt.xlabel('Epoch', fontsize=14, labelpad=10)\n",
        "    plt.ylabel('Accuracy', fontsize=14, labelpad=10)\n",
        "    plt.grid(True, alpha=0.3, linestyle='--')\n",
        "    plt.legend(fontsize=12, loc='lower right', frameon=True, fancybox=True, shadow=True)\n",
        "    plt.xticks(fontsize=12)\n",
        "    plt.yticks(fontsize=12)\n",
        "\n",
        "    # Adjust spacing between subplots.\n",
        "    plt.subplots_adjust(wspace=0.4)\n",
        "\n",
        "    # Ensure the layout is tight to avoid clipping.\n",
        "    plt.tight_layout()\n",
        "    plt.show()\n",
        "\n",
        "    # -------------------------\n",
        "    # Print Summary Statistics with Enhanced Formatting\n",
        "    # -------------------------\n",
        "    # Using ANSI escape codes for color formatting in the terminal.\n",
        "    print(\"\\n\" + \"\\033[1;36m\" + \"=\" * 60 + \"\\033[0m\")\n",
        "    print(\"\\033[1;33m\" + \"📊 Training Summary Statistics 📊\".center(60) + \"\\033[0m\")\n",
        "    print(\"\\033[1;36m\" + \"=\" * 60 + \"\\033[0m\")\n",
        "\n",
        "    # Print final and best metrics with clear labels.\n",
        "    print(f\"• Final Loss:       \\033[1;32m{history['loss'][-1]:.4f}\\033[0m\")\n",
        "    print(f\"• Final Accuracy:   \\033[1;32m{history['accuracy'][-1]:.2f}%\\033[0m\")\n",
        "    print(f\"• Best Accuracy:    \\033[1;32m{max(history['accuracy']):.2f}%\\033[0m\")\n",
        "    print(\"\\033[1;36m\" + \"=\" * 60 + \"\\033[0m\\n\")"
      ],
      "metadata": {
        "id": "KzKKarnBhB5J"
      },
      "id": "KzKKarnBhB5J",
      "execution_count": null,
      "outputs": []
    },
    {
      "cell_type": "markdown",
      "source": [
        "# **Defining the model**"
      ],
      "metadata": {
        "id": "gcRQ5SNuwfZ5"
      },
      "id": "gcRQ5SNuwfZ5"
    },
    {
      "cell_type": "markdown",
      "source": [
        "In this cell, we define the parameters for the model:\n",
        "\n",
        "* `EMBEDDING_SIZE = 300`: This is a commonly used value since it captures the semantic meaning decently while not being too expensive when it comes to computing resources.\n",
        "* `NEURONS = 256`L This is the number of hidden perceptrons inside the model. 256 should be good enough to capture features efectively without adding extra complexity.\n",
        "* `LAYERS = 4`: Stacking 4 layers allow the model to learn hierarchical features of thext, being deep enough to capture patterns without overfitting.\n",
        "* `NUM_CLASSES = 4`: Based on the dataset labels\n",
        "* `epochs = 20`: To be able to reach a good accuracy level without the model having long training times.\n",
        "* `lr = 4.16e-5`: A small rate helped us not to overshoot the model while achieving consistent accuracy values, being small enough to converge properly.\n",
        "\n",
        "Also, the model is created by using the previously created class `RNN_Model_1`.\n",
        "Adam was selected as the optimiser since this is commonky used with text prediction models."
      ],
      "metadata": {
        "id": "34mI1ury08r5"
      },
      "id": "34mI1ury08r5"
    },
    {
      "cell_type": "code",
      "execution_count": null,
      "id": "87775b29",
      "metadata": {
        "id": "87775b29"
      },
      "outputs": [],
      "source": [
        "# -----------------------------------------------------------------------------\n",
        "# Define Model and Training Parameters\n",
        "# -----------------------------------------------------------------------------\n",
        "\n",
        "# Model Hyperparameters:\n",
        "EMBEDDING_SIZE = 300   # Dimensionality of word embeddings\n",
        "NEURONS = 256          # Number of units in the GRU hidden layer\n",
        "LAYERS = 4             # Number of stacked GRU layers\n",
        "NUM_CLASSES = 4        # Total number of output classes (e.g., World, Sports, Business, Sci/Tech)\n",
        "\n",
        "# Training Hyperparameters:\n",
        "epochs = 20            # Number of epochs to train the model\n",
        "lr = 4.16e-5           # Learning rate for the optimizer\n",
        "\n",
        "# -----------------------------------------------------------------------------\n",
        "# Instantiate and Prepare the Model\n",
        "# -----------------------------------------------------------------------------\n",
        "\n",
        "# Create an instance of the RNN model with the specified hyperparameters,\n",
        "# then move the model to the appropriate device (GPU or CPU).\n",
        "rnn_model = RNN_Model_1(EMBEDDING_SIZE, NEURONS, LAYERS, NUM_CLASSES).to(device)\n",
        "\n",
        "# Define the optimizer (Adam) to update the model's parameters during training.\n",
        "optimiser = torch.optim.Adam(rnn_model.parameters(), lr=lr)"
      ]
    },
    {
      "cell_type": "code",
      "execution_count": null,
      "id": "aec12a1b",
      "metadata": {
        "id": "aec12a1b",
        "scrolled": true,
        "colab": {
          "base_uri": "https://localhost:8080/"
        },
        "outputId": "d42c4db8-1b1e-4574-8826-d39548fdcad9"
      },
      "outputs": [
        {
          "output_type": "stream",
          "name": "stdout",
          "text": [
            "Epoch:   1/20 | Loss: 0.804642 | Accuracy: 63.67% >> 25.78 seconds\n",
            "Epoch:   2/20 | Loss: 0.572844 | Accuracy: 79.25% >> 26.57 seconds\n",
            "Epoch:   3/20 | Loss: 0.520684 | Accuracy: 83.46% >> 26.64 seconds\n",
            "Epoch:   4/20 | Loss: 0.439899 | Accuracy: 85.38% >> 26.75 seconds\n",
            "Epoch:   5/20 | Loss: 0.365299 | Accuracy: 87.11% >> 27.45 seconds\n",
            "Epoch:   6/20 | Loss: 0.305259 | Accuracy: 87.95% >> 28.65 seconds\n",
            "Epoch:   7/20 | Loss: 0.388773 | Accuracy: 88.44% >> 28.51 seconds\n",
            "Epoch:   8/20 | Loss: 0.287565 | Accuracy: 88.76% >> 28.36 seconds\n",
            "Epoch:   9/20 | Loss: 0.269904 | Accuracy: 89.10% >> 28.63 seconds\n",
            "Epoch:  10/20 | Loss: 0.220692 | Accuracy: 89.25% >> 28.47 seconds\n",
            "Epoch:  11/20 | Loss: 0.322054 | Accuracy: 89.72% >> 28.47 seconds\n",
            "Epoch:  12/20 | Loss: 0.222389 | Accuracy: 89.60% >> 28.53 seconds\n",
            "Epoch:  13/20 | Loss: 0.240090 | Accuracy: 89.93% >> 28.54 seconds\n",
            "Epoch:  14/20 | Loss: 0.214838 | Accuracy: 89.72% >> 28.58 seconds\n",
            "Epoch:  15/20 | Loss: 0.197234 | Accuracy: 90.14% >> 28.51 seconds\n",
            "Epoch:  16/20 | Loss: 0.169243 | Accuracy: 90.32% >> 28.55 seconds\n",
            "Epoch:  17/20 | Loss: 0.184971 | Accuracy: 90.12% >> 28.63 seconds\n",
            "Epoch:  18/20 | Loss: 0.144187 | Accuracy: 90.33% >> 28.59 seconds\n",
            "Epoch:  19/20 | Loss: 0.151980 | Accuracy: 90.22% >> 28.50 seconds\n",
            "Epoch:  20/20 | Loss: 0.200663 | Accuracy: 90.31% >> 28.72 seconds\n"
          ]
        }
      ],
      "source": [
        "model , history = train(rnn_model , optimiser=optimiser,  epochs=epochs)"
      ]
    },
    {
      "cell_type": "markdown",
      "source": [
        "### **Printing the model**"
      ],
      "metadata": {
        "id": "JZo-rm8izyOG"
      },
      "id": "JZo-rm8izyOG"
    },
    {
      "cell_type": "markdown",
      "source": [
        "As a summary, we display the model structure to have the final architecture visible for reference."
      ],
      "metadata": {
        "id": "pbMYnKpG0tnm"
      },
      "id": "pbMYnKpG0tnm"
    },
    {
      "cell_type": "code",
      "source": [
        "# -----------------------------------------------------------------------------\n",
        "# Display the Model Structure\n",
        "# -----------------------------------------------------------------------------\n",
        "print(\"\\033[1;34m🧠 Model Structure:\\033[0m\")\n",
        "print(\"\\033[1;34m\" + \"=\" * 60 + \"\\033[0m\")\n",
        "print(model)\n",
        "print(\"\\033[1;34m\" + \"=\" * 60 + \"\\033[0m\")"
      ],
      "metadata": {
        "colab": {
          "base_uri": "https://localhost:8080/"
        },
        "id": "rnhnorf0RYAw",
        "outputId": "8fa138b7-92e4-4d77-d5b6-ea132912e036"
      },
      "id": "rnhnorf0RYAw",
      "execution_count": null,
      "outputs": [
        {
          "output_type": "stream",
          "name": "stdout",
          "text": [
            "\u001b[1;34m🧠 Model Structure:\u001b[0m\n",
            "\u001b[1;34m============================================================\u001b[0m\n",
            "RNN_Model_1(\n",
            "  (embedding_layer): Embedding(95811, 300)\n",
            "  (rnn): GRU(300, 256, num_layers=4, batch_first=True, dropout=0.2)\n",
            "  (fc): Linear(in_features=256, out_features=4, bias=True)\n",
            ")\n",
            "\u001b[1;34m============================================================\u001b[0m\n"
          ]
        }
      ]
    },
    {
      "cell_type": "markdown",
      "source": [
        "### **Training process over time**"
      ],
      "metadata": {
        "id": "jnAg-8lvz0zE"
      },
      "id": "jnAg-8lvz0zE"
    },
    {
      "cell_type": "markdown",
      "source": [
        "In the following plots, we can see how loss and accuracy evolve over time, or better said, after each epoch.\n",
        "\n",
        "As observed, loss tends to decrease, going for values lower than 0.2; on the other hand, we can see how the accuracy stabilizes at 90% around epoch 10 and persists over time until reaching the 20 epochs of the training loop."
      ],
      "metadata": {
        "id": "Pc1uh5tJ0Faq"
      },
      "id": "Pc1uh5tJ0Faq"
    },
    {
      "cell_type": "code",
      "source": [
        "#Plot Loss and Accuracy over training process\n",
        "plot_training(history)"
      ],
      "metadata": {
        "colab": {
          "base_uri": "https://localhost:8080/",
          "height": 913
        },
        "id": "pkzmGzCFrAyR",
        "outputId": "bc123539-27de-4582-f834-a0f8853800d3"
      },
      "id": "pkzmGzCFrAyR",
      "execution_count": null,
      "outputs": [
        {
          "output_type": "display_data",
          "data": {
            "text/plain": [
              "<Figure size 1800x720 with 2 Axes>"
            ],
            "image/png": "[encoded data removed]"
          },
          "metadata": {}
        },
        {
          "output_type": "stream",
          "name": "stdout",
          "text": [
            "\n",
            "\u001b[1;36m============================================================\u001b[0m\n",
            "\u001b[1;33m              📊 Training Summary Statistics 📊               \u001b[0m\n",
            "\u001b[1;36m============================================================\u001b[0m\n",
            "• Final Loss:       \u001b[1;32m0.2007\u001b[0m\n",
            "• Final Accuracy:   \u001b[1;32m90.31%\u001b[0m\n",
            "• Best Accuracy:    \u001b[1;32m90.33%\u001b[0m\n",
            "\u001b[1;36m============================================================\u001b[0m\n",
            "\n"
          ]
        }
      ]
    },
    {
      "cell_type": "markdown",
      "source": [
        "### **Evaluating the model with the Test Set**"
      ],
      "metadata": {
        "id": "56OxJym8z62Y"
      },
      "id": "56OxJym8z62Y"
    },
    {
      "cell_type": "markdown",
      "source": [
        "After getting a consistent 90% accuracy in our model, now we tested it with the accuracy dataset to evaluate how the model is generalizing."
      ],
      "metadata": {
        "id": "c79WygN0z48e"
      },
      "id": "c79WygN0z48e"
    },
    {
      "cell_type": "code",
      "execution_count": null,
      "id": "7a3ef175",
      "metadata": {
        "id": "7a3ef175",
        "colab": {
          "base_uri": "https://localhost:8080/"
        },
        "outputId": "8cff3dad-10be-471c-c3cc-9ff7d37dec48"
      },
      "outputs": [
        {
          "output_type": "stream",
          "name": "stdout",
          "text": [
            "\u001b[1;34m============================================================\u001b[0m\n",
            "\u001b[1;34m=================== Test Set Evaluation ====================\u001b[0m\n",
            "\u001b[1;32mAccuracy for Test set: 89.9211%\u001b[0m\n",
            "\u001b[1;34m============================================================\u001b[0m\n"
          ]
        }
      ],
      "source": [
        "# -----------------------------------------------------------------------------\n",
        "# Evaluate the Model\n",
        "# -----------------------------------------------------------------------------\n",
        "\n",
        "# Calculate the test set accuracy.\n",
        "test_accuracy = accuracy(rnn_model, test_loader)\n",
        "\n",
        "# Create a decorative blue header.\n",
        "print(\"\\033[1;34m\" + \"=\" * 60 + \"\\033[0m\")\n",
        "print(\"\\033[1;34m\" + \" Test Set Evaluation \".center(60, \"=\") + \"\\033[0m\")\n",
        "\n",
        "# Print the test accuracy in bold green.\n",
        "print(\"\\033[1;32m\" + f\"Accuracy for Test set: {test_accuracy:.4f}%\" + \"\\033[0m\")\n",
        "\n",
        "# Create a decorative blue footer.\n",
        "print(\"\\033[1;34m\" + \"=\" * 60 + \"\\033[0m\")"
      ]
    },
    {
      "cell_type": "markdown",
      "source": [
        "### **Prediction examples**"
      ],
      "metadata": {
        "id": "nfldSs8n0BfD"
      },
      "id": "nfldSs8n0BfD"
    },
    {
      "cell_type": "code",
      "execution_count": null,
      "id": "ed30693d",
      "metadata": {
        "id": "ed30693d"
      },
      "outputs": [],
      "source": [
        "def sample_text(model, loader):\n",
        "    \"\"\"\n",
        "    Evaluates the model on a single batch from the provided DataLoader,\n",
        "    prints out prediction examples along with their true labels, and returns\n",
        "    the predictions and true labels as numpy arrays.\n",
        "\n",
        "    Parameters:\n",
        "    - model: The trained neural network model.\n",
        "    - loader: A DataLoader containing the dataset to sample from.\n",
        "\n",
        "    Returns:\n",
        "    - all_preds: A numpy array of predicted class indices.\n",
        "    - all_labels: A numpy array of true class indices.\n",
        "    \"\"\"\n",
        "    # Set model to evaluation mode (disables dropout, etc.)\n",
        "    model.eval()\n",
        "    all_preds = []\n",
        "    all_labels = []\n",
        "\n",
        "    # Decorative header for prediction examples\n",
        "    print(\"\\n\" + \"\\033[1;34m\" + \"=\" * 60 + \"\\033[0m\")\n",
        "    print(\"\\033[1;34m\" + \"📊 Prediction Examples 📊\".center(60) + \"\\033[0m\")\n",
        "    print(\"\\033[1;34m\" + \"=\" * 60 + \"\\033[0m\")\n",
        "\n",
        "    # Process one batch of examples from the DataLoader.\n",
        "    with torch.no_grad():\n",
        "        for x, y in loader:\n",
        "            # Move the batch data to the proper device (GPU or CPU)\n",
        "            x, y = x.to(device), y.to(device)\n",
        "            # Forward pass: get the model's outputs.\n",
        "            outputs = model(x)\n",
        "            # Determine predicted classes (highest logit value).\n",
        "            _, predicted = torch.max(outputs, 1)\n",
        "\n",
        "            # Convert predictions and true labels to CPU for further processing.\n",
        "            all_preds.extend(predicted.cpu().numpy())\n",
        "            all_labels.extend(y.cpu().numpy())\n",
        "\n",
        "            # Print out up to 10 examples from the current batch.\n",
        "            for i in range(min(10, len(x))):\n",
        "                # Retrieve token indices for the i-th example, skip padding (zeros).\n",
        "                text = [vocab.get_itos()[idx] for idx in x[i] if idx != 0]\n",
        "                # Join tokens to form the complete text string.\n",
        "                text_str = \" \".join(text)\n",
        "\n",
        "                print(\"\\033[1;36m\" + f'\\nText: {text_str}' + \"\\033[0m\")\n",
        "                print(\"\\033[1;33m\" + f'True label: {labels[y[i]]}' + \"\\033[0m\")\n",
        "                print(\"\\033[1;33m\" + f'Predicted: {labels[predicted[i]]}' + \"\\033[0m\")\n",
        "\n",
        "                # Check if the prediction is correct and print accordingly.\n",
        "                if labels[y[i]] == labels[predicted[i]]:\n",
        "                    print(\"\\033[1;32m\" + 'Correct! ✅' + \"\\033[0m\", '\\n')\n",
        "                else:\n",
        "                    print(\"\\033[1;31m\" + 'Incorrect ❌' + \"\\033[0m\", '\\n')\n",
        "\n",
        "                print(\"\\033[1;34m\" + \"=\" * 60 + \"\\033[0m\")\n",
        "\n",
        "            # Process only one batch and then break out of the loop.\n",
        "            break\n",
        "\n",
        "    # Return the collected predictions and true labels as numpy arrays.\n",
        "    return np.array(all_preds), np.array(all_labels)"
      ]
    },
    {
      "cell_type": "code",
      "execution_count": null,
      "id": "bb38e093",
      "metadata": {
        "id": "bb38e093",
        "colab": {
          "base_uri": "https://localhost:8080/",
          "height": 1000
        },
        "outputId": "1538528f-96e6-4c9d-e958-7243fb9a80d6"
      },
      "outputs": [
        {
          "output_type": "stream",
          "name": "stdout",
          "text": [
            "\n",
            "\u001b[1;34m============================================================\u001b[0m\n",
            "\u001b[1;34m                  📊 Prediction Examples 📊                   \u001b[0m\n",
            "\u001b[1;34m============================================================\u001b[0m\n",
            "\u001b[1;36m\n",
            "Text: hussein beat sanctions with bribes saddam hussein made \\$11 billion in illegal income and eroded the world ' s toughest economic embargo during his final years as iraq ' s leader through shrewd schemes to secretly buy off dozens of countries , top foreign officials and major international figures ,\u001b[0m\n",
            "\u001b[1;33mTrue label: World\u001b[0m\n",
            "\u001b[1;33mPredicted: World\u001b[0m\n",
            "\u001b[1;32mCorrect! ✅\u001b[0m \n",
            "\n",
            "\u001b[1;34m============================================================\u001b[0m\n",
            "\u001b[1;36m\n",
            "Text: veterans committee counts for little the hall of fame released the latest veterans committee ballot yesterday . as you might ( or might not ) remember , there #39 s a ( nearly ) new committee in town .\u001b[0m\n",
            "\u001b[1;33mTrue label: Sports\u001b[0m\n",
            "\u001b[1;33mPredicted: Sports\u001b[0m\n",
            "\u001b[1;32mCorrect! ✅\u001b[0m \n",
            "\n",
            "\u001b[1;34m============================================================\u001b[0m\n",
            "\u001b[1;36m\n",
            "Text: when outsourcing , don ' t forget security , experts say when outsourcing it operations offshore , companies often focus on lower costs and more productivity -- and fail to keep in mind the cultural differences that could affect their security , said experts at the gartner it security summit\u001b[0m\n",
            "\u001b[1;33mTrue label: Sci/Tech\u001b[0m\n",
            "\u001b[1;33mPredicted: Sci/Tech\u001b[0m\n",
            "\u001b[1;32mCorrect! ✅\u001b[0m \n",
            "\n",
            "\u001b[1;34m============================================================\u001b[0m\n",
            "\u001b[1;36m\n",
            "Text: an interview with bill baker , sql server bi general manager this article is the first in a new , regular series of articles and interviews with top microsoft program managers . our goal is to give you a close-up , helpful and informative look at things\u001b[0m\n",
            "\u001b[1;33mTrue label: Sci/Tech\u001b[0m\n",
            "\u001b[1;33mPredicted: Sci/Tech\u001b[0m\n",
            "\u001b[1;32mCorrect! ✅\u001b[0m \n",
            "\n",
            "\u001b[1;34m============================================================\u001b[0m\n",
            "\u001b[1;36m\n",
            "Text: update 3 adm #39 s earnings skyrocket stocks soars shares in agribusiness giant archer daniels midland co . soared to a 6 1/2-year high friday , fueled by a 77 percent increase in quarterly earnings .\u001b[0m\n",
            "\u001b[1;33mTrue label: Business\u001b[0m\n",
            "\u001b[1;33mPredicted: Business\u001b[0m\n",
            "\u001b[1;32mCorrect! ✅\u001b[0m \n",
            "\n",
            "\u001b[1;34m============================================================\u001b[0m\n",
            "\u001b[1;36m\n",
            "Text: tesco steps up rfid efforts tesco is rolling out radio barcode technology across its 98 tesco extra stores to track high-value items between its internal distribution centres and its outlets .\u001b[0m\n",
            "\u001b[1;33mTrue label: Sci/Tech\u001b[0m\n",
            "\u001b[1;33mPredicted: Sci/Tech\u001b[0m\n",
            "\u001b[1;32mCorrect! ✅\u001b[0m \n",
            "\n",
            "\u001b[1;34m============================================================\u001b[0m\n",
            "\u001b[1;36m\n",
            "Text: major league baseball box score colorado ( 7 ) vs arizona ( 1 ) - mid 6th - in progress colorado ab rbi bb so lob a miles 2b 4 0 1 0 0 0 1 . 302 r clayton ss 2 0 2 0 1 0 0\u001b[0m\n",
            "\u001b[1;33mTrue label: Sports\u001b[0m\n",
            "\u001b[1;33mPredicted: Sports\u001b[0m\n",
            "\u001b[1;32mCorrect! ✅\u001b[0m \n",
            "\n",
            "\u001b[1;34m============================================================\u001b[0m\n",
            "\u001b[1;36m\n",
            "Text: been there , won that nd hopes usc game mirrors effort vs . &lt b&gt . . . &lt /b&gt south bend , ind . -- for the second time in less than a month , the notre dame football team returned to the practice field tuesday after a bye\u001b[0m\n",
            "\u001b[1;33mTrue label: Sports\u001b[0m\n",
            "\u001b[1;33mPredicted: Sports\u001b[0m\n",
            "\u001b[1;32mCorrect! ✅\u001b[0m \n",
            "\n",
            "\u001b[1;34m============================================================\u001b[0m\n",
            "\u001b[1;36m\n",
            "Text: plo chief holds landmark talks in damascus a high-ranking palestinian liberation organization delegation led by chairman mahmoud abbas held landmark talks with the syrian leaders in damascus monday .\u001b[0m\n",
            "\u001b[1;33mTrue label: World\u001b[0m\n",
            "\u001b[1;33mPredicted: World\u001b[0m\n",
            "\u001b[1;32mCorrect! ✅\u001b[0m \n",
            "\n",
            "\u001b[1;34m============================================================\u001b[0m\n",
            "\u001b[1;36m\n",
            "Text: us army deserter jenkins obtains early release from detention in &lt b&gt . . . &lt /b&gt a former us army sergeant who defected to north korea almost 40 years ago - has been released after serving 25 days in military detention in japan .\u001b[0m\n",
            "\u001b[1;33mTrue label: World\u001b[0m\n",
            "\u001b[1;33mPredicted: World\u001b[0m\n",
            "\u001b[1;32mCorrect! ✅\u001b[0m \n",
            "\n",
            "\u001b[1;34m============================================================\u001b[0m\n"
          ]
        },
        {
          "output_type": "display_data",
          "data": {
            "text/plain": [
              "<Figure size 1000x800 with 0 Axes>"
            ]
          },
          "metadata": {}
        },
        {
          "output_type": "display_data",
          "data": {
            "text/plain": [
              "<Figure size 640x480 with 2 Axes>"
            ],
            "image/png": "[encoded data removed]"
          },
          "metadata": {}
        }
      ],
      "source": [
        "# -----------------------------------------------------------------------------\n",
        "# Confusion Matrix\n",
        "# -----------------------------------------------------------------------------\n",
        "# Here, we create a confusion matrix to evaluate the model's performance on the test set.\n",
        "# The confusion matrix helps us visualize the number of correct and incorrect predictions\n",
        "# for each class, allowing us to identify common mistakes made by the model.\n",
        "\n",
        "# Sample predictions from the test set using the sample_text function.\n",
        "# This function prints example predictions and returns the predicted and true labels.\n",
        "predictions, true_labels = sample_text(rnn_model, test_loader)\n",
        "\n",
        "# Get the unique class labels present in the true_labels.\n",
        "labels_c = np.unique(true_labels)\n",
        "\n",
        "# Create a figure for the confusion matrix plot.\n",
        "plt.figure(figsize=(10, 8))\n",
        "\n",
        "# Plot the confusion matrix using scikit-plot's plot_confusion_matrix function.\n",
        "# The matrix is normalized to display percentages, which makes it easier to interpret.\n",
        "skplt.metrics.plot_confusion_matrix(\n",
        "    true_labels,    # True labels from the test set.\n",
        "    predictions,    # Predicted labels from the model.\n",
        "    labels=labels_c,  # The unique classes in the dataset.\n",
        "    normalize=True  # Normalize the matrix values (percentages).\n",
        ")\n",
        "\n",
        "# Set a title for the plot.\n",
        "plt.title('Confusion Matrix')\n",
        "\n",
        "# Display the confusion matrix plot.\n",
        "plt.show()\n",
        "\n",
        "# -----------------------------------------------------------------------------\n",
        "# Analysis of the Confusion Matrix:\n",
        "# -----------------------------------------------------------------------------\n",
        "# The confusion matrix above reveals how well the model performs on each class.\n",
        "# By examining the matrix, we can identify the most common mistakes made by the model.\n",
        "# For example:\n",
        "#   - If a significant number of samples from class A are misclassified as class B,\n",
        "#     it suggests that the model is having difficulty distinguishing between these two classes.\n",
        "#   - Conversely, high percentages along the diagonal indicate that the model is accurately\n",
        "#     classifying those classes.\n",
        "# This analysis is critical for understanding the strengths and weaknesses of the model and\n",
        "# provides guidance for further improvements."
      ]
    },
    {
      "cell_type": "markdown",
      "source": [
        "# Common Mistakes in Model Predictions\n",
        "\n",
        "Below is a sample output from the prediction examples, followed by a brief analysis of the most common mistakes observed in the model's performance.\n",
        "\n",
        "============================================================\n",
        "                  📊 Prediction Examples 📊                   \n",
        "============================================================\n",
        "\n",
        "Text: iraq ' s sadr orders fighters to lay down weapons najaf , iraq ( reuters ) - rebel iraqi cleric moqtada al-sadr on friday ordered his men inside najaf ' s imam ali mosque to lay down their weapons and join thousands of shi ' ite pilgrims outside the shrine  \n",
        "True label: World  \n",
        "Predicted: World  \n",
        "Correct! ✅\n",
        "\n",
        "============================================================\n",
        "\n",
        "Text: ' tensions high ' in nigeria state state in nigeria is tense after gangs set fire to the governor ' s office and other buildings , local officials say .  \n",
        "True label: World  \n",
        "Predicted: World  \n",
        "Correct! ✅\n",
        "\n",
        "============================================================\n",
        "\n",
        "Text: statement by airbus on the us government for formal consultations &lt;b&gt; . . . &lt;/b&gt; airbus has fully supported all recent actions by the european commission to engage with the us government in serious discussions on comprehensive new disciplines on government support .  \n",
        "True label: Business  \n",
        "Predicted: Business  \n",
        "Correct! ✅\n",
        "\n",
        "============================================================\n",
        "\n",
        "Text: blair readies crucial party speech under iraq cloud britain #39s tony blair faces one of the trickiest speeches of his career today , seeking to win back his labour party after rifts over iraq and spell out new policies to set up next year #39s re-election bid .  \n",
        "True label: World  \n",
        "Predicted: World  \n",
        "Correct! ✅\n",
        "\n",
        "============================================================\n",
        "\n",
        "Text: natalie coughlin wins 100m backstroke ( ap ) ap - american natalie coughlin won olympic gold in the 100-meter backstroke monday night . coughlin , the only woman ever to swim under 1 minute in the event , finished first in 1 minute , 0 . 37 seconds .  \n",
        "True label: Sports  \n",
        "Predicted: Sports  \n",
        "Correct! ✅\n",
        "\n",
        "============================================================\n",
        "\n",
        "Text: groups petition u . s . on china policies ( ap ) ap - a group of industry , farm and labor groups , seeking to put pressure on the bush administration before the presidential election , petitioned the government on thursday to file an unfair trade practices case against  \n",
        "True label: World  \n",
        "Predicted: Sci/Tech  \n",
        "Incorrect ❌\n",
        "\n",
        "============================================================\n",
        "\n",
        "Text: the mozilla firefox 1 . 0 is out ! even though this barely touches the topics of this site , it is well worth mentioning that the mozilla firefox browser has finally reached the 1 . 0 milestone .  \n",
        "True label: Sci/Tech  \n",
        "Predicted: Sci/Tech  \n",
        "Correct! ✅\n",
        "\n",
        "============================================================\n",
        "\n",
        "Text: iran to shun europe nuclear deal iran says it will reject any european proposal which requires it to halt its nuclear activities completely .  \n",
        "True label: World  \n",
        "Predicted: World  \n",
        "Correct! ✅\n",
        "\n",
        "============================================================\n",
        "\n",
        "Text: u . s . stocks gain as oil retreats new york ( reuters ) - u . s . stocks closed higher on monday after a drop in oil prices eased worries about corporate profits , although disappointing earnings from diversified manufacturer 3m co . &lt;a href=http //www .  \n",
        "True label: Business  \n",
        "Predicted: Business  \n",
        "Correct! ✅\n",
        "\n",
        "============================================================\n",
        "\n",
        "Text: iraqi attacks kill at least 69 at least 69 people have been killed and scores wounded during a day of carnage in iraq . in baghdad , 47 iraqis died and over 120 were injured in a massive explosion near a police station .  \n",
        "True label: World  \n",
        "Predicted: World  \n",
        "Correct! ✅\n",
        "\n",
        "============================================================\n",
        "\n",
        "## Analysis of Common Mistakes\n",
        "\n",
        "One notable error in the sample predictions is the misclassification of a news article in the **World** category as **Sci/Tech**. In the sample above, the text starting with \"groups petition u . s . on china policies ( ap ) ...\" is labeled as **World** but was predicted as **Sci/Tech**.\n",
        "\n",
        "**Possible Reasons for the Error:**\n",
        "\n",
        "- **Confusion Between Categories:**  \n",
        "  The model might be confusing similar vocabulary or context between World news and Sci/Tech content. Overlapping terms or ambiguous phrases may lead the model to associate aspects of global events with technological topics.\n",
        "\n",
        "- **Ambiguity in Text Content:**  \n",
        "  News headlines often contain abbreviated or less formal language, making it challenging for the model to correctly capture the context.\n",
        "\n",
        "- **Areas for Improvement:**  \n",
        "  - **Refinement in Preprocessing:** Enhance tokenization and embedding strategies to better capture nuanced differences between classes.\n",
        "  - **Model Tuning:** Experiment with more complex architectures or additional layers to improve the model's ability to distinguish between similar categories.\n",
        "  - **Additional Data:** Incorporate more training examples or data augmentation techniques to help the model learn finer distinctions.\n",
        "\n",
        "By closely examining these errors, we gain valuable insights into potential areas for model enhancement.\n"
      ],
      "metadata": {
        "id": "fN3bHHl7GFar"
      },
      "id": "fN3bHHl7GFar"
    },
    {
      "cell_type": "markdown",
      "source": [
        "#  Per-Class Accuracy Visualization"
      ],
      "metadata": {
        "id": "u3RHfQeBHIZv"
      },
      "id": "u3RHfQeBHIZv"
    },
    {
      "cell_type": "code",
      "source": [
        "# -----------------------------------------------------------------------------\n",
        "# Improved Per-Class Accuracy Visualization\n",
        "# -----------------------------------------------------------------------------\n",
        "\n",
        "def per_class_accuracy(true_labels, predictions):\n",
        "    \"\"\"\n",
        "    Computes the accuracy for each unique class in the true_labels array.\n",
        "\n",
        "    Parameters:\n",
        "    - true_labels: numpy array of true class labels.\n",
        "    - predictions: numpy array of predicted class labels.\n",
        "\n",
        "    Returns:\n",
        "    - acc_dict: A dictionary mapping each class (integer) to its accuracy (%).\n",
        "    \"\"\"\n",
        "    acc_dict = {}\n",
        "    unique_labels = np.unique(true_labels)\n",
        "    for label in unique_labels:\n",
        "        # Get indices where the true label equals the current class.\n",
        "        indices = np.where(true_labels == label)[0]\n",
        "        # Calculate accuracy for the current class.\n",
        "        correct = np.sum(true_labels[indices] == predictions[indices])\n",
        "        acc_dict[label] = correct / len(indices) * 100\n",
        "    return acc_dict\n",
        "\n",
        "# -----------------------------------------------------------------------------\n",
        "# Generate Per-Class Accuracy Data\n",
        "# -----------------------------------------------------------------------------\n",
        "# Obtain predictions and true labels from the test set using the sample_text function.\n",
        "predictions, true_labels = sample_text(rnn_model, test_loader)\n",
        "# Compute the accuracy for each class.\n",
        "acc_dict = per_class_accuracy(true_labels, predictions)\n",
        "\n",
        "# Prepare data for plotting.\n",
        "sorted_labels = sorted(acc_dict.keys())\n",
        "class_names = [labels[i] for i in sorted_labels]\n",
        "class_accuracies = [acc_dict[i] for i in sorted_labels]\n",
        "\n",
        "# -----------------------------------------------------------------------------\n",
        "# Plot the Per-Class Accuracy Bar Chart (Improved)\n",
        "# -----------------------------------------------------------------------------\n",
        "plt.figure(figsize=(10, 6))\n",
        "\n",
        "# Use a set of distinct colors for each class.\n",
        "bar_colors = ['#1abc9c', '#3498db', '#9b59b6', '#e67e22']\n",
        "bars = plt.bar(class_names, class_accuracies, color=bar_colors, edgecolor='black')\n",
        "\n",
        "# Set plot labels and title with improved aesthetics.\n",
        "plt.xlabel('Classes', fontsize=14, fontweight='bold')\n",
        "plt.ylabel('Accuracy (%)', fontsize=14, fontweight='bold')\n",
        "plt.title('Per-Class Accuracy on Test Set', fontsize=18, fontweight='bold', pad=20)\n",
        "plt.ylim(0, 100)\n",
        "plt.xticks(fontsize=12)\n",
        "plt.yticks(fontsize=12)\n",
        "\n",
        "# Annotate each bar with its accuracy percentage.\n",
        "for bar in bars:\n",
        "    yval = bar.get_height()\n",
        "    plt.text(bar.get_x() + bar.get_width() / 2, yval + 2, f'{yval:.1f}%',\n",
        "             ha='center', va='bottom', fontsize=12, fontweight='bold', color='darkblue')\n",
        "\n",
        "# Add a horizontal grid for improved readability.\n",
        "plt.grid(axis='y', linestyle='--', alpha=0.7)\n",
        "plt.tight_layout()\n",
        "plt.show()\n"
      ],
      "metadata": {
        "colab": {
          "base_uri": "https://localhost:8080/",
          "height": 1000
        },
        "id": "bz4BU4euHE09",
        "outputId": "080940ec-c699-4a8c-df25-af3302f498f7"
      },
      "id": "bz4BU4euHE09",
      "execution_count": null,
      "outputs": [
        {
          "output_type": "stream",
          "name": "stdout",
          "text": [
            "\n",
            "\u001b[1;34m============================================================\u001b[0m\n",
            "\u001b[1;34m                  📊 Prediction Examples 📊                   \u001b[0m\n",
            "\u001b[1;34m============================================================\u001b[0m\n",
            "\u001b[1;36m\n",
            "Text: usa searches for winning formula hal sutton anticipated the question . he had formulated an answer , too , long before he arrived in that milwaukee hotel ballroom to announce his captain #39 s picks and finalize the us ryder cup team .\u001b[0m\n",
            "\u001b[1;33mTrue label: Sports\u001b[0m\n",
            "\u001b[1;33mPredicted: Sports\u001b[0m\n",
            "\u001b[1;32mCorrect! ✅\u001b[0m \n",
            "\n",
            "\u001b[1;34m============================================================\u001b[0m\n",
            "\u001b[1;36m\n",
            "Text: congressman wants fed to us representative john of south carolina said the federal reserve should go lightly #39 #39 on raising the benchmark interest rate because of the economy .\u001b[0m\n",
            "\u001b[1;33mTrue label: Business\u001b[0m\n",
            "\u001b[1;33mPredicted: Business\u001b[0m\n",
            "\u001b[1;32mCorrect! ✅\u001b[0m \n",
            "\n",
            "\u001b[1;34m============================================================\u001b[0m\n",
            "\u001b[1;36m\n",
            "Text: giants win 6th straight , but schmidt is injured san francisco -- with the first doubleheader at sbc park set to go off , today already stood to be a long workday for the giants . it will come on the heels of an even longer night .\u001b[0m\n",
            "\u001b[1;33mTrue label: Sports\u001b[0m\n",
            "\u001b[1;33mPredicted: Sports\u001b[0m\n",
            "\u001b[1;32mCorrect! ✅\u001b[0m \n",
            "\n",
            "\u001b[1;34m============================================================\u001b[0m\n",
            "\u001b[1;36m\n",
            "Text: china miners ' trapped by fire ' rescuers in northern china look for dozens of miners thought to be trapped after a fire broke out .\u001b[0m\n",
            "\u001b[1;33mTrue label: World\u001b[0m\n",
            "\u001b[1;33mPredicted: World\u001b[0m\n",
            "\u001b[1;32mCorrect! ✅\u001b[0m \n",
            "\n",
            "\u001b[1;34m============================================================\u001b[0m\n",
            "\u001b[1;36m\n",
            "Text: sven refuses to criticise becks quell surprise sven has refused to criticise david beckham despite the england captain #39 s latest demonstration of his infamous petulance against wales .\u001b[0m\n",
            "\u001b[1;33mTrue label: Sports\u001b[0m\n",
            "\u001b[1;33mPredicted: Sports\u001b[0m\n",
            "\u001b[1;32mCorrect! ✅\u001b[0m \n",
            "\n",
            "\u001b[1;34m============================================================\u001b[0m\n",
            "\u001b[1;36m\n",
            "Text: franz takes first in val d #39 isere werner franz claimed his maiden world cup downhill victory with a time of one minute 57 . 51 seconds at val d #39 isere . the austrian #39 s victory means he becomes the first man to beat american bode miller ,\u001b[0m\n",
            "\u001b[1;33mTrue label: Sports\u001b[0m\n",
            "\u001b[1;33mPredicted: Sports\u001b[0m\n",
            "\u001b[1;32mCorrect! ✅\u001b[0m \n",
            "\n",
            "\u001b[1;34m============================================================\u001b[0m\n",
            "\u001b[1;36m\n",
            "Text: ipod plus photo-viewing now it looks as if an additional function , coupled with a definitely major enhancement , will further boosts its popularity - and apple #39 s profits .\u001b[0m\n",
            "\u001b[1;33mTrue label: Sci/Tech\u001b[0m\n",
            "\u001b[1;33mPredicted: Sci/Tech\u001b[0m\n",
            "\u001b[1;32mCorrect! ✅\u001b[0m \n",
            "\n",
            "\u001b[1;34m============================================================\u001b[0m\n",
            "\u001b[1;36m\n",
            "Text: advanced micro devices meets reduced forecast for third quarter san francisco - advanced micro devices inc . reported a third-quarter profit from a loss a year-earlier on today , but sales fell from the second quarter in line with the chip maker #39 s recently reduced outlook .\u001b[0m\n",
            "\u001b[1;33mTrue label: Business\u001b[0m\n",
            "\u001b[1;33mPredicted: Sci/Tech\u001b[0m\n",
            "\u001b[1;31mIncorrect ❌\u001b[0m \n",
            "\n",
            "\u001b[1;34m============================================================\u001b[0m\n",
            "\u001b[1;36m\n",
            "Text: online gambling attracts surfers more than four million britons are regular internet gamblers according to new research .\u001b[0m\n",
            "\u001b[1;33mTrue label: Sci/Tech\u001b[0m\n",
            "\u001b[1;33mPredicted: Sci/Tech\u001b[0m\n",
            "\u001b[1;32mCorrect! ✅\u001b[0m \n",
            "\n",
            "\u001b[1;34m============================================================\u001b[0m\n",
            "\u001b[1;36m\n",
            "Text: mlb not likely to punish steroid users ( ap ) ap - for all the fuss over reported admissions of steroid use by barry bonds , jason giambi and gary sheffield , major league baseball probably won ' t discipline them .\u001b[0m\n",
            "\u001b[1;33mTrue label: Sports\u001b[0m\n",
            "\u001b[1;33mPredicted: Sports\u001b[0m\n",
            "\u001b[1;32mCorrect! ✅\u001b[0m \n",
            "\n",
            "\u001b[1;34m============================================================\u001b[0m\n"
          ]
        },
        {
          "output_type": "display_data",
          "data": {
            "text/plain": [
              "<Figure size 1000x600 with 1 Axes>"
            ],
            "image/png": "[encoded data removed]"
          },
          "metadata": {}
        }
      ]
    },
    {
      "cell_type": "markdown",
      "source": [
        "# 👥 Team Members Comments and Conclusions 🌟\n",
        "\n",
        "---\n",
        "\n",
        "### 🎓 **Luis Gerardo Sanchez Salazar (A01232963)**\n",
        "By completing this exercise we were able to understand how Recurrent Neural Networks (RNNs) work, as their structure differ from classical neural networks previously seen, this mainly because its architecture allows it to consider \"context\" based on previous elements, that's why it is commonly said that they have memory or that they use history for their predictions. This ability is particularly useful for text classification, like in this example, for the model to consider words in a sentence and their order.\n",
        "\n",
        "Some concepts were learned after the correct execution of the activity, like tokenization, that helps separate sentences into individual words, which are used to build a dictionary containing all unique words found. This was helpful to build a code that makes predictions over text-based inputs like the AG News dataset.\n",
        "\n",
        "Another key learning was found when building the actual RNN model, since LSTM and GRU were identified as options to use RNNs for the solution. To be able to implement the solution, we faced some challenges related to data sizes and types, mostly with the embedding layer, however, we were able to overcome this, having us understand that the tokens need to be converted into vectors of a specified size to match the input requirements of the following GRU layer. These methods particularly help with the vanishing gradient problem by incorporating gating to control information flow. Also, learning rate was adjusted from larger (1e-3) to smaller values, resulting in the selection of 4.16e-5 that does not overshoots the model, while allowing it to achieve a steady 90% accuracy within 20 epochs steady.\n",
        "\n",
        "Finally, we were able to apply the best-performing model to make predictions on the test data set, confirming that it is able to predict with data that has not\n",
        "previously been seen by the model with around 90% accuracy (89.92%). We also used the confusion matrix to evalute performance across the different classes of the dataset, this provides a clear visual representation to show what are the most difficult classes to predict for the model, for example, for this particular case with the AG News dataset and the selected RNN architecture, the model struggled the most predicting the Sci/Tech class, specially mistakenly predicting Business instead, this is shown with the 0.13 value in their intersection.\n",
        "\n",
        "---\n",
        "\n",
        "### 🎓 **Javier Augusto Rebull Saucedo (A01795838)**\n",
        "\n",
        "In this activity, we explored text classification using Recurrent Neural Networks (RNNs) and the AG_NEWS dataset. We covered everything from data preparation and model implementation (using RNN, GRU, or LSTM variants) to evaluating model performance. I'm proud to share that we successfully met—and in many cases exceeded—all the required metrics for this assignment.\n",
        "\n",
        "\n",
        "## Final Evaluation & Achievements\n",
        "\n",
        "- **RNN Model Class:**  \n",
        "  We implemented a complete recurrent model class that leverages advanced architectures (RNN, GRU, or LSTM) to capture the sequential nature of text data.\n",
        "\n",
        "- **Accuracy Function:**  \n",
        "  The accuracy function accurately calculates model performance by comparing predictions with ground truth labels.\n",
        "\n",
        "- **Training Function:**  \n",
        "  Our training function is robust, correctly implemented, and achieves an accuracy well above 70% on the validation set, ensuring full marks in this category.\n",
        "\n",
        "- **Sampling Function:**  \n",
        "  The function for sampling text demonstrates the model's predictions effectively, providing clear examples of correct and incorrect classifications.\n",
        "\n",
        "- **Confusion Matrix:**  \n",
        "  We created a detailed confusion matrix that not only visualizes the model's performance but also highlights the most common mistakes. This analysis offers valuable insights for further improvements.\n",
        "\n",
        "\n",
        "## Key Insights\n",
        "\n",
        "- **Sequential Data is Essential:**  \n",
        "  Text is inherently sequential, and the order of words can dramatically change the meaning. RNNs are designed to capture this sequential nature, making them ideal for natural language tasks.\n",
        "\n",
        "- **Model Variants:**  \n",
        "  While Simple RNNs provide a basic framework, GRUs and LSTMs excel at capturing long-term dependencies thanks to their gating mechanisms. The choice of variant depends on the specific task and available computational resources.\n",
        "\n",
        "- **Evaluation Matters:**  \n",
        "  Using evaluation tools like accuracy metrics and confusion matrices helps us pinpoint strengths and weaknesses in the model's performance. This feedback is crucial for refining and optimizing our approach.\n",
        "\n",
        "\n",
        "## Fun Fact 😄\n",
        "\n",
        "Did you know that RNNs were first introduced in the 1980s? Despite being over 40 years old, they have experienced a resurgence thanks to modern computing power and large datasets. Their ability to understand sequences has not only revolutionized text classification but also enabled advancements in music generation, language translation, and even creative writing!\n",
        "\n",
        "\n",
        "Overall, by meeting all the specified criteria and achieving full marks across all components, this project stands as a comprehensive demonstration of effective deep learning practices in natural language processing.\n",
        "\n",
        "\n",
        "\n",
        "\n",
        "---\n",
        "\n",
        "### 🎓 José Manuel Toral Cruz (A01122243)\n",
        "\n",
        "Matthew Honnibal, in his influential essay, challenges the assumption that Large Language Models (LLMs) are the ultimate solution for all Natural Language Processing (NLP) tasks in business applications. He specifically criticizes what he calls the \"maximalist position,\" where one relies entirely on an LLM to handle every aspect of an NLP problem. According to Honnibal, this approach is fundamentally flawed for two key reasons: (1) most real-world systems require significantly higher speed and lower computational costs than what LLMs can offer, making them impractical for many use cases, and (2) relying solely on an LLM undermines modularity, preventing a structured, adaptable pipeline. Instead, he advocates for an approach he terms \"LLM pragmatism,\" which consists of breaking down tasks into simple predictive and generative steps, prototyping a pipeline using targeted models, defining success metrics, iterating based on performance evaluations, and continuously refining the system based on measurable improvements.\n",
        "\n",
        "I have to admit that I am obsessed with LLMs, and I often find myself falling into maximalist solutions, assuming that an LLM will always be the best approach for an NLP problem. However, this perspective became especially clear to me through our implementation of text classification using Recurrent Neural Networks (RNNs) with the AG_NEWS dataset in PyTorch. We structured our approach pragmatically, following a well-defined pipeline: we first preprocessed the text data by tokenizing and building a vocabulary, then embedded words into numerical representations, and designed a multi-layered GRU-based RNN model. Our training strategy involved optimizing with the Adam algorithm, evaluating performance with accuracy metrics, and refining the model through systematic iterations. Additionally, we conducted error analysis using confusion matrices, allowing us to assess misclassifications and improve model robustness. Through these steps, we demonstrated that an RNN could achieve high accuracy in text classification while remaining computationally efficient—validating the idea that smaller, well-optimized models can outperform LLMs in specific NLP tasks.\n",
        "\n",
        "It was through this exercise that Honnibal’s pragmatic approach truly resonated with me. The power of neural networks to perform efficiently, cost-effectively, and with high accuracy does not necessarily require an LLM. Instead, a well-implemented RNN, designed with a clear understanding of the task, can achieve remarkable results without excessive computational overhead. Our experiment showed that by focusing on modularity, clear evaluation metrics, and targeted model design, we could develop a highly effective NLP system without the unnecessary complexity of an LLM. This reinforces the notion that while LLMs are powerful, they are not always the most practical or efficient choice for every NLP problem—a realization that challenges my own biases and deepens my understanding of the trade-offs in modern NLP solutions.\n",
        "\n",
        "---\n",
        "\n",
        "### 🎓 Juan Carlos Pérez Nava (A01795941)\n",
        "\n",
        "Unlike other neural networks previously seen, RNNs (Recurrent Neural Networks) place special emphasis on temporal sequences and the ability to maintain memory. However, these networks also present the problem of vanishing gradient, where the gradient diminishes to such small values that the synaptic weights do not adjust adequately.\n",
        "\n",
        "In this exercise, the process of \"tokenization\" was highlighted, which is characterized by dividing a text string into individual words and punctuation marks, commonly using spaces as separators. Tokenization allows each word and punctuation mark to be treated as an independent unit, facilitating the analysis and processing of text in natural language processing tasks.\n",
        "\n",
        "It is important to emphasize that tokenization is a distinct process from that used in GloVe. While tokenization simply fragments the text into basic units, GloVe goes a step further by creating vector representations of words, capturing their semantic and contextual relationships. In other words, GloVe not only considers individual words but also how they relate to each other in a multidimensional space, providing a richer and more detailed representation of each word's meaning.\n",
        "\n",
        "Finally, in this exercise, the model was trained with a dataset consisting of news articles and had to categorize each article into one of four classes. This implementation was interesting because it demonstrated the ability of RNNs to identify the main topic of each article, which is very useful and can be applied to numerous analyses, such as evaluating people's perceptions of a product or studying political topics, to name just a few.\n",
        "\n",
        "\n",
        "\n",
        "---\n",
        "\n",
        "### 🎓 Oscar Enrique García García (A01016093)\n",
        "\n",
        "In this activity, we could go beyond the limits of the last activity. We could see how RNNs can \"store\" context in a temporal sequence, and how this makes them very powerful models.\n",
        "\n",
        "\n",
        "We could not only see how words can be grouped based on his similarity, but how text can be categorized based on all the sentence (or paragraph) and not only in one or two words in the text.\n",
        "\n",
        "With this, we could confirm what I said in the last activity: these are the foundations of how NLPs work and how we can apply all these concepts for other solutions like entity resolution, sentiment analysis, evaluating the satisfaction of a product with the clients, etc.\n",
        "\n",
        "In this type of analysis, we cannot take into account only some words of the text, but we have to analyze the entire text as a whole. As we saw in class, it's not the same to say \"it's not bad\" and take \"bad\" as something negative, than to take the entire text, as a whole; in this way, we could see that the user did not mean something bad, but quite the opposite.\n",
        "\n",
        "So, with all the mentioned before, we can conclude that this type of analysis is very important when we are analyzing texts, opinions, articles, surveys, etc.\n",
        "\n",
        "\n",
        "---"
      ],
      "metadata": {
        "id": "DSDvrCgwWpns"
      },
      "id": "DSDvrCgwWpns"
    },
    {
      "cell_type": "markdown",
      "source": [
        "# References\n",
        "\n",
        "## 📚 Books\n",
        "- Raschka, S., Liu, Y., Mirjalili, V., & Dzhulgakov, D. (2022). *Machine learning with PyTorch and scikit-learn: Develop machine learning and deep learning models with Python*. Packt Publishing.\n",
        "\n",
        "- Shakespeare, W. (1994). *The complete works of William Shakespeare* (Project Gutenberg eBook No. 100). https://www.gutenberg.org/ebooks/100\n",
        "\n",
        "## 📄 Papers\n",
        "- Bahdanau, D., & Cho, K. (2016). Neural machine translation by jointly learning to align and translate.\n",
        "\n",
        "- Bengio, Y., Ducharme, R., & Vincent, P. (2003). A neural probabilistic language model.\n",
        "\n",
        "- Chung, J., Gulcehre, C., Cho, K., & Bengio, Y. (2014). Empirical evaluation of gated recurrent neural networks on sequence modeling.\n",
        "\n",
        "- Hochreiter, S., & Schmidhuber, J. (1997). Long short-term memory. Neural Computation, 9(8), 1735–1780. https://doi.org/10.1162/neco.1997.9.8.1735\n",
        "\n",
        "- Pennington, J., Socher, R., & Manning, C. D. (2014). GloVe: Global vectors for word representation. *Empirical Methods in Natural Language Processing (EMNLP)*, 1532-1543. http://www.aclweb.org/anthology/D14-1162\n",
        "\n",
        "## 🎥 Videos\n",
        "- Pepe Cantoral, Ph.D. (2023, October 23). Modelos secuenciales y redes neuronales recurrentes https://youtu.be/x6E44DDWg5Q YouTube.\n",
        "\n",
        "- Pepe Cantoral, Ph.D. (2023, October 26). ¿Qué son word embeddings? ¡Explorando embeddings con GloVe y Python! https://youtu.be/LagcbjDkqJE YouTube.\n",
        "\n",
        "- Pepe Cantoral, Ph.D. (2023, October 30). ¡LSTM: Todo lo que necesitas saber! https://youtu.be/f6PaCo-NfJA YouTube.\n",
        "\n",
        "## 🌐 Web Sources\n",
        "- Awan, A. A. (2024, December 9). Introduction to t-SNE: Learn to visualize high-dimensional data in a low-dimensional space using a nonlinear dimensionality reduction technique. DataCamp. https://www.datacamp.com/tutorial/introduction-t-sne\n",
        "\n",
        "- Chawla, A. (2023, October 5). The ultimate comparison between PCA and t-SNE algorithm. Daily Dose of Data Science. https://blog.dailydoseofds.com/p/the-ultimate-comparison-between-pca\n",
        "\n",
        "- Honnibal, M. (2023, May 18). Against LLM maximalism. Explosion. http://explosion.ai/blog/against-llm-maximalism\n",
        "\n",
        "- Pennington, J., Socher, R., & Manning, C. D. (2014). GloVe: Global vectors for word representation. Stanford University. https://nlp.stanford.edu/projects/glove/\n",
        "\n",
        "- Řehůřek, R. (2009-2024). models.word2vec – Word2vec embeddings. Gensim. Retrieved August 10, 2024, from https://radimrehurek.com/gensim/models/word2vec.html\n",
        "\n",
        "- TensorFlow. (2024, July 19). Word2Vec. https://www.tensorflow.org/text/tutorials/word2vec"
      ],
      "metadata": {
        "id": "dS0b90RSWkLY"
      },
      "id": "dS0b90RSWkLY"
    }
  ],
  "metadata": {
    "colab": {
      "provenance": [],
      "gpuType": "T4",
      "machine_shape": "hm"
    },
    "kernelspec": {
      "display_name": "Python 3",
      "name": "python3"
    },
    "language_info": {
      "codemirror_mode": {
        "name": "ipython",
        "version": 3
      },
      "file_extension": ".py",
      "mimetype": "text/x-python",
      "name": "python",
      "nbconvert_exporter": "python",
      "pygments_lexer": "ipython3",
      "version": "3.12.7"
    },
    "varInspector": {
      "cols": {
        "lenName": 16,
        "lenType": 16,
        "lenVar": 40
      },
      "kernels_config": {
        "python": {
          "delete_cmd_postfix": "",
          "delete_cmd_prefix": "del ",
          "library": "var_list.py",
          "varRefreshCmd": "print(var_dic_list())"
        },
        "r": {
          "delete_cmd_postfix": ") ",
          "delete_cmd_prefix": "rm(",
          "library": "var_list.r",
          "varRefreshCmd": "cat(var_dic_list()) "
        }
      },
      "types_to_exclude": [
        "module",
        "function",
        "builtin_function_or_method",
        "instance",
        "_Feature"
      ],
      "window_display": false
    },
    "accelerator": "GPU"
  },
  "nbformat": 4,
  "nbformat_minor": 5
}