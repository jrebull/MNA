{
  "nbformat": 4,
  "nbformat_minor": 0,
  "metadata": {
    "colab": {
      "provenance": []
    },
    "kernelspec": {
      "name": "python3",
      "display_name": "Python 3"
    },
    "language_info": {
      "name": "python"
    }
  },
  "cells": [
    {
      "cell_type": "markdown",
      "source": [
        "**MAESTRÍA EN INTELIGENCIA ARTIFICIAL APLICADA**\n",
        "\n",
        "**Curso: TC4029 - Ciencia y analítica de datos**\n",
        "\n",
        "Tecnológico de Monterrey\n",
        "\n",
        "Prof Grettel Barceló Alonso\n",
        "\n",
        "**Semana 2**\n",
        "Pandas para el análisis de datos en Python\n",
        "\n",
        "---"
      ],
      "metadata": {
        "id": "SML-04QQLd9l"
      }
    },
    {
      "cell_type": "markdown",
      "source": [
        "*   NOMBRE: Javier Augusto Rebull Saucedo\n",
        "*   MATRÍCULA: A01795838\n"
      ],
      "metadata": {
        "id": "6q35__bSBB3G"
      }
    },
    {
      "cell_type": "markdown",
      "source": [
        "---"
      ],
      "metadata": {
        "id": "AepY3wwtDXkc"
      }
    },
    {
      "cell_type": "markdown",
      "source": [
        "En esta actividad usarás el archivo de datos `LaqnData.csv`. Cada fila de este conjunto de datos muestra un registro de medición, por hora, de uno de los siguientes cinco contaminantes del aire:\n",
        "\n",
        "*   `NO` (óxido nítrico)\n",
        "*   `NO2` (dióxido de nitrógeno)\n",
        "*   `NOX` (óxidos nitrosos)\n",
        "*   `PM10` (partículas suspendidas con un diámetro aerodinámico igual o menor a 10 micrómetros)\n",
        "*   `PM2.5` (partículas suspendidas con un diámetro aerodinámico igual o menor a 2.5 micrómetros)\n",
        "\n",
        "Los datos se recopilaron en una ubicación de Londres durante todo el año 2017.\n",
        "\n",
        "**NOTA IMPORTANTE:** Asegúrate de responder *explícitamente* todos los cuestionamientos.\n"
      ],
      "metadata": {
        "id": "BumCtObqBqGr"
      }
    },
    {
      "cell_type": "markdown",
      "source": [
        "1.\tDescarga el archivo: `LaqnData.csv` y guarda, en un dataframe (`air_df`), todos sus registros.\n",
        "*   Observa la estructura y contenido del dataframe con los atributos y métodos estudiados (`shape`, `columns`, `head()`, `tail()`, `dtypes`)\n",
        "*   Calcula el porcentaje de valores faltantes por columna."
      ],
      "metadata": {
        "id": "mqtTwAL3Mr44"
      }
    },
    {
      "cell_type": "code",
      "execution_count": 1,
      "metadata": {
        "id": "F5JognteLaJV",
        "colab": {
          "base_uri": "https://localhost:8080/",
          "height": 35
        },
        "outputId": "cafa1508-0f1a-49e4-e4d9-ef0821e42d01"
      },
      "outputs": [
        {
          "output_type": "execute_result",
          "data": {
            "text/plain": [
              "'en_US.UTF-8'"
            ],
            "application/vnd.google.colaboratory.intrinsic+json": {
              "type": "string"
            }
          },
          "metadata": {},
          "execution_count": 1
        }
      ],
      "source": [
        "#####\n",
        "#####Tarea JR MNA April, 2024\n",
        "#####\n",
        "#####Version 1.0.0\n",
        "\n",
        "import pandas as pd\n",
        "import locale\n",
        "import matplotlib.pyplot as plt\n",
        "\n",
        "# paleta de colores\n",
        "verdeArranque = \"\\033[92m\"\n",
        "verdeFinal = \"\\033[0m\"\n",
        "amarilloArranque = \"\\033[93m\"\n",
        "amarilloFinal = \"\\033[0m\"\n",
        "rojoArranque = \"\\033[91m\"\n",
        "rojoFinal = \"\\033[0m\"\n",
        "naranjaArranque = \"\\033[38;5;208m\"\n",
        "naranjaFinal = \"\\033[0m\"\n",
        "\n",
        "# poder usar el formato que me gusta en los numeros\n",
        "locale.setlocale(locale.LC_ALL, 'en_US.UTF-8')\n"
      ]
    },
    {
      "cell_type": "markdown",
      "source": [
        "**Descarga el archivo: LaqnData.csv y guarda, en un dataframe (air_df), todos sus registros.**"
      ],
      "metadata": {
        "id": "FMqU8kEWMufk"
      }
    },
    {
      "cell_type": "code",
      "source": [
        "# Descargar el archivo de datos en un DataFrame\n",
        "air_df = pd.read_csv('/content/LaqnData.csv')"
      ],
      "metadata": {
        "id": "DjrrfgbfMq_T"
      },
      "execution_count": 2,
      "outputs": []
    },
    {
      "cell_type": "code",
      "source": [
        "# Observar la forma del DataFrame\n",
        "print(\"Forma del DataFrame:\", air_df.shape)"
      ],
      "metadata": {
        "colab": {
          "base_uri": "https://localhost:8080/"
        },
        "id": "u2zOIyIQBNMY",
        "outputId": "00d685dd-7aa4-4886-b2b2-ba8d31249380"
      },
      "execution_count": 3,
      "outputs": [
        {
          "output_type": "stream",
          "name": "stdout",
          "text": [
            "Forma del DataFrame: (43800, 6)\n"
          ]
        }
      ]
    },
    {
      "cell_type": "code",
      "source": [
        "# Para saber las columnas del DataFrame\n",
        "print(\"Columnas del DataFrame: \\n\", air_df.columns)"
      ],
      "metadata": {
        "colab": {
          "base_uri": "https://localhost:8080/"
        },
        "id": "oOsLc5WpBdPn",
        "outputId": "abd3fedb-1640-4387-825e-a338a21d5124"
      },
      "execution_count": 4,
      "outputs": [
        {
          "output_type": "stream",
          "name": "stdout",
          "text": [
            "Columnas del DataFrame: \n",
            " Index(['Site', 'Species', 'ReadingDateTime', 'Value', 'Units',\n",
            "       'Provisional or Ratified'],\n",
            "      dtype='object')\n"
          ]
        }
      ]
    },
    {
      "cell_type": "code",
      "source": [
        "# para saber si se cargo correctamente mi archivo, visualizo los primeros datos\n",
        "print('Primeras Filas del DataFrame \\n')\n",
        "print(air_df.head())"
      ],
      "metadata": {
        "colab": {
          "base_uri": "https://localhost:8080/"
        },
        "id": "o231cr7HBoqh",
        "outputId": "876ed348-eee1-4e80-bef7-0fd4b35b6176"
      },
      "execution_count": 5,
      "outputs": [
        {
          "output_type": "stream",
          "name": "stdout",
          "text": [
            "Primeras Filas del DataFrame \n",
            "\n",
            "  Site Species   ReadingDateTime  Value   Units Provisional or Ratified\n",
            "0  CT3      NO  01/01/2017 00:00    3.5  ug m-3                       R\n",
            "1  CT3      NO  01/01/2017 01:00    3.6  ug m-3                       R\n",
            "2  CT3      NO  01/01/2017 02:00    2.2  ug m-3                       R\n",
            "3  CT3      NO  01/01/2017 03:00    2.1  ug m-3                       R\n",
            "4  CT3      NO  01/01/2017 04:00    3.3  ug m-3                       R\n"
          ]
        }
      ]
    },
    {
      "cell_type": "code",
      "source": [
        "# Enseñame el final del DataFrame\n",
        "print(\"Para ver el finl del DataFrame: \\n\")\n",
        "print(air_df.tail())"
      ],
      "metadata": {
        "colab": {
          "base_uri": "https://localhost:8080/"
        },
        "id": "6-o5gYZpBypu",
        "outputId": "673561d1-72e3-4f7d-a265-eba7f034a1bb"
      },
      "execution_count": 6,
      "outputs": [
        {
          "output_type": "stream",
          "name": "stdout",
          "text": [
            "Para ver el finl del DataFrame: \n",
            "\n",
            "      Site Species   ReadingDateTime  Value   Units Provisional or Ratified\n",
            "43795  CT3   PM2.5  31/12/2017 19:00   -2.0  ug m-3                       R\n",
            "43796  CT3   PM2.5  31/12/2017 20:00    6.0  ug m-3                       R\n",
            "43797  CT3   PM2.5  31/12/2017 21:00    5.0  ug m-3                       R\n",
            "43798  CT3   PM2.5  31/12/2017 22:00    5.0  ug m-3                       R\n",
            "43799  CT3   PM2.5  31/12/2017 23:00    6.0  ug m-3                       R\n"
          ]
        }
      ]
    },
    {
      "cell_type": "code",
      "source": [
        "# para conocer los tipos de formatos de las columnas\n",
        "print(\"Que tipo de datos usa el DataFrame: \\n\")\n",
        "print(air_df.dtypes)"
      ],
      "metadata": {
        "colab": {
          "base_uri": "https://localhost:8080/"
        },
        "id": "D-VYYSILCQhB",
        "outputId": "46dfbd08-6d85-4f09-f6a2-efee08cadd5b"
      },
      "execution_count": 7,
      "outputs": [
        {
          "output_type": "stream",
          "name": "stdout",
          "text": [
            "Que tipo de datos usa el DataFrame: \n",
            "\n",
            "Site                        object\n",
            "Species                     object\n",
            "ReadingDateTime             object\n",
            "Value                      float64\n",
            "Units                       object\n",
            "Provisional or Ratified     object\n",
            "dtype: object\n"
          ]
        }
      ]
    },
    {
      "cell_type": "code",
      "source": [
        "#Calcula el porcentaje de valores faltantes por columna.\n",
        "\n",
        "#voy a craear un nuevo DataFrame para mostrar mis resultados\n",
        "dataFrameFinal = pd.DataFrame()\n",
        "\n",
        "# para poder saber el porcentaje debo calcular cuantas filas tiene mi archivo CSV\n",
        "columnasTotales = len(air_df)\n",
        "\n",
        "#a cada columna le reviso si tiene nulos\n",
        "cuentaNulos = air_df.isnull().sum()\n",
        "\n",
        "#Calculo el porcenaje de perdida diviendo los valores perdidos sobre las columnas totales y para que se vea mejor multiplico por 100 y le doy formato\n",
        "porcentajePerdido           = (cuentaNulos / columnasTotales) * 100\n",
        "\n",
        "# imprimo informacion\n",
        "print(verdeArranque + \"El Porcentaje de valores faltantes por Columna \\n\" + verdeFinal)\n",
        "print(porcentajePerdido)\n",
        "\n"
      ],
      "metadata": {
        "colab": {
          "base_uri": "https://localhost:8080/"
        },
        "id": "SW518vvDEXSP",
        "outputId": "975b4dd7-e7ff-4a3a-b406-020454365d4c"
      },
      "execution_count": 8,
      "outputs": [
        {
          "output_type": "stream",
          "name": "stdout",
          "text": [
            "\u001b[92mEl Porcentaje de valores faltantes por Columna \n",
            "\u001b[0m\n",
            "Site                       0.000000\n",
            "Species                    0.000000\n",
            "ReadingDateTime            0.000000\n",
            "Value                      7.374429\n",
            "Units                      0.000000\n",
            "Provisional or Ratified    0.000000\n",
            "dtype: float64\n"
          ]
        }
      ]
    },
    {
      "cell_type": "markdown",
      "source": [
        "2.\tObtén la cantidad de valores únicos por columna (`nunique()`) para responder:\n",
        "\n",
        "\n",
        "*   ¿Cuántas mediciones se hicieron?\n",
        "*   ¿Cuántos contaminantes del aire (`Species`) se analizaron?\n",
        "*   ¿Qué columnas no agregan ningún valor informativo porque el mismo valor en todo el conjunto de datos? Elimínalas del dataframe.\n",
        "*   La columna `Units` tampoco posee valor informativo. Verifícalo con la función `unique()` y elimínala del dataframe."
      ],
      "metadata": {
        "id": "APrlS185Cw-K"
      }
    },
    {
      "cell_type": "code",
      "source": [
        "# Calcular la cantidad de valores únicos por cada columna\n",
        "valoresUnicos = air_df.nunique()\n",
        "\n",
        "# por cada columna del archivo quiero saber cuantos valores unicos existen\n",
        "print(\"Valores únicos por columna: \\n\")\n",
        "print(valoresUnicos)\n",
        "\n",
        "# Numero total de Records\n",
        "cuantasRegistrosTengo = len(air_df)\n",
        "print(verdeArranque + \"\\n ¿Cuántoss Registros Tengo?:\" + verdeFinal, locale.format_string('%d', cuantasRegistrosTengo, grouping=True))\n"
      ],
      "metadata": {
        "id": "Ke0EGLVaCwm6",
        "colab": {
          "base_uri": "https://localhost:8080/"
        },
        "outputId": "ad47be7c-687e-4641-9d6c-e145c7570325"
      },
      "execution_count": 9,
      "outputs": [
        {
          "output_type": "stream",
          "name": "stdout",
          "text": [
            "Valores únicos por columna: \n",
            "\n",
            "Site                          1\n",
            "Species                       5\n",
            "ReadingDateTime            8760\n",
            "Value                      1847\n",
            "Units                         3\n",
            "Provisional or Ratified       1\n",
            "dtype: int64\n",
            "\u001b[92m\n",
            " ¿Cuántoss Registros Tengo?:\u001b[0m 43,800\n"
          ]
        }
      ]
    },
    {
      "cell_type": "markdown",
      "source": [
        "# **¿Cuántas mediciones se hicieron?**"
      ],
      "metadata": {
        "id": "Ja8rQoO3UQXT"
      }
    },
    {
      "cell_type": "code",
      "source": [
        "# saca los unicos e únicos en 'ReadingDateTime'\n",
        "unicosReadingDateTime = air_df['ReadingDateTime'].nunique()\n",
        "# Muestra los valores unicos en Verdesito\n",
        "print(verdeArranque + \"\\n¿Cuántas mediciones se hicieron?:\" + verdeFinal, locale.format_string('%d', unicosReadingDateTime, grouping=True))"
      ],
      "metadata": {
        "colab": {
          "base_uri": "https://localhost:8080/"
        },
        "id": "rkW2Kx9fSz0Y",
        "outputId": "06ae7ce3-627b-4032-8031-eabf4ce1af6b"
      },
      "execution_count": 10,
      "outputs": [
        {
          "output_type": "stream",
          "name": "stdout",
          "text": [
            "\u001b[92m\n",
            "¿Cuántas mediciones se hicieron?:\u001b[0m 8,760\n"
          ]
        }
      ]
    },
    {
      "cell_type": "markdown",
      "source": [
        "# **¿Cuántos contaminantes del aire (Species) se analizaron?**"
      ],
      "metadata": {
        "id": "R_FXCQfCUVph"
      }
    },
    {
      "cell_type": "code",
      "source": [
        "# Calcular el número de valores únicos en la columna 'Species'\n",
        "unicosSpecies = air_df['Species'].nunique()\n",
        "# Imprimir el número de contaminantes del aire únicos analizados\n",
        "print(verdeArranque + \"Número de contaminantes del aire (Species) analizados:\" + verdeFinal, locale.format_string('%d', unicosSpecies, grouping=True))"
      ],
      "metadata": {
        "colab": {
          "base_uri": "https://localhost:8080/"
        },
        "id": "nKSG4UBeSr4s",
        "outputId": "3dd41bdf-784a-426f-c721-85d545b2e09c"
      },
      "execution_count": 11,
      "outputs": [
        {
          "output_type": "stream",
          "name": "stdout",
          "text": [
            "\u001b[92mNúmero de contaminantes del aire (Species) analizados:\u001b[0m 5\n"
          ]
        }
      ]
    },
    {
      "cell_type": "markdown",
      "source": [
        "# **¿Qué columnas no agregan ningún valor informativo porque el mismo valor en todo el conjunto de datos? Elimínalas del dataframe.**"
      ],
      "metadata": {
        "id": "NKt220-5Uezk"
      }
    },
    {
      "cell_type": "code",
      "source": [
        "for column in air_df.columns:\n",
        "    unique_values = air_df[column].nunique()\n",
        "    if unique_values == 1:\n",
        "        print(f\"La Siguiente columna = {column} Tiene el mismo Valor en todo el conjuto de datos, sera dropeada\")"
      ],
      "metadata": {
        "colab": {
          "base_uri": "https://localhost:8080/"
        },
        "id": "E4jie05oSQ95",
        "outputId": "6dd81593-c316-4670-d286-b83681277cce"
      },
      "execution_count": 12,
      "outputs": [
        {
          "output_type": "stream",
          "name": "stdout",
          "text": [
            "La Siguiente columna = Site Tiene el mismo Valor en todo el conjuto de datos, sera dropeada\n",
            "La Siguiente columna = Provisional or Ratified Tiene el mismo Valor en todo el conjuto de datos, sera dropeada\n"
          ]
        }
      ]
    },
    {
      "cell_type": "code",
      "source": [
        "#Calculamos que Columnas tienen el mismo valor e imprimo un warning de lo que deprecare\n",
        "columnasDeprecar = [column for column in air_df.columns if air_df[column].nunique() == 1]\n",
        "print (rojoArranque + 'Estas Columnas vor a Deprecar = ' + rojoFinal, columnasDeprecar, '\\n \\n')\n",
        "\n",
        "#Hago el Dropeo de Columnas con el mismo valor retido\n",
        "air_df.drop(columns=columnasDeprecar, inplace=True)\n",
        "\n",
        "##Vuelvo a revisar como quedarlos las columnas\n",
        "\n",
        "# Calcular la cantidad de valores únicos por cada columna\n",
        "valoresUnicos = air_df.nunique()\n",
        "\n",
        "# por cada columna del archivo quiero saber cuantos valores unicos existen\n",
        "print(\"Valores únicos por columna: \\n\")\n",
        "print(valoresUnicos)"
      ],
      "metadata": {
        "colab": {
          "base_uri": "https://localhost:8080/"
        },
        "id": "-MUkgfBkAI0r",
        "outputId": "9c1b7d72-b5d0-4ea4-849a-02c8ab0347b4"
      },
      "execution_count": 13,
      "outputs": [
        {
          "output_type": "stream",
          "name": "stdout",
          "text": [
            "\u001b[91mEstas Columnas vor a Deprecar = \u001b[0m ['Site', 'Provisional or Ratified'] \n",
            " \n",
            "\n",
            "Valores únicos por columna: \n",
            "\n",
            "Species               5\n",
            "ReadingDateTime    8760\n",
            "Value              1847\n",
            "Units                 3\n",
            "dtype: int64\n"
          ]
        }
      ]
    },
    {
      "cell_type": "markdown",
      "source": [
        "3.\tRealiza el conteo de valores por categoría (`value_counts()`) para la columna `Species` y determina si las lecturas de cada contaminante coincide con el total de mediciones."
      ],
      "metadata": {
        "id": "zEddCwHWEJZ7"
      }
    },
    {
      "cell_type": "code",
      "source": [
        "# Para sacar el numero de Mediciones totales del Data Frame\n",
        "medicionesTotales = len(air_df)\n",
        "\n",
        "# Hago un conteo de contaminantes de la columna Species\n",
        "cuentaSpecies = air_df['Species'].value_counts()\n",
        "\n",
        "# Muestro en pantalla cuántos contaminantes hay en Species\n",
        "print(verdeArranque + \"Conteo de lecturas por contaminante de Species: \\n\" + verdeFinal)\n",
        "\n",
        "#Para que se vea bonito el resultado\n",
        "longitudMaximaSpecies = max(len(Species) for Species in cuentaSpecies.index)\n",
        "\n",
        "for Species, count in cuentaSpecies.items():\n",
        "     cuentaFormateada = locale.format_string('%d', count, grouping=True)\n",
        "     print(f\"{Species:<{longitudMaximaSpecies}} : {cuentaFormateada}\")\n",
        "\n",
        "print('\\n')\n",
        "\n",
        "#\n",
        "# Determina si las lecturas de cada contaminante coincide con el total de mediciones.\n",
        "#\n",
        "\n",
        "if cuentaSpecies.sum() == medicionesTotales:\n",
        "   print(naranjaArranque + \"Good Job El Conteo coincide con el total de mediciones!!!!!\" + naranjaFinal)\n",
        "else:\n",
        "   print(rojoArranque + \"No Coincide - Revisar!!!\" + rojoFinal)\n"
      ],
      "metadata": {
        "id": "inCKasmZEPsv",
        "colab": {
          "base_uri": "https://localhost:8080/"
        },
        "outputId": "ff1e644f-697e-4d97-e22d-76ca5d03c533"
      },
      "execution_count": 14,
      "outputs": [
        {
          "output_type": "stream",
          "name": "stdout",
          "text": [
            "\u001b[92mConteo de lecturas por contaminante de Species: \n",
            "\u001b[0m\n",
            "NO    : 8,760\n",
            "NO2   : 8,760\n",
            "NOX   : 8,760\n",
            "PM10  : 8,760\n",
            "PM2.5 : 8,760\n",
            "\n",
            "\n",
            "\u001b[38;5;208mGood Job El Conteo coincide con el total de mediciones!!!!!\u001b[0m\n"
          ]
        }
      ]
    },
    {
      "cell_type": "markdown",
      "source": [
        "4.\tUtiliza la función `groupby()` para determinar el promedio del valor por contaminante."
      ],
      "metadata": {
        "id": "zhJM6l1vETfI"
      }
    },
    {
      "cell_type": "code",
      "source": [
        "# Sacamnos el promedio usando groupby()\n",
        "promedioValorContaminante = air_df.groupby('Species')['Value'].mean()\n",
        "\n",
        "# Imprimimos el resultado bien aca\n",
        "print(promedioValorContaminante)\n"
      ],
      "metadata": {
        "id": "zstyHahSETJK",
        "colab": {
          "base_uri": "https://localhost:8080/"
        },
        "outputId": "eb007315-fa4a-4cf6-d7b1-b684a5e76d86"
      },
      "execution_count": 15,
      "outputs": [
        {
          "output_type": "stream",
          "name": "stdout",
          "text": [
            "Species\n",
            "NO       15.045115\n",
            "NO2      38.010185\n",
            "NOX      61.078661\n",
            "PM10     22.551704\n",
            "PM2.5    14.999831\n",
            "Name: Value, dtype: float64\n"
          ]
        }
      ]
    },
    {
      "cell_type": "markdown",
      "source": [
        "5.\tEl conjunto de datos está en un formato largo. Aplique la función apropiada para cambiarlo al formato ancho (`ReadingDateTime` como índice y cada contaminante en una columna). Nombre el dataframe resultante como `pvt_df`."
      ],
      "metadata": {
        "id": "GY2ux-Q_EV7J"
      }
    },
    {
      "cell_type": "code",
      "source": [
        "# vamos a usar una pivotito para pasar del Time Stamp como columnita\n",
        "pvt_df = air_df.pivot_table(index='ReadingDateTime', columns='Species', values='Value', aggfunc='mean')\n",
        "\n",
        "# Imprimimos como quedo el show\n",
        "print(pvt_df.head())"
      ],
      "metadata": {
        "id": "1IETxb9vFIF-",
        "colab": {
          "base_uri": "https://localhost:8080/"
        },
        "outputId": "2fb89761-c88a-4eeb-e4be-cb553b9958fc"
      },
      "execution_count": 16,
      "outputs": [
        {
          "output_type": "stream",
          "name": "stdout",
          "text": [
            "Species            NO   NO2   NOX  PM10  PM2.5\n",
            "ReadingDateTime                               \n",
            "01/01/2017 00:00  3.5  30.8  36.2  35.7    NaN\n",
            "01/01/2017 01:00  3.6  31.5  37.0  28.5    NaN\n",
            "01/01/2017 02:00  2.2  27.3  30.7  22.7    NaN\n",
            "01/01/2017 03:00  2.1  23.5  26.8  20.5    NaN\n",
            "01/01/2017 04:00  3.3  28.0  33.0  22.1    NaN\n"
          ]
        }
      ]
    },
    {
      "cell_type": "markdown",
      "source": [
        "6.\tA través de la función `describe()` responde:\n",
        "\n",
        "*   ¿Cuál es el mayor valor de `NO2` registrado? ¿A qué día pertenece?\n",
        "*   ¿Cuál es el menor valor de `PM10` registrado?¿A qué día pertenece?\n",
        "*   ¿Cuál es la mediana del `NO`? ¿Cómo se interpreta?\n",
        "*   ¿Cuál es el primer cuartil de `PM2.5`? ¿Qué significa?"
      ],
      "metadata": {
        "id": "JmbiBXqFFIZx"
      }
    },
    {
      "cell_type": "code",
      "source": [
        "#Obtenemos las Estadisticas usando la funcion describe\n",
        "descripcionEstadisticas = pvt_df.describe()\n",
        "\n",
        "# ¿Cuál es el mayor valor de NO2 registrado? ¿A qué día pertenece?\n",
        "grandeNO2 = descripcionEstadisticas.loc['max', 'NO2']\n",
        "diaGrandeNO2 = pvt_df['NO2'].idxmax()\n",
        "\n",
        "# ¿Cuál es el menor valor de PM10 registrado?¿A qué día pertenece?\n",
        "chicoPM10 = descripcionEstadisticas.loc['min', 'PM10']\n",
        "diaChicoPM10 = pvt_df['PM10'].idxmin()\n",
        "\n",
        "# ¿Cuál es la mediana del NO? ¿Cómo se interpreta?\n",
        "medianaDeNO = descripcionEstadisticas.loc['50%', 'NO']\n",
        "\n",
        "# ¿Cuál es el primer cuartil de PM2.5? ¿Qué significa?\n",
        "primerCuartilPM25 = descripcionEstadisticas.loc['25%', 'PM2.5']\n",
        "\n",
        "print(f\" -->Valor mas grande de NO2 = {grandeNO2} del dia {diaGrandeNO2}\")\n",
        "print(f\"\\n -->Valor mas chico de PM10 = {chicoPM10} del dia {diaChicoPM10}\")\n",
        "print(f\"\\n -->la Mediana de NO = {medianaDeNO} y representa el valor medio de las mediciones, oseaaaa que la mitad de de las mediciones son <= a este valor y la otra mitad seria mas grandes\")\n",
        "print(f\"\\n -->Primer cuartil de PM2.5 = {primerCuartilPM25} por lo que el 25% de las mediciones son <= a este numero\")\n"
      ],
      "metadata": {
        "id": "_qWYoEx3Fbod",
        "colab": {
          "base_uri": "https://localhost:8080/"
        },
        "outputId": "0e3faf27-81e1-47a1-a0ba-67730fcc742c"
      },
      "execution_count": 17,
      "outputs": [
        {
          "output_type": "stream",
          "name": "stdout",
          "text": [
            " -->Valor mas grande de NO2 = 120.2 del dia 24/01/2017 19:00\n",
            "\n",
            " -->Valor mas chico de PM10 = -5.6 del dia 12/09/2017 23:00\n",
            "\n",
            " -->la Mediana de NO = 7.1 y representa el valor medio de las mediciones, oseaaaa que la mitad de de las mediciones son <= a este valor y la otra mitad seria mas grandes\n",
            "\n",
            " -->Primer cuartil de PM2.5 = 7.0 por lo que el 25% de las mediciones son <= a este numero\n"
          ]
        }
      ]
    },
    {
      "cell_type": "markdown",
      "source": [
        "7.\tDibuja un histograma para cada columna de `pvt_df`. ¿Qué contaminante tiene mayor variabilidad?"
      ],
      "metadata": {
        "id": "Rki16hYaFd9p"
      }
    },
    {
      "cell_type": "code",
      "source": [
        "# Dibuja un histograma para cada columna de pvt_df\n",
        "for column in pvt_df.columns:\n",
        "    plt.figure(figsize=(10, 5))  # una nueva imagen cada Histograma\n",
        "    pvt_df[column].dropna().hist(bins=30)  # Eliminar Nulos dropna()\n",
        "    plt.title(f'Histograma: {column}')  # Título\n",
        "    plt.xlabel('Concentración')  # Eje X\n",
        "    plt.ylabel('Frecuencia')  # Etiqueta para el eje Y\n",
        "    plt.grid(False)  # para quitar cuadricula fea\n",
        "    plt.show()  # imprimir el histograma"
      ],
      "metadata": {
        "id": "NaGkunSeFfn8",
        "colab": {
          "base_uri": "https://localhost:8080/",
          "height": 1000
        },
        "outputId": "00c280f2-033b-4a34-cc39-837dc4cfd45a"
      },
      "execution_count": 18,
      "outputs": [
        {
          "output_type": "display_data",
          "data": {
            "text/plain": [
              "<Figure size 1000x500 with 1 Axes>"
            ],
            "image/png": "[encoded data removed]"
          },
          "metadata": {}
        },
        {
          "output_type": "display_data",
          "data": {
            "text/plain": [
              "<Figure size 1000x500 with 1 Axes>"
            ],
            "image/png": "[encoded data removed]"
          },
          "metadata": {}
        },
        {
          "output_type": "display_data",
          "data": {
            "text/plain": [
              "<Figure size 1000x500 with 1 Axes>"
            ],
            "image/png": "[encoded data removed]"
          },
          "metadata": {}
        },
        {
          "output_type": "display_data",
          "data": {
            "text/plain": [
              "<Figure size 1000x500 with 1 Axes>"
            ],
            "image/png": "[encoded data removed]"
          },
          "metadata": {}
        },
        {
          "output_type": "display_data",
          "data": {
            "text/plain": [
              "<Figure size 1000x500 with 1 Axes>"
            ],
            "image/png": "[encoded data removed]"
          },
          "metadata": {}
        }
      ]
    },
    {
      "cell_type": "markdown",
      "source": [
        "¿Qué contaminante tiene mayor variabilidad?\n",
        "# ** A simple vista el NOX, pero mejor lo calculo**"
      ],
      "metadata": {
        "id": "xcN3rB3eexba"
      }
    },
    {
      "cell_type": "code",
      "source": [
        "# Calcular y mostrar la desviación estándar para cada contaminante\n",
        "variabilidad = pvt_df.std()\n",
        "print(variabilidad)\n",
        "\n",
        "# Calcula el contaminante con la mayor variabilidad\n",
        "MasVariabilidad = variabilidad.idxmax()\n",
        "\n",
        "# Mostrar el mas variable\n",
        "print('\\n')\n",
        "print(f\"Contaminante mas variable es {MasVariabilidad}\")"
      ],
      "metadata": {
        "colab": {
          "base_uri": "https://localhost:8080/"
        },
        "id": "K_RonHHYfFe9",
        "outputId": "7ac2c2c6-5f59-4550-9fbe-644f87c7d09e"
      },
      "execution_count": 19,
      "outputs": [
        {
          "output_type": "stream",
          "name": "stdout",
          "text": [
            "Species\n",
            "NO       26.678565\n",
            "NO2      18.580841\n",
            "NOX      54.584805\n",
            "PM10     15.344755\n",
            "PM2.5    13.558588\n",
            "dtype: float64\n",
            "\n",
            "\n",
            "Contaminante mas variable es NOX\n"
          ]
        }
      ]
    },
    {
      "cell_type": "markdown",
      "source": [
        "8.\tEjecuta el siguiente código y comenta qué hace cada línea:\n"
      ],
      "metadata": {
        "id": "2hJ4LzP3fgvy"
      }
    },
    {
      "cell_type": "code",
      "source": [
        "# Separa 'ReadingDateTime' en dos nuevas columnas 'Date' y 'Time'.\n",
        "datetime_df = air_df.ReadingDateTime.str.split(' ', expand=True)\n",
        "datetime_df.columns = ['Date', 'Time']\n",
        "\n",
        "# Muestra el DataFrame resultante.\n",
        "datetime_df\n",
        "\n",
        "# Separa 'Date' en 'Day', 'Month', 'Year'.\n",
        "date_df = datetime_df.Date.str.split('/', expand=True)\n",
        "date_df.columns = ['Day', 'Month', 'Year']\n",
        "\n",
        "# Muestra el DataFrame resultante.\n",
        "date_df\n",
        "\n",
        "# Une 'date_df' y 'Time' a 'air_df', luego elimina las columnas originales y 'Year'.\n",
        "air_df = air_df.join(date_df).join(datetime_df.Time).drop(columns=['ReadingDateTime', 'Year'])\n",
        "\n",
        "# Establece un índice múltiple con 'Month', 'Day', 'Time', 'Species'.\n",
        "air_df = air_df.set_index(['Month', 'Day', 'Time', 'Species'])\n",
        "\n",
        "# Muestra el DataFrame final.\n",
        "air_df\n"
      ],
      "metadata": {
        "colab": {
          "base_uri": "https://localhost:8080/",
          "height": 450
        },
        "id": "AZR1pQO3hGIm",
        "outputId": "d5c372f7-f66e-4cfa-8b73-ee5cb57bc0c1"
      },
      "execution_count": 20,
      "outputs": [
        {
          "output_type": "execute_result",
          "data": {
            "text/plain": [
              "                         Value   Units\n",
              "Month Day Time  Species               \n",
              "01    01  00:00 NO         3.5  ug m-3\n",
              "          01:00 NO         3.6  ug m-3\n",
              "          02:00 NO         2.2  ug m-3\n",
              "          03:00 NO         2.1  ug m-3\n",
              "          04:00 NO         3.3  ug m-3\n",
              "...                        ...     ...\n",
              "12    31  19:00 PM2.5     -2.0  ug m-3\n",
              "          20:00 PM2.5      6.0  ug m-3\n",
              "          21:00 PM2.5      5.0  ug m-3\n",
              "          22:00 PM2.5      5.0  ug m-3\n",
              "          23:00 PM2.5      6.0  ug m-3\n",
              "\n",
              "[43800 rows x 2 columns]"
            ],
            "text/html": [
              "\n",
              "  <div id=\"df-33b416dd-498f-45bd-913e-de4a6e02633e\" class=\"colab-df-container\">\n",
              "    <div>\n",
              "<style scoped>\n",
              "    .dataframe tbody tr th:only-of-type {\n",
              "        vertical-align: middle;\n",
              "    }\n",
              "\n",
              "    .dataframe tbody tr th {\n",
              "        vertical-align: top;\n",
              "    }\n",
              "\n",
              "    .dataframe thead th {\n",
              "        text-align: right;\n",
              "    }\n",
              "</style>\n",
              "<table border=\"1\" class=\"dataframe\">\n",
              "  <thead>\n",
              "    <tr style=\"text-align: right;\">\n",
              "      <th></th>\n",
              "      <th></th>\n",
              "      <th></th>\n",
              "      <th></th>\n",
              "      <th>Value</th>\n",
              "      <th>Units</th>\n",
              "    </tr>\n",
              "    <tr>\n",
              "      <th>Month</th>\n",
              "      <th>Day</th>\n",
              "      <th>Time</th>\n",
              "      <th>Species</th>\n",
              "      <th></th>\n",
              "      <th></th>\n",
              "    </tr>\n",
              "  </thead>\n",
              "  <tbody>\n",
              "    <tr>\n",
              "      <th rowspan=\"5\" valign=\"top\">01</th>\n",
              "      <th rowspan=\"5\" valign=\"top\">01</th>\n",
              "      <th>00:00</th>\n",
              "      <th>NO</th>\n",
              "      <td>3.5</td>\n",
              "      <td>ug m-3</td>\n",
              "    </tr>\n",
              "    <tr>\n",
              "      <th>01:00</th>\n",
              "      <th>NO</th>\n",
              "      <td>3.6</td>\n",
              "      <td>ug m-3</td>\n",
              "    </tr>\n",
              "    <tr>\n",
              "      <th>02:00</th>\n",
              "      <th>NO</th>\n",
              "      <td>2.2</td>\n",
              "      <td>ug m-3</td>\n",
              "    </tr>\n",
              "    <tr>\n",
              "      <th>03:00</th>\n",
              "      <th>NO</th>\n",
              "      <td>2.1</td>\n",
              "      <td>ug m-3</td>\n",
              "    </tr>\n",
              "    <tr>\n",
              "      <th>04:00</th>\n",
              "      <th>NO</th>\n",
              "      <td>3.3</td>\n",
              "      <td>ug m-3</td>\n",
              "    </tr>\n",
              "    <tr>\n",
              "      <th>...</th>\n",
              "      <th>...</th>\n",
              "      <th>...</th>\n",
              "      <th>...</th>\n",
              "      <td>...</td>\n",
              "      <td>...</td>\n",
              "    </tr>\n",
              "    <tr>\n",
              "      <th rowspan=\"5\" valign=\"top\">12</th>\n",
              "      <th rowspan=\"5\" valign=\"top\">31</th>\n",
              "      <th>19:00</th>\n",
              "      <th>PM2.5</th>\n",
              "      <td>-2.0</td>\n",
              "      <td>ug m-3</td>\n",
              "    </tr>\n",
              "    <tr>\n",
              "      <th>20:00</th>\n",
              "      <th>PM2.5</th>\n",
              "      <td>6.0</td>\n",
              "      <td>ug m-3</td>\n",
              "    </tr>\n",
              "    <tr>\n",
              "      <th>21:00</th>\n",
              "      <th>PM2.5</th>\n",
              "      <td>5.0</td>\n",
              "      <td>ug m-3</td>\n",
              "    </tr>\n",
              "    <tr>\n",
              "      <th>22:00</th>\n",
              "      <th>PM2.5</th>\n",
              "      <td>5.0</td>\n",
              "      <td>ug m-3</td>\n",
              "    </tr>\n",
              "    <tr>\n",
              "      <th>23:00</th>\n",
              "      <th>PM2.5</th>\n",
              "      <td>6.0</td>\n",
              "      <td>ug m-3</td>\n",
              "    </tr>\n",
              "  </tbody>\n",
              "</table>\n",
              "<p>43800 rows × 2 columns</p>\n",
              "</div>\n",
              "    <div class=\"colab-df-buttons\">\n",
              "\n",
              "  <div class=\"colab-df-container\">\n",
              "    <button class=\"colab-df-convert\" onclick=\"convertToInteractive('df-33b416dd-498f-45bd-913e-de4a6e02633e')\"\n",
              "            title=\"Convert this dataframe to an interactive table.\"\n",
              "            style=\"display:none;\">\n",
              "\n",
              "  <svg xmlns=\"http://www.w3.org/2000/svg\" height=\"24px\" viewBox=\"0 -960 960 960\">\n",
              "    <path d=\"M120-120v-720h720v720H120Zm60-500h600v-160H180v160Zm220 220h160v-160H400v160Zm0 220h160v-160H400v160ZM180-400h160v-160H180v160Zm440 0h160v-160H620v160ZM180-180h160v-160H180v160Zm440 0h160v-160H620v160Z\"/>\n",
              "  </svg>\n",
              "    </button>\n",
              "\n",
              "  <style>\n",
              "    .colab-df-container {\n",
              "      display:flex;\n",
              "      gap: 12px;\n",
              "    }\n",
              "\n",
              "    .colab-df-convert {\n",
              "      background-color: #E8F0FE;\n",
              "      border: none;\n",
              "      border-radius: 50%;\n",
              "      cursor: pointer;\n",
              "      display: none;\n",
              "      fill: #1967D2;\n",
              "      height: 32px;\n",
              "      padding: 0 0 0 0;\n",
              "      width: 32px;\n",
              "    }\n",
              "\n",
              "    .colab-df-convert:hover {\n",
              "      background-color: #E2EBFA;\n",
              "      box-shadow: 0px 1px 2px rgba(60, 64, 67, 0.3), 0px 1px 3px 1px rgba(60, 64, 67, 0.15);\n",
              "      fill: #174EA6;\n",
              "    }\n",
              "\n",
              "    .colab-df-buttons div {\n",
              "      margin-bottom: 4px;\n",
              "    }\n",
              "\n",
              "    [theme=dark] .colab-df-convert {\n",
              "      background-color: #3B4455;\n",
              "      fill: #D2E3FC;\n",
              "    }\n",
              "\n",
              "    [theme=dark] .colab-df-convert:hover {\n",
              "      background-color: #434B5C;\n",
              "      box-shadow: 0px 1px 3px 1px rgba(0, 0, 0, 0.15);\n",
              "      filter: drop-shadow(0px 1px 2px rgba(0, 0, 0, 0.3));\n",
              "      fill: #FFFFFF;\n",
              "    }\n",
              "  </style>\n",
              "\n",
              "    <script>\n",
              "      const buttonEl =\n",
              "        document.querySelector('#df-33b416dd-498f-45bd-913e-de4a6e02633e button.colab-df-convert');\n",
              "      buttonEl.style.display =\n",
              "        google.colab.kernel.accessAllowed ? 'block' : 'none';\n",
              "\n",
              "      async function convertToInteractive(key) {\n",
              "        const element = document.querySelector('#df-33b416dd-498f-45bd-913e-de4a6e02633e');\n",
              "        const dataTable =\n",
              "          await google.colab.kernel.invokeFunction('convertToInteractive',\n",
              "                                                    [key], {});\n",
              "        if (!dataTable) return;\n",
              "\n",
              "        const docLinkHtml = 'Like what you see? Visit the ' +\n",
              "          '<a target=\"_blank\" href=https://colab.research.google.com/notebooks/data_table.ipynb>data table notebook</a>'\n",
              "          + ' to learn more about interactive tables.';\n",
              "        element.innerHTML = '';\n",
              "        dataTable['output_type'] = 'display_data';\n",
              "        await google.colab.output.renderOutput(dataTable, element);\n",
              "        const docLink = document.createElement('div');\n",
              "        docLink.innerHTML = docLinkHtml;\n",
              "        element.appendChild(docLink);\n",
              "      }\n",
              "    </script>\n",
              "  </div>\n",
              "\n",
              "\n",
              "<div id=\"df-f56b352c-3396-426c-92d8-0ede27fc6ebb\">\n",
              "  <button class=\"colab-df-quickchart\" onclick=\"quickchart('df-f56b352c-3396-426c-92d8-0ede27fc6ebb')\"\n",
              "            title=\"Suggest charts\"\n",
              "            style=\"display:none;\">\n",
              "\n",
              "<svg xmlns=\"http://www.w3.org/2000/svg\" height=\"24px\"viewBox=\"0 0 24 24\"\n",
              "     width=\"24px\">\n",
              "    <g>\n",
              "        <path d=\"M19 3H5c-1.1 0-2 .9-2 2v14c0 1.1.9 2 2 2h14c1.1 0 2-.9 2-2V5c0-1.1-.9-2-2-2zM9 17H7v-7h2v7zm4 0h-2V7h2v10zm4 0h-2v-4h2v4z\"/>\n",
              "    </g>\n",
              "</svg>\n",
              "  </button>\n",
              "\n",
              "<style>\n",
              "  .colab-df-quickchart {\n",
              "      --bg-color: #E8F0FE;\n",
              "      --fill-color: #1967D2;\n",
              "      --hover-bg-color: #E2EBFA;\n",
              "      --hover-fill-color: #174EA6;\n",
              "      --disabled-fill-color: #AAA;\n",
              "      --disabled-bg-color: #DDD;\n",
              "  }\n",
              "\n",
              "  [theme=dark] .colab-df-quickchart {\n",
              "      --bg-color: #3B4455;\n",
              "      --fill-color: #D2E3FC;\n",
              "      --hover-bg-color: #434B5C;\n",
              "      --hover-fill-color: #FFFFFF;\n",
              "      --disabled-bg-color: #3B4455;\n",
              "      --disabled-fill-color: #666;\n",
              "  }\n",
              "\n",
              "  .colab-df-quickchart {\n",
              "    background-color: var(--bg-color);\n",
              "    border: none;\n",
              "    border-radius: 50%;\n",
              "    cursor: pointer;\n",
              "    display: none;\n",
              "    fill: var(--fill-color);\n",
              "    height: 32px;\n",
              "    padding: 0;\n",
              "    width: 32px;\n",
              "  }\n",
              "\n",
              "  .colab-df-quickchart:hover {\n",
              "    background-color: var(--hover-bg-color);\n",
              "    box-shadow: 0 1px 2px rgba(60, 64, 67, 0.3), 0 1px 3px 1px rgba(60, 64, 67, 0.15);\n",
              "    fill: var(--button-hover-fill-color);\n",
              "  }\n",
              "\n",
              "  .colab-df-quickchart-complete:disabled,\n",
              "  .colab-df-quickchart-complete:disabled:hover {\n",
              "    background-color: var(--disabled-bg-color);\n",
              "    fill: var(--disabled-fill-color);\n",
              "    box-shadow: none;\n",
              "  }\n",
              "\n",
              "  .colab-df-spinner {\n",
              "    border: 2px solid var(--fill-color);\n",
              "    border-color: transparent;\n",
              "    border-bottom-color: var(--fill-color);\n",
              "    animation:\n",
              "      spin 1s steps(1) infinite;\n",
              "  }\n",
              "\n",
              "  @keyframes spin {\n",
              "    0% {\n",
              "      border-color: transparent;\n",
              "      border-bottom-color: var(--fill-color);\n",
              "      border-left-color: var(--fill-color);\n",
              "    }\n",
              "    20% {\n",
              "      border-color: transparent;\n",
              "      border-left-color: var(--fill-color);\n",
              "      border-top-color: var(--fill-color);\n",
              "    }\n",
              "    30% {\n",
              "      border-color: transparent;\n",
              "      border-left-color: var(--fill-color);\n",
              "      border-top-color: var(--fill-color);\n",
              "      border-right-color: var(--fill-color);\n",
              "    }\n",
              "    40% {\n",
              "      border-color: transparent;\n",
              "      border-right-color: var(--fill-color);\n",
              "      border-top-color: var(--fill-color);\n",
              "    }\n",
              "    60% {\n",
              "      border-color: transparent;\n",
              "      border-right-color: var(--fill-color);\n",
              "    }\n",
              "    80% {\n",
              "      border-color: transparent;\n",
              "      border-right-color: var(--fill-color);\n",
              "      border-bottom-color: var(--fill-color);\n",
              "    }\n",
              "    90% {\n",
              "      border-color: transparent;\n",
              "      border-bottom-color: var(--fill-color);\n",
              "    }\n",
              "  }\n",
              "</style>\n",
              "\n",
              "  <script>\n",
              "    async function quickchart(key) {\n",
              "      const quickchartButtonEl =\n",
              "        document.querySelector('#' + key + ' button');\n",
              "      quickchartButtonEl.disabled = true;  // To prevent multiple clicks.\n",
              "      quickchartButtonEl.classList.add('colab-df-spinner');\n",
              "      try {\n",
              "        const charts = await google.colab.kernel.invokeFunction(\n",
              "            'suggestCharts', [key], {});\n",
              "      } catch (error) {\n",
              "        console.error('Error during call to suggestCharts:', error);\n",
              "      }\n",
              "      quickchartButtonEl.classList.remove('colab-df-spinner');\n",
              "      quickchartButtonEl.classList.add('colab-df-quickchart-complete');\n",
              "    }\n",
              "    (() => {\n",
              "      let quickchartButtonEl =\n",
              "        document.querySelector('#df-f56b352c-3396-426c-92d8-0ede27fc6ebb button');\n",
              "      quickchartButtonEl.style.display =\n",
              "        google.colab.kernel.accessAllowed ? 'block' : 'none';\n",
              "    })();\n",
              "  </script>\n",
              "</div>\n",
              "\n",
              "  <div id=\"id_ab640261-299d-4a63-8f82-bddd230765e3\">\n",
              "    <style>\n",
              "      .colab-df-generate {\n",
              "        background-color: #E8F0FE;\n",
              "        border: none;\n",
              "        border-radius: 50%;\n",
              "        cursor: pointer;\n",
              "        display: none;\n",
              "        fill: #1967D2;\n",
              "        height: 32px;\n",
              "        padding: 0 0 0 0;\n",
              "        width: 32px;\n",
              "      }\n",
              "\n",
              "      .colab-df-generate:hover {\n",
              "        background-color: #E2EBFA;\n",
              "        box-shadow: 0px 1px 2px rgba(60, 64, 67, 0.3), 0px 1px 3px 1px rgba(60, 64, 67, 0.15);\n",
              "        fill: #174EA6;\n",
              "      }\n",
              "\n",
              "      [theme=dark] .colab-df-generate {\n",
              "        background-color: #3B4455;\n",
              "        fill: #D2E3FC;\n",
              "      }\n",
              "\n",
              "      [theme=dark] .colab-df-generate:hover {\n",
              "        background-color: #434B5C;\n",
              "        box-shadow: 0px 1px 3px 1px rgba(0, 0, 0, 0.15);\n",
              "        filter: drop-shadow(0px 1px 2px rgba(0, 0, 0, 0.3));\n",
              "        fill: #FFFFFF;\n",
              "      }\n",
              "    </style>\n",
              "    <button class=\"colab-df-generate\" onclick=\"generateWithVariable('air_df')\"\n",
              "            title=\"Generate code using this dataframe.\"\n",
              "            style=\"display:none;\">\n",
              "\n",
              "  <svg xmlns=\"http://www.w3.org/2000/svg\" height=\"24px\"viewBox=\"0 0 24 24\"\n",
              "       width=\"24px\">\n",
              "    <path d=\"M7,19H8.4L18.45,9,17,7.55,7,17.6ZM5,21V16.75L18.45,3.32a2,2,0,0,1,2.83,0l1.4,1.43a1.91,1.91,0,0,1,.58,1.4,1.91,1.91,0,0,1-.58,1.4L9.25,21ZM18.45,9,17,7.55Zm-12,3A5.31,5.31,0,0,0,4.9,8.1,5.31,5.31,0,0,0,1,6.5,5.31,5.31,0,0,0,4.9,4.9,5.31,5.31,0,0,0,6.5,1,5.31,5.31,0,0,0,8.1,4.9,5.31,5.31,0,0,0,12,6.5,5.46,5.46,0,0,0,6.5,12Z\"/>\n",
              "  </svg>\n",
              "    </button>\n",
              "    <script>\n",
              "      (() => {\n",
              "      const buttonEl =\n",
              "        document.querySelector('#id_ab640261-299d-4a63-8f82-bddd230765e3 button.colab-df-generate');\n",
              "      buttonEl.style.display =\n",
              "        google.colab.kernel.accessAllowed ? 'block' : 'none';\n",
              "\n",
              "      buttonEl.onclick = () => {\n",
              "        google.colab.notebook.generateWithVariable('air_df');\n",
              "      }\n",
              "      })();\n",
              "    </script>\n",
              "  </div>\n",
              "\n",
              "    </div>\n",
              "  </div>\n"
            ],
            "application/vnd.google.colaboratory.intrinsic+json": {
              "type": "dataframe",
              "variable_name": "air_df",
              "summary": "{\n  \"name\": \"air_df\",\n  \"rows\": 43800,\n  \"fields\": [\n    {\n      \"column\": \"Value\",\n      \"properties\": {\n        \"dtype\": \"number\",\n        \"std\": 35.343362051548915,\n        \"min\": -8.0,\n        \"max\": 734.29999,\n        \"num_unique_values\": 1847,\n        \"samples\": [\n          143.10001,\n          220.5,\n          116.2\n        ],\n        \"semantic_type\": \"\",\n        \"description\": \"\"\n      }\n    },\n    {\n      \"column\": \"Units\",\n      \"properties\": {\n        \"dtype\": \"category\",\n        \"num_unique_values\": 3,\n        \"samples\": [\n          \"ug m-3\",\n          \"ug m-3 as NO2\",\n          \"ug/m3\"\n        ],\n        \"semantic_type\": \"\",\n        \"description\": \"\"\n      }\n    }\n  ]\n}"
            }
          },
          "metadata": {},
          "execution_count": 20
        }
      ]
    },
    {
      "cell_type": "code",
      "source": [
        "# datetime_df = air_df.ReadingDateTime.str.split(' ',expand=True) #\n",
        "# datetime_df.columns = ['Date','Time']\n",
        "# datetime_df\n",
        "# date_df = datetime_df.Date.str.split('/',expand=True)\n",
        "# date_df.columns = ['Day','Month','Year']\n",
        "# date_df\n",
        "# air_df = air_df.join(date_df).join(datetime_df.Time).drop(columns=['ReadingDateTime','Year'])\n",
        "# air_df = air_df.set_index(['Month','Day','Time','Species'])\n",
        "# air_df"
      ],
      "metadata": {
        "id": "goQuWzNVfomA"
      },
      "execution_count": 21,
      "outputs": []
    },
    {
      "source": [
        "# @title Value\n",
        "\n",
        "from matplotlib import pyplot as plt\n",
        "air_df['Value'].plot(kind='hist', bins=20, title='Value')\n",
        "plt.gca().spines[['top', 'right',]].set_visible(False)"
      ],
      "cell_type": "code",
      "execution_count": 22,
      "outputs": [
        {
          "output_type": "display_data",
          "data": {
            "text/plain": [
              "<Figure size 640x480 with 1 Axes>"
            ],
            "image/png": "[encoded data removed]"
          },
          "metadata": {}
        }
      ],
      "metadata": {
        "colab": {
          "base_uri": "https://localhost:8080/",
          "height": 452
        },
        "id": "2c7BYC5tgojd",
        "outputId": "8dfb68aa-324e-4745-fac3-c28c402397ab"
      }
    },
    {
      "cell_type": "markdown",
      "source": [
        "9. Ejecuta la siguiente instrucción y compara su salida con la del código anterior (ejercicio 8). ¿Son iguales?"
      ],
      "metadata": {
        "id": "37E3dol8fpik"
      }
    },
    {
      "cell_type": "code",
      "source": [
        "air_df.unstack()"
      ],
      "metadata": {
        "id": "cgbAxJrvfweW",
        "colab": {
          "base_uri": "https://localhost:8080/",
          "height": 481
        },
        "outputId": "5f320600-aed7-44ee-98bb-3208f318349b"
      },
      "execution_count": 23,
      "outputs": [
        {
          "output_type": "execute_result",
          "data": {
            "text/plain": [
              "                Value                           Units                         \\\n",
              "Species            NO   NO2   NOX  PM10 PM2.5      NO     NO2            NOX   \n",
              "Month Day Time                                                                 \n",
              "01    01  00:00   3.5  30.8  36.2  35.7   NaN  ug m-3  ug m-3  ug m-3 as NO2   \n",
              "          01:00   3.6  31.5  37.0  28.5   NaN  ug m-3  ug m-3  ug m-3 as NO2   \n",
              "          02:00   2.2  27.3  30.7  22.7   NaN  ug m-3  ug m-3  ug m-3 as NO2   \n",
              "          03:00   2.1  23.5  26.8  20.5   NaN  ug m-3  ug m-3  ug m-3 as NO2   \n",
              "          04:00   3.3  28.0  33.0  22.1   NaN  ug m-3  ug m-3  ug m-3 as NO2   \n",
              "...               ...   ...   ...   ...   ...     ...     ...            ...   \n",
              "12    31  19:00   0.7  17.5  18.5  16.3  -2.0  ug m-3  ug m-3  ug m-3 as NO2   \n",
              "          20:00   0.7  17.5  18.6  14.5   6.0  ug m-3  ug m-3  ug m-3 as NO2   \n",
              "          21:00   0.7  14.1  15.1   8.6   5.0  ug m-3  ug m-3  ug m-3 as NO2   \n",
              "          22:00   1.1  22.0  23.6  12.5   5.0  ug m-3  ug m-3  ug m-3 as NO2   \n",
              "          23:00   0.9  19.4  20.7  10.4   6.0  ug m-3  ug m-3  ug m-3 as NO2   \n",
              "\n",
              "                                \n",
              "Species           PM10   PM2.5  \n",
              "Month Day Time                  \n",
              "01    01  00:00  ug/m3  ug m-3  \n",
              "          01:00  ug/m3  ug m-3  \n",
              "          02:00  ug/m3  ug m-3  \n",
              "          03:00  ug/m3  ug m-3  \n",
              "          04:00  ug/m3  ug m-3  \n",
              "...                ...     ...  \n",
              "12    31  19:00  ug/m3  ug m-3  \n",
              "          20:00  ug/m3  ug m-3  \n",
              "          21:00  ug/m3  ug m-3  \n",
              "          22:00  ug/m3  ug m-3  \n",
              "          23:00  ug/m3  ug m-3  \n",
              "\n",
              "[8760 rows x 10 columns]"
            ],
            "text/html": [
              "\n",
              "  <div id=\"df-ae0329cc-9817-4a2e-a81e-a7d419488d60\" class=\"colab-df-container\">\n",
              "    <div>\n",
              "<style scoped>\n",
              "    .dataframe tbody tr th:only-of-type {\n",
              "        vertical-align: middle;\n",
              "    }\n",
              "\n",
              "    .dataframe tbody tr th {\n",
              "        vertical-align: top;\n",
              "    }\n",
              "\n",
              "    .dataframe thead tr th {\n",
              "        text-align: left;\n",
              "    }\n",
              "\n",
              "    .dataframe thead tr:last-of-type th {\n",
              "        text-align: right;\n",
              "    }\n",
              "</style>\n",
              "<table border=\"1\" class=\"dataframe\">\n",
              "  <thead>\n",
              "    <tr>\n",
              "      <th></th>\n",
              "      <th></th>\n",
              "      <th></th>\n",
              "      <th colspan=\"5\" halign=\"left\">Value</th>\n",
              "      <th colspan=\"5\" halign=\"left\">Units</th>\n",
              "    </tr>\n",
              "    <tr>\n",
              "      <th></th>\n",
              "      <th></th>\n",
              "      <th>Species</th>\n",
              "      <th>NO</th>\n",
              "      <th>NO2</th>\n",
              "      <th>NOX</th>\n",
              "      <th>PM10</th>\n",
              "      <th>PM2.5</th>\n",
              "      <th>NO</th>\n",
              "      <th>NO2</th>\n",
              "      <th>NOX</th>\n",
              "      <th>PM10</th>\n",
              "      <th>PM2.5</th>\n",
              "    </tr>\n",
              "    <tr>\n",
              "      <th>Month</th>\n",
              "      <th>Day</th>\n",
              "      <th>Time</th>\n",
              "      <th></th>\n",
              "      <th></th>\n",
              "      <th></th>\n",
              "      <th></th>\n",
              "      <th></th>\n",
              "      <th></th>\n",
              "      <th></th>\n",
              "      <th></th>\n",
              "      <th></th>\n",
              "      <th></th>\n",
              "    </tr>\n",
              "  </thead>\n",
              "  <tbody>\n",
              "    <tr>\n",
              "      <th rowspan=\"5\" valign=\"top\">01</th>\n",
              "      <th rowspan=\"5\" valign=\"top\">01</th>\n",
              "      <th>00:00</th>\n",
              "      <td>3.5</td>\n",
              "      <td>30.8</td>\n",
              "      <td>36.2</td>\n",
              "      <td>35.7</td>\n",
              "      <td>NaN</td>\n",
              "      <td>ug m-3</td>\n",
              "      <td>ug m-3</td>\n",
              "      <td>ug m-3 as NO2</td>\n",
              "      <td>ug/m3</td>\n",
              "      <td>ug m-3</td>\n",
              "    </tr>\n",
              "    <tr>\n",
              "      <th>01:00</th>\n",
              "      <td>3.6</td>\n",
              "      <td>31.5</td>\n",
              "      <td>37.0</td>\n",
              "      <td>28.5</td>\n",
              "      <td>NaN</td>\n",
              "      <td>ug m-3</td>\n",
              "      <td>ug m-3</td>\n",
              "      <td>ug m-3 as NO2</td>\n",
              "      <td>ug/m3</td>\n",
              "      <td>ug m-3</td>\n",
              "    </tr>\n",
              "    <tr>\n",
              "      <th>02:00</th>\n",
              "      <td>2.2</td>\n",
              "      <td>27.3</td>\n",
              "      <td>30.7</td>\n",
              "      <td>22.7</td>\n",
              "      <td>NaN</td>\n",
              "      <td>ug m-3</td>\n",
              "      <td>ug m-3</td>\n",
              "      <td>ug m-3 as NO2</td>\n",
              "      <td>ug/m3</td>\n",
              "      <td>ug m-3</td>\n",
              "    </tr>\n",
              "    <tr>\n",
              "      <th>03:00</th>\n",
              "      <td>2.1</td>\n",
              "      <td>23.5</td>\n",
              "      <td>26.8</td>\n",
              "      <td>20.5</td>\n",
              "      <td>NaN</td>\n",
              "      <td>ug m-3</td>\n",
              "      <td>ug m-3</td>\n",
              "      <td>ug m-3 as NO2</td>\n",
              "      <td>ug/m3</td>\n",
              "      <td>ug m-3</td>\n",
              "    </tr>\n",
              "    <tr>\n",
              "      <th>04:00</th>\n",
              "      <td>3.3</td>\n",
              "      <td>28.0</td>\n",
              "      <td>33.0</td>\n",
              "      <td>22.1</td>\n",
              "      <td>NaN</td>\n",
              "      <td>ug m-3</td>\n",
              "      <td>ug m-3</td>\n",
              "      <td>ug m-3 as NO2</td>\n",
              "      <td>ug/m3</td>\n",
              "      <td>ug m-3</td>\n",
              "    </tr>\n",
              "    <tr>\n",
              "      <th>...</th>\n",
              "      <th>...</th>\n",
              "      <th>...</th>\n",
              "      <td>...</td>\n",
              "      <td>...</td>\n",
              "      <td>...</td>\n",
              "      <td>...</td>\n",
              "      <td>...</td>\n",
              "      <td>...</td>\n",
              "      <td>...</td>\n",
              "      <td>...</td>\n",
              "      <td>...</td>\n",
              "      <td>...</td>\n",
              "    </tr>\n",
              "    <tr>\n",
              "      <th rowspan=\"5\" valign=\"top\">12</th>\n",
              "      <th rowspan=\"5\" valign=\"top\">31</th>\n",
              "      <th>19:00</th>\n",
              "      <td>0.7</td>\n",
              "      <td>17.5</td>\n",
              "      <td>18.5</td>\n",
              "      <td>16.3</td>\n",
              "      <td>-2.0</td>\n",
              "      <td>ug m-3</td>\n",
              "      <td>ug m-3</td>\n",
              "      <td>ug m-3 as NO2</td>\n",
              "      <td>ug/m3</td>\n",
              "      <td>ug m-3</td>\n",
              "    </tr>\n",
              "    <tr>\n",
              "      <th>20:00</th>\n",
              "      <td>0.7</td>\n",
              "      <td>17.5</td>\n",
              "      <td>18.6</td>\n",
              "      <td>14.5</td>\n",
              "      <td>6.0</td>\n",
              "      <td>ug m-3</td>\n",
              "      <td>ug m-3</td>\n",
              "      <td>ug m-3 as NO2</td>\n",
              "      <td>ug/m3</td>\n",
              "      <td>ug m-3</td>\n",
              "    </tr>\n",
              "    <tr>\n",
              "      <th>21:00</th>\n",
              "      <td>0.7</td>\n",
              "      <td>14.1</td>\n",
              "      <td>15.1</td>\n",
              "      <td>8.6</td>\n",
              "      <td>5.0</td>\n",
              "      <td>ug m-3</td>\n",
              "      <td>ug m-3</td>\n",
              "      <td>ug m-3 as NO2</td>\n",
              "      <td>ug/m3</td>\n",
              "      <td>ug m-3</td>\n",
              "    </tr>\n",
              "    <tr>\n",
              "      <th>22:00</th>\n",
              "      <td>1.1</td>\n",
              "      <td>22.0</td>\n",
              "      <td>23.6</td>\n",
              "      <td>12.5</td>\n",
              "      <td>5.0</td>\n",
              "      <td>ug m-3</td>\n",
              "      <td>ug m-3</td>\n",
              "      <td>ug m-3 as NO2</td>\n",
              "      <td>ug/m3</td>\n",
              "      <td>ug m-3</td>\n",
              "    </tr>\n",
              "    <tr>\n",
              "      <th>23:00</th>\n",
              "      <td>0.9</td>\n",
              "      <td>19.4</td>\n",
              "      <td>20.7</td>\n",
              "      <td>10.4</td>\n",
              "      <td>6.0</td>\n",
              "      <td>ug m-3</td>\n",
              "      <td>ug m-3</td>\n",
              "      <td>ug m-3 as NO2</td>\n",
              "      <td>ug/m3</td>\n",
              "      <td>ug m-3</td>\n",
              "    </tr>\n",
              "  </tbody>\n",
              "</table>\n",
              "<p>8760 rows × 10 columns</p>\n",
              "</div>\n",
              "    <div class=\"colab-df-buttons\">\n",
              "\n",
              "  <div class=\"colab-df-container\">\n",
              "    <button class=\"colab-df-convert\" onclick=\"convertToInteractive('df-ae0329cc-9817-4a2e-a81e-a7d419488d60')\"\n",
              "            title=\"Convert this dataframe to an interactive table.\"\n",
              "            style=\"display:none;\">\n",
              "\n",
              "  <svg xmlns=\"http://www.w3.org/2000/svg\" height=\"24px\" viewBox=\"0 -960 960 960\">\n",
              "    <path d=\"M120-120v-720h720v720H120Zm60-500h600v-160H180v160Zm220 220h160v-160H400v160Zm0 220h160v-160H400v160ZM180-400h160v-160H180v160Zm440 0h160v-160H620v160ZM180-180h160v-160H180v160Zm440 0h160v-160H620v160Z\"/>\n",
              "  </svg>\n",
              "    </button>\n",
              "\n",
              "  <style>\n",
              "    .colab-df-container {\n",
              "      display:flex;\n",
              "      gap: 12px;\n",
              "    }\n",
              "\n",
              "    .colab-df-convert {\n",
              "      background-color: #E8F0FE;\n",
              "      border: none;\n",
              "      border-radius: 50%;\n",
              "      cursor: pointer;\n",
              "      display: none;\n",
              "      fill: #1967D2;\n",
              "      height: 32px;\n",
              "      padding: 0 0 0 0;\n",
              "      width: 32px;\n",
              "    }\n",
              "\n",
              "    .colab-df-convert:hover {\n",
              "      background-color: #E2EBFA;\n",
              "      box-shadow: 0px 1px 2px rgba(60, 64, 67, 0.3), 0px 1px 3px 1px rgba(60, 64, 67, 0.15);\n",
              "      fill: #174EA6;\n",
              "    }\n",
              "\n",
              "    .colab-df-buttons div {\n",
              "      margin-bottom: 4px;\n",
              "    }\n",
              "\n",
              "    [theme=dark] .colab-df-convert {\n",
              "      background-color: #3B4455;\n",
              "      fill: #D2E3FC;\n",
              "    }\n",
              "\n",
              "    [theme=dark] .colab-df-convert:hover {\n",
              "      background-color: #434B5C;\n",
              "      box-shadow: 0px 1px 3px 1px rgba(0, 0, 0, 0.15);\n",
              "      filter: drop-shadow(0px 1px 2px rgba(0, 0, 0, 0.3));\n",
              "      fill: #FFFFFF;\n",
              "    }\n",
              "  </style>\n",
              "\n",
              "    <script>\n",
              "      const buttonEl =\n",
              "        document.querySelector('#df-ae0329cc-9817-4a2e-a81e-a7d419488d60 button.colab-df-convert');\n",
              "      buttonEl.style.display =\n",
              "        google.colab.kernel.accessAllowed ? 'block' : 'none';\n",
              "\n",
              "      async function convertToInteractive(key) {\n",
              "        const element = document.querySelector('#df-ae0329cc-9817-4a2e-a81e-a7d419488d60');\n",
              "        const dataTable =\n",
              "          await google.colab.kernel.invokeFunction('convertToInteractive',\n",
              "                                                    [key], {});\n",
              "        if (!dataTable) return;\n",
              "\n",
              "        const docLinkHtml = 'Like what you see? Visit the ' +\n",
              "          '<a target=\"_blank\" href=https://colab.research.google.com/notebooks/data_table.ipynb>data table notebook</a>'\n",
              "          + ' to learn more about interactive tables.';\n",
              "        element.innerHTML = '';\n",
              "        dataTable['output_type'] = 'display_data';\n",
              "        await google.colab.output.renderOutput(dataTable, element);\n",
              "        const docLink = document.createElement('div');\n",
              "        docLink.innerHTML = docLinkHtml;\n",
              "        element.appendChild(docLink);\n",
              "      }\n",
              "    </script>\n",
              "  </div>\n",
              "\n",
              "\n",
              "<div id=\"df-b47e0379-0aee-48ce-b86d-c2e287c3f104\">\n",
              "  <button class=\"colab-df-quickchart\" onclick=\"quickchart('df-b47e0379-0aee-48ce-b86d-c2e287c3f104')\"\n",
              "            title=\"Suggest charts\"\n",
              "            style=\"display:none;\">\n",
              "\n",
              "<svg xmlns=\"http://www.w3.org/2000/svg\" height=\"24px\"viewBox=\"0 0 24 24\"\n",
              "     width=\"24px\">\n",
              "    <g>\n",
              "        <path d=\"M19 3H5c-1.1 0-2 .9-2 2v14c0 1.1.9 2 2 2h14c1.1 0 2-.9 2-2V5c0-1.1-.9-2-2-2zM9 17H7v-7h2v7zm4 0h-2V7h2v10zm4 0h-2v-4h2v4z\"/>\n",
              "    </g>\n",
              "</svg>\n",
              "  </button>\n",
              "\n",
              "<style>\n",
              "  .colab-df-quickchart {\n",
              "      --bg-color: #E8F0FE;\n",
              "      --fill-color: #1967D2;\n",
              "      --hover-bg-color: #E2EBFA;\n",
              "      --hover-fill-color: #174EA6;\n",
              "      --disabled-fill-color: #AAA;\n",
              "      --disabled-bg-color: #DDD;\n",
              "  }\n",
              "\n",
              "  [theme=dark] .colab-df-quickchart {\n",
              "      --bg-color: #3B4455;\n",
              "      --fill-color: #D2E3FC;\n",
              "      --hover-bg-color: #434B5C;\n",
              "      --hover-fill-color: #FFFFFF;\n",
              "      --disabled-bg-color: #3B4455;\n",
              "      --disabled-fill-color: #666;\n",
              "  }\n",
              "\n",
              "  .colab-df-quickchart {\n",
              "    background-color: var(--bg-color);\n",
              "    border: none;\n",
              "    border-radius: 50%;\n",
              "    cursor: pointer;\n",
              "    display: none;\n",
              "    fill: var(--fill-color);\n",
              "    height: 32px;\n",
              "    padding: 0;\n",
              "    width: 32px;\n",
              "  }\n",
              "\n",
              "  .colab-df-quickchart:hover {\n",
              "    background-color: var(--hover-bg-color);\n",
              "    box-shadow: 0 1px 2px rgba(60, 64, 67, 0.3), 0 1px 3px 1px rgba(60, 64, 67, 0.15);\n",
              "    fill: var(--button-hover-fill-color);\n",
              "  }\n",
              "\n",
              "  .colab-df-quickchart-complete:disabled,\n",
              "  .colab-df-quickchart-complete:disabled:hover {\n",
              "    background-color: var(--disabled-bg-color);\n",
              "    fill: var(--disabled-fill-color);\n",
              "    box-shadow: none;\n",
              "  }\n",
              "\n",
              "  .colab-df-spinner {\n",
              "    border: 2px solid var(--fill-color);\n",
              "    border-color: transparent;\n",
              "    border-bottom-color: var(--fill-color);\n",
              "    animation:\n",
              "      spin 1s steps(1) infinite;\n",
              "  }\n",
              "\n",
              "  @keyframes spin {\n",
              "    0% {\n",
              "      border-color: transparent;\n",
              "      border-bottom-color: var(--fill-color);\n",
              "      border-left-color: var(--fill-color);\n",
              "    }\n",
              "    20% {\n",
              "      border-color: transparent;\n",
              "      border-left-color: var(--fill-color);\n",
              "      border-top-color: var(--fill-color);\n",
              "    }\n",
              "    30% {\n",
              "      border-color: transparent;\n",
              "      border-left-color: var(--fill-color);\n",
              "      border-top-color: var(--fill-color);\n",
              "      border-right-color: var(--fill-color);\n",
              "    }\n",
              "    40% {\n",
              "      border-color: transparent;\n",
              "      border-right-color: var(--fill-color);\n",
              "      border-top-color: var(--fill-color);\n",
              "    }\n",
              "    60% {\n",
              "      border-color: transparent;\n",
              "      border-right-color: var(--fill-color);\n",
              "    }\n",
              "    80% {\n",
              "      border-color: transparent;\n",
              "      border-right-color: var(--fill-color);\n",
              "      border-bottom-color: var(--fill-color);\n",
              "    }\n",
              "    90% {\n",
              "      border-color: transparent;\n",
              "      border-bottom-color: var(--fill-color);\n",
              "    }\n",
              "  }\n",
              "</style>\n",
              "\n",
              "  <script>\n",
              "    async function quickchart(key) {\n",
              "      const quickchartButtonEl =\n",
              "        document.querySelector('#' + key + ' button');\n",
              "      quickchartButtonEl.disabled = true;  // To prevent multiple clicks.\n",
              "      quickchartButtonEl.classList.add('colab-df-spinner');\n",
              "      try {\n",
              "        const charts = await google.colab.kernel.invokeFunction(\n",
              "            'suggestCharts', [key], {});\n",
              "      } catch (error) {\n",
              "        console.error('Error during call to suggestCharts:', error);\n",
              "      }\n",
              "      quickchartButtonEl.classList.remove('colab-df-spinner');\n",
              "      quickchartButtonEl.classList.add('colab-df-quickchart-complete');\n",
              "    }\n",
              "    (() => {\n",
              "      let quickchartButtonEl =\n",
              "        document.querySelector('#df-b47e0379-0aee-48ce-b86d-c2e287c3f104 button');\n",
              "      quickchartButtonEl.style.display =\n",
              "        google.colab.kernel.accessAllowed ? 'block' : 'none';\n",
              "    })();\n",
              "  </script>\n",
              "</div>\n",
              "\n",
              "    </div>\n",
              "  </div>\n"
            ],
            "application/vnd.google.colaboratory.intrinsic+json": {
              "type": "dataframe",
              "summary": "{\n  \"name\": \"air_df\",\n  \"rows\": 8760,\n  \"fields\": [\n    {\n      \"column\": [\n        \"Value\",\n        \"NO\"\n      ],\n      \"properties\": {\n        \"dtype\": \"number\",\n        \"std\": 26.678565292077764,\n        \"min\": -2.0,\n        \"max\": 401.79999,\n        \"num_unique_values\": 884,\n        \"samples\": [\n          21.5,\n          186.8,\n          85.1\n        ],\n        \"semantic_type\": \"\",\n        \"description\": \"\"\n      }\n    },\n    {\n      \"column\": [\n        \"Value\",\n        \"NO2\"\n      ],\n      \"properties\": {\n        \"dtype\": \"number\",\n        \"std\": 18.580841313012183,\n        \"min\": 2.8,\n        \"max\": 120.2,\n        \"num_unique_values\": 883,\n        \"samples\": [\n          63.6,\n          81.6,\n          8.9\n        ],\n        \"semantic_type\": \"\",\n        \"description\": \"\"\n      }\n    },\n    {\n      \"column\": [\n        \"Value\",\n        \"NOX\"\n      ],\n      \"properties\": {\n        \"dtype\": \"number\",\n        \"std\": 54.584805082983586,\n        \"min\": 1.0,\n        \"max\": 734.29999,\n        \"num_unique_values\": 1684,\n        \"samples\": [\n          82.8,\n          97.6,\n          45.3\n        ],\n        \"semantic_type\": \"\",\n        \"description\": \"\"\n      }\n    },\n    {\n      \"column\": [\n        \"Value\",\n        \"PM10\"\n      ],\n      \"properties\": {\n        \"dtype\": \"number\",\n        \"std\": 15.344754992403102,\n        \"min\": -5.6,\n        \"max\": 633.09998,\n        \"num_unique_values\": 423,\n        \"samples\": [\n          37.4,\n          9.0,\n          53.4\n        ],\n        \"semantic_type\": \"\",\n        \"description\": \"\"\n      }\n    },\n    {\n      \"column\": [\n        \"Value\",\n        \"PM2.5\"\n      ],\n      \"properties\": {\n        \"dtype\": \"number\",\n        \"std\": 13.558587686002454,\n        \"min\": -8.0,\n        \"max\": 128.0,\n        \"num_unique_values\": 112,\n        \"samples\": [\n          44.0,\n          92.0,\n          21.0\n        ],\n        \"semantic_type\": \"\",\n        \"description\": \"\"\n      }\n    },\n    {\n      \"column\": [\n        \"Units\",\n        \"NO\"\n      ],\n      \"properties\": {\n        \"dtype\": \"category\",\n        \"num_unique_values\": 1,\n        \"samples\": [\n          \"ug m-3\"\n        ],\n        \"semantic_type\": \"\",\n        \"description\": \"\"\n      }\n    },\n    {\n      \"column\": [\n        \"Units\",\n        \"NO2\"\n      ],\n      \"properties\": {\n        \"dtype\": \"category\",\n        \"num_unique_values\": 1,\n        \"samples\": [\n          \"ug m-3\"\n        ],\n        \"semantic_type\": \"\",\n        \"description\": \"\"\n      }\n    },\n    {\n      \"column\": [\n        \"Units\",\n        \"NOX\"\n      ],\n      \"properties\": {\n        \"dtype\": \"category\",\n        \"num_unique_values\": 1,\n        \"samples\": [\n          \"ug m-3 as NO2\"\n        ],\n        \"semantic_type\": \"\",\n        \"description\": \"\"\n      }\n    },\n    {\n      \"column\": [\n        \"Units\",\n        \"PM10\"\n      ],\n      \"properties\": {\n        \"dtype\": \"category\",\n        \"num_unique_values\": 1,\n        \"samples\": [\n          \"ug/m3\"\n        ],\n        \"semantic_type\": \"\",\n        \"description\": \"\"\n      }\n    },\n    {\n      \"column\": [\n        \"Units\",\n        \"PM2.5\"\n      ],\n      \"properties\": {\n        \"dtype\": \"category\",\n        \"num_unique_values\": 1,\n        \"samples\": [\n          \"ug m-3\"\n        ],\n        \"semantic_type\": \"\",\n        \"description\": \"\"\n      }\n    }\n  ]\n}"
            }
          },
          "metadata": {},
          "execution_count": 23
        }
      ]
    },
    {
      "cell_type": "markdown",
      "source": [
        "# **Respuesta: No, no son iguales las salidas**\n",
        "\n",
        "el primer codigo hace una reorganizacion del Data Frame air_df y asigna un indice por timestamp y Species pero mantiene los datos en las columnas como estaban.\n",
        "\n",
        "al emplear unstack() el indice de Species se convierte en uno mas profundo de esta manera cambia la estructura del DataFrame"
      ],
      "metadata": {
        "id": "CxofIFeaifv9"
      }
    },
    {
      "cell_type": "markdown",
      "source": [
        "10.\tExplica cuáles son las diferencias y similitudes entre el par `melt()/pivot()` y el par `stack()/unstack()`. Si tuvieras que elegir una contraparte para `melt()` entre `stack()/unstack()`, ¿cuál elegirías? ¿Por qué?"
      ],
      "metadata": {
        "id": "K1vWLX2ffxHV"
      }
    },
    {
      "cell_type": "markdown",
      "source": [
        "# **RESPUESTA**\n",
        "\n",
        "**Similitudes melt()/pivot() y el par stack()/unstack():**\n",
        "\n",
        "Ambas funciones transforman DataFrames de formatos Largo / Ancho. tambien permiten reorganizar la estrucutra de los datos, lo cual puede ayudar a un mejor analisis segun se ocupe\n",
        "\n",
        "# **Diferencias entre melt()/pivot() y el par stack()/unstack():**\n",
        "*melt() y pivot()* Trabajan con DataFrames no jerárquicos, transformando directamente desde columnas a filas y al reves\n",
        "*stack() y unstack()* operan en índices, moviendo niveles entre índices y columnas en DataFrames con índices múltiples.\n",
        "\n",
        "# **Si tuvieras que elegir una contraparte para melt() entre stack()/unstack(), ¿cuál elegirías? ¿Por qué?**\n",
        "\n",
        "Elegiría stack() como la contraparte de melt():\n",
        "\n",
        "En mi entendimiento melt() transforma un DataFrame del formato ancho al largo, convirtiendo columnas en valores de una sola columna. al igual que stack() hace converciones de columanas en un indice nuevo lo cual cambia hacia una estructura vertical y creando un DataFrame en formato más largo."
      ],
      "metadata": {
        "id": "L0EtgOVIfzRd"
      }
    }
  ]
}