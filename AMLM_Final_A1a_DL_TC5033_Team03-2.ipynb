{
  "cells": [
    {
      "cell_type": "markdown",
      "source": [
        "# 🎓 **Applied Artificial Intelligence Master**\n",
        "\n",
        "## 🤖 **Course: Advanced Machine Learning Methods (Gpo 10)**\n",
        "\n",
        "### 🏛️ Tecnológico de Monterrey\n",
        "\n",
        "#### 👨‍🏫 **Lead Professor:** Dr. José Antonio Cantoral Ceballos\n",
        "#### 👩‍🏫 **Assistant Professor:** Dra. Yetnalezi Quintas Ruiz\n",
        "\n",
        "### 📊 **Activity 1a: Implementing a Multilayer Fully Connected Network using Numpy**\n",
        "\n",
        "#### 📅 **January 27th, 2025**\n",
        "\n",
        "### 👥 Team 3\n",
        "\n",
        "#### **Students:**\n",
        "* 🧑‍💻 Luis Gerardo Sanchez Salazar (A01232963)\n",
        "* 🧑‍💻 Javier Augusto Rebull Saucedo (A01795838)\n",
        "* 🧑‍💻 José Manuel Toral Cruz (A01122243)\n",
        "* 🧑‍💻 Juan Carlos Pérez Nava (A01795941)\n",
        "* 🧑‍💻 Oscar Enrique García García (A01016093)\n",
        "\n",
        "---"
      ],
      "metadata": {
        "id": "-iyg1yezOcji"
      }
    },
    {
      "cell_type": "markdown",
      "metadata": {
        "id": "iTL_DjuNOVHl"
      },
      "source": [
        "# **TC 5033**\n",
        "## **Deep Learning**\n",
        "## **Fully Connected Deep Neural Networks**\n"
      ]
    },
    {
      "cell_type": "markdown",
      "metadata": {
        "id": "2Hz31ajcOVHm"
      },
      "source": [
        "#### Activity 1a: Implementing a Multilayer Fully Connected Network using Numpy\n",
        "#### Non-graded activity (0 points)\n",
        "\n",
        "- Objective\n",
        "\n",
        "The primary objective of this activity is to deepen your understanding of Fully Connected Networks by implementing a multilayer network using only Numpy. You  are  given  the following starter code that solves the MNIST dataset problem. Your task is to read, understand, and then apply this knowledge to solve classification problems on other datasets such as the Kaggle ASL dataset (Starter code will be provided separately for that activity).\n",
        "\n",
        "- Instructions\n",
        "\n",
        "    Read and Understand the following Code: The provided starter code outlines the architecture of a Fully Connected Network designed to classify MNIST images. Go through the code to understand how each function and class is used to implement the network.\n",
        "\n",
        "    Understand the Math: Make sure you understand the math operations implemented in the code, especially during the forward and backward passes. This will involve matrix multiplications, activation functions, loss computations, and backpropagation.\n",
        "    \n",
        "- Experiment\n",
        "    You are encouraged to play with the code, change any hyperparameters and train the model, you should be able to achieve over 95% accuracy on the test set without problems.\n"
      ]
    },
    {
      "cell_type": "markdown",
      "source": [
        "# 🔢🔎 **Number recognition**\n",
        "\n",
        "Handwritten number recognition was one of the first applications where images needed to be identified by computers for diverse applications. Starting with the fact that there are infinite number of handwriting styles and diversity, this application is one of the classical examples of learning and applying neural networks to correctly classify different numbers with a good success rate. With the use of computer vision and machine learning, the solutions to this challenge have effectively addressed data entry and numerical applications.\n",
        "\n",
        "\n",
        "## 🧐🧠 **The MNIST Dataset**\n",
        "![Online Image](https://production-media.paperswithcode.com/datasets/MNIST-0000000001-2e09631a_09liOmx.jpg)\n",
        "\n",
        "The MNIST (Modified National Institute of Standards and Technology) Dataset is a modified version of the original NIST dataset and it contains handwritten digits provided by the United States Postal Service specifically enhanced to make it easier for users and enthusiasts of neural networks and machine learning. This was achieved by making a standardized set of 70,000 different images previously processed to be 28x28 pixels with normalized grayscale values, all put together in a format to be easily read and adapted to different programming languages."
      ],
      "metadata": {
        "id": "cRg2-eSLWicH"
      }
    },
    {
      "cell_type": "markdown",
      "source": [
        "# **Code**"
      ],
      "metadata": {
        "id": "XVGoDPvgckJa"
      }
    },
    {
      "cell_type": "markdown",
      "source": [
        "## 💻 **Initialization**"
      ],
      "metadata": {
        "id": "vBL7ApwxVSjg"
      }
    },
    {
      "cell_type": "markdown",
      "source": [
        "In this section of the code, the libraries required for the correct execution of the code are loaded.\n",
        "\n",
        "Also, the root folder for the files used in the notebook is defined."
      ],
      "metadata": {
        "id": "DrwOqaO9Vax7"
      }
    },
    {
      "cell_type": "code",
      "execution_count": null,
      "metadata": {
        "id": "Ud42zu1KOVHn",
        "colab": {
          "base_uri": "https://localhost:8080/"
        },
        "outputId": "253037f8-b7cd-40e7-b3b9-b44aa8d8ebcf"
      },
      "outputs": [
        {
          "output_type": "stream",
          "name": "stdout",
          "text": [
            "Drive already mounted at /content/drive; to attempt to forcibly remount, call drive.mount(\"/content/drive\", force_remount=True).\n"
          ]
        }
      ],
      "source": [
        "# Data manipulation and numerical operations\n",
        "import numpy as np                      # For numerical operations and array manipulations\n",
        "\n",
        "# Visualization libraries\n",
        "import matplotlib.pyplot as plt         # For creating static visualizations\n",
        "%matplotlib inline\n",
        "\n",
        "#Colab and system\n",
        "import os\n",
        "from google.colab import drive\n",
        "drive.mount('/content/drive')\n",
        "os.chdir('/content/drive/MyDrive/AMLM_Team03/') #Set directory to shared folder of Team 3 for the Advanced Machine Learning Methods January 2025 class"
      ]
    },
    {
      "cell_type": "markdown",
      "metadata": {
        "id": "L5yofsxpOVHn"
      },
      "source": [
        "## 🖼️ **Import Images**"
      ]
    },
    {
      "cell_type": "markdown",
      "source": [
        "The `get_images` code was previously added to the root folder. This code will help with the handling and management of the images for Python to be able to read them. Basically it takes the `.gz` files downloaded from the original website and transform this data into a format that can be handled by the neural netowk model.\n",
        "\n",
        "With a total of 70000 samples, 50000 of them will be used as the training set; 10000 for the validation set and leaving the remaining 10000 for the testing set. The files also contain the correct labels for each sample to use a supervised learning approach.\n",
        "\n",
        "Each sample consists of a 28x28 pixel image. Each pixel contains a value from 0 to 255 that represents the darknes intensity of the pixel, where 0 means that is is completely white and 255 is fully black. Also, the 28x28 image is flattened to end up with a total of 784 pixels in a single dimension.\n",
        "\n",
        "`get_images` will handle all the operations to retrieve the data in the correct format to be able to use it later in the code as needed."
      ],
      "metadata": {
        "id": "S6JkbQ3kUnWj"
      }
    },
    {
      "cell_type": "code",
      "execution_count": null,
      "metadata": {
        "id": "6rLznTAEOVHn"
      },
      "outputs": [],
      "source": [
        "from get_images import get_images #Import get_images library"
      ]
    },
    {
      "cell_type": "code",
      "execution_count": null,
      "metadata": {
        "id": "hs2vnVWlOVHo",
        "colab": {
          "base_uri": "https://localhost:8080/"
        },
        "outputId": "05a1a056-c03d-494f-9ba6-cdf2d5729779"
      },
      "outputs": [
        {
          "output_type": "stream",
          "name": "stdout",
          "text": [
            "\n",
            "==================================================\n",
            "       🔄 DATA SETS SIZE AFTER PROCESSING 🔄        \n",
            "==================================================\n",
            "\n",
            "📊 Original Data:\n",
            "   └─ Total samples: 70000\n",
            "\n",
            "📊 Training Data:\n",
            "   ├─ Features (x_train): (50000, 784)\n",
            "   └─ Labels (y_train):   (50000, 1)\n",
            "\n",
            "🎯 Validation Data:\n",
            "   ├─ Features (x_val):   (10000, 784)\n",
            "   └─ Labels (y_val):     (10000, 1)\n",
            "\n",
            "🎯 Test Data:\n",
            "   ├─ Features (x_val):   (10000, 784)\n",
            "   └─ Labels (y_val):     (10000, 1)\n",
            "\n",
            "==================================================\n",
            "\n",
            "\n",
            "============================================================\n",
            "                📊 ORIGINAL DATA STATISTICS 📊                \n",
            "============================================================\n",
            "\n",
            "📈 Current Statistics:\n",
            "──────────────────────────────\n",
            "• Mean:               33.3951\n",
            "• Standard Deviation: 78.6662\n",
            "• Minimum Value:      0.0\n",
            "• Maximum Value:      255.0\n",
            "• Range:             255.0\n",
            "\n",
            "============================================================\n"
          ]
        }
      ],
      "source": [
        "# MNIST path\n",
        "mnist_path = './mnist_raw/'\n",
        "x_train_num, y_train_num, x_test_num, y_test_num = get_images(mnist_path)   #Save the files in variables for handling after calling the get_images()\n",
        "\n",
        "x_train = x_train_num[:50000].reshape(50000, -1).astype(float)\n",
        "y_train = y_train_num[:50000].reshape(50000, 1)\n",
        "\n",
        "x_val = x_train_num[50000:].reshape(10000, -1).astype(float)\n",
        "y_val = y_train_num[50000:].reshape(10000, 1)\n",
        "\n",
        "x_test = x_test_num.copy().reshape(10000, -1).astype(float)\n",
        "y_test = y_test_num.copy().reshape(10000, 1)\n",
        "\n",
        "# Print shapes with enhanced formatting (notebook-friendly version)\n",
        "print(\"\\n\" + \"=\"*50)\n",
        "print(\"🔄 DATA SETS SIZE AFTER PROCESSING 🔄\".center(50))\n",
        "print(\"=\"*50)\n",
        "\n",
        "print(f\"\\n📊 Original Data:\")\n",
        "print(f\"   └─ Total samples: {x_train.shape[0]+x_val.shape[0]+x_test.shape[0]}\")\n",
        "\n",
        "print(f\"\\n📊 Training Data:\")\n",
        "print(f\"   ├─ Features (x_train): {x_train.shape}\")\n",
        "print(f\"   └─ Labels (y_train):   {y_train.shape}\")\n",
        "\n",
        "print(f\"\\n🎯 Validation Data:\")\n",
        "print(f\"   ├─ Features (x_val):   {x_val.shape}\")\n",
        "print(f\"   └─ Labels (y_val):     {y_val.shape}\")\n",
        "\n",
        "print(f\"\\n🎯 Test Data:\")\n",
        "print(f\"   ├─ Features (x_val):   {x_test.shape}\")\n",
        "print(f\"   └─ Labels (y_val):     {y_test.shape}\")\n",
        "print(\"\\n\" + \"=\"*50 + \"\\n\")\n",
        "\n",
        "\n",
        "# Print statistical summaries\n",
        "print(\"\\n\" + \"=\"*60)\n",
        "print(\"📊 ORIGINAL DATA STATISTICS 📊\".center(60))\n",
        "print(\"=\"*60 + \"\\n\")\n",
        "\n",
        "print(\"📈 Current Statistics:\")\n",
        "print(\"─\"*30)\n",
        "print(f\"• Mean:               {x_train.mean():.4f}\")\n",
        "print(f\"• Standard Deviation: {x_train.std():.4f}\")\n",
        "print(f\"• Minimum Value:      {x_train.min()}\")\n",
        "print(f\"• Maximum Value:      {x_train.max()}\")\n",
        "print(f\"• Range:             {x_train.max() - x_train.min()}\")\n",
        "\n",
        "print(\"\\n\" + \"=\"*60)"
      ]
    },
    {
      "cell_type": "markdown",
      "source": [
        "## 📐 **Normalization**"
      ],
      "metadata": {
        "id": "ggIdu4COW8gu"
      }
    },
    {
      "cell_type": "code",
      "execution_count": null,
      "metadata": {
        "id": "sXFejXXEOVHo"
      },
      "outputs": [],
      "source": [
        "def normalise(x_mean, x_std, x_data):\n",
        "    \"\"\"\n",
        "    Normalize data using z-score normalization (standardization).\n",
        "\n",
        "    Parameters:\n",
        "    -----------\n",
        "    x_mean : float\n",
        "        The mean value of the original dataset\n",
        "    x_std : float\n",
        "        The standard deviation of the original dataset\n",
        "    x_data : array-like\n",
        "        The data to be normalized\n",
        "\n",
        "    Returns:\n",
        "    --------\n",
        "    array-like\n",
        "        Normalized data with mean ≈ 0 and standard deviation ≈ 1\n",
        "\n",
        "    Formula:\n",
        "    --------\n",
        "    z = (x - μ) / σ\n",
        "    where:\n",
        "        z = normalized value\n",
        "        x = original value\n",
        "        μ = mean of the distribution\n",
        "        σ = standard deviation of the distribution\n",
        "    \"\"\"\n",
        "\n",
        "    # Subtract the mean (centering the data around 0)\n",
        "    # Then divide by standard deviation (scaling the data)\n",
        "    # This transforms the data to have mean=0 and std=1\n",
        "    return (x_data - x_mean) / x_std"
      ]
    },
    {
      "cell_type": "code",
      "source": [
        "# Calculate mean and standard deviation from training data\n",
        "x_mean = x_train.mean()  # Compute the mean of training data\n",
        "x_std = x_train.std()    # Compute the standard deviation of training data\n",
        "\n",
        "# Normalize all datasets using training statistics\n",
        "# Important: We use training mean/std for all sets to prevent data leakage\n",
        "x_train = normalise(x_mean, x_std, x_train)  # Normalize training data\n",
        "x_val = normalise(x_mean, x_std, x_val)      # Normalize validation data using training stats\n",
        "x_test = normalise(x_mean, x_std, x_test)    # Normalize test data using training stats\n",
        "\n",
        "# Print statistical summaries\n",
        "print(\"\\n\" + \"=\"*60)\n",
        "print(\"📊 NORMALIZED DATA STATISTICS 📊\".center(60))\n",
        "print(\"=\"*60 + \"\\n\")\n",
        "\n",
        "print(\"📈 Current Statistics:\")\n",
        "print(\"─\"*30)\n",
        "print(f\"• Mean:               {x_train.mean():.4f}\")\n",
        "print(f\"• Standard Deviation: {x_train.std():.4f}\")\n",
        "print(f\"• Minimum Value:      {x_train.min():.4f}\")\n",
        "print(f\"• Maximum Value:      {x_train.max():.4f}\")\n",
        "print(f\"• Range:             {x_train.max() - x_train.min():.4f}\")\n",
        "\n",
        "print(\"\\n\" + \"=\"*60)"
      ],
      "metadata": {
        "colab": {
          "base_uri": "https://localhost:8080/"
        },
        "id": "NfXe7o_uwMdh",
        "outputId": "4880209b-d641-4ceb-86ee-2938f5fc83b3"
      },
      "execution_count": null,
      "outputs": [
        {
          "output_type": "stream",
          "name": "stdout",
          "text": [
            "\n",
            "============================================================\n",
            "               📊 NORMALIZED DATA STATISTICS 📊               \n",
            "============================================================\n",
            "\n",
            "📈 Current Statistics:\n",
            "──────────────────────────────\n",
            "• Mean:               -0.0000\n",
            "• Standard Deviation: 1.0000\n",
            "• Minimum Value:      -0.4245\n",
            "• Maximum Value:      2.8170\n",
            "• Range:             3.2415\n",
            "\n",
            "============================================================\n"
          ]
        }
      ]
    },
    {
      "cell_type": "markdown",
      "metadata": {
        "id": "SlzRKJ_VOVHo"
      },
      "source": [
        "## 📈 **Sample Plotting**"
      ]
    },
    {
      "cell_type": "code",
      "source": [
        "def plot_mnist_samples(x_data, y_data, n_samples=3, random_seed=None):\n",
        "    \"\"\"\n",
        "    Visualize random MNIST number samples.\n",
        "\n",
        "    Parameters:\n",
        "    -----------\n",
        "    x_data : array-like\n",
        "        The image data\n",
        "    y_data : array-like\n",
        "        The corresponding labels\n",
        "    n_samples : int, optional (default=3)\n",
        "        Number of random samples to display\n",
        "    random_seed : int, optional (default=None)\n",
        "        Random seed for reproducibility\n",
        "    \"\"\"\n",
        "\n",
        "    # Set random seed if provided\n",
        "    if random_seed is not None:\n",
        "        np.random.seed(random_seed)\n",
        "\n",
        "    # Set up the figure with adequate size\n",
        "    plt.figure(figsize=(2*n_samples, 2))\n",
        "\n",
        "    # Plot each random sample\n",
        "    for i in range(n_samples):\n",
        "        # Generate random index\n",
        "        idx = np.random.randint(len(y_data))\n",
        "\n",
        "        # Create subplot\n",
        "        plt.subplot(1, n_samples, i+1)\n",
        "\n",
        "        # Reshape and display image\n",
        "        img = x_data[idx].reshape(28, 28)\n",
        "        plt.imshow(img, cmap='gray')\n",
        "\n",
        "        # Add title with number information\n",
        "        plt.title(f'Number: {y_data[idx]}',\n",
        "                 fontsize=10,\n",
        "                 pad=10,\n",
        "                 fontweight='bold')\n",
        "\n",
        "        # Remove axes for cleaner visualization\n",
        "        plt.axis('off')\n",
        "\n",
        "    # Adjust layout and display\n",
        "    plt.tight_layout()\n",
        "    plt.show()"
      ],
      "metadata": {
        "id": "CLx4RX3lhmy1"
      },
      "execution_count": null,
      "outputs": []
    },
    {
      "cell_type": "code",
      "source": [
        "# Example usage with test data\n",
        "def plot_single_mnist(x_data, y_data, random_seed=None):\n",
        "    \"\"\"\n",
        "    Visualize a single random MNIST number sample.\n",
        "\n",
        "    Parameters:\n",
        "    -----------\n",
        "    x_data : array-like\n",
        "        The image data\n",
        "    y_data : array-like\n",
        "        The corresponding labels\n",
        "    random_seed : int, optional (default=None)\n",
        "        Random seed for reproducibility\n",
        "    \"\"\"\n",
        "    plot_mnist_samples(x_data, y_data, n_samples=1, random_seed=random_seed)\n",
        "\n",
        "# Print information about displayed samples\n",
        "print(\"\\n\" + \"=\"*50)\n",
        "print(\"🔢 MNIST Numbers Visualization 🔢\".center(50))\n",
        "print(\"=\"*50)\n",
        "\n",
        "# Example calls:\n",
        "# For multiple samples\n",
        "plot_mnist_samples(x_test, y_test, n_samples=6)\n",
        "\n",
        "# For a single sample\n",
        "# plot_single_mnist(x_test, y_test)"
      ],
      "metadata": {
        "colab": {
          "base_uri": "https://localhost:8080/",
          "height": 288
        },
        "id": "61JdcULkiyHv",
        "outputId": "68c43e7c-331a-4188-82a0-4e79f84b4bc4"
      },
      "execution_count": null,
      "outputs": [
        {
          "output_type": "stream",
          "name": "stdout",
          "text": [
            "\n",
            "==================================================\n",
            "         🔢 MNIST Numbers Visualization 🔢          \n",
            "==================================================\n"
          ]
        },
        {
          "output_type": "display_data",
          "data": {
            "text/plain": [
              "<Figure size 1200x200 with 6 Axes>"
            ],
            "image/png": "[encoded data removed]"
          },
          "metadata": {}
        }
      ]
    },
    {
      "cell_type": "markdown",
      "source": [
        "# 📐 **Equations for the Model**"
      ],
      "metadata": {
        "id": "Lf-VDTqaxmGk"
      }
    },
    {
      "cell_type": "markdown",
      "metadata": {
        "id": "BGspRFNXOVHp"
      },
      "source": [
        "## Neural Network Forward Pass and Loss Calculation Equations\n",
        "\n",
        "--------------------------------------------------------------------\n",
        "1️⃣ First Layer (Input → Hidden Layer)\n",
        "--------------------------------------------------------------------\n",
        "$$z^1 = W^1 X + b^1$$\n",
        "\n",
        "- W¹: Weight matrix for first layer\n",
        "- X:  Input data\n",
        "- b¹: Bias vector\n",
        "- z¹: Pre-activation values\n",
        "\n",
        "--------------------------------------------------------------------\n",
        "2️⃣ Activation Function\n",
        "--------------------------------------------------------------------\n",
        "$$a^1 = ReLU(z^1)$$\n",
        "\n",
        "- ReLU(x) = max(0,x)\n",
        "- Keeps positive values\n",
        "- Sets negative values to 0\n",
        "- a¹: Activated values of hidden layer\n",
        "\n",
        "--------------------------------------------------------------------\n",
        "3️⃣ Second Layer (Hidden → Output Layer)\n",
        "--------------------------------------------------------------------\n",
        "$$z^2 = W^2 a^1 + b^2$$\n",
        "\n",
        "- W²: Weight matrix for second layer\n",
        "- a¹: Activated values from previous layer\n",
        "- b²: Bias vector\n",
        "- z²: Pre-activation output values\n",
        "\n",
        "--------------------------------------------------------------------\n",
        "4️⃣ Softmax Function (Probability Distribution)\n",
        "--------------------------------------------------------------------\n",
        "$$\\hat{y} = \\frac{e^{z^{2_k}}}{\\sum_j{e^{z_j}}}$$\n",
        "\n",
        "- e^z: Exponential of each output\n",
        "- Denominator normalizes values\n",
        "- ŷ: Predicted probabilities (sum to 1)\n",
        "\n",
        "--------------------------------------------------------------------\n",
        "5️⃣ Cross-Entropy Loss (Single Sample)\n",
        "--------------------------------------------------------------------\n",
        "$$ \\mathcal{L}(\\hat{y}^{i}, y^{i}) = - y^{i} \\ln(\\hat{y}^{i}) = -\\ln(\\hat{y}^i)$$\n",
        "\n",
        "- y^i: True label (one-hot encoded)\n",
        "- ŷ^i: Predicted probability\n",
        "- ln: Natural logarithm\n",
        "\n",
        "--------------------------------------------------------------------\n",
        "6️⃣ Cost Function (Average Loss)\n",
        "--------------------------------------------------------------------\n",
        "$$ \\mathcal{J}(w, b) = \\frac{1}{num\\_samples} \\sum_{i=1}^{num\\_samples}-\\ln(\\hat{y}^{i})$$\n",
        "\n",
        "- Averages loss across all samples\n",
        "- num_samples: Total training examples\n",
        "- Goal: Minimize this during training\n",
        "\n",
        "--------------------------------------------------------------------"
      ]
    },
    {
      "cell_type": "markdown",
      "metadata": {
        "id": "AFprnL9mOVHp"
      },
      "source": [
        "## **Additional Functions**"
      ]
    },
    {
      "cell_type": "markdown",
      "source": [
        "## 🔄 **Mini-batches in Deep Learning**\n",
        "\n",
        "### 📦 **Understanding Mini-batch Processing**\n",
        "\n",
        "Mini-batch processing is a crucial technique in machine learning, particularly in deep learning. Here's why they're important:\n",
        "\n",
        "### 🎯 **Purpose**\n",
        "\n",
        "* Mini-batches divide the training data into smaller subsets\n",
        "\n",
        "* They optimize the trade-off between computational efficiency and model update frequency\n",
        "\n",
        "* They help avoid memory constraints when working with large datasets\n",
        "\n",
        "### ✨ **Advantages**\n",
        "\n",
        "* **Memory Efficiency:** Process smaller chunks of data at a time\n",
        "\n",
        "* **Training Speed:** Faster than processing one sample at a time\n",
        "\n",
        "* **Stability:** More stable than using the entire dataset at once\n",
        "\n",
        "* **Generalization:** Can help improve model generalization through noise in gradient estimates\n",
        "\n",
        "### 🔑 **Key Concepts**\n",
        "\n",
        "* **Batch Size:** Number of samples in each mini-batch\n",
        "\n",
        "* **Iteration:** Processing one mini-batch\n",
        "\n",
        "* **Epoch:** Processing all mini-batches once\n",
        "\n",
        "### 📊 **Common Batch Sizes**\n",
        "\n",
        "* Typically powers of 2: 32, 64, 128, 256\n",
        "\n",
        "* Chosen based on memory constraints and training dynamics\n",
        "\n",
        "---\n",
        "\n",
        "*Note: The choice of batch size is crucial for model training as it affects both performance and computational efficiency.*"
      ],
      "metadata": {
        "id": "OWQx78zTru1e"
      }
    },
    {
      "cell_type": "code",
      "execution_count": null,
      "metadata": {
        "id": "KygmwYVyOVHp"
      },
      "outputs": [],
      "source": [
        "def create_minibatches(mb_size, x, y, shuffle = True):\n",
        "    '''\n",
        "    x  #samples, 784\n",
        "    y #samples, 1\n",
        "    '''\n",
        "    assert x.shape[0] == y.shape[0], 'Error detected in samples'\n",
        "    total_data = x.shape[0]\n",
        "    if shuffle:\n",
        "        idxs = np.arange(total_data)\n",
        "        np.random.shuffle(idxs)\n",
        "        x = x[idxs]\n",
        "        y = y[idxs]\n",
        "    return ((x[i:i+mb_size], y[i:i+mb_size]) for i in range(0, total_data, mb_size))"
      ]
    },
    {
      "cell_type": "markdown",
      "metadata": {
        "id": "dIgUgBfaOVHp"
      },
      "source": [
        "## 🧩 **Linear, ReLU, and Sequential Classes**"
      ]
    },
    {
      "cell_type": "code",
      "execution_count": null,
      "metadata": {
        "id": "rUdjF0GHOVHp"
      },
      "outputs": [],
      "source": [
        "class np_tensor(np.ndarray):\n",
        "    \"\"\"\n",
        "    Custom NumPy tensor class that inherits from numpy.ndarray.\n",
        "\n",
        "    This class extends numpy.ndarray to create a custom tensor implementation\n",
        "    that maintains full compatibility with NumPy operations while allowing\n",
        "    for additional tensor-specific functionality.\n",
        "\n",
        "    Example:\n",
        "        # Create a tensor from a NumPy array\n",
        "        array = np.array([1, 2, 3])\n",
        "        tensor = array.view(np_tensor)\n",
        "\n",
        "    Notes:\n",
        "        - Inherits all numpy.ndarray methods and attributes\n",
        "        - Can be used anywhere a regular NumPy array is expected\n",
        "        - Maintains the same memory layout as numpy.ndarray\n",
        "        - Supports all NumPy universal functions (ufuncs)\n",
        "\n",
        "    References:\n",
        "        - NumPy documentation: https://numpy.org/doc/stable/user/basics.subclassing.html\n",
        "        - NumPy array interface: https://numpy.org/doc/stable/reference/arrays.interface.html\n",
        "\n",
        "    See Also:\n",
        "        numpy.ndarray: The base NumPy array class\n",
        "        numpy.asarray: Convert input to a NumPy array\n",
        "    \"\"\"\n",
        "    pass  # No additional implementation needed as we're just inheriting ndarray functionality"
      ]
    },
    {
      "cell_type": "markdown",
      "metadata": {
        "id": "78VGb7lrOVHq"
      },
      "source": [
        "##  🦯 Linear Class"
      ]
    },
    {
      "cell_type": "markdown",
      "source": [
        "### 🎯 **Purpose**\n",
        "\n",
        "* Implements a fully connected neural network layer\n",
        "* Performs the linear transformation Z = WX + b\n",
        "* Includes forward and backward propagation\n",
        "\n",
        "### 🔧 **Key Components**\n",
        "\n",
        "#### 🏗️ **Initialization (__init__)**\n",
        "\n",
        "* Uses He (Kaiming) initialization for weights\n",
        "* Helps maintain good gradient flow\n",
        "* Creates weights (W) and bias (b) parameters\n",
        "\n",
        "#### ⏩ **Forward Pass (__call__)**\n",
        "\n",
        "* Performs matrix multiplication: WX + b\n",
        "* Maps input features to output features\n",
        "\n",
        "#### ⏪ **Backward Pass (backward)**\n",
        "\n",
        "* Computes gradients using chain rule\n",
        "* Updates three gradients: input, weights, and bias\n",
        "\n",
        "### 📐 **Mathematical Operations**\n",
        "\n",
        "```python\n",
        "Forward: Z = WX + b\n",
        "Backward:\n",
        "- dL/dX = W^T * dL/dZ\n",
        "- dL/dW = dL/dZ * X^T\n",
        "- dL/db = sum(dL/dZ, axis=1)\n",
        "```\n",
        "\n",
        "### 📏 **Shape Information**\n",
        "\n",
        "* W: (output_size, input_size)\n",
        "* b: (output_size, 1)\n",
        "* X: (input_size, batch_size)\n",
        "* Z: (output_size, batch_size)\n",
        "\n",
        "### 💡 **Key Features**\n",
        "\n",
        "* Uses He initialization for better training\n",
        "\n",
        "* Supports batch processing\n",
        "\n",
        "* Maintains gradients for backpropagation\n",
        "\n",
        "* Uses numpy tensors for efficient computation\n",
        "\n",
        "---\n",
        "\n",
        "*This implementation is suitable for building neural networks and includes all necessary components for both forward and backward propagation while maintaining efficient computation through numpy operations.*"
      ],
      "metadata": {
        "id": "5rjzwN0gr5tS"
      }
    },
    {
      "cell_type": "code",
      "execution_count": null,
      "metadata": {
        "code_folding": [],
        "id": "BxKid36IOVHq"
      },
      "outputs": [],
      "source": [
        "class Linear:\n",
        "    \"\"\"\n",
        "    Implementation of a linear (fully connected) neural network layer.\n",
        "    Performs the operation: Z = WX + b where W is weights and b is bias.\n",
        "    \"\"\"\n",
        "\n",
        "    def __init__(self, input_size, output_size):\n",
        "        \"\"\"\n",
        "        Initialize the linear layer with He (Kaiming) initialization.\n",
        "\n",
        "        Args:\n",
        "            input_size (int): Number of input features\n",
        "            output_size (int): Number of output features/neurons\n",
        "\n",
        "        Notes:\n",
        "            He initialization helps prevent vanishing/exploding gradients\n",
        "            by scaling weights based on the input size.\n",
        "        \"\"\"\n",
        "        # Initialize weights using He initialization\n",
        "        # Formula: W = randn * sqrt(2/n_in) where n_in is input size\n",
        "        self.W = (np.random.randn(output_size, input_size) /\n",
        "                 np.sqrt(input_size/2)).view(np_tensor)\n",
        "\n",
        "        # Initialize biases with zeros\n",
        "        # Shape: (output_size, 1) for broadcasting\n",
        "        self.b = (np.zeros((output_size, 1))).view(np_tensor)\n",
        "\n",
        "    def __call__(self, X):\n",
        "        \"\"\"\n",
        "        Forward pass of the linear layer (Z = WX + b).\n",
        "\n",
        "        Args:\n",
        "            X (np_tensor): Input tensor of shape (input_size, batch_size)\n",
        "\n",
        "        Returns:\n",
        "            Z (np_tensor): Output tensor of shape (output_size, batch_size)\n",
        "        \"\"\"\n",
        "        # Matrix multiplication of weights with input plus bias\n",
        "        Z = self.W @ X + self.b\n",
        "        return Z\n",
        "\n",
        "    def backward(self, X, Z):\n",
        "        \"\"\"\n",
        "        Backward pass: compute gradients of weights, bias, and input.\n",
        "\n",
        "        Args:\n",
        "            X (np_tensor): Input tensor from forward pass\n",
        "            Z (np_tensor): Output tensor from forward pass with accumulated gradients\n",
        "\n",
        "        Notes:\n",
        "            Updates the following gradients:\n",
        "            - X.grad: Gradient with respect to input\n",
        "            - W.grad: Gradient with respect to weights\n",
        "            - b.grad: Gradient with respect to bias\n",
        "        \"\"\"\n",
        "        # Compute gradient with respect to input (dL/dX)\n",
        "        X.grad = self.W.T @ Z.grad\n",
        "\n",
        "        # Compute gradient with respect to weights (dL/dW)\n",
        "        self.W.grad = Z.grad @ X.T\n",
        "\n",
        "        # Compute gradient with respect to bias (dL/db)\n",
        "        # Sum across batch dimension (axis=1) while keeping 2D shape\n",
        "        self.b.grad = np.sum(Z.grad, axis=1, keepdims=True)\n"
      ]
    },
    {
      "cell_type": "markdown",
      "metadata": {
        "id": "IGqdF0xeOVHq"
      },
      "source": [
        "## ⚡ ReLU Class"
      ]
    },
    {
      "cell_type": "markdown",
      "source": [
        "🧠 ReLU (Rectified Linear Unit) ⚡\n",
        "\n",
        "## 🎯 Purpose\n",
        "* Non-linear activation function\n",
        "* Helps neural networks learn complex patterns\n",
        "* Solves the vanishing gradient problem\n",
        "\n",
        "## ⚙️ Key Properties\n",
        "* Simple computation: f(x) = max(0, x)\n",
        "* Sparse activation (many neurons output 0)\n",
        "* Non-saturating for positive values\n",
        "* Gradient is either 0 or 1\n",
        "\n",
        "## ✨ Advantages\n",
        "* Fast to compute\n",
        "* Helps with gradient flow\n",
        "* Biological plausibility (similar to neuron firing)\n",
        "* Introduces non-linearity without vanishing gradients\n",
        "\n",
        "---\n",
        "\n",
        "*The implementation includes both forward pass (applying the ReLU function) and backward pass (computing gradients) required for neural network training. 🚀*"
      ],
      "metadata": {
        "id": "ZJ0wVwpwsO9f"
      }
    },
    {
      "cell_type": "code",
      "execution_count": null,
      "metadata": {
        "code_folding": [],
        "id": "WOZP4FYSOVHq"
      },
      "outputs": [],
      "source": [
        "class ReLU:\n",
        "    \"\"\"\n",
        "    Rectified Linear Unit (ReLU) activation function.\n",
        "    Implements f(x) = max(0, x)\n",
        "    A simple non-linear activation function that outputs the input directly\n",
        "    if positive, and zero otherwise.\n",
        "    \"\"\"\n",
        "\n",
        "    def __call__(self, Z):\n",
        "        \"\"\"\n",
        "        Forward pass of ReLU activation function.\n",
        "\n",
        "        Args:\n",
        "            Z (np_tensor): Input tensor of any shape\n",
        "\n",
        "        Returns:\n",
        "            np_tensor: max(0, Z) element-wise\n",
        "        \"\"\"\n",
        "        return np.maximum(0, Z)\n",
        "\n",
        "    def backward(self, Z, A):\n",
        "        \"\"\"\n",
        "        Backward pass: compute gradients of the ReLU function.\n",
        "\n",
        "        Args:\n",
        "            Z (np_tensor): Input tensor from forward pass\n",
        "            A (np_tensor): Activated output tensor with accumulated gradients\n",
        "\n",
        "        Notes:\n",
        "            ReLU derivative is:\n",
        "            - 1 for inputs > 0\n",
        "            - 0 for inputs <= 0\n",
        "        \"\"\"\n",
        "        # Copy upstream gradients\n",
        "        Z.grad = A.grad.copy()\n",
        "\n",
        "        # Zero out gradients where input was <= 0\n",
        "        Z.grad[Z <= 0] = 0"
      ]
    },
    {
      "cell_type": "markdown",
      "metadata": {
        "id": "7QQxjS5WOVHq"
      },
      "source": [
        "## ✨ Sequential Class"
      ]
    },
    {
      "cell_type": "markdown",
      "source": [
        "## 🎯 Purpose\n",
        "* Manages a sequence of neural network layers\n",
        "* Handles forward propagation, backward propagation, and parameter updates\n",
        "* Provides prediction functionality\n",
        "\n",
        "## ⚙️ Key Components\n",
        "* Layer Management: Stores and sequences layers\n",
        "* Forward Pass: Processes input through all layers\n",
        "* Backward Pass: Computes gradients in reverse order\n",
        "* Parameter Updates: Applies gradient descent\n",
        "* Prediction: Converts network output to class prediction\n",
        "\n",
        "## 🔄 Features\n",
        "* Stores intermediate outputs for backpropagation\n",
        "* Supports any combination of layers\n",
        "* Implements gradient descent optimization\n",
        "* Handles both training and inference\n",
        "\n",
        "\n",
        "---\n",
        "\n",
        "*This implementation provides a flexible framework for building and training neural networks by composing layers in sequence. 🚀*"
      ],
      "metadata": {
        "id": "8t1_Xj8UsTGB"
      }
    },
    {
      "cell_type": "code",
      "execution_count": null,
      "metadata": {
        "code_folding": [],
        "id": "1-GLOAyFOVHq"
      },
      "outputs": [],
      "source": [
        "class Sequential_layers:\n",
        "    \"\"\"\n",
        "    Sequential container for neural network layers.\n",
        "    Allows for easy composition of layers and handles forward/backward passes.\n",
        "    \"\"\"\n",
        "\n",
        "    def __init__(self, layers):\n",
        "        \"\"\"\n",
        "        Initialize the sequential container with a list of layers.\n",
        "\n",
        "        Args:\n",
        "            layers (list): List of layers (e.g., Linear, ReLU)\n",
        "                          in the order they should be applied\n",
        "        \"\"\"\n",
        "        self.layers = layers\n",
        "        self.x = None  # Store input\n",
        "        self.outputs = {}  # Store intermediate outputs\n",
        "\n",
        "    def __call__(self, X):\n",
        "        \"\"\"\n",
        "        Forward pass through all layers in sequence.\n",
        "\n",
        "        Args:\n",
        "            X (np_tensor): Input tensor\n",
        "\n",
        "        Returns:\n",
        "            np_tensor: Output of the final layer\n",
        "\n",
        "        Notes:\n",
        "            Stores intermediate outputs in self.outputs dictionary\n",
        "            for use in backward pass\n",
        "        \"\"\"\n",
        "        self.x = X\n",
        "        self.outputs['l0'] = self.x  # Store input\n",
        "\n",
        "        # Process through each layer sequentially\n",
        "        for i, layer in enumerate(self.layers, 1):\n",
        "            self.x = layer(self.x)  # Apply layer\n",
        "            self.outputs['l'+str(i)] = self.x  # Store output\n",
        "\n",
        "        return self.x\n",
        "\n",
        "    def backward(self):\n",
        "        \"\"\"\n",
        "        Backward pass through all layers in reverse sequence.\n",
        "\n",
        "        Computes gradients for all layers using stored intermediate\n",
        "        outputs from forward pass.\n",
        "        \"\"\"\n",
        "        # Process layers in reverse order\n",
        "        for i in reversed(range(len(self.layers))):\n",
        "            self.layers[i].backward(\n",
        "                self.outputs['l'+str(i)],    # Layer input\n",
        "                self.outputs['l'+str(i+1)]   # Layer output\n",
        "            )\n",
        "\n",
        "    def update(self, learning_rate=1e-3):\n",
        "        \"\"\"\n",
        "        Update model parameters using computed gradients.\n",
        "\n",
        "        Args:\n",
        "            learning_rate (float): Learning rate for gradient descent\n",
        "                                 Default: 0.001\n",
        "\n",
        "        Notes:\n",
        "            Only updates parameters of Linear layers (skips ReLU)\n",
        "        \"\"\"\n",
        "        for layer in self.layers:\n",
        "            if isinstance(layer, ReLU):\n",
        "                continue  # Skip ReLU layers (no parameters)\n",
        "\n",
        "            # Update weights and biases using gradient descent\n",
        "            layer.W = layer.W - learning_rate * layer.W.grad\n",
        "            layer.b = layer.b - learning_rate * layer.b.grad\n",
        "\n",
        "    def predict(self, X):\n",
        "        \"\"\"\n",
        "        Make a prediction for input X.\n",
        "\n",
        "        Args:\n",
        "            X (np_tensor): Input tensor\n",
        "\n",
        "        Returns:\n",
        "            int: Index of the maximum value in the output\n",
        "                (predicted class)\n",
        "        \"\"\"\n",
        "        return np.argmax(self.__call__(X))"
      ]
    },
    {
      "cell_type": "markdown",
      "metadata": {
        "id": "nNtUAkSjOVHq"
      },
      "source": [
        "## 📉 Cost Function"
      ]
    },
    {
      "cell_type": "markdown",
      "source": [
        "## ✨ Softmax + Cross-Entropy Loss 📊\n",
        "\n",
        "## 🎯 Components\n",
        "* Combines two operations commonly used in classification:\n",
        "    * Softmax: Converts raw scores to probabilities\n",
        "    * Cross-Entropy: Measures difference between predicted and true distributions\n",
        "\n",
        "## ⚙️ Mathematical Components\n",
        "`Softmax: p_i = exp(x_i) / Σ exp(x_j)`\n",
        "`Cross-Entropy: L = -Σ y_i * log(p_i)`\n",
        "\n",
        "## 🔄 Key Properties\n",
        "* Softmax ensures outputs sum to 1 (valid probabilities)\n",
        "* Cross-entropy penalizes incorrect predictions logarithmically\n",
        "* Gradient has simple form: (p_i - y_i)\n",
        "* Loss is always positive and is 0 only for perfect predictions\n",
        "\n",
        "## ✨ Advantages\n",
        "* Numerically stable implementation\n",
        "* Efficient gradient computation\n",
        "* Suitable for multi-class classification\n",
        "* Provides probabilistic outputs\n",
        "\n",
        "---\n",
        "*This implementation handles both the forward pass (computing probabilities and loss) and backward pass (computing gradients) in a single function, making it efficient for neural network training. 🚀*"
      ],
      "metadata": {
        "id": "9ysL1YDZs6WK"
      }
    },
    {
      "cell_type": "code",
      "execution_count": null,
      "metadata": {
        "code_folding": [],
        "id": "bsaLqzgOOVHq"
      },
      "outputs": [],
      "source": [
        "def softmaxXEntropy(x, y):\n",
        "    \"\"\"\n",
        "    Compute Softmax activation and Cross-Entropy loss.\n",
        "\n",
        "    Args:\n",
        "        x (np_tensor): Raw output scores from the network (logits)\n",
        "                      Shape: (num_classes, batch_size)\n",
        "        y (np_tensor): True labels (ground truth)\n",
        "                      Shape: (1, batch_size)\n",
        "\n",
        "    Returns:\n",
        "        tuple: (predictions, loss)\n",
        "            - predictions: Softmax probabilities\n",
        "            - loss: Average cross-entropy loss for the batch\n",
        "    \"\"\"\n",
        "    # Get batch size for averaging\n",
        "    batch_size = x.shape[1]\n",
        "\n",
        "    # Compute Softmax probabilities\n",
        "    # Step 1: Exponential of scores\n",
        "    exp_scores = np.exp(x)\n",
        "    # Step 2: Normalize to get probabilities\n",
        "    probs = exp_scores / exp_scores.sum(axis=0)\n",
        "    # Store predictions\n",
        "    preds = probs.copy()\n",
        "\n",
        "    # Compute Cross-Entropy Loss\n",
        "    # Get probability of correct class for each sample\n",
        "    y_hat = probs[y.squeeze(), np.arange(batch_size)]\n",
        "    # Average negative log likelihood\n",
        "    cost = np.sum(-np.log(y_hat)) / batch_size\n",
        "\n",
        "    # Compute gradients for backpropagation\n",
        "    # Gradient of softmax+cross-entropy is (p_i - y_i)\n",
        "    probs[y.squeeze(), np.arange(batch_size)] -= 1  # Subtract 1 from correct class\n",
        "    x.grad = probs.copy()  # Store gradients for backprop\n",
        "\n",
        "    return preds, cost"
      ]
    },
    {
      "cell_type": "markdown",
      "metadata": {
        "id": "QNFe-IitOVHr"
      },
      "source": [
        "## 💫 Training Loop"
      ]
    },
    {
      "cell_type": "markdown",
      "source": [
        "## ✨Model Evaluation and Accuracy 📊\n",
        "\n",
        "## 🎯 Purpose\n",
        "* Evaluates model performance by calculating classification accuracy\n",
        "* Processes data in mini-batches for memory efficiency\n",
        "* Returns accuracy as a fraction between 0 and 1\n",
        "\n",
        "## ⚙️ Process Flow\n",
        "* Creates mini-batches from input data\n",
        "* Gets model predictions for each batch\n",
        "* Compares predictions with true labels\n",
        "* Accumulates correct predictions and total samples\n",
        "* Calculates final accuracy ratio\n",
        "\n",
        "## 🔄 Key Operations\n",
        "* `np.argmax`: Converts model outputs to class predictions\n",
        "* `y.squeeze()`: Removes unnecessary dimensions from labels\n",
        "* `pred.shape[1]`: Gets number of samples in current batch\n",
        "* Final division: Computes accuracy percentage\n",
        "\n",
        "---\n",
        "*This implementation efficiently handles large datasets by using mini-batch processing while maintaining accurate performance metrics. 🚀*"
      ],
      "metadata": {
        "id": "xTntG5u3uUtc"
      }
    },
    {
      "cell_type": "code",
      "execution_count": null,
      "metadata": {
        "code_folding": [],
        "id": "mRDtB_A3OVHr"
      },
      "outputs": [],
      "source": [
        "def accuracy(x, y, mb_size):\n",
        "    \"\"\"\n",
        "    Calculate the classification accuracy using mini-batches.\n",
        "\n",
        "    Args:\n",
        "        x (np_tensor): Input features/data\n",
        "        y (np_tensor): True labels\n",
        "        mb_size (int): Mini-batch size\n",
        "\n",
        "    Returns:\n",
        "        float: Classification accuracy as a ratio of correct predictions to total samples\n",
        "    \"\"\"\n",
        "    # Initialize counters for correct predictions and total samples\n",
        "    correct = 0\n",
        "    total = 0\n",
        "\n",
        "    # Iterate through mini-batches\n",
        "    for i, (x, y) in enumerate(create_minibatches(mb_size, x, y)):\n",
        "        # Forward pass: Get model predictions\n",
        "        # Transpose input and convert to tensor type\n",
        "        pred = model(x.T.view(np_tensor))\n",
        "\n",
        "        # Count correct predictions\n",
        "        # argmax gets the predicted class (highest probability)\n",
        "        # Compare with true labels and sum matches\n",
        "        correct += np.sum(np.argmax(pred, axis=0) == y.squeeze())\n",
        "\n",
        "        # Update total number of processed samples\n",
        "        total += pred.shape[1]\n",
        "\n",
        "    # Return accuracy as ratio of correct predictions to total samples\n",
        "    return correct/total"
      ]
    },
    {
      "cell_type": "markdown",
      "source": [
        "## ✨ Training Function 🔄\n",
        "\n",
        "## 🎯 Purpose\n",
        "* Manages the complete training process for the neural network\n",
        "* Implements the training loop over epochs and mini-batches\n",
        "* Tracks and reports training progress\n",
        "\n",
        "## ⚙️ Key Components\n",
        "* Outer loop: Iterates over epochs\n",
        "* Inner loop: Processes mini-batches\n",
        "* Forward pass: Computes predictions\n",
        "* Loss calculation: Measures error\n",
        "* Backward pass: Computes gradients\n",
        "* Parameter updates: Applies gradient descent\n",
        "\n",
        "## 🚀 Training Flow\n",
        "```python\n",
        "For each epoch:\n",
        "    For each mini-batch:\n",
        "        1. Forward pass\n",
        "        2. Calculate loss\n",
        "        3. Backward pass\n",
        "        4. Update parameters\n",
        "    Calculate and store metrics\n",
        "    Print progress\n",
        "```\n",
        "\n",
        "## ✨ Features\n",
        "* Tracks both training loss and validation accuracy\n",
        "* Uses mini-batch processing for efficiency\n",
        "* Provides progress updates each epoch\n",
        "* Returns training history for analysis\n",
        "\n",
        "---\n",
        "*This implementation provides a complete training pipeline with progress tracking and validation monitoring. 📈*"
      ],
      "metadata": {
        "id": "wrL2N69UuhKe"
      }
    },
    {
      "cell_type": "code",
      "execution_count": null,
      "metadata": {
        "code_folding": [],
        "id": "FTitDaLkOVHr"
      },
      "outputs": [],
      "source": [
        "def train(model, epochs, mb_size=128, learning_rate=1e-3):\n",
        "    \"\"\"\n",
        "    Train the neural network model with simple progress display.\n",
        "    \"\"\"\n",
        "    history = {'loss': [], 'val_acc': []}\n",
        "\n",
        "    for epoch in range(epochs):\n",
        "        losses = []\n",
        "\n",
        "        # Mini-batch training\n",
        "        for i, (x, y) in enumerate(create_minibatches(mb_size, x_train, y_train)):\n",
        "            scores = model(x.T.view(np_tensor))\n",
        "            _, cost = softmaxXEntropy(scores, y)\n",
        "            losses.append(cost)\n",
        "            model.backward()\n",
        "            model.update(learning_rate)\n",
        "\n",
        "        # Calculate and store metrics\n",
        "        avg_loss = np.mean(losses)\n",
        "        val_acc = accuracy(x_val, y_val, mb_size)\n",
        "        history['loss'].append(avg_loss)\n",
        "        history['val_acc'].append(val_acc)\n",
        "\n",
        "        # Print simple progress line\n",
        "        print(f\"Epoch: {epoch+1:3d}/{epochs} | Loss: {cost:.6f} | Accuracy: {val_acc*100:.2f}%\")\n",
        "\n",
        "    return history"
      ]
    },
    {
      "cell_type": "markdown",
      "source": [
        "# 🛠️ Create your model and train it ⚡"
      ],
      "metadata": {
        "id": "HlcuOWVzup3R"
      }
    },
    {
      "cell_type": "markdown",
      "source": [
        "# Neural Network Architecture 🧠\n",
        "\n",
        "## 🎯 Model Architecture\n",
        "\n",
        "### 📊 Input Layer (784 neurons)\n",
        "* Represents a flattened 28x28 image (784 = 28 * 28)\n",
        "* Each neuron corresponds to one pixel value\n",
        "\n",
        "### ⚡ First Hidden Layer (200 neurons)\n",
        "* Reduces dimensionality from 784 to 200\n",
        "* ReLU activation adds non-linearity\n",
        "* Helps learn lower-level features\n",
        "\n",
        "### 🔄 Second Hidden Layer (200 neurons)\n",
        "* Maintains dimensionality at 200\n",
        "* Additional ReLU activation\n",
        "* Helps learn higher-level features\n",
        "\n",
        "### 🎯 Output Layer (10 classes)\n",
        "* 10 output classes\n",
        "* No activation (will use softmax in loss function)\n",
        "* Each neuron represents one possible class\n",
        "\n",
        "## ⚙️ Training Parameters\n",
        "\n",
        "### 📦 Mini-batch Size (512)\n",
        "* Processes 512 samples simultaneously\n",
        "* Balances between:\n",
        "    * Training speed (larger batches = faster)\n",
        "    * Memory usage (larger batches = more memory)\n",
        "    * Generalization (moderate batch size often works better)\n",
        "\n",
        "### 📈 Learning Rate (0.0001)\n",
        "* Small learning rate (1e-4) for stable training\n",
        "* Helps avoid overshooting optimal values\n",
        "* Suitable for deep networks with multiple layers\n",
        "\n",
        "### 🔄 Epochs (20)\n",
        "* Network will see entire dataset 20 times\n",
        "* Allows sufficient time for convergence\n",
        "* May need early stopping if overfitting occurs\n",
        "\n",
        "## ✨ Architecture Benefits\n",
        "* Multiple hidden layers allow hierarchical feature learning\n",
        "* ReLU activations help prevent vanishing gradients\n",
        "* Balanced layer sizes (200) provide good capacity without excessive parameters\n",
        "\n",
        "\n",
        "---\n",
        "*This architecture represents a moderately sized neural network suitable for complex image classification tasks, with careful parameter choices to ensure stable and effective training. 🚀*"
      ],
      "metadata": {
        "id": "Bqa08gX7utXf"
      }
    },
    {
      "cell_type": "code",
      "execution_count": null,
      "metadata": {
        "id": "LBdN5009OVHr"
      },
      "outputs": [],
      "source": [
        "# Define the neural network architecture\n",
        "model = Sequential_layers([\n",
        "    # First layer: Input to hidden layer 1\n",
        "    Linear(784, 200),   # 784 inputs (28x28 pixels) -> 200 neurons\n",
        "    ReLU(),             # Activation function for non-linearity\n",
        "\n",
        "    #Second layer: Hidden layer 1 to hidden layer 2\n",
        "    Linear(200, 200),   # 200 inputs -> 200 neurons\n",
        "    ReLU(),             # Second ReLU activation\n",
        "\n",
        "    #Output layer: Hidden layer 2 to output\n",
        "    Linear(200, 10)     # 200 inputs -> 10 output classes\n",
        "])\n",
        "\n",
        "\n",
        "# Training hyperparameters\n",
        "mb_size = 512           # Mini-batch size: number of samples processed at once\n",
        "learning_rate = 1e-4    # Learning rate: controls step size in gradient descent\n",
        "epochs = 20            # Number of complete passes through the training dataset"
      ]
    },
    {
      "cell_type": "code",
      "execution_count": null,
      "metadata": {
        "id": "qzoT7Y9rOVHr",
        "colab": {
          "base_uri": "https://localhost:8080/"
        },
        "outputId": "c1cb84dd-e9b9-42f8-ff9c-7604e58a2b82"
      },
      "outputs": [
        {
          "output_type": "stream",
          "name": "stdout",
          "text": [
            "\n",
            "==================================================\n",
            "        Neural Network Training Initiated         \n",
            "==================================================\n",
            "\n",
            "Epoch:   1/20 | Loss: 0.319699 | Accuracy: 91.78%\n",
            "Epoch:   2/20 | Loss: 0.193026 | Accuracy: 93.48%\n",
            "Epoch:   3/20 | Loss: 0.237952 | Accuracy: 94.56%\n",
            "Epoch:   4/20 | Loss: 0.246382 | Accuracy: 95.06%\n",
            "Epoch:   5/20 | Loss: 0.137759 | Accuracy: 95.59%\n",
            "Epoch:   6/20 | Loss: 0.113685 | Accuracy: 95.93%\n",
            "Epoch:   7/20 | Loss: 0.098385 | Accuracy: 96.10%\n",
            "Epoch:   8/20 | Loss: 0.089134 | Accuracy: 96.26%\n",
            "Epoch:   9/20 | Loss: 0.058230 | Accuracy: 96.47%\n",
            "Epoch:  10/20 | Loss: 0.076726 | Accuracy: 96.55%\n",
            "Epoch:  11/20 | Loss: 0.120943 | Accuracy: 96.45%\n",
            "Epoch:  12/20 | Loss: 0.126107 | Accuracy: 96.76%\n",
            "Epoch:  13/20 | Loss: 0.105987 | Accuracy: 96.76%\n",
            "Epoch:  14/20 | Loss: 0.069885 | Accuracy: 96.89%\n",
            "Epoch:  15/20 | Loss: 0.061941 | Accuracy: 96.91%\n",
            "Epoch:  16/20 | Loss: 0.066414 | Accuracy: 97.08%\n",
            "Epoch:  17/20 | Loss: 0.078260 | Accuracy: 97.07%\n",
            "Epoch:  18/20 | Loss: 0.056994 | Accuracy: 97.08%\n",
            "Epoch:  19/20 | Loss: 0.055356 | Accuracy: 97.15%\n",
            "Epoch:  20/20 | Loss: 0.051747 | Accuracy: 97.15%\n",
            "\n",
            "==================================================\n",
            "                Training Complete!                \n",
            "              Final Accuracy: 97.15%              \n",
            "==================================================\n",
            "\n"
          ]
        }
      ],
      "source": [
        "# Train the model\n",
        "print(\"\\n\" + \"=\"*50)\n",
        "print(\"Neural Network Training Initiated\".center(50))\n",
        "print(\"=\"*50 + \"\\n\")\n",
        "\n",
        "history = train(model, epochs, mb_size, learning_rate)\n",
        "\n",
        "print(\"\\n\" + \"=\"*50)\n",
        "print(\"Training Complete!\".center(50))\n",
        "print(f\"Final Accuracy: {history['val_acc'][-1]*100:.2f}%\".center(50))\n",
        "print(\"=\"*50 + \"\\n\")"
      ]
    },
    {
      "cell_type": "code",
      "source": [
        "# Create a figure with specified size and higher DPI for better quality\n",
        "plt.figure(figsize=(15, 6), dpi=100)\n",
        "\n",
        "# Calculate mean metrics for reference lines\n",
        "mean_loss = np.mean(history['loss'])\n",
        "mean_acc = np.mean(history['val_acc'])\n",
        "\n",
        "# First subplot: Training Loss (left side)\n",
        "plt.subplot(1, 2, 1)\n",
        "plt.plot(history['loss'],\n",
        "        linewidth=2,\n",
        "        label='Training Loss',\n",
        "        color='#2ecc71')  # Green color\n",
        "plt.axhline(y=mean_loss,\n",
        "          color='#e74c3c',  # Red color\n",
        "          linestyle='--',\n",
        "          alpha=0.8,\n",
        "          label=f'Mean Loss: {mean_loss:.4f}')\n",
        "plt.title('Training Loss Over Time', fontsize=14, pad=15)\n",
        "plt.xlabel('Epoch', fontsize=12)\n",
        "plt.ylabel('Loss', fontsize=12)\n",
        "plt.grid(True, alpha=0.3)\n",
        "plt.legend(fontsize=10)\n",
        "\n",
        "# Second subplot: Validation Accuracy (right side)\n",
        "plt.subplot(1, 2, 2)\n",
        "plt.plot(history['val_acc'],\n",
        "        linewidth=2,\n",
        "        label='Validation Accuracy',\n",
        "        color='#3498db')  # Blue color\n",
        "plt.axhline(y=mean_acc,\n",
        "          color='#e74c3c',  # Red color\n",
        "          linestyle='--',\n",
        "          alpha=0.8,\n",
        "          label=f'Mean Accuracy: {mean_acc*100:.2f}%')\n",
        "plt.title('Accuracy Over Time', fontsize=14, pad=15)\n",
        "plt.xlabel('Epoch', fontsize=12)\n",
        "plt.ylabel('Accuracy', fontsize=12)\n",
        "plt.grid(True, alpha=0.3)\n",
        "plt.legend(fontsize=10)\n",
        "\n",
        "# Add more space between subplots\n",
        "plt.subplots_adjust(wspace=0.3)  # Adjust this value to increase/decrease spacing\n",
        "plt.show()\n",
        "\n",
        "# Print summary statistics\n",
        "print(\"\\n\" + \"=\"*50)\n",
        "print(\"Training Summary Statistics\".center(50))\n",
        "print(\"=\"*50)\n",
        "print(f\"Final Loss: {history['loss'][-1]:.4f}\")\n",
        "print(f\"Final Accuracy: {history['val_acc'][-1]*100:.2f}%\")\n",
        "print(f\"Best Accuracy: {max(history['val_acc'])*100:.2f}%\")\n",
        "print(\"=\"*50 + \"\\n\")"
      ],
      "metadata": {
        "colab": {
          "base_uri": "https://localhost:8080/",
          "height": 741
        },
        "id": "4AUm5YN_1TgU",
        "outputId": "88af6502-4e2a-4bda-f1d2-838ebf6d8a10"
      },
      "execution_count": null,
      "outputs": [
        {
          "output_type": "display_data",
          "data": {
            "text/plain": [
              "<Figure size 1500x600 with 2 Axes>"
            ],
            "image/png": "[encoded data removed]"
          },
          "metadata": {}
        },
        {
          "output_type": "stream",
          "name": "stdout",
          "text": [
            "\n",
            "==================================================\n",
            "           Training Summary Statistics            \n",
            "==================================================\n",
            "Final Loss: 0.0561\n",
            "Final Accuracy: 97.15%\n",
            "Best Accuracy: 97.15%\n",
            "==================================================\n",
            "\n"
          ]
        }
      ]
    },
    {
      "cell_type": "code",
      "source": [
        "# Evaluate model on validation data\n",
        "test_accuracy = accuracy(x_val, y_val, mb_size)\n",
        "\n",
        "print(\"\\n\" + \"=\"*50)\n",
        "print(\"📊 Model Evaluation on Validation set 📊\".center(50))\n",
        "print(\"=\"*50)\n",
        "\n",
        "# Format accuracy as percentage\n",
        "accuracy_percentage = test_accuracy * 100\n",
        "\n",
        "# Check performance and display appropriate message\n",
        "if accuracy_percentage >= 70:\n",
        "   print(f\"\\n🌟 Exceptional Performance! 🌟\")\n",
        "   print(f\"Test Accuracy: {accuracy_percentage:.2f}% \")\n",
        "   print(\"🎯 Great job! Model is performing well! 🎉\")\n",
        "else:\n",
        "   print(f\"\\n📉 Performance Below Expectations 📉\")\n",
        "   print(f\"Test Accuracy: {accuracy_percentage:.2f}% \")\n",
        "   print(\"💪 Keep improving! More training might help 🔄\")\n",
        "\n",
        "print(\"=\"*50 + \"\\n\")\n",
        "\n",
        "\n",
        "# Evaluate model on validation data\n",
        "test_accuracy = accuracy(x_test, y_test, mb_size)\n",
        "\n",
        "print(\"\\n\" + \"=\"*50)\n",
        "print(\"📊 Model Evaluation on Test set 📊\".center(50))\n",
        "print(\"=\"*50)\n",
        "\n",
        "# Format accuracy as percentage\n",
        "accuracy_percentage = test_accuracy * 100\n",
        "\n",
        "# Check performance and display appropriate message\n",
        "if accuracy_percentage >= 70:\n",
        "   print(f\"\\n🌟 Exceptional Performance! 🌟\")\n",
        "   print(f\"Test Accuracy: {accuracy_percentage:.2f}% \")\n",
        "   print(\"🎯 Great job! Model is performing well! 🎉\")\n",
        "else:\n",
        "   print(f\"\\n📉 Performance Below Expectations 📉\")\n",
        "   print(f\"Test Accuracy: {accuracy_percentage:.2f}% \")\n",
        "   print(\"💪 Keep improving! More training might help 🔄\")\n",
        "\n",
        "print(\"=\"*50 + \"\\n\")"
      ],
      "metadata": {
        "colab": {
          "base_uri": "https://localhost:8080/"
        },
        "id": "BU3P4hJH0FjC",
        "outputId": "6cd76fd9-2e14-4e7a-df6f-be1c94894e9b"
      },
      "execution_count": null,
      "outputs": [
        {
          "output_type": "stream",
          "name": "stdout",
          "text": [
            "\n",
            "==================================================\n",
            "      📊 Model Evaluation on Validation set 📊      \n",
            "==================================================\n",
            "\n",
            "🌟 Exceptional Performance! 🌟\n",
            "Test Accuracy: 97.15% \n",
            "🎯 Great job! Model is performing well! 🎉\n",
            "==================================================\n",
            "\n",
            "\n",
            "==================================================\n",
            "         📊 Model Evaluation on Test set 📊         \n",
            "==================================================\n",
            "\n",
            "🌟 Exceptional Performance! 🌟\n",
            "Test Accuracy: 97.17% \n",
            "🎯 Great job! Model is performing well! 🎉\n",
            "==================================================\n",
            "\n"
          ]
        }
      ]
    },
    {
      "cell_type": "markdown",
      "source": [
        "# 🧪 Test your model on Random data from your test set"
      ],
      "metadata": {
        "id": "grm_rrVS4DYj"
      }
    },
    {
      "cell_type": "code",
      "source": [
        "print(\"\\n\" + \"=\"*50)\n",
        "print(\"Multiple Number Predictions\".center(50))\n",
        "print(\"=\"*50 + \"\\n\")\n",
        "\n",
        "# Create a figure for multiple predictions\n",
        "plt.figure(figsize=(15, 3))\n",
        "\n",
        "# Store indices for consistency\n",
        "indices = [np.random.randint(len(y_test)) for _ in range(5)]\n",
        "predictions = []\n",
        "actual_values = []\n",
        "\n",
        "# Make 5 predictions and show images\n",
        "for i, idx in enumerate(indices):\n",
        "    # Create subplot for each image\n",
        "    plt.subplot(1, 5, i+1)\n",
        "    plt.imshow(x_test[idx].reshape(28,28), cmap='gray')\n",
        "    plt.axis('off')\n",
        "\n",
        "    # Get prediction\n",
        "    pred = model.predict(x_test[idx].reshape(-1, 1))\n",
        "    predictions.append(pred)\n",
        "    actual_values.append(y_test[idx])\n",
        "\n",
        "    # Set title with prediction status\n",
        "    is_correct = pred == y_test[idx]\n",
        "    status_emoji = \"✓\" if is_correct else \"✗\"\n",
        "    plt.title(f'Predicted number: {pred}\\nActual number: {y_test[idx]}\\n{status_emoji}',\n",
        "              pad=10)\n",
        "\n",
        "plt.tight_layout()\n",
        "plt.show()\n",
        "\n",
        "# Print summary of predictions using the same indices\n",
        "print(\"\\nPrediction Details:\")\n",
        "print(\"-\"*50)\n",
        "for i in range(5):\n",
        "    is_correct = predictions[i] == actual_values[i]\n",
        "    status = \"🎯 Correct!\" if is_correct else \"❌ Incorrect!\"\n",
        "    print(f\"Letter {i+1}: Predicted '{predictions[i]}' | \"\n",
        "          f\"Actual '{actual_values[i]}' | {status}\")"
      ],
      "metadata": {
        "colab": {
          "base_uri": "https://localhost:8080/",
          "height": 514
        },
        "id": "7zDYjwzk4Ijh",
        "outputId": "0c758dfe-fd39-4918-90d9-a0bd215f4ec3"
      },
      "execution_count": null,
      "outputs": [
        {
          "output_type": "stream",
          "name": "stdout",
          "text": [
            "\n",
            "==================================================\n",
            "           Multiple Number Predictions            \n",
            "==================================================\n",
            "\n"
          ]
        },
        {
          "output_type": "display_data",
          "data": {
            "text/plain": [
              "<Figure size 1500x300 with 5 Axes>"
            ],
            "image/png": "[encoded data removed]"
          },
          "metadata": {}
        },
        {
          "output_type": "stream",
          "name": "stdout",
          "text": [
            "\n",
            "Prediction Details:\n",
            "--------------------------------------------------\n",
            "Letter 1: Predicted '1' | Actual '[1]' | 🎯 Correct!\n",
            "Letter 2: Predicted '0' | Actual '[0]' | 🎯 Correct!\n",
            "Letter 3: Predicted '7' | Actual '[7]' | 🎯 Correct!\n",
            "Letter 4: Predicted '1' | Actual '[1]' | 🎯 Correct!\n",
            "Letter 5: Predicted '6' | Actual '[5]' | ❌ Incorrect!\n"
          ]
        }
      ]
    },
    {
      "cell_type": "markdown",
      "source": [
        "## 👥 Team Comments and Conclusions 🌟\n",
        "\n",
        "During this activity, the fundamental principles of deep learning were applied to a 70000 images dataset to predict the digit that is represented in each sample, understanding the basic and core structure of a neural network in its purest form, providing insight into how more complex frameworks like Tensorflow and Keras are based.\n",
        "\n",
        "The exercise allowed us to identify the importance of choosing the right hyperparameters for the model, such as number of neurons and mini-batch size, and how these can significantly affect the model's performance and overall results. By fine-tuning these hyperparameters, the accuracy of the model reached over 95%.\n",
        "\n",
        "The reinforcement of the importance of dividing the dataset in training, validation and test set to prevent data leaking was highlighted in this exercise, ensuring the model generealizes properly data that has not been seen.\n",
        "\n",
        "Through the activity, the object-oriented programming style improved programming skills by using classes and more complex plotting and iterations. These programming techniques would be a must in further deep learning projects to be more scalable and maintainable.\n",
        "\n",
        "Overall, this activity not only provided hands-on experience with neural networks and image classification, but also set the standard for future deliverables such as the ASL image recognition activity."
      ],
      "metadata": {
        "id": "jqjqcNst9koo"
      }
    },
    {
      "cell_type": "markdown",
      "source": [
        " # 📚 **References**\n",
        "\n",
        "---\n",
        "\n",
        "## 🎥 **Videos**  \n",
        "1. Pepe Cantoral, Ph.D. (2021, January 29). *¿Qué hacen las capas de una red neuronal? - Inteligencia Artificial / What do the layers of a neural network do? - Artificial Intelligence* [Video file]. YouTube. https://www.youtube.com/watch?v=jGNYsjHTnho  \n",
        "\n",
        "2. Pepe Cantoral, Ph.D. (2021, February 2). *Modelo matemático de una neurona artificial - Redes neuronales - (Parte 2) / Mathematical model of an artificial neuron - Neural networks - (Part 2)* [Video file]. YouTube. https://www.youtube.com/watch?v=XoIj-omJAZo  \n",
        "\n",
        "3. Pepe Cantoral, Ph.D. (2021, February 5). *Función SOFTMAX - Redes neuronales - (Parte 3) / SOFTMAX function - Neural networks - (Part 3)* [Video file]. YouTube. https://www.youtube.com/watch?v=3KhumV1S6vs  \n",
        "\n",
        "4. Pepe Cantoral, Ph.D. (2021, February 9). *Función de costo - Cross Entropy - Redes neuronales - (Parte 4) / Cost function - Cross entropy - Neural networks - (Part 4)* [Video file]. YouTube. https://www.youtube.com/watch?v=ie-tCP7YYrI  \n",
        "\n",
        "5. Pepe Cantoral, Ph.D. (2021, February 19). *Gradient descent – Redes neuronales - (Parte 5) / Gradient descent - Neural networks - (Part 5)* [Video file]. YouTube. https://www.youtube.com/watch?v=lnDjwepC-5I  \n",
        "\n",
        "6. Pepe Cantoral, Ph.D. (2021, February 22). *¿Por qué usamos el gradiente para entrenar redes neuronales? Ejemplo - Deep learning - (Parte 6) / Why do we use gradients to train neural networks? Example - Deep learning - (Part 6)* [Video file]. YouTube. https://www.youtube.com/watch?v=Cr5cYDrMYZQ  \n",
        "\n",
        "7. Pepe Cantoral, Ph.D. (2021, March 10). *\"Backpropagation\" – Fundamentos de Deep Learning – (Parte 7) / \"Backpropagation\" – Foundations of Deep Learning – (Part 7)* [Video file]. YouTube. https://www.youtube.com/watch?v=4nDsiV3GXa8  \n",
        "\n",
        "8. Pepe Cantoral, Ph.D. (2021, May 15). *¡Red neuronal desde cero estilo framework de Deep Learning! / Neural network from scratch in Deep Learning framework style!* [Video file]. YouTube. https://www.youtube.com/watch?v=_shpKyA89QQ  \n",
        "\n",
        "9. Pepe Cantoral, Ph.D. (2021, May 18). *¡Red neuronal desde cero estilo framework de Deep Learning - Parte 2! / Neural network from scratch in Deep Learning framework style - Part 2!* [Video file]. YouTube. https://www.youtube.com/watch?v=l2v2mVcOx6o  \n",
        "\n",
        "10. Pepe Cantoral, Ph.D. (2021, July 6). *¡Red neuronal usando PyTorch! PyTorch tutorial / Neural network using PyTorch! PyTorch tutorial* [Video file]. YouTube. https://www.youtube.com/watch?v=qQELiV1_GHA  \n",
        "\n",
        "11. Pepe Cantoral, Ph.D. (2021, April 7). *Descargar y procesar MNIST, sólo Python ! -Fundamentos de Deep Learning con Python y PyTorch* [Video file]. YouTube. https://www.youtube.com/watch?v=7cMKAlnSmpM  \n",
        "\n",
        "---\n",
        "\n",
        "\n",
        "\n",
        "---\n",
        "\n",
        "## 📖 **Books**  \n",
        "1. Raschka, S., Liu, Y., Mirjalili, V., & Dzhulgakov, D. (2022). *Machine learning with PyTorch and Scikit-learn: Develop machine learning and deep learning models with Python*. Packt Publishing. Chapter 11\n",
        "\n",
        "---\n",
        "\n",
        "## 📄 **Papers**  \n",
        "1. Rumelhart, D. E., Hinton, G. E., & Williams, R. J. (1986). *Learning representations by back-propagating errors*. Institute for Cognitive Science. https://www.iro.umontreal.ca/~vincentp/ift3395/lectures/backprop_old.pdf  \n",
        "\n",
        "2. Glorot, X., Bordes, A., & Bengio, Y. (2011). *Deep sparse rectifier neural networks*. http://proceedings.mlr.press/v15/glorot11a/glorot11a.pdf  \n",
        "\n",
        "---\n",
        "\n",
        "## 🎓 **Live Session Recordings**  \n",
        "1. Pepe Cantoral, Ph.D. (2025, January 9). *Active class 1 | Welcome session*.  \n",
        "\n",
        "---\n",
        "\n",
        "## 📊 **Presentations**  \n",
        "1. Pepe Cantoral, Ph.D. (2025, January 9). *A brief history of AI*.\n",
        "\n",
        "---\n",
        "\n",
        "## 📚 **Web**\n",
        "1. Ultralitics. (n.d.). *MNIST Dataset*. Retrieved January 21, 2025, from https://docs.ultralytics.com/datasets/classify/mnist/#applications"
      ],
      "metadata": {
        "id": "vXLJkmZO7dTI"
      }
    },
    {
      "cell_type": "markdown",
      "source": [
        "# ⏭️ **Next: Activity 1b - Implementing a Fully Connected Network for Kaggle ASL Dataset**\n",
        "## Advanced Machine Learning Methods\n",
        "###Tecnológico de Monterrey\n",
        "### Team 03\n",
        "\n",
        "Link: https://colab.research.google.com/drive/1cFgEwNYcPBnyBPEq4nia31ngTPOPnvqs#scrollTo=scHp_yNenfF6"
      ],
      "metadata": {
        "id": "WcCLqL7Ye8qc"
      }
    }
  ],
  "metadata": {
    "kernelspec": {
      "display_name": "Python 3 (ipykernel)",
      "language": "python",
      "name": "python3"
    },
    "language_info": {
      "codemirror_mode": {
        "name": "ipython",
        "version": 3
      },
      "file_extension": ".py",
      "mimetype": "text/x-python",
      "name": "python",
      "nbconvert_exporter": "python",
      "pygments_lexer": "ipython3",
      "version": "3.9.0"
    },
    "toc": {
      "base_numbering": 1,
      "nav_menu": {},
      "number_sections": true,
      "sideBar": true,
      "skip_h1_title": false,
      "title_cell": "Table of Contents",
      "title_sidebar": "Contents",
      "toc_cell": false,
      "toc_position": {},
      "toc_section_display": true,
      "toc_window_display": false
    },
    "varInspector": {
      "cols": {
        "lenName": 16,
        "lenType": 16,
        "lenVar": 40
      },
      "kernels_config": {
        "python": {
          "delete_cmd_postfix": "",
          "delete_cmd_prefix": "del ",
          "library": "var_list.py",
          "varRefreshCmd": "print(var_dic_list())"
        },
        "r": {
          "delete_cmd_postfix": ") ",
          "delete_cmd_prefix": "rm(",
          "library": "var_list.r",
          "varRefreshCmd": "cat(var_dic_list()) "
        }
      },
      "types_to_exclude": [
        "module",
        "function",
        "builtin_function_or_method",
        "instance",
        "_Feature"
      ],
      "window_display": false
    },
    "colab": {
      "provenance": []
    }
  },
  "nbformat": 4,
  "nbformat_minor": 0
}