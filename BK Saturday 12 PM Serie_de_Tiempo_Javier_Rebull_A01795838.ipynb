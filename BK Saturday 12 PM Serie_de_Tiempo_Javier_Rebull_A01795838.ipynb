{
  "nbformat": 4,
  "nbformat_minor": 0,
  "metadata": {
    "colab": {
      "provenance": []
    },
    "kernelspec": {
      "name": "python3",
      "display_name": "Python 3"
    },
    "language_info": {
      "name": "python"
    }
  },
  "cells": [
    {
      "cell_type": "markdown",
      "source": [
        "# **Maestría en Inteligencia Artificial Aplicada**\n",
        "\n",
        "## **Inteligencia Artificial y Aprendizaje Automático**\n",
        "\n",
        "### Tecnológico de Monterrey\n",
        "\n",
        "### Prof Luis Eduardo Falcón Morales\n",
        "\n",
        "## **Actividad 9: Modelos de predicción con modelos recurrentes**\n",
        "\n",
        "### Javier Rebull\n",
        "### A01795838\n"
      ],
      "metadata": {
        "id": "PGFd_MEwXGpR"
      }
    },
    {
      "cell_type": "markdown",
      "source": [
        "# Objetivo:\n",
        "##### El desarrollo de esta actividad contribuye al cumplimiento de los objetivos del tema de Aprendizaje Profundo, modelos Secuenciales o Recurrentes y Series de Tiempo.\n"
      ],
      "metadata": {
        "id": "WPF5x85mhKPm"
      }
    },
    {
      "cell_type": "markdown",
      "source": [
        "# **Introducción**\n",
        "\n",
        "En esta actividad, hemos seleccionado las acciones de **Apple Inc. (AAPL)** para nuestro análisis de series de tiempo y predicción utilizando modelos recurrentes. Elegimos Apple porque es una de las empresas más valiosas y reconocidas a nivel mundial. Fundada en 1976, Apple ha revolucionado la industria tecnológica con productos innovadores como el iPhone, iPad y MacBook, y ha mantenido una trayectoria de crecimiento sostenido en su valor de mercado.\n",
        "\n",
        "## **Valoración actual y proyecciones futuras**\n",
        "\n",
        "A octubre de 2023, Apple continúa siendo una de las compañías con mayor capitalización bursátil en el mundo, superando los **2 billones de dólares**. Su sólida posición financiera y su capacidad para innovar constantemente la han posicionado como líder en el sector tecnológico. Con el creciente enfoque en servicios como Apple Music, Apple TV+ y la expansión en áreas como inteligencia artificial y realidad aumentada, los analistas proyectan que Apple seguirá experimentando un crecimiento significativo en el futuro. Estas proyecciones positivas hacen que sus acciones sean de gran interés para inversores y analistas financieros.\n",
        "\n",
        "## **Obtención de datos y variables utilizadas**\n",
        "\n",
        "Para llevar a cabo nuestro análisis, descargamos los datos históricos del precio de las acciones de Apple utilizando la biblioteca `yfinance`, que nos permite acceder fácilmente a información financiera desde Yahoo Finance. Nos enfocamos en los datos de los últimos cinco años para obtener una perspectiva actual y relevante del comportamiento de las acciones.\n",
        "\n",
        "## En este estudio, utilizamos dos variables clave:\n",
        "\n",
        "1. **Fecha (`Date` o `ds`):** Representa la fecha correspondiente a cada registro del precio de la acción. Esta variable es esencial para el análisis de series de tiempo, ya que nos permite ordenar cronológicamente los datos y detectar tendencias, patrones estacionales y ciclos en el comportamiento de la acción.\n",
        "\n",
        "2. **Precio de Cierre Ajustado (`Adj Close` o `y`):** Este valor refleja el precio de cierre de la acción ajustado por eventos corporativos como dividendos, divisiones de acciones (splits) o emisiones de derechos. El **Precio de Cierre Ajustado** proporciona una visión más precisa del rendimiento histórico de la acción, ya que incorpora los ajustes necesarios para reflejar el valor real que un inversor habría obtenido si hubiera mantenido la acción durante ese período. Al utilizar esta variable, eliminamos distorsiones causadas por eventos corporativos y nos enfocamos en las variaciones genuinas del mercado.\n",
        "\n",
        "Al analizar estas variables, buscamos construir modelos predictivos que nos permitan comprender y anticipar el comportamiento futuro de las acciones de Apple, aprovechando técnicas de aprendizaje automático y análisis de series de tiempo.\n",
        "\n",
        "---"
      ],
      "metadata": {
        "id": "8sjOWOtwCuni"
      }
    },
    {
      "cell_type": "markdown",
      "source": [
        "# **0 - Preparando los datos**"
      ],
      "metadata": {
        "id": "aQ7eae1kIHDh"
      }
    },
    {
      "cell_type": "code",
      "source": [
        "# Omitamos los Warnings por el momento:\n",
        "import warnings\n",
        "warnings.filterwarnings(\"ignore\")"
      ],
      "metadata": {
        "id": "FVfKKUOGuUaI"
      },
      "execution_count": 12,
      "outputs": []
    },
    {
      "cell_type": "code",
      "source": [
        "#!pip freeze   # Si deseas verificar qué librerías y versiones ya tiene google-Colab preinstaladas,\n",
        "               # en particular \"prophet\" que usaremos en este ejercicio."
      ],
      "metadata": {
        "id": "P2FBEthV-cna"
      },
      "execution_count": 13,
      "outputs": []
    },
    {
      "cell_type": "code",
      "execution_count": 14,
      "metadata": {
        "id": "1JLlOM-c5bhx"
      },
      "outputs": [],
      "source": [
        "# Manipulación y Análisis de Datos\n",
        "import numpy as np     # Librería para cálculos numéricos y científicos en Python, especialmente útil para trabajar con arreglos y matrices.\n",
        "import pandas as pd    # Librería para manipulación y análisis de datos, permite trabajar con estructuras como DataFrames para organizar y limpiar datos.\n",
        "\n",
        "# Visualización de Datos\n",
        "import matplotlib.pyplot as plt    # Módulo de visualización que permite generar gráficos de líneas, dispersión, barras, etc., para interpretar los datos.\n",
        "\n",
        "# Evaluación de Modelos\n",
        "from sklearn.metrics import mean_squared_error    # Métrica para evaluar modelos de regresión, calcula el error cuadrático medio entre valores reales y predicciones.\n",
        "import math    # Módulo estándar de matemáticas, proporciona funciones básicas como sqrt, sin, cos, etc., para cálculos aritméticos complementarios.\n",
        "\n",
        "# Modelado de Series Temporales\n",
        "from prophet import Prophet    # Librería de Facebook para modelado de series temporales con tendencia y estacionalidad, simplifica la predicción de series temporales.\n",
        "\n",
        "# Gráficos y Análisis de Series Temporales con Statsmodels\n",
        "from statsmodels.graphics.tsaplots import month_plot, quarter_plot    # Funciones para visualizar patrones estacionales mensuales y trimestrales en datos temporales.\n",
        "from statsmodels.tsa.seasonal import seasonal_decompose    # Descompone series temporales en tendencia, estacionalidad y residuales para entender patrones subyacentes.\n",
        "from statsmodels.graphics.tsaplots import plot_acf, plot_pacf   # Gráficos de autocorrelación (ACF) y autocorrelación parcial (PACF) para analizar la dependencia en diferentes rezagos.\n",
        "\n",
        "# Obtención de Datos Financieros\n",
        "import yfinance as yf    # Biblioteca para descargar datos financieros históricos (acciones, divisas, etc.) desde Yahoo Finance, útil para análisis financiero.\n",
        "\n",
        "#Trabajar Dias Feriados de USA\n",
        "from pandas.tseries.holiday import USFederalHolidayCalendar\n",
        "from pandas.tseries.offsets import CustomBusinessDay"
      ]
    },
    {
      "cell_type": "markdown",
      "source": [
        "# **Obteniendo información de Yahoo Finance**"
      ],
      "metadata": {
        "id": "SmOwkZdxAfs8"
      }
    },
    {
      "cell_type": "code",
      "source": [
        "ticker_symbol = 'AAPL'   # selecciona las iniciales de la compañía deseada.\n",
        "data = yf.download(ticker_symbol, period='5y')   # Se indica el período y descargamos.\n",
        "data.to_csv('historical_data.csv')   # Guardamos los datos"
      ],
      "metadata": {
        "colab": {
          "base_uri": "https://localhost:8080/"
        },
        "id": "swabZBFLjL9l",
        "outputId": "9bd13237-a4e2-43d2-8e5d-99d47f2f7bb1"
      },
      "execution_count": 16,
      "outputs": [
        {
          "output_type": "stream",
          "name": "stderr",
          "text": [
            "\r[*********************100%***********************]  1 of 1 completed\n"
          ]
        }
      ]
    },
    {
      "cell_type": "code",
      "source": [
        "path = 'historical_data.csv'\n",
        "df = pd.read_csv(path, header=0)\n",
        "df.head()"
      ],
      "metadata": {
        "id": "2MsyxVVo7n54",
        "colab": {
          "base_uri": "https://localhost:8080/",
          "height": 221
        },
        "outputId": "4d5db596-7d34-4e7c-95dc-d2f6f06b9450"
      },
      "execution_count": 17,
      "outputs": [
        {
          "output_type": "execute_result",
          "data": {
            "text/plain": [
              "                       Price          Adj Close              Close  \\\n",
              "0                     Ticker               AAPL               AAPL   \n",
              "1                       Date                NaN                NaN   \n",
              "2  2019-11-11 00:00:00+00:00  63.54957962036133  65.55000305175781   \n",
              "3  2019-11-12 00:00:00+00:00  63.49140548706055  65.48999786376953   \n",
              "4  2019-11-13 00:00:00+00:00   64.0997543334961  66.11750030517578   \n",
              "\n",
              "                High                Low               Open     Volume  \n",
              "0               AAPL               AAPL               AAPL       AAPL  \n",
              "1                NaN                NaN                NaN        NaN  \n",
              "2  65.61750030517578  64.56999969482422  64.57499694824219   81821200  \n",
              "3  65.69750213623047   65.2300033569336  65.38749694824219   87388800  \n",
              "4  66.19499969482422  65.26750183105469  65.28250122070312  102734400  "
            ],
            "text/html": [
              "\n",
              "  <div id=\"df-85bbef74-9868-42f8-a3cd-0d1f1eaa1e9e\" class=\"colab-df-container\">\n",
              "    <div>\n",
              "<style scoped>\n",
              "    .dataframe tbody tr th:only-of-type {\n",
              "        vertical-align: middle;\n",
              "    }\n",
              "\n",
              "    .dataframe tbody tr th {\n",
              "        vertical-align: top;\n",
              "    }\n",
              "\n",
              "    .dataframe thead th {\n",
              "        text-align: right;\n",
              "    }\n",
              "</style>\n",
              "<table border=\"1\" class=\"dataframe\">\n",
              "  <thead>\n",
              "    <tr style=\"text-align: right;\">\n",
              "      <th></th>\n",
              "      <th>Price</th>\n",
              "      <th>Adj Close</th>\n",
              "      <th>Close</th>\n",
              "      <th>High</th>\n",
              "      <th>Low</th>\n",
              "      <th>Open</th>\n",
              "      <th>Volume</th>\n",
              "    </tr>\n",
              "  </thead>\n",
              "  <tbody>\n",
              "    <tr>\n",
              "      <th>0</th>\n",
              "      <td>Ticker</td>\n",
              "      <td>AAPL</td>\n",
              "      <td>AAPL</td>\n",
              "      <td>AAPL</td>\n",
              "      <td>AAPL</td>\n",
              "      <td>AAPL</td>\n",
              "      <td>AAPL</td>\n",
              "    </tr>\n",
              "    <tr>\n",
              "      <th>1</th>\n",
              "      <td>Date</td>\n",
              "      <td>NaN</td>\n",
              "      <td>NaN</td>\n",
              "      <td>NaN</td>\n",
              "      <td>NaN</td>\n",
              "      <td>NaN</td>\n",
              "      <td>NaN</td>\n",
              "    </tr>\n",
              "    <tr>\n",
              "      <th>2</th>\n",
              "      <td>2019-11-11 00:00:00+00:00</td>\n",
              "      <td>63.54957962036133</td>\n",
              "      <td>65.55000305175781</td>\n",
              "      <td>65.61750030517578</td>\n",
              "      <td>64.56999969482422</td>\n",
              "      <td>64.57499694824219</td>\n",
              "      <td>81821200</td>\n",
              "    </tr>\n",
              "    <tr>\n",
              "      <th>3</th>\n",
              "      <td>2019-11-12 00:00:00+00:00</td>\n",
              "      <td>63.49140548706055</td>\n",
              "      <td>65.48999786376953</td>\n",
              "      <td>65.69750213623047</td>\n",
              "      <td>65.2300033569336</td>\n",
              "      <td>65.38749694824219</td>\n",
              "      <td>87388800</td>\n",
              "    </tr>\n",
              "    <tr>\n",
              "      <th>4</th>\n",
              "      <td>2019-11-13 00:00:00+00:00</td>\n",
              "      <td>64.0997543334961</td>\n",
              "      <td>66.11750030517578</td>\n",
              "      <td>66.19499969482422</td>\n",
              "      <td>65.26750183105469</td>\n",
              "      <td>65.28250122070312</td>\n",
              "      <td>102734400</td>\n",
              "    </tr>\n",
              "  </tbody>\n",
              "</table>\n",
              "</div>\n",
              "    <div class=\"colab-df-buttons\">\n",
              "\n",
              "  <div class=\"colab-df-container\">\n",
              "    <button class=\"colab-df-convert\" onclick=\"convertToInteractive('df-85bbef74-9868-42f8-a3cd-0d1f1eaa1e9e')\"\n",
              "            title=\"Convert this dataframe to an interactive table.\"\n",
              "            style=\"display:none;\">\n",
              "\n",
              "  <svg xmlns=\"http://www.w3.org/2000/svg\" height=\"24px\" viewBox=\"0 -960 960 960\">\n",
              "    <path d=\"M120-120v-720h720v720H120Zm60-500h600v-160H180v160Zm220 220h160v-160H400v160Zm0 220h160v-160H400v160ZM180-400h160v-160H180v160Zm440 0h160v-160H620v160ZM180-180h160v-160H180v160Zm440 0h160v-160H620v160Z\"/>\n",
              "  </svg>\n",
              "    </button>\n",
              "\n",
              "  <style>\n",
              "    .colab-df-container {\n",
              "      display:flex;\n",
              "      gap: 12px;\n",
              "    }\n",
              "\n",
              "    .colab-df-convert {\n",
              "      background-color: #E8F0FE;\n",
              "      border: none;\n",
              "      border-radius: 50%;\n",
              "      cursor: pointer;\n",
              "      display: none;\n",
              "      fill: #1967D2;\n",
              "      height: 32px;\n",
              "      padding: 0 0 0 0;\n",
              "      width: 32px;\n",
              "    }\n",
              "\n",
              "    .colab-df-convert:hover {\n",
              "      background-color: #E2EBFA;\n",
              "      box-shadow: 0px 1px 2px rgba(60, 64, 67, 0.3), 0px 1px 3px 1px rgba(60, 64, 67, 0.15);\n",
              "      fill: #174EA6;\n",
              "    }\n",
              "\n",
              "    .colab-df-buttons div {\n",
              "      margin-bottom: 4px;\n",
              "    }\n",
              "\n",
              "    [theme=dark] .colab-df-convert {\n",
              "      background-color: #3B4455;\n",
              "      fill: #D2E3FC;\n",
              "    }\n",
              "\n",
              "    [theme=dark] .colab-df-convert:hover {\n",
              "      background-color: #434B5C;\n",
              "      box-shadow: 0px 1px 3px 1px rgba(0, 0, 0, 0.15);\n",
              "      filter: drop-shadow(0px 1px 2px rgba(0, 0, 0, 0.3));\n",
              "      fill: #FFFFFF;\n",
              "    }\n",
              "  </style>\n",
              "\n",
              "    <script>\n",
              "      const buttonEl =\n",
              "        document.querySelector('#df-85bbef74-9868-42f8-a3cd-0d1f1eaa1e9e button.colab-df-convert');\n",
              "      buttonEl.style.display =\n",
              "        google.colab.kernel.accessAllowed ? 'block' : 'none';\n",
              "\n",
              "      async function convertToInteractive(key) {\n",
              "        const element = document.querySelector('#df-85bbef74-9868-42f8-a3cd-0d1f1eaa1e9e');\n",
              "        const dataTable =\n",
              "          await google.colab.kernel.invokeFunction('convertToInteractive',\n",
              "                                                    [key], {});\n",
              "        if (!dataTable) return;\n",
              "\n",
              "        const docLinkHtml = 'Like what you see? Visit the ' +\n",
              "          '<a target=\"_blank\" href=https://colab.research.google.com/notebooks/data_table.ipynb>data table notebook</a>'\n",
              "          + ' to learn more about interactive tables.';\n",
              "        element.innerHTML = '';\n",
              "        dataTable['output_type'] = 'display_data';\n",
              "        await google.colab.output.renderOutput(dataTable, element);\n",
              "        const docLink = document.createElement('div');\n",
              "        docLink.innerHTML = docLinkHtml;\n",
              "        element.appendChild(docLink);\n",
              "      }\n",
              "    </script>\n",
              "  </div>\n",
              "\n",
              "\n",
              "<div id=\"df-8b395c02-25a9-4fe4-9950-57b6427f3cd2\">\n",
              "  <button class=\"colab-df-quickchart\" onclick=\"quickchart('df-8b395c02-25a9-4fe4-9950-57b6427f3cd2')\"\n",
              "            title=\"Suggest charts\"\n",
              "            style=\"display:none;\">\n",
              "\n",
              "<svg xmlns=\"http://www.w3.org/2000/svg\" height=\"24px\"viewBox=\"0 0 24 24\"\n",
              "     width=\"24px\">\n",
              "    <g>\n",
              "        <path d=\"M19 3H5c-1.1 0-2 .9-2 2v14c0 1.1.9 2 2 2h14c1.1 0 2-.9 2-2V5c0-1.1-.9-2-2-2zM9 17H7v-7h2v7zm4 0h-2V7h2v10zm4 0h-2v-4h2v4z\"/>\n",
              "    </g>\n",
              "</svg>\n",
              "  </button>\n",
              "\n",
              "<style>\n",
              "  .colab-df-quickchart {\n",
              "      --bg-color: #E8F0FE;\n",
              "      --fill-color: #1967D2;\n",
              "      --hover-bg-color: #E2EBFA;\n",
              "      --hover-fill-color: #174EA6;\n",
              "      --disabled-fill-color: #AAA;\n",
              "      --disabled-bg-color: #DDD;\n",
              "  }\n",
              "\n",
              "  [theme=dark] .colab-df-quickchart {\n",
              "      --bg-color: #3B4455;\n",
              "      --fill-color: #D2E3FC;\n",
              "      --hover-bg-color: #434B5C;\n",
              "      --hover-fill-color: #FFFFFF;\n",
              "      --disabled-bg-color: #3B4455;\n",
              "      --disabled-fill-color: #666;\n",
              "  }\n",
              "\n",
              "  .colab-df-quickchart {\n",
              "    background-color: var(--bg-color);\n",
              "    border: none;\n",
              "    border-radius: 50%;\n",
              "    cursor: pointer;\n",
              "    display: none;\n",
              "    fill: var(--fill-color);\n",
              "    height: 32px;\n",
              "    padding: 0;\n",
              "    width: 32px;\n",
              "  }\n",
              "\n",
              "  .colab-df-quickchart:hover {\n",
              "    background-color: var(--hover-bg-color);\n",
              "    box-shadow: 0 1px 2px rgba(60, 64, 67, 0.3), 0 1px 3px 1px rgba(60, 64, 67, 0.15);\n",
              "    fill: var(--button-hover-fill-color);\n",
              "  }\n",
              "\n",
              "  .colab-df-quickchart-complete:disabled,\n",
              "  .colab-df-quickchart-complete:disabled:hover {\n",
              "    background-color: var(--disabled-bg-color);\n",
              "    fill: var(--disabled-fill-color);\n",
              "    box-shadow: none;\n",
              "  }\n",
              "\n",
              "  .colab-df-spinner {\n",
              "    border: 2px solid var(--fill-color);\n",
              "    border-color: transparent;\n",
              "    border-bottom-color: var(--fill-color);\n",
              "    animation:\n",
              "      spin 1s steps(1) infinite;\n",
              "  }\n",
              "\n",
              "  @keyframes spin {\n",
              "    0% {\n",
              "      border-color: transparent;\n",
              "      border-bottom-color: var(--fill-color);\n",
              "      border-left-color: var(--fill-color);\n",
              "    }\n",
              "    20% {\n",
              "      border-color: transparent;\n",
              "      border-left-color: var(--fill-color);\n",
              "      border-top-color: var(--fill-color);\n",
              "    }\n",
              "    30% {\n",
              "      border-color: transparent;\n",
              "      border-left-color: var(--fill-color);\n",
              "      border-top-color: var(--fill-color);\n",
              "      border-right-color: var(--fill-color);\n",
              "    }\n",
              "    40% {\n",
              "      border-color: transparent;\n",
              "      border-right-color: var(--fill-color);\n",
              "      border-top-color: var(--fill-color);\n",
              "    }\n",
              "    60% {\n",
              "      border-color: transparent;\n",
              "      border-right-color: var(--fill-color);\n",
              "    }\n",
              "    80% {\n",
              "      border-color: transparent;\n",
              "      border-right-color: var(--fill-color);\n",
              "      border-bottom-color: var(--fill-color);\n",
              "    }\n",
              "    90% {\n",
              "      border-color: transparent;\n",
              "      border-bottom-color: var(--fill-color);\n",
              "    }\n",
              "  }\n",
              "</style>\n",
              "\n",
              "  <script>\n",
              "    async function quickchart(key) {\n",
              "      const quickchartButtonEl =\n",
              "        document.querySelector('#' + key + ' button');\n",
              "      quickchartButtonEl.disabled = true;  // To prevent multiple clicks.\n",
              "      quickchartButtonEl.classList.add('colab-df-spinner');\n",
              "      try {\n",
              "        const charts = await google.colab.kernel.invokeFunction(\n",
              "            'suggestCharts', [key], {});\n",
              "      } catch (error) {\n",
              "        console.error('Error during call to suggestCharts:', error);\n",
              "      }\n",
              "      quickchartButtonEl.classList.remove('colab-df-spinner');\n",
              "      quickchartButtonEl.classList.add('colab-df-quickchart-complete');\n",
              "    }\n",
              "    (() => {\n",
              "      let quickchartButtonEl =\n",
              "        document.querySelector('#df-8b395c02-25a9-4fe4-9950-57b6427f3cd2 button');\n",
              "      quickchartButtonEl.style.display =\n",
              "        google.colab.kernel.accessAllowed ? 'block' : 'none';\n",
              "    })();\n",
              "  </script>\n",
              "</div>\n",
              "\n",
              "    </div>\n",
              "  </div>\n"
            ],
            "application/vnd.google.colaboratory.intrinsic+json": {
              "type": "dataframe",
              "variable_name": "df",
              "summary": "{\n  \"name\": \"df\",\n  \"rows\": 1260,\n  \"fields\": [\n    {\n      \"column\": \"Price\",\n      \"properties\": {\n        \"dtype\": \"string\",\n        \"num_unique_values\": 1260,\n        \"samples\": [\n          \"2020-02-28 00:00:00+00:00\",\n          \"2023-12-06 00:00:00+00:00\",\n          \"2020-01-10 00:00:00+00:00\"\n        ],\n        \"semantic_type\": \"\",\n        \"description\": \"\"\n      }\n    },\n    {\n      \"column\": \"Adj Close\",\n      \"properties\": {\n        \"dtype\": \"string\",\n        \"num_unique_values\": 1245,\n        \"samples\": [\n          \"147.64981079101562\",\n          \"143.79132080078125\",\n          \"182.08116149902344\"\n        ],\n        \"semantic_type\": \"\",\n        \"description\": \"\"\n      }\n    },\n    {\n      \"column\": \"Close\",\n      \"properties\": {\n        \"dtype\": \"string\",\n        \"num_unique_values\": 1198,\n        \"samples\": [\n          \"229.0399932861328\",\n          \"187.67999267578125\",\n          \"65.61750030517578\"\n        ],\n        \"semantic_type\": \"\",\n        \"description\": \"\"\n      }\n    },\n    {\n      \"column\": \"High\",\n      \"properties\": {\n        \"dtype\": \"string\",\n        \"num_unique_values\": 1198,\n        \"samples\": [\n          \"229.75\",\n          \"189.5399932861328\",\n          \"67.92500305175781\"\n        ],\n        \"semantic_type\": \"\",\n        \"description\": \"\"\n      }\n    },\n    {\n      \"column\": \"Low\",\n      \"properties\": {\n        \"dtype\": \"string\",\n        \"num_unique_values\": 1210,\n        \"samples\": [\n          \"62.345001220703125\",\n          \"145.83999633789062\",\n          \"134.39999389648438\"\n        ],\n        \"semantic_type\": \"\",\n        \"description\": \"\"\n      }\n    },\n    {\n      \"column\": \"Open\",\n      \"properties\": {\n        \"dtype\": \"string\",\n        \"num_unique_values\": 1193,\n        \"samples\": [\n          \"177.5\",\n          \"166.00999450683594\",\n          \"150.22999572753906\"\n        ],\n        \"semantic_type\": \"\",\n        \"description\": \"\"\n      }\n    },\n    {\n      \"column\": \"Volume\",\n      \"properties\": {\n        \"dtype\": \"string\",\n        \"num_unique_values\": 1257,\n        \"samples\": [\n          \"64786600\",\n          \"201820400\",\n          \"146537600\"\n        ],\n        \"semantic_type\": \"\",\n        \"description\": \"\"\n      }\n    }\n  ]\n}"
            }
          },
          "metadata": {},
          "execution_count": 17
        }
      ]
    },
    {
      "cell_type": "code",
      "source": [
        "df.info()   # La columna que nos interesa Adj Close y Date"
      ],
      "metadata": {
        "colab": {
          "base_uri": "https://localhost:8080/"
        },
        "id": "cN4ZgvsP_1hi",
        "outputId": "b0ee9b35-4ce1-4f3b-bbb4-2ad9ebc45814"
      },
      "execution_count": 18,
      "outputs": [
        {
          "output_type": "stream",
          "name": "stdout",
          "text": [
            "<class 'pandas.core.frame.DataFrame'>\n",
            "RangeIndex: 1260 entries, 0 to 1259\n",
            "Data columns (total 7 columns):\n",
            " #   Column     Non-Null Count  Dtype \n",
            "---  ------     --------------  ----- \n",
            " 0   Price      1260 non-null   object\n",
            " 1   Adj Close  1259 non-null   object\n",
            " 2   Close      1259 non-null   object\n",
            " 3   High       1259 non-null   object\n",
            " 4   Low        1259 non-null   object\n",
            " 5   Open       1259 non-null   object\n",
            " 6   Volume     1259 non-null   object\n",
            "dtypes: object(7)\n",
            "memory usage: 69.0+ KB\n"
          ]
        }
      ]
    },
    {
      "cell_type": "code",
      "source": [
        "print(df.columns) #Obteniendo las columnas del DataFrame"
      ],
      "metadata": {
        "colab": {
          "base_uri": "https://localhost:8080/"
        },
        "id": "6JhbOPPZEWPI",
        "outputId": "33157b75-4ac3-4563-89d1-183a883210dc"
      },
      "execution_count": 7,
      "outputs": [
        {
          "output_type": "stream",
          "name": "stdout",
          "text": [
            "Index(['Price', 'Adj Close', 'Close', 'High', 'Low', 'Open', 'Volume'], dtype='object')\n"
          ]
        }
      ]
    },
    {
      "cell_type": "code",
      "source": [
        "# Reseteamos el índice para obtener 'Date' como columna\n",
        "data = data.reset_index()\n",
        "\n",
        "# Seleccionamos las columnas 'Date' y 'Adj Close'\n",
        "df = data[['Date', 'Adj Close']]\n",
        "\n",
        "print(df.columns) #Obteniendo las columnas del DataFrame Nuevamente"
      ],
      "metadata": {
        "colab": {
          "base_uri": "https://localhost:8080/"
        },
        "id": "7Bj_zGyQEhOF",
        "outputId": "068f449a-8a5f-4e86-eb49-6a78ebdb7cee"
      },
      "execution_count": 19,
      "outputs": [
        {
          "output_type": "stream",
          "name": "stdout",
          "text": [
            "MultiIndex([(     'Date',     ''),\n",
            "            ('Adj Close', 'AAPL')],\n",
            "           names=['Price', 'Ticker'])\n"
          ]
        }
      ]
    },
    {
      "cell_type": "code",
      "source": [
        "# Renombremos de manera estándar las columnas de fechas y valores de la\n",
        "# serie de tiempo, donde además la fecha la trasnformamos a tipo datetime:\n",
        "\n",
        "df.columns = ['ds', 'y']\n",
        "df['ds']= pd.to_datetime(df['ds'])\n",
        "\n",
        "df.head()"
      ],
      "metadata": {
        "id": "GHe-4KW48CEo",
        "colab": {
          "base_uri": "https://localhost:8080/",
          "height": 221
        },
        "outputId": "11bd1289-2cd7-4da0-e1b8-57127ee26147"
      },
      "execution_count": 20,
      "outputs": [
        {
          "output_type": "execute_result",
          "data": {
            "text/plain": [
              "                         ds          y\n",
              "0 2019-11-11 00:00:00+00:00  63.549580\n",
              "1 2019-11-12 00:00:00+00:00  63.491405\n",
              "2 2019-11-13 00:00:00+00:00  64.099754\n",
              "3 2019-11-14 00:00:00+00:00  63.656231\n",
              "4 2019-11-15 00:00:00+00:00  64.412407"
            ],
            "text/html": [
              "\n",
              "  <div id=\"df-317ae483-a52d-4a6b-8070-40515243ae22\" class=\"colab-df-container\">\n",
              "    <div>\n",
              "<style scoped>\n",
              "    .dataframe tbody tr th:only-of-type {\n",
              "        vertical-align: middle;\n",
              "    }\n",
              "\n",
              "    .dataframe tbody tr th {\n",
              "        vertical-align: top;\n",
              "    }\n",
              "\n",
              "    .dataframe thead th {\n",
              "        text-align: right;\n",
              "    }\n",
              "</style>\n",
              "<table border=\"1\" class=\"dataframe\">\n",
              "  <thead>\n",
              "    <tr style=\"text-align: right;\">\n",
              "      <th></th>\n",
              "      <th>ds</th>\n",
              "      <th>y</th>\n",
              "    </tr>\n",
              "  </thead>\n",
              "  <tbody>\n",
              "    <tr>\n",
              "      <th>0</th>\n",
              "      <td>2019-11-11 00:00:00+00:00</td>\n",
              "      <td>63.549580</td>\n",
              "    </tr>\n",
              "    <tr>\n",
              "      <th>1</th>\n",
              "      <td>2019-11-12 00:00:00+00:00</td>\n",
              "      <td>63.491405</td>\n",
              "    </tr>\n",
              "    <tr>\n",
              "      <th>2</th>\n",
              "      <td>2019-11-13 00:00:00+00:00</td>\n",
              "      <td>64.099754</td>\n",
              "    </tr>\n",
              "    <tr>\n",
              "      <th>3</th>\n",
              "      <td>2019-11-14 00:00:00+00:00</td>\n",
              "      <td>63.656231</td>\n",
              "    </tr>\n",
              "    <tr>\n",
              "      <th>4</th>\n",
              "      <td>2019-11-15 00:00:00+00:00</td>\n",
              "      <td>64.412407</td>\n",
              "    </tr>\n",
              "  </tbody>\n",
              "</table>\n",
              "</div>\n",
              "    <div class=\"colab-df-buttons\">\n",
              "\n",
              "  <div class=\"colab-df-container\">\n",
              "    <button class=\"colab-df-convert\" onclick=\"convertToInteractive('df-317ae483-a52d-4a6b-8070-40515243ae22')\"\n",
              "            title=\"Convert this dataframe to an interactive table.\"\n",
              "            style=\"display:none;\">\n",
              "\n",
              "  <svg xmlns=\"http://www.w3.org/2000/svg\" height=\"24px\" viewBox=\"0 -960 960 960\">\n",
              "    <path d=\"M120-120v-720h720v720H120Zm60-500h600v-160H180v160Zm220 220h160v-160H400v160Zm0 220h160v-160H400v160ZM180-400h160v-160H180v160Zm440 0h160v-160H620v160ZM180-180h160v-160H180v160Zm440 0h160v-160H620v160Z\"/>\n",
              "  </svg>\n",
              "    </button>\n",
              "\n",
              "  <style>\n",
              "    .colab-df-container {\n",
              "      display:flex;\n",
              "      gap: 12px;\n",
              "    }\n",
              "\n",
              "    .colab-df-convert {\n",
              "      background-color: #E8F0FE;\n",
              "      border: none;\n",
              "      border-radius: 50%;\n",
              "      cursor: pointer;\n",
              "      display: none;\n",
              "      fill: #1967D2;\n",
              "      height: 32px;\n",
              "      padding: 0 0 0 0;\n",
              "      width: 32px;\n",
              "    }\n",
              "\n",
              "    .colab-df-convert:hover {\n",
              "      background-color: #E2EBFA;\n",
              "      box-shadow: 0px 1px 2px rgba(60, 64, 67, 0.3), 0px 1px 3px 1px rgba(60, 64, 67, 0.15);\n",
              "      fill: #174EA6;\n",
              "    }\n",
              "\n",
              "    .colab-df-buttons div {\n",
              "      margin-bottom: 4px;\n",
              "    }\n",
              "\n",
              "    [theme=dark] .colab-df-convert {\n",
              "      background-color: #3B4455;\n",
              "      fill: #D2E3FC;\n",
              "    }\n",
              "\n",
              "    [theme=dark] .colab-df-convert:hover {\n",
              "      background-color: #434B5C;\n",
              "      box-shadow: 0px 1px 3px 1px rgba(0, 0, 0, 0.15);\n",
              "      filter: drop-shadow(0px 1px 2px rgba(0, 0, 0, 0.3));\n",
              "      fill: #FFFFFF;\n",
              "    }\n",
              "  </style>\n",
              "\n",
              "    <script>\n",
              "      const buttonEl =\n",
              "        document.querySelector('#df-317ae483-a52d-4a6b-8070-40515243ae22 button.colab-df-convert');\n",
              "      buttonEl.style.display =\n",
              "        google.colab.kernel.accessAllowed ? 'block' : 'none';\n",
              "\n",
              "      async function convertToInteractive(key) {\n",
              "        const element = document.querySelector('#df-317ae483-a52d-4a6b-8070-40515243ae22');\n",
              "        const dataTable =\n",
              "          await google.colab.kernel.invokeFunction('convertToInteractive',\n",
              "                                                    [key], {});\n",
              "        if (!dataTable) return;\n",
              "\n",
              "        const docLinkHtml = 'Like what you see? Visit the ' +\n",
              "          '<a target=\"_blank\" href=https://colab.research.google.com/notebooks/data_table.ipynb>data table notebook</a>'\n",
              "          + ' to learn more about interactive tables.';\n",
              "        element.innerHTML = '';\n",
              "        dataTable['output_type'] = 'display_data';\n",
              "        await google.colab.output.renderOutput(dataTable, element);\n",
              "        const docLink = document.createElement('div');\n",
              "        docLink.innerHTML = docLinkHtml;\n",
              "        element.appendChild(docLink);\n",
              "      }\n",
              "    </script>\n",
              "  </div>\n",
              "\n",
              "\n",
              "<div id=\"df-dc541bfc-d23c-430e-add2-7da104a586ee\">\n",
              "  <button class=\"colab-df-quickchart\" onclick=\"quickchart('df-dc541bfc-d23c-430e-add2-7da104a586ee')\"\n",
              "            title=\"Suggest charts\"\n",
              "            style=\"display:none;\">\n",
              "\n",
              "<svg xmlns=\"http://www.w3.org/2000/svg\" height=\"24px\"viewBox=\"0 0 24 24\"\n",
              "     width=\"24px\">\n",
              "    <g>\n",
              "        <path d=\"M19 3H5c-1.1 0-2 .9-2 2v14c0 1.1.9 2 2 2h14c1.1 0 2-.9 2-2V5c0-1.1-.9-2-2-2zM9 17H7v-7h2v7zm4 0h-2V7h2v10zm4 0h-2v-4h2v4z\"/>\n",
              "    </g>\n",
              "</svg>\n",
              "  </button>\n",
              "\n",
              "<style>\n",
              "  .colab-df-quickchart {\n",
              "      --bg-color: #E8F0FE;\n",
              "      --fill-color: #1967D2;\n",
              "      --hover-bg-color: #E2EBFA;\n",
              "      --hover-fill-color: #174EA6;\n",
              "      --disabled-fill-color: #AAA;\n",
              "      --disabled-bg-color: #DDD;\n",
              "  }\n",
              "\n",
              "  [theme=dark] .colab-df-quickchart {\n",
              "      --bg-color: #3B4455;\n",
              "      --fill-color: #D2E3FC;\n",
              "      --hover-bg-color: #434B5C;\n",
              "      --hover-fill-color: #FFFFFF;\n",
              "      --disabled-bg-color: #3B4455;\n",
              "      --disabled-fill-color: #666;\n",
              "  }\n",
              "\n",
              "  .colab-df-quickchart {\n",
              "    background-color: var(--bg-color);\n",
              "    border: none;\n",
              "    border-radius: 50%;\n",
              "    cursor: pointer;\n",
              "    display: none;\n",
              "    fill: var(--fill-color);\n",
              "    height: 32px;\n",
              "    padding: 0;\n",
              "    width: 32px;\n",
              "  }\n",
              "\n",
              "  .colab-df-quickchart:hover {\n",
              "    background-color: var(--hover-bg-color);\n",
              "    box-shadow: 0 1px 2px rgba(60, 64, 67, 0.3), 0 1px 3px 1px rgba(60, 64, 67, 0.15);\n",
              "    fill: var(--button-hover-fill-color);\n",
              "  }\n",
              "\n",
              "  .colab-df-quickchart-complete:disabled,\n",
              "  .colab-df-quickchart-complete:disabled:hover {\n",
              "    background-color: var(--disabled-bg-color);\n",
              "    fill: var(--disabled-fill-color);\n",
              "    box-shadow: none;\n",
              "  }\n",
              "\n",
              "  .colab-df-spinner {\n",
              "    border: 2px solid var(--fill-color);\n",
              "    border-color: transparent;\n",
              "    border-bottom-color: var(--fill-color);\n",
              "    animation:\n",
              "      spin 1s steps(1) infinite;\n",
              "  }\n",
              "\n",
              "  @keyframes spin {\n",
              "    0% {\n",
              "      border-color: transparent;\n",
              "      border-bottom-color: var(--fill-color);\n",
              "      border-left-color: var(--fill-color);\n",
              "    }\n",
              "    20% {\n",
              "      border-color: transparent;\n",
              "      border-left-color: var(--fill-color);\n",
              "      border-top-color: var(--fill-color);\n",
              "    }\n",
              "    30% {\n",
              "      border-color: transparent;\n",
              "      border-left-color: var(--fill-color);\n",
              "      border-top-color: var(--fill-color);\n",
              "      border-right-color: var(--fill-color);\n",
              "    }\n",
              "    40% {\n",
              "      border-color: transparent;\n",
              "      border-right-color: var(--fill-color);\n",
              "      border-top-color: var(--fill-color);\n",
              "    }\n",
              "    60% {\n",
              "      border-color: transparent;\n",
              "      border-right-color: var(--fill-color);\n",
              "    }\n",
              "    80% {\n",
              "      border-color: transparent;\n",
              "      border-right-color: var(--fill-color);\n",
              "      border-bottom-color: var(--fill-color);\n",
              "    }\n",
              "    90% {\n",
              "      border-color: transparent;\n",
              "      border-bottom-color: var(--fill-color);\n",
              "    }\n",
              "  }\n",
              "</style>\n",
              "\n",
              "  <script>\n",
              "    async function quickchart(key) {\n",
              "      const quickchartButtonEl =\n",
              "        document.querySelector('#' + key + ' button');\n",
              "      quickchartButtonEl.disabled = true;  // To prevent multiple clicks.\n",
              "      quickchartButtonEl.classList.add('colab-df-spinner');\n",
              "      try {\n",
              "        const charts = await google.colab.kernel.invokeFunction(\n",
              "            'suggestCharts', [key], {});\n",
              "      } catch (error) {\n",
              "        console.error('Error during call to suggestCharts:', error);\n",
              "      }\n",
              "      quickchartButtonEl.classList.remove('colab-df-spinner');\n",
              "      quickchartButtonEl.classList.add('colab-df-quickchart-complete');\n",
              "    }\n",
              "    (() => {\n",
              "      let quickchartButtonEl =\n",
              "        document.querySelector('#df-dc541bfc-d23c-430e-add2-7da104a586ee button');\n",
              "      quickchartButtonEl.style.display =\n",
              "        google.colab.kernel.accessAllowed ? 'block' : 'none';\n",
              "    })();\n",
              "  </script>\n",
              "</div>\n",
              "\n",
              "    </div>\n",
              "  </div>\n"
            ],
            "application/vnd.google.colaboratory.intrinsic+json": {
              "type": "dataframe",
              "variable_name": "df",
              "summary": "{\n  \"name\": \"df\",\n  \"rows\": 1258,\n  \"fields\": [\n    {\n      \"column\": \"ds\",\n      \"properties\": {\n        \"dtype\": \"date\",\n        \"min\": \"2019-11-11 00:00:00+00:00\",\n        \"max\": \"2024-11-08 00:00:00+00:00\",\n        \"num_unique_values\": 1258,\n        \"samples\": [\n          \"2022-02-02 00:00:00+00:00\",\n          \"2020-04-07 00:00:00+00:00\",\n          \"2020-01-27 00:00:00+00:00\"\n        ],\n        \"semantic_type\": \"\",\n        \"description\": \"\"\n      }\n    },\n    {\n      \"column\": \"y\",\n      \"properties\": {\n        \"dtype\": \"number\",\n        \"std\": 41.65138259321903,\n        \"min\": 54.5097541809082,\n        \"max\": 236.22010803222656,\n        \"num_unique_values\": 1244,\n        \"samples\": [\n          128.577880859375,\n          212.7693634033203,\n          155.23904418945312\n        ],\n        \"semantic_type\": \"\",\n        \"description\": \"\"\n      }\n    }\n  ]\n}"
            }
          },
          "metadata": {},
          "execution_count": 20
        }
      ]
    },
    {
      "cell_type": "code",
      "source": [
        "df.columns = ['ds', 'y'] # Dejando Ahora solo dos columnas: 'Date (ds)' y 'Adj Close (y)'."
      ],
      "metadata": {
        "id": "8zCax14IFbym"
      },
      "execution_count": 21,
      "outputs": []
    },
    {
      "cell_type": "code",
      "source": [
        "df['ds'] = pd.to_datetime(df['ds']).dt.tz_localize(None) #Convertir la columna 'ds' a datetime y eliminar la zona horaria:"
      ],
      "metadata": {
        "id": "A32ACc41FntW"
      },
      "execution_count": 23,
      "outputs": []
    },
    {
      "cell_type": "code",
      "source": [
        "df.info()"
      ],
      "metadata": {
        "colab": {
          "base_uri": "https://localhost:8080/"
        },
        "id": "NPfzZoVIAM9E",
        "outputId": "6b4b6cb3-f15d-44ce-aa49-d15695eeeaae"
      },
      "execution_count": null,
      "outputs": [
        {
          "output_type": "stream",
          "name": "stdout",
          "text": [
            "<class 'pandas.core.frame.DataFrame'>\n",
            "RangeIndex: 1258 entries, 0 to 1257\n",
            "Data columns (total 2 columns):\n",
            " #   Column  Non-Null Count  Dtype              \n",
            "---  ------  --------------  -----              \n",
            " 0   ds      1258 non-null   datetime64[ns, UTC]\n",
            " 1   y       1258 non-null   float64            \n",
            "dtypes: datetime64[ns, UTC](1), float64(1)\n",
            "memory usage: 19.8 KB\n"
          ]
        }
      ]
    },
    {
      "cell_type": "code",
      "source": [
        "# Mostrar los primeros registros del DataFrame\n",
        "print(df.head())"
      ],
      "metadata": {
        "colab": {
          "base_uri": "https://localhost:8080/"
        },
        "id": "6ptGfVhAFwFS",
        "outputId": "e363915b-5215-4667-cefd-73525c6b2e8c"
      },
      "execution_count": 24,
      "outputs": [
        {
          "output_type": "stream",
          "name": "stdout",
          "text": [
            "          ds          y\n",
            "0 2019-11-11  63.549580\n",
            "1 2019-11-12  63.491405\n",
            "2 2019-11-13  64.099754\n",
            "3 2019-11-14  63.656231\n",
            "4 2019-11-15  64.412407\n"
          ]
        }
      ]
    },
    {
      "cell_type": "code",
      "source": [
        "# Mostrar los últimos registros del DataFrame\n",
        "print(df.tail(20))"
      ],
      "metadata": {
        "colab": {
          "base_uri": "https://localhost:8080/"
        },
        "id": "Jp258lngu5qu",
        "outputId": "e8c7ba0c-6df2-4d2e-df3f-2bd94ecb38bc"
      },
      "execution_count": 26,
      "outputs": [
        {
          "output_type": "stream",
          "name": "stdout",
          "text": [
            "             ds           y\n",
            "1238 2024-10-14  231.045807\n",
            "1239 2024-10-15  233.593002\n",
            "1240 2024-10-16  231.525269\n",
            "1241 2024-10-17  231.894867\n",
            "1242 2024-10-18  234.741730\n",
            "1243 2024-10-21  236.220108\n",
            "1244 2024-10-22  235.600800\n",
            "1245 2024-10-23  230.506393\n",
            "1246 2024-10-24  230.316620\n",
            "1247 2024-10-25  231.155685\n",
            "1248 2024-10-28  233.143494\n",
            "1249 2024-10-29  233.413193\n",
            "1250 2024-10-30  229.847122\n",
            "1251 2024-10-31  225.661728\n",
            "1252 2024-11-01  222.665024\n",
            "1253 2024-11-04  221.766006\n",
            "1254 2024-11-05  223.204422\n",
            "1255 2024-11-06  222.475235\n",
            "1256 2024-11-07  227.229996\n",
            "1257 2024-11-08  226.960007\n"
          ]
        }
      ]
    },
    {
      "cell_type": "markdown",
      "source": [
        "En particular datetime64[ns] nos ayuda a representar un rango de fechas muy amplio (del año 1678 al 2262) con precisión de nanosegundos."
      ],
      "metadata": {
        "id": "2hXgMIbMAs2u"
      }
    },
    {
      "cell_type": "markdown",
      "source": [
        "### **Agreguemos los ajustes usuales en Series de tiempo:**"
      ],
      "metadata": {
        "id": "4CvveIF0N22j"
      }
    },
    {
      "cell_type": "code",
      "source": [
        "# Hagamos una copia del DataFrame df con índices temporales:\n",
        "df_temp = df.copy()  # Crea una copia del DataFrame original 'df' y la asigna a 'df_temp'\n",
        "df_temp.set_index('ds', inplace=True)  # Establece la columna 'ds' como índice del DataFrame 'df_temp'\n",
        "df_temp  # Muestra el DataFrame 'df_temp' con el índice 'ds' establecido"
      ],
      "metadata": {
        "colab": {
          "base_uri": "https://localhost:8080/",
          "height": 464
        },
        "id": "fIEF8-B_N81E",
        "outputId": "f2300c9d-c5cb-4cf2-b1b2-7181928a01d2"
      },
      "execution_count": 27,
      "outputs": [
        {
          "output_type": "execute_result",
          "data": {
            "text/plain": [
              "                     y\n",
              "ds                    \n",
              "2019-11-11   63.549580\n",
              "2019-11-12   63.491405\n",
              "2019-11-13   64.099754\n",
              "2019-11-14   63.656231\n",
              "2019-11-15   64.412407\n",
              "...                ...\n",
              "2024-11-04  221.766006\n",
              "2024-11-05  223.204422\n",
              "2024-11-06  222.475235\n",
              "2024-11-07  227.229996\n",
              "2024-11-08  226.960007\n",
              "\n",
              "[1258 rows x 1 columns]"
            ],
            "text/html": [
              "\n",
              "  <div id=\"df-b38a78cf-39d1-43e3-8678-64d99e98572e\" class=\"colab-df-container\">\n",
              "    <div>\n",
              "<style scoped>\n",
              "    .dataframe tbody tr th:only-of-type {\n",
              "        vertical-align: middle;\n",
              "    }\n",
              "\n",
              "    .dataframe tbody tr th {\n",
              "        vertical-align: top;\n",
              "    }\n",
              "\n",
              "    .dataframe thead th {\n",
              "        text-align: right;\n",
              "    }\n",
              "</style>\n",
              "<table border=\"1\" class=\"dataframe\">\n",
              "  <thead>\n",
              "    <tr style=\"text-align: right;\">\n",
              "      <th></th>\n",
              "      <th>y</th>\n",
              "    </tr>\n",
              "    <tr>\n",
              "      <th>ds</th>\n",
              "      <th></th>\n",
              "    </tr>\n",
              "  </thead>\n",
              "  <tbody>\n",
              "    <tr>\n",
              "      <th>2019-11-11</th>\n",
              "      <td>63.549580</td>\n",
              "    </tr>\n",
              "    <tr>\n",
              "      <th>2019-11-12</th>\n",
              "      <td>63.491405</td>\n",
              "    </tr>\n",
              "    <tr>\n",
              "      <th>2019-11-13</th>\n",
              "      <td>64.099754</td>\n",
              "    </tr>\n",
              "    <tr>\n",
              "      <th>2019-11-14</th>\n",
              "      <td>63.656231</td>\n",
              "    </tr>\n",
              "    <tr>\n",
              "      <th>2019-11-15</th>\n",
              "      <td>64.412407</td>\n",
              "    </tr>\n",
              "    <tr>\n",
              "      <th>...</th>\n",
              "      <td>...</td>\n",
              "    </tr>\n",
              "    <tr>\n",
              "      <th>2024-11-04</th>\n",
              "      <td>221.766006</td>\n",
              "    </tr>\n",
              "    <tr>\n",
              "      <th>2024-11-05</th>\n",
              "      <td>223.204422</td>\n",
              "    </tr>\n",
              "    <tr>\n",
              "      <th>2024-11-06</th>\n",
              "      <td>222.475235</td>\n",
              "    </tr>\n",
              "    <tr>\n",
              "      <th>2024-11-07</th>\n",
              "      <td>227.229996</td>\n",
              "    </tr>\n",
              "    <tr>\n",
              "      <th>2024-11-08</th>\n",
              "      <td>226.960007</td>\n",
              "    </tr>\n",
              "  </tbody>\n",
              "</table>\n",
              "<p>1258 rows × 1 columns</p>\n",
              "</div>\n",
              "    <div class=\"colab-df-buttons\">\n",
              "\n",
              "  <div class=\"colab-df-container\">\n",
              "    <button class=\"colab-df-convert\" onclick=\"convertToInteractive('df-b38a78cf-39d1-43e3-8678-64d99e98572e')\"\n",
              "            title=\"Convert this dataframe to an interactive table.\"\n",
              "            style=\"display:none;\">\n",
              "\n",
              "  <svg xmlns=\"http://www.w3.org/2000/svg\" height=\"24px\" viewBox=\"0 -960 960 960\">\n",
              "    <path d=\"M120-120v-720h720v720H120Zm60-500h600v-160H180v160Zm220 220h160v-160H400v160Zm0 220h160v-160H400v160ZM180-400h160v-160H180v160Zm440 0h160v-160H620v160ZM180-180h160v-160H180v160Zm440 0h160v-160H620v160Z\"/>\n",
              "  </svg>\n",
              "    </button>\n",
              "\n",
              "  <style>\n",
              "    .colab-df-container {\n",
              "      display:flex;\n",
              "      gap: 12px;\n",
              "    }\n",
              "\n",
              "    .colab-df-convert {\n",
              "      background-color: #E8F0FE;\n",
              "      border: none;\n",
              "      border-radius: 50%;\n",
              "      cursor: pointer;\n",
              "      display: none;\n",
              "      fill: #1967D2;\n",
              "      height: 32px;\n",
              "      padding: 0 0 0 0;\n",
              "      width: 32px;\n",
              "    }\n",
              "\n",
              "    .colab-df-convert:hover {\n",
              "      background-color: #E2EBFA;\n",
              "      box-shadow: 0px 1px 2px rgba(60, 64, 67, 0.3), 0px 1px 3px 1px rgba(60, 64, 67, 0.15);\n",
              "      fill: #174EA6;\n",
              "    }\n",
              "\n",
              "    .colab-df-buttons div {\n",
              "      margin-bottom: 4px;\n",
              "    }\n",
              "\n",
              "    [theme=dark] .colab-df-convert {\n",
              "      background-color: #3B4455;\n",
              "      fill: #D2E3FC;\n",
              "    }\n",
              "\n",
              "    [theme=dark] .colab-df-convert:hover {\n",
              "      background-color: #434B5C;\n",
              "      box-shadow: 0px 1px 3px 1px rgba(0, 0, 0, 0.15);\n",
              "      filter: drop-shadow(0px 1px 2px rgba(0, 0, 0, 0.3));\n",
              "      fill: #FFFFFF;\n",
              "    }\n",
              "  </style>\n",
              "\n",
              "    <script>\n",
              "      const buttonEl =\n",
              "        document.querySelector('#df-b38a78cf-39d1-43e3-8678-64d99e98572e button.colab-df-convert');\n",
              "      buttonEl.style.display =\n",
              "        google.colab.kernel.accessAllowed ? 'block' : 'none';\n",
              "\n",
              "      async function convertToInteractive(key) {\n",
              "        const element = document.querySelector('#df-b38a78cf-39d1-43e3-8678-64d99e98572e');\n",
              "        const dataTable =\n",
              "          await google.colab.kernel.invokeFunction('convertToInteractive',\n",
              "                                                    [key], {});\n",
              "        if (!dataTable) return;\n",
              "\n",
              "        const docLinkHtml = 'Like what you see? Visit the ' +\n",
              "          '<a target=\"_blank\" href=https://colab.research.google.com/notebooks/data_table.ipynb>data table notebook</a>'\n",
              "          + ' to learn more about interactive tables.';\n",
              "        element.innerHTML = '';\n",
              "        dataTable['output_type'] = 'display_data';\n",
              "        await google.colab.output.renderOutput(dataTable, element);\n",
              "        const docLink = document.createElement('div');\n",
              "        docLink.innerHTML = docLinkHtml;\n",
              "        element.appendChild(docLink);\n",
              "      }\n",
              "    </script>\n",
              "  </div>\n",
              "\n",
              "\n",
              "<div id=\"df-615a857c-6788-403c-a989-c18298a520a9\">\n",
              "  <button class=\"colab-df-quickchart\" onclick=\"quickchart('df-615a857c-6788-403c-a989-c18298a520a9')\"\n",
              "            title=\"Suggest charts\"\n",
              "            style=\"display:none;\">\n",
              "\n",
              "<svg xmlns=\"http://www.w3.org/2000/svg\" height=\"24px\"viewBox=\"0 0 24 24\"\n",
              "     width=\"24px\">\n",
              "    <g>\n",
              "        <path d=\"M19 3H5c-1.1 0-2 .9-2 2v14c0 1.1.9 2 2 2h14c1.1 0 2-.9 2-2V5c0-1.1-.9-2-2-2zM9 17H7v-7h2v7zm4 0h-2V7h2v10zm4 0h-2v-4h2v4z\"/>\n",
              "    </g>\n",
              "</svg>\n",
              "  </button>\n",
              "\n",
              "<style>\n",
              "  .colab-df-quickchart {\n",
              "      --bg-color: #E8F0FE;\n",
              "      --fill-color: #1967D2;\n",
              "      --hover-bg-color: #E2EBFA;\n",
              "      --hover-fill-color: #174EA6;\n",
              "      --disabled-fill-color: #AAA;\n",
              "      --disabled-bg-color: #DDD;\n",
              "  }\n",
              "\n",
              "  [theme=dark] .colab-df-quickchart {\n",
              "      --bg-color: #3B4455;\n",
              "      --fill-color: #D2E3FC;\n",
              "      --hover-bg-color: #434B5C;\n",
              "      --hover-fill-color: #FFFFFF;\n",
              "      --disabled-bg-color: #3B4455;\n",
              "      --disabled-fill-color: #666;\n",
              "  }\n",
              "\n",
              "  .colab-df-quickchart {\n",
              "    background-color: var(--bg-color);\n",
              "    border: none;\n",
              "    border-radius: 50%;\n",
              "    cursor: pointer;\n",
              "    display: none;\n",
              "    fill: var(--fill-color);\n",
              "    height: 32px;\n",
              "    padding: 0;\n",
              "    width: 32px;\n",
              "  }\n",
              "\n",
              "  .colab-df-quickchart:hover {\n",
              "    background-color: var(--hover-bg-color);\n",
              "    box-shadow: 0 1px 2px rgba(60, 64, 67, 0.3), 0 1px 3px 1px rgba(60, 64, 67, 0.15);\n",
              "    fill: var(--button-hover-fill-color);\n",
              "  }\n",
              "\n",
              "  .colab-df-quickchart-complete:disabled,\n",
              "  .colab-df-quickchart-complete:disabled:hover {\n",
              "    background-color: var(--disabled-bg-color);\n",
              "    fill: var(--disabled-fill-color);\n",
              "    box-shadow: none;\n",
              "  }\n",
              "\n",
              "  .colab-df-spinner {\n",
              "    border: 2px solid var(--fill-color);\n",
              "    border-color: transparent;\n",
              "    border-bottom-color: var(--fill-color);\n",
              "    animation:\n",
              "      spin 1s steps(1) infinite;\n",
              "  }\n",
              "\n",
              "  @keyframes spin {\n",
              "    0% {\n",
              "      border-color: transparent;\n",
              "      border-bottom-color: var(--fill-color);\n",
              "      border-left-color: var(--fill-color);\n",
              "    }\n",
              "    20% {\n",
              "      border-color: transparent;\n",
              "      border-left-color: var(--fill-color);\n",
              "      border-top-color: var(--fill-color);\n",
              "    }\n",
              "    30% {\n",
              "      border-color: transparent;\n",
              "      border-left-color: var(--fill-color);\n",
              "      border-top-color: var(--fill-color);\n",
              "      border-right-color: var(--fill-color);\n",
              "    }\n",
              "    40% {\n",
              "      border-color: transparent;\n",
              "      border-right-color: var(--fill-color);\n",
              "      border-top-color: var(--fill-color);\n",
              "    }\n",
              "    60% {\n",
              "      border-color: transparent;\n",
              "      border-right-color: var(--fill-color);\n",
              "    }\n",
              "    80% {\n",
              "      border-color: transparent;\n",
              "      border-right-color: var(--fill-color);\n",
              "      border-bottom-color: var(--fill-color);\n",
              "    }\n",
              "    90% {\n",
              "      border-color: transparent;\n",
              "      border-bottom-color: var(--fill-color);\n",
              "    }\n",
              "  }\n",
              "</style>\n",
              "\n",
              "  <script>\n",
              "    async function quickchart(key) {\n",
              "      const quickchartButtonEl =\n",
              "        document.querySelector('#' + key + ' button');\n",
              "      quickchartButtonEl.disabled = true;  // To prevent multiple clicks.\n",
              "      quickchartButtonEl.classList.add('colab-df-spinner');\n",
              "      try {\n",
              "        const charts = await google.colab.kernel.invokeFunction(\n",
              "            'suggestCharts', [key], {});\n",
              "      } catch (error) {\n",
              "        console.error('Error during call to suggestCharts:', error);\n",
              "      }\n",
              "      quickchartButtonEl.classList.remove('colab-df-spinner');\n",
              "      quickchartButtonEl.classList.add('colab-df-quickchart-complete');\n",
              "    }\n",
              "    (() => {\n",
              "      let quickchartButtonEl =\n",
              "        document.querySelector('#df-615a857c-6788-403c-a989-c18298a520a9 button');\n",
              "      quickchartButtonEl.style.display =\n",
              "        google.colab.kernel.accessAllowed ? 'block' : 'none';\n",
              "    })();\n",
              "  </script>\n",
              "</div>\n",
              "\n",
              "  <div id=\"id_b0108d80-2400-4e00-aeb5-9e1b988ec4ba\">\n",
              "    <style>\n",
              "      .colab-df-generate {\n",
              "        background-color: #E8F0FE;\n",
              "        border: none;\n",
              "        border-radius: 50%;\n",
              "        cursor: pointer;\n",
              "        display: none;\n",
              "        fill: #1967D2;\n",
              "        height: 32px;\n",
              "        padding: 0 0 0 0;\n",
              "        width: 32px;\n",
              "      }\n",
              "\n",
              "      .colab-df-generate:hover {\n",
              "        background-color: #E2EBFA;\n",
              "        box-shadow: 0px 1px 2px rgba(60, 64, 67, 0.3), 0px 1px 3px 1px rgba(60, 64, 67, 0.15);\n",
              "        fill: #174EA6;\n",
              "      }\n",
              "\n",
              "      [theme=dark] .colab-df-generate {\n",
              "        background-color: #3B4455;\n",
              "        fill: #D2E3FC;\n",
              "      }\n",
              "\n",
              "      [theme=dark] .colab-df-generate:hover {\n",
              "        background-color: #434B5C;\n",
              "        box-shadow: 0px 1px 3px 1px rgba(0, 0, 0, 0.15);\n",
              "        filter: drop-shadow(0px 1px 2px rgba(0, 0, 0, 0.3));\n",
              "        fill: #FFFFFF;\n",
              "      }\n",
              "    </style>\n",
              "    <button class=\"colab-df-generate\" onclick=\"generateWithVariable('df_temp')\"\n",
              "            title=\"Generate code using this dataframe.\"\n",
              "            style=\"display:none;\">\n",
              "\n",
              "  <svg xmlns=\"http://www.w3.org/2000/svg\" height=\"24px\"viewBox=\"0 0 24 24\"\n",
              "       width=\"24px\">\n",
              "    <path d=\"M7,19H8.4L18.45,9,17,7.55,7,17.6ZM5,21V16.75L18.45,3.32a2,2,0,0,1,2.83,0l1.4,1.43a1.91,1.91,0,0,1,.58,1.4,1.91,1.91,0,0,1-.58,1.4L9.25,21ZM18.45,9,17,7.55Zm-12,3A5.31,5.31,0,0,0,4.9,8.1,5.31,5.31,0,0,0,1,6.5,5.31,5.31,0,0,0,4.9,4.9,5.31,5.31,0,0,0,6.5,1,5.31,5.31,0,0,0,8.1,4.9,5.31,5.31,0,0,0,12,6.5,5.46,5.46,0,0,0,6.5,12Z\"/>\n",
              "  </svg>\n",
              "    </button>\n",
              "    <script>\n",
              "      (() => {\n",
              "      const buttonEl =\n",
              "        document.querySelector('#id_b0108d80-2400-4e00-aeb5-9e1b988ec4ba button.colab-df-generate');\n",
              "      buttonEl.style.display =\n",
              "        google.colab.kernel.accessAllowed ? 'block' : 'none';\n",
              "\n",
              "      buttonEl.onclick = () => {\n",
              "        google.colab.notebook.generateWithVariable('df_temp');\n",
              "      }\n",
              "      })();\n",
              "    </script>\n",
              "  </div>\n",
              "\n",
              "    </div>\n",
              "  </div>\n"
            ],
            "application/vnd.google.colaboratory.intrinsic+json": {
              "type": "dataframe",
              "variable_name": "df_temp",
              "summary": "{\n  \"name\": \"df_temp\",\n  \"rows\": 1258,\n  \"fields\": [\n    {\n      \"column\": \"ds\",\n      \"properties\": {\n        \"dtype\": \"date\",\n        \"min\": \"2019-11-11 00:00:00\",\n        \"max\": \"2024-11-08 00:00:00\",\n        \"num_unique_values\": 1258,\n        \"samples\": [\n          \"2022-02-02 00:00:00\",\n          \"2020-04-07 00:00:00\",\n          \"2020-01-27 00:00:00\"\n        ],\n        \"semantic_type\": \"\",\n        \"description\": \"\"\n      }\n    },\n    {\n      \"column\": \"y\",\n      \"properties\": {\n        \"dtype\": \"number\",\n        \"std\": 41.65138259321903,\n        \"min\": 54.5097541809082,\n        \"max\": 236.22010803222656,\n        \"num_unique_values\": 1244,\n        \"samples\": [\n          128.577880859375,\n          212.7693634033203,\n          155.23904418945312\n        ],\n        \"semantic_type\": \"\",\n        \"description\": \"\"\n      }\n    }\n  ]\n}"
            }
          },
          "metadata": {},
          "execution_count": 27
        }
      ]
    },
    {
      "cell_type": "code",
      "source": [
        "# Imprime la forma (número de filas y columnas) del DataFrame original\n",
        "print(f\"Shape of original DataFrame df: {df.shape}\")\n",
        "\n",
        "# Imprime la forma (número de filas y columnas) del DataFrame ajustado con días hábiles en EE.UU.\n",
        "print(f\"Shape of DataFrame df_temp (business days in the US): {df_temp.shape}\")"
      ],
      "metadata": {
        "colab": {
          "base_uri": "https://localhost:8080/"
        },
        "id": "l0AuAN87O1l4",
        "outputId": "02a23f69-321a-49cd-ad8d-3a414425a330"
      },
      "execution_count": 30,
      "outputs": [
        {
          "output_type": "stream",
          "name": "stdout",
          "text": [
            "Shape of original DataFrame df: (1258, 2)\n",
            "Shape of DataFrame df_temp (business days in the US): (1258, 1)\n"
          ]
        }
      ]
    },
    {
      "cell_type": "markdown",
      "source": [
        "https://pandas.pydata.org/docs/reference/api/pandas.DatetimeIndex.html"
      ],
      "metadata": {
        "id": "l4eKSwonP3bx"
      }
    },
    {
      "cell_type": "code",
      "source": [
        "# Ajustemos la frecuencia de los índices, para que el modelo tenga información del período en que\n",
        "# se encuentran los datos:\n",
        "\n",
        "df_temp.index  # Observamos que aquí todavía no se tiene información del argumento \"freq\""
      ],
      "metadata": {
        "colab": {
          "base_uri": "https://localhost:8080/"
        },
        "id": "wZ2gl3REPHNn",
        "outputId": "a3e3eb1d-fa80-4b77-f2fd-d6f7f5413cbe"
      },
      "execution_count": 31,
      "outputs": [
        {
          "output_type": "execute_result",
          "data": {
            "text/plain": [
              "DatetimeIndex(['2019-11-11', '2019-11-12', '2019-11-13', '2019-11-14',\n",
              "               '2019-11-15', '2019-11-18', '2019-11-19', '2019-11-20',\n",
              "               '2019-11-21', '2019-11-22',\n",
              "               ...\n",
              "               '2024-10-28', '2024-10-29', '2024-10-30', '2024-10-31',\n",
              "               '2024-11-01', '2024-11-04', '2024-11-05', '2024-11-06',\n",
              "               '2024-11-07', '2024-11-08'],\n",
              "              dtype='datetime64[ns]', name='ds', length=1258, freq=None)"
            ]
          },
          "metadata": {},
          "execution_count": 31
        }
      ]
    },
    {
      "cell_type": "markdown",
      "source": [
        "Para las opciones de \"freq\" ver la tabla que viene en esta liga:\n",
        "\n",
        "https://pandas.pydata.org/pandas-docs/stable/user_guide/timeseries.html#offset-aliases"
      ],
      "metadata": {
        "id": "SxsQ-GAeQylZ"
      }
    },
    {
      "cell_type": "code",
      "source": [
        "# Crear un calendario de días hábiles que excluya los días festivos de EE.UU.\n",
        "us_business_days = CustomBusinessDay(calendar=USFederalHolidayCalendar())\n",
        "\n",
        "# Cambiar la frecuencia del índice a días hábiles según el calendario de EE.UU.\n",
        "df_temp = df_temp.asfreq(us_business_days, method='pad')  # 'pad' llena valores faltantes con el dato anterior\n",
        "\n",
        "# Asegúrate de que el índice de df_temp esté configurado como un índice de fechas de días hábiles en EE.UU.\n",
        "df_temp.index = pd.to_datetime(df_temp.index)  # Convertimos el índice en fechas si no lo está ya\n",
        "\n",
        "df_temp.index"
      ],
      "metadata": {
        "id": "2B9gXjFUHUR1",
        "colab": {
          "base_uri": "https://localhost:8080/"
        },
        "outputId": "f27a2f1f-e061-4026-877b-20e4130223ab"
      },
      "execution_count": 33,
      "outputs": [
        {
          "output_type": "execute_result",
          "data": {
            "text/plain": [
              "DatetimeIndex(['2019-11-12', '2019-11-13', '2019-11-14', '2019-11-15',\n",
              "               '2019-11-18', '2019-11-19', '2019-11-20', '2019-11-21',\n",
              "               '2019-11-22', '2019-11-25',\n",
              "               ...\n",
              "               '2024-10-28', '2024-10-29', '2024-10-30', '2024-10-31',\n",
              "               '2024-11-01', '2024-11-04', '2024-11-05', '2024-11-06',\n",
              "               '2024-11-07', '2024-11-08'],\n",
              "              dtype='datetime64[ns]', name='ds', length=1251, freq='C')"
            ]
          },
          "metadata": {},
          "execution_count": 33
        }
      ]
    },
    {
      "cell_type": "markdown",
      "source": [
        "En este caso observamos que, freq='C' indica que el índice está usando una frecuencia de “CustomBusinessDay” (día hábil personalizado). Esto ocurre porque utilizamos CustomBusinessDay con un calendario específico de días hábiles (en este caso, los días laborables en EE.UU. que excluyen los festivos federales y fines de semana).\n",
        "\n",
        "Esta frecuencia personalizada significa que:\n",
        "\n",
        "\t•\tSolo se incluyen los días considerados hábiles según el calendario USFederalHolidayCalendar.\n",
        "\t•\tSe excluyen fines de semana y festivos federales de EE.UU.\n",
        "\n",
        "Así, freq='C' confirma que el índice de df_temp se ha ajustado a días hábiles de EE.UU."
      ],
      "metadata": {
        "id": "a230dCX15pVE"
      }
    },
    {
      "cell_type": "code",
      "source": [
        "# Verificar y mostrar la frecuencia del índice de df_temp\n",
        "print(\"Frecuencia del índice en df_temp (días hábiles en EE.UU., excluyendo festivos):\", df_temp.index.freq)"
      ],
      "metadata": {
        "colab": {
          "base_uri": "https://localhost:8080/"
        },
        "id": "yn-ODCVEPUw8",
        "outputId": "28b0406a-f6c0-4380-b37c-3c68f0d8e725"
      },
      "execution_count": 35,
      "outputs": [
        {
          "output_type": "stream",
          "name": "stdout",
          "text": [
            "Frecuencia del índice en df_temp (días hábiles en EE.UU., excluyendo festivos): <CustomBusinessDay>\n"
          ]
        }
      ]
    },
    {
      "cell_type": "code",
      "source": [
        "# Particionemos en conjuntos de entrenamiento y prueba, considerando aproximadamente un año de días hábiles en EE.UU.\n",
        "\n",
        "# Seleccionamos todas las filas excepto las últimas 252 para el conjunto de entrenamiento.\n",
        "train = df_temp.iloc[0:-252, :]\n",
        "\n",
        "# Seleccionamos las últimas 252 filas para el conjunto de prueba, que representan aproximadamente un año laboral.\n",
        "test = df_temp.iloc[-252:, :]"
      ],
      "metadata": {
        "id": "gIGzd7s3BMe5"
      },
      "execution_count": 38,
      "outputs": []
    },
    {
      "cell_type": "code",
      "source": [
        "# Mostrar las dimensiones del conjunto de datos de entrenamiento\n",
        "print(f\"Dimensiones del conjunto de entrenamiento (train): {train.shape[0]} filas y {train.shape[1]} columnas\")"
      ],
      "metadata": {
        "colab": {
          "base_uri": "https://localhost:8080/"
        },
        "id": "Mf4pMFvpFTR8",
        "outputId": "1f17ae26-60f7-4c9f-bd25-fe978558ee5e"
      },
      "execution_count": 40,
      "outputs": [
        {
          "output_type": "stream",
          "name": "stdout",
          "text": [
            "Dimensiones del conjunto de entrenamiento (train): 999 filas y 1 columnas\n"
          ]
        }
      ]
    },
    {
      "cell_type": "code",
      "source": [
        "# Gráfico del precio de cierre ajustado de las acciones de Apple en el conjunto de entrenamiento\n",
        "plt.figure(figsize=(10, 6))  # Ajustar el tamaño de la figura\n",
        "train['y'].plot(title='Precio de cierre ajustado de Apple (AAPL)', color='#1f77b4', linewidth=2)  # Azul elegante\n",
        "\n",
        "# Etiquetas y formato\n",
        "plt.xlabel('Fecha')  # Etiqueta del eje X\n",
        "plt.ylabel('Precio de cierre ajustado')  # Etiqueta del eje Y\n",
        "plt.grid(True, linestyle='--', alpha=0.5)  # Añadir una cuadrícula ligera para mejorar la legibilidad\n",
        "plt.show()"
      ],
      "metadata": {
        "colab": {
          "base_uri": "https://localhost:8080/",
          "height": 558
        },
        "id": "v1CJt0BRUvQ6",
        "outputId": "23a3aa69-8d54-426e-b67b-58d396276dd6"
      },
      "execution_count": 42,
      "outputs": [
        {
          "output_type": "display_data",
          "data": {
            "text/plain": [
              "<Figure size 1000x600 with 1 Axes>"
            ],
            "image/png": "[encoded data removed]"
          },
          "metadata": {}
        }
      ]
    },
    {
      "cell_type": "markdown",
      "source": [
        "De este gráfico podemos observar:\n",
        "\n",
        "Observando el gráfico de los precios de cierre ajustados de Apple (AAPL), podemos hacer las siguientes observaciones:\n",
        "\n",
        "\n",
        "\n",
        "*   Tendencia creciente: Existe una tendencia alcista en los precios de cierre ajustados de Apple durante el período observado. Esto indica que, en general, el valor de las acciones de Apple ha aumentado con el tiempo.\n",
        "*   Estacionalidad y variabilidad: Aunque no es tan evidente como en algunos otros tipos de datos, parece haber cierta variabilidad estacional, con patrones repetitivos en los picos y caídas anuales. Sin embargo, la amplitud de esta variabilidad parece aumentar con el tiempo.\n",
        "*   Modelo adecuado: Un modelo multiplicativo podría ser más adecuado que uno aditivo para analizar esta serie temporal. Esto se debe a que la amplitud de la variabilidad aumenta junto con el valor de la tendencia, es decir, las oscilaciones parecen hacerse más grandes a medida que el precio sube.\n",
        "\n",
        "Estas observaciones sugieren que, al modelar esta serie temporal, sería útil considerar la tendencia creciente y el posible aumento en la variabilidad estacional en cualquier predicción futura.\n",
        "\n"
      ],
      "metadata": {
        "id": "MtFVcjfFDYhe"
      }
    },
    {
      "cell_type": "markdown",
      "source": [
        "# **Explicación de la Variable Adj Close**\n",
        "\n",
        "La variable Adj Close o y representa el precio de cierre ajustado de las acciones de Apple (AAPL), que es el valor final de la acción al final de cada día hábil en el mercado. A diferencia del precio de cierre simple, el “ajustado” toma en cuenta eventos corporativos como dividendos, divisiones de acciones y otras acciones que afectan el valor, proporcionando una visión más precisa y consistente de la evolución del valor real de la acción para los inversores a largo plazo.\n",
        "\n",
        "##**Importancia de Adj Close en el Análisis**\n",
        "\n",
        "Esta variable es crucial en el análisis de series temporales para la predicción de precios de acciones y otras aplicaciones en finanzas, porque:\n",
        "\n",
        "\n",
        "\n",
        "*   Refleja el verdadero valor de mercado: Al estar ajustado por eventos corporativos, elimina distorsiones y facilita una comparación precisa en el tiempo.\n",
        "*   Permite identificar tendencias y patrones: Como se observa en el gráfico, la serie temporal de Adj Close muestra una tendencia creciente, lo que indica un interés y confianza del mercado en el crecimiento de Apple.\n",
        "*   Aporta información para estrategias de inversión: Analizar esta variable ayuda a prever posibles fluctuaciones y a tomar decisiones de inversión más informadas.\n",
        "\n",
        "##**Observaciones en el Contexto de Apple**\n",
        "\n",
        "En el contexto de Apple, el precio de cierre ajustado nos muestra cómo el valor de la empresa ha evolucionado en el mercado a través de los años, evidenciando tendencias de crecimiento o caídas en respuesta a innovaciones, cambios en el mercado o movimientos estratégicos de la empresa. La tendencia creciente y el aumento de la variabilidad observada en el gráfico sugieren que esta acción es dinámica y responde activamente tanto a factores internos de la empresa como a influencias externas del mercado.\n",
        "\n",
        "Esta variable, por tanto, no solo es el núcleo del análisis de series temporales en esta tarea, sino que es fundamental para comprender el comportamiento del mercado en relación con Apple y proyectar su posible evolución en el futuro."
      ],
      "metadata": {
        "id": "gF8MihM09rMz"
      }
    },
    {
      "cell_type": "markdown",
      "source": [
        "# **1 - Modelo ingenuo (Baseline / Persistance / Naive model)**"
      ],
      "metadata": {
        "id": "W2Suo0VPaAu5"
      }
    },
    {
      "cell_type": "markdown",
      "source": [
        "*   El modelo ingenuo simplemente hace la predicción del siguiente perídodo, repitiendo el valor del último período.\n",
        "\n",
        "*   Este modelo se utiliza en general como punto de partida para comparar todos los demás,\n",
        "\n",
        "*   Utilicemos el error RMSE (Raíz del Error Cuadrático Medio) como medida del desempeño de nuestros modelos a obtener."
      ],
      "metadata": {
        "id": "GoQObb3SnCxq"
      }
    },
    {
      "cell_type": "markdown",
      "source": [
        "# **Parte 1: Datos sin escalar**\n",
        "\n",
        "## 1A: Preparación de los datos"
      ],
      "metadata": {
        "id": "S_oM3jghnnuE"
      }
    },
    {
      "cell_type": "code",
      "source": [
        "# Omitimos los warnings por el momento\n",
        "import warnings\n",
        "warnings.filterwarnings(\"ignore\")\n",
        "\n",
        "# Importamos las librerías necesarias\n",
        "import numpy as np\n",
        "import pandas as pd\n",
        "import matplotlib.pyplot as plt\n",
        "\n",
        "# Importamos las métricas y modelos\n",
        "from sklearn.metrics import mean_squared_error\n",
        "from prophet import Prophet\n",
        "from statsmodels.tsa.arima.model import ARIMA\n",
        "import tensorflow as tf\n",
        "from tensorflow.keras.models import Sequential\n",
        "from tensorflow.keras.layers import LSTM, Dense, Dropout\n",
        "\n",
        "# Si no tienes yfinance instalado, descomenta la siguiente línea\n",
        "# !pip install yfinance\n",
        "\n",
        "import yfinance as yf\n",
        "\n",
        "# Descargamos los datos de Apple Inc. (AAPL) de los últimos 5 años\n",
        "ticker_symbol = 'AAPL'\n",
        "data = yf.download(ticker_symbol, period='5y')\n",
        "\n",
        "# Utilizamos solo la columna 'Adj Close'\n",
        "df = data[['Adj Close']].reset_index()\n",
        "\n",
        "# Renombramos las columnas para facilitar el manejo\n",
        "df.columns = ['ds', 'y']\n",
        "\n",
        "# Convertimos la columna 'ds' a tipo datetime\n",
        "df['ds'] = pd.to_datetime(df['ds'])\n",
        "\n",
        "# Visualizamos los primeros registros\n",
        "df.head()\n"
      ],
      "metadata": {
        "colab": {
          "base_uri": "https://localhost:8080/",
          "height": 238
        },
        "id": "4dM8drJCnnHH",
        "outputId": "a8175ced-9a03-448b-b2b5-c9555692fa4b"
      },
      "execution_count": null,
      "outputs": [
        {
          "output_type": "stream",
          "name": "stderr",
          "text": [
            "\r[*********************100%***********************]  1 of 1 completed\n"
          ]
        },
        {
          "output_type": "execute_result",
          "data": {
            "text/plain": [
              "                         ds          y\n",
              "0 2019-11-05 00:00:00+00:00  62.202579\n",
              "1 2019-11-06 00:00:00+00:00  62.229172\n",
              "2 2019-11-07 00:00:00+00:00  62.947392\n",
              "3 2019-11-08 00:00:00+00:00  63.119667\n",
              "4 2019-11-11 00:00:00+00:00  63.619499"
            ],
            "text/html": [
              "\n",
              "  <div id=\"df-e6504451-5e36-4b27-abf8-04342c81c1c6\" class=\"colab-df-container\">\n",
              "    <div>\n",
              "<style scoped>\n",
              "    .dataframe tbody tr th:only-of-type {\n",
              "        vertical-align: middle;\n",
              "    }\n",
              "\n",
              "    .dataframe tbody tr th {\n",
              "        vertical-align: top;\n",
              "    }\n",
              "\n",
              "    .dataframe thead th {\n",
              "        text-align: right;\n",
              "    }\n",
              "</style>\n",
              "<table border=\"1\" class=\"dataframe\">\n",
              "  <thead>\n",
              "    <tr style=\"text-align: right;\">\n",
              "      <th></th>\n",
              "      <th>ds</th>\n",
              "      <th>y</th>\n",
              "    </tr>\n",
              "  </thead>\n",
              "  <tbody>\n",
              "    <tr>\n",
              "      <th>0</th>\n",
              "      <td>2019-11-05 00:00:00+00:00</td>\n",
              "      <td>62.202579</td>\n",
              "    </tr>\n",
              "    <tr>\n",
              "      <th>1</th>\n",
              "      <td>2019-11-06 00:00:00+00:00</td>\n",
              "      <td>62.229172</td>\n",
              "    </tr>\n",
              "    <tr>\n",
              "      <th>2</th>\n",
              "      <td>2019-11-07 00:00:00+00:00</td>\n",
              "      <td>62.947392</td>\n",
              "    </tr>\n",
              "    <tr>\n",
              "      <th>3</th>\n",
              "      <td>2019-11-08 00:00:00+00:00</td>\n",
              "      <td>63.119667</td>\n",
              "    </tr>\n",
              "    <tr>\n",
              "      <th>4</th>\n",
              "      <td>2019-11-11 00:00:00+00:00</td>\n",
              "      <td>63.619499</td>\n",
              "    </tr>\n",
              "  </tbody>\n",
              "</table>\n",
              "</div>\n",
              "    <div class=\"colab-df-buttons\">\n",
              "\n",
              "  <div class=\"colab-df-container\">\n",
              "    <button class=\"colab-df-convert\" onclick=\"convertToInteractive('df-e6504451-5e36-4b27-abf8-04342c81c1c6')\"\n",
              "            title=\"Convert this dataframe to an interactive table.\"\n",
              "            style=\"display:none;\">\n",
              "\n",
              "  <svg xmlns=\"http://www.w3.org/2000/svg\" height=\"24px\" viewBox=\"0 -960 960 960\">\n",
              "    <path d=\"M120-120v-720h720v720H120Zm60-500h600v-160H180v160Zm220 220h160v-160H400v160Zm0 220h160v-160H400v160ZM180-400h160v-160H180v160Zm440 0h160v-160H620v160ZM180-180h160v-160H180v160Zm440 0h160v-160H620v160Z\"/>\n",
              "  </svg>\n",
              "    </button>\n",
              "\n",
              "  <style>\n",
              "    .colab-df-container {\n",
              "      display:flex;\n",
              "      gap: 12px;\n",
              "    }\n",
              "\n",
              "    .colab-df-convert {\n",
              "      background-color: #E8F0FE;\n",
              "      border: none;\n",
              "      border-radius: 50%;\n",
              "      cursor: pointer;\n",
              "      display: none;\n",
              "      fill: #1967D2;\n",
              "      height: 32px;\n",
              "      padding: 0 0 0 0;\n",
              "      width: 32px;\n",
              "    }\n",
              "\n",
              "    .colab-df-convert:hover {\n",
              "      background-color: #E2EBFA;\n",
              "      box-shadow: 0px 1px 2px rgba(60, 64, 67, 0.3), 0px 1px 3px 1px rgba(60, 64, 67, 0.15);\n",
              "      fill: #174EA6;\n",
              "    }\n",
              "\n",
              "    .colab-df-buttons div {\n",
              "      margin-bottom: 4px;\n",
              "    }\n",
              "\n",
              "    [theme=dark] .colab-df-convert {\n",
              "      background-color: #3B4455;\n",
              "      fill: #D2E3FC;\n",
              "    }\n",
              "\n",
              "    [theme=dark] .colab-df-convert:hover {\n",
              "      background-color: #434B5C;\n",
              "      box-shadow: 0px 1px 3px 1px rgba(0, 0, 0, 0.15);\n",
              "      filter: drop-shadow(0px 1px 2px rgba(0, 0, 0, 0.3));\n",
              "      fill: #FFFFFF;\n",
              "    }\n",
              "  </style>\n",
              "\n",
              "    <script>\n",
              "      const buttonEl =\n",
              "        document.querySelector('#df-e6504451-5e36-4b27-abf8-04342c81c1c6 button.colab-df-convert');\n",
              "      buttonEl.style.display =\n",
              "        google.colab.kernel.accessAllowed ? 'block' : 'none';\n",
              "\n",
              "      async function convertToInteractive(key) {\n",
              "        const element = document.querySelector('#df-e6504451-5e36-4b27-abf8-04342c81c1c6');\n",
              "        const dataTable =\n",
              "          await google.colab.kernel.invokeFunction('convertToInteractive',\n",
              "                                                    [key], {});\n",
              "        if (!dataTable) return;\n",
              "\n",
              "        const docLinkHtml = 'Like what you see? Visit the ' +\n",
              "          '<a target=\"_blank\" href=https://colab.research.google.com/notebooks/data_table.ipynb>data table notebook</a>'\n",
              "          + ' to learn more about interactive tables.';\n",
              "        element.innerHTML = '';\n",
              "        dataTable['output_type'] = 'display_data';\n",
              "        await google.colab.output.renderOutput(dataTable, element);\n",
              "        const docLink = document.createElement('div');\n",
              "        docLink.innerHTML = docLinkHtml;\n",
              "        element.appendChild(docLink);\n",
              "      }\n",
              "    </script>\n",
              "  </div>\n",
              "\n",
              "\n",
              "<div id=\"df-b4ead444-c8a6-4eca-8426-8123abb266b3\">\n",
              "  <button class=\"colab-df-quickchart\" onclick=\"quickchart('df-b4ead444-c8a6-4eca-8426-8123abb266b3')\"\n",
              "            title=\"Suggest charts\"\n",
              "            style=\"display:none;\">\n",
              "\n",
              "<svg xmlns=\"http://www.w3.org/2000/svg\" height=\"24px\"viewBox=\"0 0 24 24\"\n",
              "     width=\"24px\">\n",
              "    <g>\n",
              "        <path d=\"M19 3H5c-1.1 0-2 .9-2 2v14c0 1.1.9 2 2 2h14c1.1 0 2-.9 2-2V5c0-1.1-.9-2-2-2zM9 17H7v-7h2v7zm4 0h-2V7h2v10zm4 0h-2v-4h2v4z\"/>\n",
              "    </g>\n",
              "</svg>\n",
              "  </button>\n",
              "\n",
              "<style>\n",
              "  .colab-df-quickchart {\n",
              "      --bg-color: #E8F0FE;\n",
              "      --fill-color: #1967D2;\n",
              "      --hover-bg-color: #E2EBFA;\n",
              "      --hover-fill-color: #174EA6;\n",
              "      --disabled-fill-color: #AAA;\n",
              "      --disabled-bg-color: #DDD;\n",
              "  }\n",
              "\n",
              "  [theme=dark] .colab-df-quickchart {\n",
              "      --bg-color: #3B4455;\n",
              "      --fill-color: #D2E3FC;\n",
              "      --hover-bg-color: #434B5C;\n",
              "      --hover-fill-color: #FFFFFF;\n",
              "      --disabled-bg-color: #3B4455;\n",
              "      --disabled-fill-color: #666;\n",
              "  }\n",
              "\n",
              "  .colab-df-quickchart {\n",
              "    background-color: var(--bg-color);\n",
              "    border: none;\n",
              "    border-radius: 50%;\n",
              "    cursor: pointer;\n",
              "    display: none;\n",
              "    fill: var(--fill-color);\n",
              "    height: 32px;\n",
              "    padding: 0;\n",
              "    width: 32px;\n",
              "  }\n",
              "\n",
              "  .colab-df-quickchart:hover {\n",
              "    background-color: var(--hover-bg-color);\n",
              "    box-shadow: 0 1px 2px rgba(60, 64, 67, 0.3), 0 1px 3px 1px rgba(60, 64, 67, 0.15);\n",
              "    fill: var(--button-hover-fill-color);\n",
              "  }\n",
              "\n",
              "  .colab-df-quickchart-complete:disabled,\n",
              "  .colab-df-quickchart-complete:disabled:hover {\n",
              "    background-color: var(--disabled-bg-color);\n",
              "    fill: var(--disabled-fill-color);\n",
              "    box-shadow: none;\n",
              "  }\n",
              "\n",
              "  .colab-df-spinner {\n",
              "    border: 2px solid var(--fill-color);\n",
              "    border-color: transparent;\n",
              "    border-bottom-color: var(--fill-color);\n",
              "    animation:\n",
              "      spin 1s steps(1) infinite;\n",
              "  }\n",
              "\n",
              "  @keyframes spin {\n",
              "    0% {\n",
              "      border-color: transparent;\n",
              "      border-bottom-color: var(--fill-color);\n",
              "      border-left-color: var(--fill-color);\n",
              "    }\n",
              "    20% {\n",
              "      border-color: transparent;\n",
              "      border-left-color: var(--fill-color);\n",
              "      border-top-color: var(--fill-color);\n",
              "    }\n",
              "    30% {\n",
              "      border-color: transparent;\n",
              "      border-left-color: var(--fill-color);\n",
              "      border-top-color: var(--fill-color);\n",
              "      border-right-color: var(--fill-color);\n",
              "    }\n",
              "    40% {\n",
              "      border-color: transparent;\n",
              "      border-right-color: var(--fill-color);\n",
              "      border-top-color: var(--fill-color);\n",
              "    }\n",
              "    60% {\n",
              "      border-color: transparent;\n",
              "      border-right-color: var(--fill-color);\n",
              "    }\n",
              "    80% {\n",
              "      border-color: transparent;\n",
              "      border-right-color: var(--fill-color);\n",
              "      border-bottom-color: var(--fill-color);\n",
              "    }\n",
              "    90% {\n",
              "      border-color: transparent;\n",
              "      border-bottom-color: var(--fill-color);\n",
              "    }\n",
              "  }\n",
              "</style>\n",
              "\n",
              "  <script>\n",
              "    async function quickchart(key) {\n",
              "      const quickchartButtonEl =\n",
              "        document.querySelector('#' + key + ' button');\n",
              "      quickchartButtonEl.disabled = true;  // To prevent multiple clicks.\n",
              "      quickchartButtonEl.classList.add('colab-df-spinner');\n",
              "      try {\n",
              "        const charts = await google.colab.kernel.invokeFunction(\n",
              "            'suggestCharts', [key], {});\n",
              "      } catch (error) {\n",
              "        console.error('Error during call to suggestCharts:', error);\n",
              "      }\n",
              "      quickchartButtonEl.classList.remove('colab-df-spinner');\n",
              "      quickchartButtonEl.classList.add('colab-df-quickchart-complete');\n",
              "    }\n",
              "    (() => {\n",
              "      let quickchartButtonEl =\n",
              "        document.querySelector('#df-b4ead444-c8a6-4eca-8426-8123abb266b3 button');\n",
              "      quickchartButtonEl.style.display =\n",
              "        google.colab.kernel.accessAllowed ? 'block' : 'none';\n",
              "    })();\n",
              "  </script>\n",
              "</div>\n",
              "\n",
              "    </div>\n",
              "  </div>\n"
            ],
            "application/vnd.google.colaboratory.intrinsic+json": {
              "type": "dataframe",
              "variable_name": "df",
              "summary": "{\n  \"name\": \"df\",\n  \"rows\": 1258,\n  \"fields\": [\n    {\n      \"column\": \"ds\",\n      \"properties\": {\n        \"dtype\": \"date\",\n        \"min\": \"2019-11-05 00:00:00+00:00\",\n        \"max\": \"2024-11-04 00:00:00+00:00\",\n        \"num_unique_values\": 1258,\n        \"samples\": [\n          \"2022-01-27 00:00:00+00:00\",\n          \"2020-04-01 00:00:00+00:00\",\n          \"2020-01-21 00:00:00+00:00\"\n        ],\n        \"semantic_type\": \"\",\n        \"description\": \"\"\n      }\n    },\n    {\n      \"column\": \"y\",\n      \"properties\": {\n        \"dtype\": \"number\",\n        \"std\": 41.73978690972915,\n        \"min\": 54.569732666015625,\n        \"max\": 236.47999572753906,\n        \"num_unique_values\": 1244,\n        \"samples\": [\n          130.63136291503906,\n          209.4375762939453,\n          152.19000244140625\n        ],\n        \"semantic_type\": \"\",\n        \"description\": \"\"\n      }\n    }\n  ]\n}"
            }
          },
          "metadata": {},
          "execution_count": 10
        }
      ]
    },
    {
      "cell_type": "markdown",
      "source": [
        "# **Explicación de 'Adj Close':**\n",
        "\n",
        "### La columna 'Adj Close' (Precio de Cierre Ajustado) representa el precio de cierre de una acción después de ajustar por acciones corporativas que afectan su precio, como dividendos, divisiones de acciones (splits) o emisiones de derechos. Este ajuste proporciona una visión más precisa del rendimiento histórico de una acción, reflejando el valor real que un inversor habría obtenido si hubiera mantenido la acción durante ese período."
      ],
      "metadata": {
        "id": "jdn5QdXCn_So"
      }
    },
    {
      "cell_type": "markdown",
      "source": [
        "# **División de los datos en Train y Test**"
      ],
      "metadata": {
        "id": "74L3Xd7EoIrR"
      }
    },
    {
      "cell_type": "code",
      "source": [
        "# Dividimos los datos en Train y Test\n",
        "# Usaremos los últimos 20 precios para Test\n",
        "train = df.iloc[:-20]\n",
        "test = df.iloc[-20:]\n",
        "\n",
        "print(\"Tamaño del conjunto de entrenamiento:\", train.shape)\n",
        "print(\"Tamaño del conjunto de prueba:\", test.shape)"
      ],
      "metadata": {
        "colab": {
          "base_uri": "https://localhost:8080/"
        },
        "id": "HWkverNuoMUm",
        "outputId": "79512d61-2c77-4492-8c06-61513d160243"
      },
      "execution_count": null,
      "outputs": [
        {
          "output_type": "stream",
          "name": "stdout",
          "text": [
            "Tamaño del conjunto de entrenamiento: (1238, 2)\n",
            "Tamaño del conjunto de prueba: (20, 2)\n"
          ]
        }
      ]
    },
    {
      "cell_type": "markdown",
      "source": [
        "# **1B: Modelo ingenuo**\n",
        "\n",
        "### El modelo ingenuo (Naive) utiliza el valor más reciente para predecir el siguiente valor. Es un punto de partida simple para comparar con otros modelos."
      ],
      "metadata": {
        "id": "BBL_GnKeoR5o"
      }
    },
    {
      "cell_type": "code",
      "source": [
        "# Obtenemos los valores históricos de entrenamiento\n",
        "history = [x for x in train['y']]\n",
        "predictions_naive = []\n",
        "\n",
        "# Realizamos las predicciones\n",
        "for i in range(len(test)):\n",
        "    yhat = history[-1]\n",
        "    predictions_naive.append(yhat)\n",
        "    obs = test.iloc[i]['y']\n",
        "    history.append(obs)\n",
        "    print(f'>Esperado: {obs:.2f}, Predicción: {yhat:.2f}')\n",
        "\n",
        "# Calculamos el RMSE\n",
        "rmse_naive = np.sqrt(mean_squared_error(test['y'], predictions_naive))\n",
        "print(f'\\nError del Modelo Ingenuo (RMSE): {rmse_naive:.3f}')"
      ],
      "metadata": {
        "colab": {
          "base_uri": "https://localhost:8080/"
        },
        "id": "Ig1OLjxOoYd2",
        "outputId": "816c2df4-7267-4ae3-f7ac-b3b4489bc5b6"
      },
      "execution_count": null,
      "outputs": [
        {
          "output_type": "stream",
          "name": "stdout",
          "text": [
            ">Esperado: 225.77, Predicción: 221.69\n",
            ">Esperado: 229.54, Predicción: 225.77\n",
            ">Esperado: 229.04, Predicción: 229.54\n",
            ">Esperado: 227.55, Predicción: 229.04\n",
            ">Esperado: 231.30, Predicción: 227.55\n",
            ">Esperado: 233.85, Predicción: 231.30\n",
            ">Esperado: 231.78, Predicción: 233.85\n",
            ">Esperado: 232.15, Predicción: 231.78\n",
            ">Esperado: 235.00, Predicción: 232.15\n",
            ">Esperado: 236.48, Predicción: 235.00\n",
            ">Esperado: 235.86, Predicción: 236.48\n",
            ">Esperado: 230.76, Predicción: 235.86\n",
            ">Esperado: 230.57, Predicción: 230.76\n",
            ">Esperado: 231.41, Predicción: 230.57\n",
            ">Esperado: 233.40, Predicción: 231.41\n",
            ">Esperado: 233.67, Predicción: 233.40\n",
            ">Esperado: 230.10, Predicción: 233.67\n",
            ">Esperado: 225.91, Predicción: 230.10\n",
            ">Esperado: 222.91, Predicción: 225.91\n",
            ">Esperado: 222.01, Predicción: 222.91\n",
            "\n",
            "Error del Modelo Ingenuo (RMSE): 2.645\n"
          ]
        }
      ]
    },
    {
      "cell_type": "markdown",
      "source": [
        "# **Gráfico de Predicciones vs Datos Reales**"
      ],
      "metadata": {
        "id": "AIfeOLsnowtY"
      }
    },
    {
      "cell_type": "code",
      "source": [
        "plt.figure(figsize=(12,6))\n",
        "plt.plot(train['ds'], train['y'], label='Entrenamiento')\n",
        "plt.plot(test['ds'], test['y'], label='Prueba', color='green')\n",
        "plt.plot(test['ds'], predictions_naive, label='Predicción Naive', color='red', linestyle='--')\n",
        "plt.xlabel('Fecha')\n",
        "plt.ylabel('Precio de Cierre Ajustado')\n",
        "plt.title('Modelo Ingenuo - Predicciones vs Datos Reales')\n",
        "plt.legend()\n",
        "plt.show()"
      ],
      "metadata": {
        "colab": {
          "base_uri": "https://localhost:8080/",
          "height": 585
        },
        "id": "ZfJ2qDjDo0hI",
        "outputId": "adb9cb19-e1e0-4377-b7a4-72a9e6728c80"
      },
      "execution_count": null,
      "outputs": [
        {
          "output_type": "display_data",
          "data": {
            "text/plain": [
              "<Figure size 1200x600 with 1 Axes>"
            ],
            "image/png": "[encoded data removed]"
          },
          "metadata": {}
        }
      ]
    },
    {
      "cell_type": "markdown",
      "source": [
        "# **1C: Modelo ARIMA**\n",
        "\n",
        "### ARIMA es un modelo estadístico que utiliza componentes autorregresivas y de media móvil para modelar series de tiempo."
      ],
      "metadata": {
        "id": "_z6-mhwipAXX"
      }
    },
    {
      "cell_type": "code",
      "source": [
        "from statsmodels.tsa.stattools import adfuller\n",
        "\n",
        "# Verificamos la estacionariedad de la serie\n",
        "result = adfuller(train['y'])\n",
        "print('Estadístico ADF:', result[0])\n",
        "print('Valor p:', result[1])\n",
        "\n",
        "# Si la serie no es estacionaria, la diferenciamos\n",
        "train_diff = train['y'].diff().dropna()\n",
        "\n",
        "# Ajustamos el modelo ARIMA\n",
        "model_arima = ARIMA(train['y'], order=(5,1,0))\n",
        "model_arima_fit = model_arima.fit()\n",
        "\n",
        "# Realizamos las predicciones\n",
        "forecast_arima = model_arima_fit.forecast(steps=len(test))\n",
        "rmse_arima = np.sqrt(mean_squared_error(test['y'], forecast_arima))\n",
        "print(f'\\nError del Modelo ARIMA (RMSE): {rmse_arima:.3f}')"
      ],
      "metadata": {
        "colab": {
          "base_uri": "https://localhost:8080/"
        },
        "id": "WEy0OxlEpPSD",
        "outputId": "891dc2a8-4ac0-49ed-aa4f-344fa03b75cb"
      },
      "execution_count": null,
      "outputs": [
        {
          "output_type": "stream",
          "name": "stdout",
          "text": [
            "Estadístico ADF: -1.3024290642123098\n",
            "Valor p: 0.6280602823976479\n",
            "\n",
            "Error del Modelo ARIMA (RMSE): 9.517\n"
          ]
        }
      ]
    },
    {
      "cell_type": "markdown",
      "source": [
        "# **Gráfico de Predicciones vs Datos Reales**"
      ],
      "metadata": {
        "id": "e92cf9k1ptOJ"
      }
    },
    {
      "cell_type": "code",
      "source": [
        "plt.figure(figsize=(12,6))\n",
        "plt.plot(train['ds'], train['y'], label='Entrenamiento')\n",
        "plt.plot(test['ds'], test['y'], label='Prueba', color='green')\n",
        "plt.plot(test['ds'], forecast_arima, label='Predicción ARIMA', color='red', linestyle='--')\n",
        "plt.xlabel('Fecha')\n",
        "plt.ylabel('Precio de Cierre Ajustado')\n",
        "plt.title('Modelo ARIMA - Predicciones vs Datos Reales')\n",
        "plt.legend()\n",
        "plt.show()"
      ],
      "metadata": {
        "colab": {
          "base_uri": "https://localhost:8080/",
          "height": 585
        },
        "id": "Cjfypy05pxIc",
        "outputId": "2ef07f01-60d9-4205-b65d-d739e397d931"
      },
      "execution_count": null,
      "outputs": [
        {
          "output_type": "display_data",
          "data": {
            "text/plain": [
              "<Figure size 1200x600 with 1 Axes>"
            ],
            "image/png": "[encoded data removed]"
          },
          "metadata": {}
        }
      ]
    },
    {
      "cell_type": "markdown",
      "source": [
        "# **1D: Modelo Prophet**\n",
        "\n",
        "### Prophet es una herramienta de Facebook para el pronóstico de series de tiempo que maneja automáticamente componentes como tendencias y estacionalidades."
      ],
      "metadata": {
        "id": "4lr0LOYbp63Q"
      }
    },
    {
      "cell_type": "code",
      "source": [
        "# Eliminamos la información de zona horaria\n",
        "train['ds'] = train['ds'].dt.tz_localize(None)\n",
        "test['ds'] = test['ds'].dt.tz_localize(None)\n",
        "\n",
        "# Ajustamos el modelo Prophet\n",
        "model_prophet = Prophet(daily_seasonality=True)\n",
        "model_prophet.fit(train)\n",
        "\n",
        "# Realizamos las predicciones\n",
        "future = model_prophet.make_future_dataframe(periods=len(test))\n",
        "forecast_prophet = model_prophet.predict(future)\n",
        "\n",
        "# Extraemos las predicciones correspondientes al conjunto de prueba\n",
        "predictions_prophet = forecast_prophet.iloc[-len(test):]['yhat']\n",
        "rmse_prophet = np.sqrt(mean_squared_error(test['y'], predictions_prophet))\n",
        "print(f'\\nError del Modelo Prophet (RMSE): {rmse_prophet:.3f}')"
      ],
      "metadata": {
        "colab": {
          "base_uri": "https://localhost:8080/"
        },
        "id": "_n_WYdBdqADb",
        "outputId": "5c91e5fe-df6e-4b73-93de-61cc2cf3717c"
      },
      "execution_count": null,
      "outputs": [
        {
          "output_type": "stream",
          "name": "stderr",
          "text": [
            "DEBUG:cmdstanpy:input tempfile: /tmp/tmp__ib1p1x/dk48hxne.json\n",
            "DEBUG:cmdstanpy:input tempfile: /tmp/tmp__ib1p1x/x9xb_yxt.json\n",
            "DEBUG:cmdstanpy:idx 0\n",
            "DEBUG:cmdstanpy:running CmdStan, num_threads: None\n",
            "DEBUG:cmdstanpy:CmdStan args: ['/usr/local/lib/python3.10/dist-packages/prophet/stan_model/prophet_model.bin', 'random', 'seed=86881', 'data', 'file=/tmp/tmp__ib1p1x/dk48hxne.json', 'init=/tmp/tmp__ib1p1x/x9xb_yxt.json', 'output', 'file=/tmp/tmp__ib1p1x/prophet_modelpgi07ly4/prophet_model-20241105045201.csv', 'method=optimize', 'algorithm=lbfgs', 'iter=10000']\n",
            "04:52:01 - cmdstanpy - INFO - Chain [1] start processing\n",
            "INFO:cmdstanpy:Chain [1] start processing\n",
            "04:52:02 - cmdstanpy - INFO - Chain [1] done processing\n",
            "INFO:cmdstanpy:Chain [1] done processing\n"
          ]
        },
        {
          "output_type": "stream",
          "name": "stdout",
          "text": [
            "\n",
            "Error del Modelo Prophet (RMSE): 8.180\n"
          ]
        }
      ]
    },
    {
      "cell_type": "markdown",
      "source": [
        "# **Gráfico de Predicciones vs Datos Reales**"
      ],
      "metadata": {
        "id": "TqNdmqF9qyrv"
      }
    },
    {
      "cell_type": "code",
      "source": [
        "plt.figure(figsize=(12,6))\n",
        "plt.plot(train['ds'], train['y'], label='Entrenamiento')\n",
        "plt.plot(test['ds'], test['y'], label='Prueba', color='green')\n",
        "plt.plot(test['ds'], predictions_prophet, label='Predicción Prophet', color='red', linestyle='--')\n",
        "plt.xlabel('Fecha')\n",
        "plt.ylabel('Precio de Cierre Ajustado')\n",
        "plt.title('Modelo Prophet - Predicciones vs Datos Reales')\n",
        "plt.legend()\n",
        "plt.show()"
      ],
      "metadata": {
        "colab": {
          "base_uri": "https://localhost:8080/",
          "height": 585
        },
        "id": "kd_XLnt9q1-x",
        "outputId": "e79575f8-948a-4efc-8e34-c2587b1f7a07"
      },
      "execution_count": null,
      "outputs": [
        {
          "output_type": "display_data",
          "data": {
            "text/plain": [
              "<Figure size 1200x600 with 1 Axes>"
            ],
            "image/png": "[encoded data removed]"
          },
          "metadata": {}
        }
      ]
    },
    {
      "cell_type": "markdown",
      "source": [
        "# **1E: Modelo LSTM**\n",
        "\n",
        "### Las redes neuronales LSTM son capaces de aprender dependencias a largo plazo en secuencias de datos."
      ],
      "metadata": {
        "id": "fgv76PKCrJTs"
      }
    },
    {
      "cell_type": "code",
      "source": [
        "# Preparación de los datos para LSTM\n",
        "from sklearn.preprocessing import MinMaxScaler\n",
        "\n",
        "# Convertimos los datos a numpy arrays\n",
        "train_lstm = train['y'].values\n",
        "test_lstm = test['y'].values\n",
        "\n",
        "# Reshape para aplicar el escalador\n",
        "train_lstm = train_lstm.reshape(-1, 1)\n",
        "test_lstm = test_lstm.reshape(-1, 1)\n",
        "\n",
        "# Escalamos los datos entre 0 y 1\n",
        "scaler = MinMaxScaler(feature_range=(0, 1))\n",
        "train_scaled = scaler.fit_transform(train_lstm)\n",
        "\n",
        "# Creamos las secuencias de entrenamiento\n",
        "X_train = []\n",
        "y_train = []\n",
        "for i in range(60, len(train_scaled)):\n",
        "    X_train.append(train_scaled[i-60:i, 0])\n",
        "    y_train.append(train_scaled[i, 0])\n",
        "\n",
        "X_train, y_train = np.array(X_train), np.array(y_train)\n",
        "\n",
        "# Reshape para LSTM [samples, time_steps, features]\n",
        "X_train = np.reshape(X_train, (X_train.shape[0], X_train.shape[1], 1))\n",
        "\n",
        "# Construimos el modelo LSTM\n",
        "model_lstm = Sequential()\n",
        "model_lstm.add(LSTM(units=50, return_sequences=True, input_shape=(X_train.shape[1], 1)))\n",
        "model_lstm.add(Dropout(0.2))\n",
        "model_lstm.add(LSTM(units=50))\n",
        "model_lstm.add(Dropout(0.2))\n",
        "model_lstm.add(Dense(1))\n",
        "\n",
        "# Compilamos el modelo\n",
        "model_lstm.compile(optimizer='adam', loss='mean_squared_error')\n",
        "\n",
        "# Entrenamos el modelo\n",
        "model_lstm.fit(X_train, y_train, epochs=20, batch_size=32)"
      ],
      "metadata": {
        "colab": {
          "base_uri": "https://localhost:8080/"
        },
        "id": "qBxPFSuOrP8F",
        "outputId": "b37aa3f6-c073-42d2-f734-b74abff928e6"
      },
      "execution_count": null,
      "outputs": [
        {
          "output_type": "stream",
          "name": "stdout",
          "text": [
            "Epoch 1/20\n",
            "\u001b[1m37/37\u001b[0m \u001b[32m━━━━━━━━━━━━━━━━━━━━\u001b[0m\u001b[37m\u001b[0m \u001b[1m7s\u001b[0m 52ms/step - loss: 0.1039\n",
            "Epoch 2/20\n",
            "\u001b[1m37/37\u001b[0m \u001b[32m━━━━━━━━━━━━━━━━━━━━\u001b[0m\u001b[37m\u001b[0m \u001b[1m2s\u001b[0m 47ms/step - loss: 0.0060\n",
            "Epoch 3/20\n",
            "\u001b[1m37/37\u001b[0m \u001b[32m━━━━━━━━━━━━━━━━━━━━\u001b[0m\u001b[37m\u001b[0m \u001b[1m3s\u001b[0m 71ms/step - loss: 0.0042\n",
            "Epoch 4/20\n",
            "\u001b[1m37/37\u001b[0m \u001b[32m━━━━━━━━━━━━━━━━━━━━\u001b[0m\u001b[37m\u001b[0m \u001b[1m4s\u001b[0m 47ms/step - loss: 0.0040\n",
            "Epoch 5/20\n",
            "\u001b[1m37/37\u001b[0m \u001b[32m━━━━━━━━━━━━━━━━━━━━\u001b[0m\u001b[37m\u001b[0m \u001b[1m3s\u001b[0m 49ms/step - loss: 0.0043\n",
            "Epoch 6/20\n",
            "\u001b[1m37/37\u001b[0m \u001b[32m━━━━━━━━━━━━━━━━━━━━\u001b[0m\u001b[37m\u001b[0m \u001b[1m3s\u001b[0m 76ms/step - loss: 0.0038\n",
            "Epoch 7/20\n",
            "\u001b[1m37/37\u001b[0m \u001b[32m━━━━━━━━━━━━━━━━━━━━\u001b[0m\u001b[37m\u001b[0m \u001b[1m3s\u001b[0m 82ms/step - loss: 0.0041\n",
            "Epoch 8/20\n",
            "\u001b[1m37/37\u001b[0m \u001b[32m━━━━━━━━━━━━━━━━━━━━\u001b[0m\u001b[37m\u001b[0m \u001b[1m4s\u001b[0m 47ms/step - loss: 0.0035\n",
            "Epoch 9/20\n",
            "\u001b[1m37/37\u001b[0m \u001b[32m━━━━━━━━━━━━━━━━━━━━\u001b[0m\u001b[37m\u001b[0m \u001b[1m2s\u001b[0m 48ms/step - loss: 0.0035\n",
            "Epoch 10/20\n",
            "\u001b[1m37/37\u001b[0m \u001b[32m━━━━━━━━━━━━━━━━━━━━\u001b[0m\u001b[37m\u001b[0m \u001b[1m2s\u001b[0m 47ms/step - loss: 0.0036\n",
            "Epoch 11/20\n",
            "\u001b[1m37/37\u001b[0m \u001b[32m━━━━━━━━━━━━━━━━━━━━\u001b[0m\u001b[37m\u001b[0m \u001b[1m2s\u001b[0m 48ms/step - loss: 0.0035\n",
            "Epoch 12/20\n",
            "\u001b[1m37/37\u001b[0m \u001b[32m━━━━━━━━━━━━━━━━━━━━\u001b[0m\u001b[37m\u001b[0m \u001b[1m3s\u001b[0m 47ms/step - loss: 0.0034\n",
            "Epoch 13/20\n",
            "\u001b[1m37/37\u001b[0m \u001b[32m━━━━━━━━━━━━━━━━━━━━\u001b[0m\u001b[37m\u001b[0m \u001b[1m3s\u001b[0m 74ms/step - loss: 0.0031\n",
            "Epoch 14/20\n",
            "\u001b[1m37/37\u001b[0m \u001b[32m━━━━━━━━━━━━━━━━━━━━\u001b[0m\u001b[37m\u001b[0m \u001b[1m3s\u001b[0m 75ms/step - loss: 0.0031\n",
            "Epoch 15/20\n",
            "\u001b[1m37/37\u001b[0m \u001b[32m━━━━━━━━━━━━━━━━━━━━\u001b[0m\u001b[37m\u001b[0m \u001b[1m4s\u001b[0m 47ms/step - loss: 0.0030\n",
            "Epoch 16/20\n",
            "\u001b[1m37/37\u001b[0m \u001b[32m━━━━━━━━━━━━━━━━━━━━\u001b[0m\u001b[37m\u001b[0m \u001b[1m2s\u001b[0m 47ms/step - loss: 0.0038\n",
            "Epoch 17/20\n",
            "\u001b[1m37/37\u001b[0m \u001b[32m━━━━━━━━━━━━━━━━━━━━\u001b[0m\u001b[37m\u001b[0m \u001b[1m3s\u001b[0m 47ms/step - loss: 0.0029\n",
            "Epoch 18/20\n",
            "\u001b[1m37/37\u001b[0m \u001b[32m━━━━━━━━━━━━━━━━━━━━\u001b[0m\u001b[37m\u001b[0m \u001b[1m2s\u001b[0m 55ms/step - loss: 0.0027\n",
            "Epoch 19/20\n",
            "\u001b[1m37/37\u001b[0m \u001b[32m━━━━━━━━━━━━━━━━━━━━\u001b[0m\u001b[37m\u001b[0m \u001b[1m3s\u001b[0m 78ms/step - loss: 0.0031\n",
            "Epoch 20/20\n",
            "\u001b[1m37/37\u001b[0m \u001b[32m━━━━━━━━━━━━━━━━━━━━\u001b[0m\u001b[37m\u001b[0m \u001b[1m4s\u001b[0m 47ms/step - loss: 0.0027\n"
          ]
        },
        {
          "output_type": "execute_result",
          "data": {
            "text/plain": [
              "<keras.src.callbacks.history.History at 0x7f6c925b1600>"
            ]
          },
          "metadata": {},
          "execution_count": 19
        }
      ]
    },
    {
      "cell_type": "markdown",
      "source": [
        "# Realizamos las predicciones"
      ],
      "metadata": {
        "id": "YG-Lr8-YrtxV"
      }
    },
    {
      "cell_type": "code",
      "source": [
        "# Preparación de los datos de prueba\n",
        "total_data = pd.concat((train['y'], test['y']), axis=0)\n",
        "inputs = total_data[len(total_data) - len(test) - 60:].values\n",
        "inputs = inputs.reshape(-1,1)\n",
        "inputs = scaler.transform(inputs)\n",
        "\n",
        "X_test = []\n",
        "for i in range(60, 60 + len(test)):\n",
        "    X_test.append(inputs[i-60:i, 0])\n",
        "\n",
        "X_test = np.array(X_test)\n",
        "X_test = np.reshape(X_test, (X_test.shape[0], X_test.shape[1], 1))\n",
        "\n",
        "# Predicciones\n",
        "predictions_lstm = model_lstm.predict(X_test)\n",
        "predictions_lstm = scaler.inverse_transform(predictions_lstm)\n",
        "\n",
        "# Calculamos el RMSE\n",
        "rmse_lstm = np.sqrt(mean_squared_error(test['y'], predictions_lstm))\n",
        "print(f'\\nError del Modelo LSTM (RMSE): {rmse_lstm:.3f}')"
      ],
      "metadata": {
        "colab": {
          "base_uri": "https://localhost:8080/"
        },
        "id": "9lncumZerxHn",
        "outputId": "c2f7da51-9c43-4079-89a3-474e150763d1"
      },
      "execution_count": null,
      "outputs": [
        {
          "output_type": "stream",
          "name": "stdout",
          "text": [
            "\u001b[1m1/1\u001b[0m \u001b[32m━━━━━━━━━━━━━━━━━━━━\u001b[0m\u001b[37m\u001b[0m \u001b[1m2s\u001b[0m 2s/step\n",
            "\n",
            "Error del Modelo LSTM (RMSE): 4.732\n"
          ]
        }
      ]
    },
    {
      "cell_type": "markdown",
      "source": [
        "# **Gráfico de Predicciones vs Datos Reales**"
      ],
      "metadata": {
        "id": "-mqAEDz0r2FE"
      }
    },
    {
      "cell_type": "code",
      "source": [
        "plt.figure(figsize=(12,6))\n",
        "plt.plot(train['ds'], train['y'], label='Entrenamiento')\n",
        "plt.plot(test['ds'], test['y'], label='Prueba', color='green')\n",
        "plt.plot(test['ds'], predictions_lstm, label='Predicción LSTM', color='red', linestyle='--')\n",
        "plt.xlabel('Fecha')\n",
        "plt.ylabel('Precio de Cierre Ajustado')\n",
        "plt.title('Modelo LSTM - Predicciones vs Datos Reales')\n",
        "plt.legend()\n",
        "plt.show()"
      ],
      "metadata": {
        "colab": {
          "base_uri": "https://localhost:8080/",
          "height": 585
        },
        "id": "ZR5YOytQr4z-",
        "outputId": "084a2875-4c48-4b6f-ba05-d6ef33f77299"
      },
      "execution_count": null,
      "outputs": [
        {
          "output_type": "display_data",
          "data": {
            "text/plain": [
              "<Figure size 1200x600 with 1 Axes>"
            ],
            "image/png": "[encoded data removed]"
          },
          "metadata": {}
        }
      ]
    },
    {
      "cell_type": "markdown",
      "source": [
        ">> ## **Fin del Ejercicio de Series de Tiempo - Actividad 9: Modelos de predicción con modelos recurrentes**"
      ],
      "metadata": {
        "id": "18KiIqhsuoDr"
      }
    }
  ]
}